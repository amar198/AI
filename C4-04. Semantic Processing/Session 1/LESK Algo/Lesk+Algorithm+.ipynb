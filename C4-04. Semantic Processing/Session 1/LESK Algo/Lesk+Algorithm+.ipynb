{
 "cells": [
  {
   "cell_type": "code",
   "execution_count": null,
   "metadata": {},
   "outputs": [],
   "source": []
  },
  {
   "cell_type": "markdown",
   "metadata": {},
   "source": [
    "# Lesk Algorithm \n",
    "\n",
    "1. Tokenize the senses of the word \n",
    "2. Tokenize the sentence\n",
    "3. Count the overlapping words\n",
    "4. Do this for all the senses"
   ]
  },
  {
   "cell_type": "code",
   "execution_count": 8,
   "metadata": {},
   "outputs": [
    {
     "name": "stdout",
     "output_type": "stream",
     "text": [
      "['The', 'frog', 'jumping', 'around', 'bank', 'river']\n"
     ]
    }
   ],
   "source": [
    "import nltk\n",
    "from nltk.corpus import wordnet\n",
    "from nltk.corpus import stopwords\n",
    "\n",
    "\"\"\"Cleaning the sentence\n",
    "\"\"\"\n",
    "\n",
    "#nltk.download('stopwords') \n",
    "    \n",
    "sentence = \"The frog is jumping around the bank of the river\"\n",
    "word = 'river'  #the ambiguous word\n",
    "\n",
    "from nltk.corpus import stopwords \n",
    "stop_words = set(stopwords.words('english'))\n",
    "#print(stop_words)\n",
    "\n",
    "word_tokens = nltk.word_tokenize(sentence) #tokenize the sentence\n",
    "\n",
    "#remove stopwords from word_tokens\n",
    "filtered_sentence = []\n",
    "for w in word_tokens:\n",
    "    if w not in stop_words:  #remove the stop_words from the sentence\n",
    "        filtered_sentence.append(w)  \n",
    "\n",
    "split_sentence = filtered_sentence\n",
    "\n",
    "print(split_sentence)\n"
   ]
  },
  {
   "cell_type": "code",
   "execution_count": 15,
   "metadata": {},
   "outputs": [
    {
     "name": "stdout",
     "output_type": "stream",
     "text": [
      "Synset('jumping.n.01') the act of participating in an athletic competition in which you must jump\n",
      "Synset('jump.n.06') the act of jumping; propelling yourself off the ground\n",
      "Synset('jump.v.01') move forward by leaps and bounds\n",
      "Synset('startle.v.02') move or jump suddenly, as if in surprise or alarm\n",
      "Synset('jump.v.03') make a sudden physical attack on\n",
      "Synset('jump.v.04') increase suddenly and significantly\n",
      "Synset('leap_out.v.01') be highly noticeable\n",
      "Synset('jump.v.06') enter eagerly into\n",
      "Synset('rise.v.11') rise in rank or status\n",
      "Synset('jump.v.08') jump down from an elevated point\n",
      "Synset('derail.v.02') run off or leave the rails\n",
      "Synset('chute.v.01') jump from an airplane and descend with a parachute\n",
      "Synset('jump.v.11') cause to jump or leap\n",
      "Synset('jumpstart.v.01') start (a car engine whose battery is dead) by connecting it to another car's battery\n",
      "Synset('jump.v.13') bypass\n",
      "Synset('leap.v.02') pass abruptly from one state or topic to another\n",
      "Synset('alternate.v.01') go back and forth; swing back and forth between two states or conditions\n"
     ]
    }
   ],
   "source": [
    "#Let's see the different 'senses' of the word 'bank'\n",
    "#nltk.download('wordnet')\n",
    "for sense in wordnet.synsets('jumping'):\n",
    "    print(sense, sense.definition())"
   ]
  },
  {
   "cell_type": "code",
   "execution_count": 3,
   "metadata": {},
   "outputs": [
    {
     "data": {
      "text/plain": [
       "'have confidence or faith in'"
      ]
     },
     "execution_count": 3,
     "metadata": {},
     "output_type": "execute_result"
    }
   ],
   "source": [
    "#Let's consider the last sense  \n",
    "sense.definition() "
   ]
  },
  {
   "cell_type": "code",
   "execution_count": 4,
   "metadata": {},
   "outputs": [
    {
     "name": "stdout",
     "output_type": "stream",
     "text": [
      "tokenized original sentence -                ['The', 'frog', 'jumping', 'around', 'bank', 'river']\n",
      "tokenized definition of the sense \"trust\" -  {'in', 'have', 'confidence', 'or', 'faith'}\n"
     ]
    }
   ],
   "source": [
    "print('tokenized original sentence -               ', split_sentence)\n",
    "tokenized_trust = set(nltk.word_tokenize(sense.definition()))\n",
    "print('tokenized definition of the sense \"trust\" - ', tokenized_trust) "
   ]
  },
  {
   "cell_type": "code",
   "execution_count": 5,
   "metadata": {},
   "outputs": [
    {
     "name": "stdout",
     "output_type": "stream",
     "text": [
      "set()\n"
     ]
    },
    {
     "data": {
      "text/plain": [
       "0"
      ]
     },
     "execution_count": 5,
     "metadata": {},
     "output_type": "execute_result"
    }
   ],
   "source": [
    "#Let's see how many words in sense 'trust' overlaps with the words in the original sentence\n",
    "#Words that occur in tokenized_trust as well as split_sentence\n",
    "common_words = tokenized_trust.intersection(split_sentence) \n",
    "print(common_words)\n",
    "\n",
    "#So there are 0 words that occur both in the original sentence and the definition of the sense 'trust' \n",
    "\n",
    "#count the number of these words\n",
    "len(common_words)"
   ]
  },
  {
   "cell_type": "markdown",
   "metadata": {},
   "source": [
    "### Let's choose that sense of the word 'bank' which maximally overlaps with the given sentence"
   ]
  },
  {
   "cell_type": "code",
   "execution_count": 18,
   "metadata": {},
   "outputs": [],
   "source": [
    "word = 'around'\n",
    "\n",
    "max_overlap = -1 \n",
    "best_sense = None \n",
    "\n",
    "for sense in wordnet.synsets(word):\n",
    "    \n",
    "    # retrieving unique words from a sentence by using the SET function.\n",
    "    tokenized_sense = set(nltk.word_tokenize(sense.definition()))\n",
    "    \n",
    "    #print(tokenized_sense)\n",
    "    \n",
    "    # retrieving common words b/w sense definition and the given sentence.\n",
    "    common_words = tokenized_sense.intersection(split_sentence)\n",
    "    \n",
    "    #print(sense.definition(), common_words)\n",
    "    \n",
    "    # finding the length of the common words. \n",
    "    # This tells us which definition is closer to the meaning of a word in a given sentence.\n",
    "    # Question: what if the correct definition and a wrong definition has the same count of common words?\n",
    "    overlap = len(common_words)\n",
    "    \n",
    "    if overlap > max_overlap: \n",
    "        max_overlap = overlap\n",
    "        best_sense = sense\n",
    "        \n",
    "        "
   ]
  },
  {
   "cell_type": "code",
   "execution_count": 14,
   "metadata": {},
   "outputs": [],
   "source": [
    "#word = 'bank'\n",
    "\n",
    "max_overlap = 0 \n",
    "best_sense = None \n",
    "\n",
    "for sense in wordnet.synsets(word):\n",
    "    #tokenized_sense = set(nltk.word_tokenize(sense.definition()))\n",
    "    ##print(tokenized_sense)\n",
    "    #common_words = tokenized_sense.intersection(split_sentence)\n",
    "    ##print(sense.definition(), common_words)\n",
    "    overlap = len(set(nltk.word_tokenize(sense.definition())).intersection(split_sentence))\n",
    "    \n",
    "    if overlap > max_overlap: \n",
    "        max_overlap = overlap\n",
    "        best_sense = sense\n",
    "        \n",
    "        "
   ]
  },
  {
   "cell_type": "code",
   "execution_count": 19,
   "metadata": {},
   "outputs": [
    {
     "data": {
      "text/plain": [
       "'all around or on all sides'"
      ]
     },
     "execution_count": 19,
     "metadata": {},
     "output_type": "execute_result"
    }
   ],
   "source": [
    "#So, the best sense of the word 'bank' is \n",
    "best_sense.definition()\n"
   ]
  },
  {
   "cell_type": "code",
   "execution_count": null,
   "metadata": {},
   "outputs": [],
   "source": []
  },
  {
   "cell_type": "code",
   "execution_count": null,
   "metadata": {},
   "outputs": [],
   "source": []
  },
  {
   "cell_type": "code",
   "execution_count": null,
   "metadata": {},
   "outputs": [],
   "source": []
  }
 ],
 "metadata": {
  "kernelspec": {
   "display_name": "Python 3",
   "language": "python",
   "name": "python3"
  },
  "language_info": {
   "codemirror_mode": {
    "name": "ipython",
    "version": 3
   },
   "file_extension": ".py",
   "mimetype": "text/x-python",
   "name": "python",
   "nbconvert_exporter": "python",
   "pygments_lexer": "ipython3",
   "version": "3.7.1"
  }
 },
 "nbformat": 4,
 "nbformat_minor": 2
}
