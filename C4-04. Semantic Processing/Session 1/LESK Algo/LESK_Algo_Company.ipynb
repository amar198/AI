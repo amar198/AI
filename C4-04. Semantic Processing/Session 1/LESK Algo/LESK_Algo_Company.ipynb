{
 "cells": [
  {
   "cell_type": "code",
   "execution_count": 1,
   "metadata": {},
   "outputs": [],
   "source": [
    "# importing required libraries\n",
    "\n",
    "import nltk\n",
    "from nltk.corpus import wordnet\n",
    "from nltk.corpus import stopwords"
   ]
  },
  {
   "cell_type": "code",
   "execution_count": 63,
   "metadata": {},
   "outputs": [],
   "source": [
    "def remove_stpwords(sent):\n",
    "#{\n",
    "    stp_wrds = set(stopwords.words('english'))    # retrieving unique stop words in english.\n",
    "    wrd_tkns = nltk.word_tokenize(sent)       # tokenize sentence passed to this fn.\n",
    "    \n",
    "    filtered_sentence = []                  # initializing an empty list for storing key words (excluding stop words).\n",
    "    \n",
    "    for wrd in wrd_tkns:\n",
    "    #{\n",
    "        if wrd not in stp_wrds:             # if the word is a stop word it will not be added to the filtered list.\n",
    "            if len(wrd) > 2:\n",
    "                filtered_sentence.append(wrd)\n",
    "    #} End of 'wrd' for-loop\n",
    "            \n",
    "    return filtered_sentence                # returning the list without stop-words of english language.\n",
    "#}"
   ]
  },
  {
   "cell_type": "code",
   "execution_count": 48,
   "metadata": {},
   "outputs": [],
   "source": [
    "def get_sense_def(wrd_lst):\n",
    "#{\n",
    "    sense_def_wrd_lst = []\n",
    "    lst_1d = []\n",
    "    \n",
    "    for wrd in wrd_lst:\n",
    "    #{\n",
    "        for sense in wordnet.synsets(wrd.lower()):\n",
    "            sense_def_wrd_lst.append(remove_stpwords(sense.definition()))\n",
    "    #}\n",
    "          \n",
    "    # creating 1 non nested list\n",
    "    for lst in sense_def_wrd_lst:\n",
    "    #{\n",
    "        for w in lst:\n",
    "            lst_1d.append(w)\n",
    "    #}\n",
    "    \n",
    "    return set(lst_1d)\n",
    "#}"
   ]
  },
  {
   "cell_type": "code",
   "execution_count": 73,
   "metadata": {},
   "outputs": [],
   "source": [
    "def get_best_sense(wrd, company):\n",
    "#{\n",
    "    sense_def_wrd_set = get_sense_def(company)\n",
    "    \n",
    "    max_overlap = -1                   # initialized as -1, cause overlap may remain 0 after finding the \n",
    "                                       # intersection b/w sense definition and the word, for all the senses.\n",
    "                                       # In such a case no sense definition will be returned. Hence, initializing \n",
    "                                       # it as -1 so that the 1st sense is returned. \n",
    "                                       # (value of overlap = 0 and max_overlap = -1).\n",
    "    best_sense = ''                    # initializing variable.\n",
    "    \n",
    "    #for sense in wordnet.synsets('jump'):\n",
    "    #    print(sense.definition())\n",
    "        \n",
    "    for sense in wordnet.synsets(wrd.lower()):\n",
    "    #{\n",
    "        overlap = len(set(remove_stpwords(sense.definition())).intersection(sense_def_wrd_set))\n",
    "        \n",
    "        #if wrd.lower() == 'frog':\n",
    "        #    print('%s \\n %s \\n %s \\n %s \\n %i' % (wrd, company, sense.definition(), sense_def_wrd_set, overlap))\n",
    "        \n",
    "        if overlap > max_overlap:            # if another sense has more common words, then new sense is \n",
    "            max_overlap = overlap            # assigned to the best_sense variable to hold the sense till a \n",
    "            best_sense = sense.definition()  # better one is identified.\n",
    "    #} End of 'sense' for-loop\n",
    "            \n",
    "    return best_sense\n",
    "#}"
   ]
  },
  {
   "cell_type": "code",
   "execution_count": 49,
   "metadata": {},
   "outputs": [],
   "source": [
    "# LESK algo returns the best definition of the sense in which the words are supposed to be used.\n",
    "# it returns a list which contains Tuples with word and its definition.\n",
    "# E.g.\n",
    "# [\n",
    "#     (word1, best definition of word1), - Tuple 1\n",
    "#     (word2, best definition of word2), - Tuple 2\n",
    "#     ...\n",
    "# ]\n",
    "\n",
    "# List of parameters passed to the LESK algo fn.\n",
    "# sents: the sentence in which the association b/w word and sense will be found.\n",
    "\n",
    "def lesk_algo_sent(sent):\n",
    "#{\n",
    "    wrd_def = []                           # var in which word and its definition will be stored.\n",
    "    split_sent = remove_stpwords(sent.lower())     # splitting the sentence and removing the stop words.\n",
    "    \n",
    "    wrd_lst = []\n",
    "    prev_next_wrd = []\n",
    "    \n",
    "    for key, wrd in enumerate(split_sent):\n",
    "    #{\n",
    "        if key == 0:\n",
    "            prev_next_wrd = [split_sent[key+1]]\n",
    "            \n",
    "        elif key > 0 and key < (len(split_sent)-1):\n",
    "            prev_next_wrd = [split_sent[key-1], split_sent[key+1]]\n",
    "            \n",
    "        elif key == (len(split_sent)-1):\n",
    "            prev_next_wrd = [split_sent[key-1]]\n",
    "            \n",
    "        wrd_lst.append(tuple([prev_next_wrd, wrd]))\n",
    "    #} End of 'enumeration' for-loop\n",
    "    \n",
    "    for word in wrd_lst:\n",
    "    # {\n",
    "        wrd_def.append(get_best_sense(word[1], word[0]))\n",
    "    # } End of 'word' for-loop\n",
    "    \n",
    "    return list(zip(split_sent, wrd_def))\n",
    "#}"
   ]
  },
  {
   "cell_type": "code",
   "execution_count": 77,
   "metadata": {},
   "outputs": [],
   "source": [
    "sentence = \"The frog is jumping around the bank of the river\"\n",
    "words = ['bank', 'jumping', 'leaping', 'frog']"
   ]
  },
  {
   "cell_type": "code",
   "execution_count": 79,
   "metadata": {},
   "outputs": [
    {
     "data": {
      "text/plain": [
       "[('frog',\n",
       "  'any of various tailless stout-bodied amphibians with long hind limbs for leaping; semiaquatic and terrestrial species'),\n",
       " ('jumping',\n",
       "  'the act of participating in an athletic competition in which you must jump'),\n",
       " ('around', 'in the area or vicinity'),\n",
       " ('bank', 'sloping land (especially the slope beside a body of water)'),\n",
       " ('river', 'a large natural stream of water (larger than a creek)')]"
      ]
     },
     "execution_count": 79,
     "metadata": {},
     "output_type": "execute_result"
    }
   ],
   "source": [
    "# ['frog', 'jumping', 'around', 'bank', 'river']\n",
    "lesk_algo_sent(sentence)"
   ]
  }
 ],
 "metadata": {
  "kernelspec": {
   "display_name": "Python 3",
   "language": "python",
   "name": "python3"
  },
  "language_info": {
   "codemirror_mode": {
    "name": "ipython",
    "version": 3
   },
   "file_extension": ".py",
   "mimetype": "text/x-python",
   "name": "python",
   "nbconvert_exporter": "python",
   "pygments_lexer": "ipython3",
   "version": "3.7.1"
  }
 },
 "nbformat": 4,
 "nbformat_minor": 2
}
