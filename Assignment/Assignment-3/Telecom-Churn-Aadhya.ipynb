{
 "cells": [
  {
   "cell_type": "markdown",
   "metadata": {},
   "source": [
    "# RAID Analysis\n",
    "\n",
    "### Risks\n",
    "\n",
    "\n",
    "### Assumptions\n",
    "\n",
    "\n",
    "### Issues\n",
    "\n",
    "\n",
    "### Dependencies\n",
    "\n",
    "\n"
   ]
  },
  {
   "cell_type": "markdown",
   "metadata": {},
   "source": [
    "# -------------------------------------------------------------------------------"
   ]
  },
  {
   "cell_type": "markdown",
   "metadata": {},
   "source": [
    "# 1. Importing required libraries and importing the data"
   ]
  },
  {
   "cell_type": "code",
   "execution_count": 75,
   "metadata": {},
   "outputs": [],
   "source": [
    "import numpy as np\n",
    "import pandas as pd\n",
    "import matplotlib.pyplot as plt\n",
    "import seaborn as sns\n",
    "from sklearn.decomposition import PCA\n",
    "import warnings\n",
    "warnings.filterwarnings('ignore')"
   ]
  },
  {
   "cell_type": "code",
   "execution_count": 76,
   "metadata": {},
   "outputs": [],
   "source": [
    "telecom = pd.read_csv('telecom_churn_data.csv')"
   ]
  },
  {
   "cell_type": "code",
   "execution_count": 77,
   "metadata": {},
   "outputs": [
    {
     "data": {
      "text/plain": [
       "(99999, 226)"
      ]
     },
     "execution_count": 77,
     "metadata": {},
     "output_type": "execute_result"
    }
   ],
   "source": [
    "telecom.shape"
   ]
  },
  {
   "cell_type": "code",
   "execution_count": 78,
   "metadata": {},
   "outputs": [
    {
     "name": "stdout",
     "output_type": "stream",
     "text": [
      "<class 'pandas.core.frame.DataFrame'>\n",
      "RangeIndex: 99999 entries, 0 to 99998\n",
      "Columns: 226 entries, mobile_number to sep_vbc_3g\n",
      "dtypes: float64(179), int64(35), object(12)\n",
      "memory usage: 172.4+ MB\n"
     ]
    }
   ],
   "source": [
    "telecom.info()"
   ]
  },
  {
   "cell_type": "code",
   "execution_count": 79,
   "metadata": {},
   "outputs": [
    {
     "data": {
      "text/plain": [
       "Index(['loc_og_t2o_mou', 'std_og_t2o_mou', 'roam_og_mou_6', 'roam_og_mou_7',\n",
       "       'roam_og_mou_8', 'roam_og_mou_9', 'loc_og_t2t_mou_6',\n",
       "       'loc_og_t2t_mou_7', 'loc_og_t2t_mou_8', 'loc_og_t2t_mou_9',\n",
       "       'loc_og_t2m_mou_6', 'loc_og_t2m_mou_7', 'loc_og_t2m_mou_8',\n",
       "       'loc_og_t2m_mou_9', 'loc_og_t2f_mou_6', 'loc_og_t2f_mou_7',\n",
       "       'loc_og_t2f_mou_8', 'loc_og_t2f_mou_9', 'loc_og_t2c_mou_6',\n",
       "       'loc_og_t2c_mou_7', 'loc_og_t2c_mou_8', 'loc_og_t2c_mou_9',\n",
       "       'loc_og_mou_6', 'loc_og_mou_7', 'loc_og_mou_8', 'loc_og_mou_9',\n",
       "       'std_og_t2t_mou_6', 'std_og_t2t_mou_7', 'std_og_t2t_mou_8',\n",
       "       'std_og_t2t_mou_9', 'std_og_t2m_mou_6', 'std_og_t2m_mou_7',\n",
       "       'std_og_t2m_mou_8', 'std_og_t2m_mou_9', 'std_og_t2f_mou_6',\n",
       "       'std_og_t2f_mou_7', 'std_og_t2f_mou_8', 'std_og_t2f_mou_9',\n",
       "       'std_og_t2c_mou_6', 'std_og_t2c_mou_7', 'std_og_t2c_mou_8',\n",
       "       'std_og_t2c_mou_9', 'std_og_mou_6', 'std_og_mou_7', 'std_og_mou_8',\n",
       "       'std_og_mou_9', 'isd_og_mou_6', 'isd_og_mou_7', 'isd_og_mou_8',\n",
       "       'isd_og_mou_9', 'spl_og_mou_6', 'spl_og_mou_7', 'spl_og_mou_8',\n",
       "       'spl_og_mou_9', 'og_others_6', 'og_others_7', 'og_others_8',\n",
       "       'og_others_9', 'total_og_mou_6', 'total_og_mou_7', 'total_og_mou_8',\n",
       "       'total_og_mou_9'],\n",
       "      dtype='object')"
      ]
     },
     "execution_count": 79,
     "metadata": {},
     "output_type": "execute_result"
    }
   ],
   "source": [
    "og_columns = telecom.columns[telecom.columns.str.contains('og')]\n",
    "og_columns"
   ]
  },
  {
   "cell_type": "code",
   "execution_count": 80,
   "metadata": {},
   "outputs": [
    {
     "data": {
      "text/plain": [
       "array(['loc_og_t2o_mou', 'std_og_t2o_mou', 'std_og_t2c_mou_6',\n",
       "       'std_og_t2c_mou_7', 'std_og_t2c_mou_8', 'std_og_t2c_mou_9'],\n",
       "      dtype=object)"
      ]
     },
     "execution_count": 80,
     "metadata": {},
     "output_type": "execute_result"
    }
   ],
   "source": [
    "# Checking for zero variance outgoing columns\n",
    "zero_variance_columns = telecom.loc[:,og_columns].std()[telecom.loc[:,og_columns].std()==0].index.values\n",
    "\n",
    "zero_variance_columns"
   ]
  },
  {
   "cell_type": "code",
   "execution_count": 81,
   "metadata": {},
   "outputs": [],
   "source": [
    "# Dropping columns with zero variance\n",
    "telecom.drop(list(zero_variance_columns),axis=1, inplace=True)"
   ]
  },
  {
   "cell_type": "code",
   "execution_count": 84,
   "metadata": {},
   "outputs": [
    {
     "data": {
      "text/plain": [
       "roam_og_mou_6       3.94\n",
       "roam_og_mou_7       3.86\n",
       "roam_og_mou_8       5.38\n",
       "roam_og_mou_9       7.75\n",
       "loc_og_t2t_mou_6    3.94\n",
       "loc_og_t2t_mou_7    3.86\n",
       "loc_og_t2t_mou_8    5.38\n",
       "loc_og_t2t_mou_9    7.75\n",
       "loc_og_t2m_mou_6    3.94\n",
       "loc_og_t2m_mou_7    3.86\n",
       "loc_og_t2m_mou_8    5.38\n",
       "loc_og_t2m_mou_9    7.75\n",
       "loc_og_t2f_mou_6    3.94\n",
       "loc_og_t2f_mou_7    3.86\n",
       "loc_og_t2f_mou_8    5.38\n",
       "loc_og_t2f_mou_9    7.75\n",
       "loc_og_t2c_mou_6    3.94\n",
       "loc_og_t2c_mou_7    3.86\n",
       "loc_og_t2c_mou_8    5.38\n",
       "loc_og_t2c_mou_9    7.75\n",
       "loc_og_mou_6        3.94\n",
       "loc_og_mou_7        3.86\n",
       "loc_og_mou_8        5.38\n",
       "loc_og_mou_9        7.75\n",
       "std_og_t2t_mou_6    3.94\n",
       "std_og_t2t_mou_7    3.86\n",
       "std_og_t2t_mou_8    5.38\n",
       "std_og_t2t_mou_9    7.75\n",
       "std_og_t2m_mou_6    3.94\n",
       "std_og_t2m_mou_7    3.86\n",
       "std_og_t2m_mou_8    5.38\n",
       "std_og_t2m_mou_9    7.75\n",
       "std_og_t2f_mou_6    3.94\n",
       "std_og_t2f_mou_7    3.86\n",
       "std_og_t2f_mou_8    5.38\n",
       "std_og_t2f_mou_9    7.75\n",
       "std_og_mou_6        3.94\n",
       "std_og_mou_7        3.86\n",
       "std_og_mou_8        5.38\n",
       "std_og_mou_9        7.75\n",
       "isd_og_mou_6        3.94\n",
       "isd_og_mou_7        3.86\n",
       "isd_og_mou_8        5.38\n",
       "isd_og_mou_9        7.75\n",
       "spl_og_mou_6        3.94\n",
       "spl_og_mou_7        3.86\n",
       "spl_og_mou_8        5.38\n",
       "spl_og_mou_9        7.75\n",
       "og_others_6         3.94\n",
       "og_others_7         3.86\n",
       "og_others_8         5.38\n",
       "og_others_9         7.75\n",
       "total_og_mou_6      0.00\n",
       "total_og_mou_7      0.00\n",
       "total_og_mou_8      0.00\n",
       "total_og_mou_9      0.00\n",
       "dtype: float64"
      ]
     },
     "execution_count": 84,
     "metadata": {},
     "output_type": "execute_result"
    }
   ],
   "source": [
    "# % of null values among outgoing variables\n",
    "og_columns = telecom.columns[telecom.columns.str.contains('og')]\n",
    "og_columns.isnull().sum()\n",
    "round(100*telecom.loc[:,og_columns].isnull().sum()/len(telecom.loc[:,og_columns]),2)\n"
   ]
  },
  {
   "cell_type": "code",
   "execution_count": 86,
   "metadata": {},
   "outputs": [
    {
     "data": {
      "text/plain": [
       "Series([], dtype: float64)"
      ]
     },
     "execution_count": 86,
     "metadata": {},
     "output_type": "execute_result"
    }
   ],
   "source": [
    "# Columns with more than 70% missing values\n",
    "columns_missing_data = round(100*telecom.loc[:,og_columns].isnull().sum()/len(telecom.loc[:,og_columns]),2)\n",
    "\n",
    "columns_missing_data[columns_missing_data >= 70]"
   ]
  },
  {
   "cell_type": "code",
   "execution_count": 70,
   "metadata": {},
   "outputs": [],
   "source": [
    "# replacing null values by 0 for outgoing variables\n",
    "telecom.loc[:,og_columns] = telecom.loc[:,og_columns].replace(np.NaN,0)\n"
   ]
  },
  {
   "cell_type": "code",
   "execution_count": 72,
   "metadata": {},
   "outputs": [
    {
     "data": {
      "text/plain": [
       "Index(['roam_og_mou_6', 'loc_og_t2t_mou_6', 'loc_og_t2m_mou_6',\n",
       "       'loc_og_t2f_mou_6', 'loc_og_t2c_mou_6', 'loc_og_mou_6',\n",
       "       'std_og_t2t_mou_6', 'std_og_t2m_mou_6', 'std_og_t2f_mou_6',\n",
       "       'std_og_mou_6', 'isd_og_mou_6', 'spl_og_mou_6', 'total_og_mou_6'],\n",
       "      dtype='object')"
      ]
     },
     "execution_count": 72,
     "metadata": {},
     "output_type": "execute_result"
    }
   ],
   "source": [
    "# Collecting mou_outgoing variables for month 6\n",
    "mou_og_columns_6 = telecom.columns[telecom.columns.str.contains('.*_og_.*mou_6',regex=True)]\n",
    "\n",
    "\n",
    "mou_og_columns_6\n"
   ]
  },
  {
   "cell_type": "code",
   "execution_count": 74,
   "metadata": {},
   "outputs": [
    {
     "data": {
      "image/png": "[encoded data removed]",
      "text/plain": [
       "<Figure size 720x576 with 2 Axes>"
      ]
     },
     "metadata": {},
     "output_type": "display_data"
    }
   ],
   "source": [
    "# let us create a correlation matrix heatmap among quantitative varibales\n",
    "plt.figure(figsize=(10, 8))\n",
    "sns.heatmap(telecom.loc[:,mou_og_columns_6].corr(), cmap=\"YlGnBu\")\n",
    "plt.show()"
   ]
  },
  {
   "cell_type": "markdown",
   "metadata": {},
   "source": [
    "After analyzing the variables we are able to build the following relationships between them.\n",
    "\n",
    "1. total_og_mou_6 = loc_og_mou_6+std_og_mou_6+spl_og_mou_6+isd_og_mou_6+ roam_og_mou_6+og_others_6\n",
    "2. std_og_mou_6 = std_og_t2m_mou_6+std_og_t2t_mou_6+std_og_t2f_mou_6 + std_og_2tc_mou_6\n",
    "3. loc_og_mou_6 = loc_og_t2m_mou_6+loc_og_t2t_mou_6+loc_og_t2f_mou_6 + loc_og_2tc_mou_6\n"
   ]
  },
  {
   "cell_type": "code",
   "execution_count": 51,
   "metadata": {},
   "outputs": [
    {
     "name": "stdout",
     "output_type": "stream",
     "text": [
      "487.53 487.52000000000004\n"
     ]
    }
   ],
   "source": [
    "print(telecom.loc[7,'total_og_mou_6'],telecom.loc[7,['loc_og_mou_6','std_og_mou_6','spl_og_mou_6','isd_og_mou_6','og_others_6']].sum())\n"
   ]
  },
  {
   "cell_type": "code",
   "execution_count": 52,
   "metadata": {},
   "outputs": [
    {
     "name": "stdout",
     "output_type": "stream",
     "text": [
      "422.16 422.15\n"
     ]
    }
   ],
   "source": [
    "# loc_og_mou_6 is a total of the other given fields\n",
    "\n",
    "print( \\\n",
    "      telecom.loc[7,'loc_og_mou_6'], \\\n",
    "      telecom.loc[7,['loc_og_t2m_mou_6','loc_og_t2t_mou_6','loc_og_t2f_mou_6','loc_og_2tc_mou_6']].sum() \\\n",
    "     )"
   ]
  },
  {
   "cell_type": "code",
   "execution_count": 53,
   "metadata": {},
   "outputs": [
    {
     "name": "stdout",
     "output_type": "stream",
     "text": [
      "60.86 60.849999999999994\n"
     ]
    }
   ],
   "source": [
    "# std_og_mou_6 is a total of the other given fields\n",
    "\n",
    "print( \\\n",
    "      telecom.loc[7,'std_og_mou_6'], \\\n",
    "      telecom.loc[7,['std_og_t2m_mou_6','std_og_t2t_mou_6','std_og_t2f_mou_6','std_og_loc_mou_6']].sum() \\\n",
    "     )\n"
   ]
  },
  {
   "cell_type": "code",
   "execution_count": 54,
   "metadata": {},
   "outputs": [
    {
     "name": "stdout",
     "output_type": "stream",
     "text": [
      "Index(['loc_og_mou_6', 'loc_og_mou_7', 'loc_og_mou_8', 'loc_og_mou_9',\n",
      "       'std_og_mou_6', 'std_og_mou_7', 'std_og_mou_8', 'std_og_mou_9',\n",
      "       'total_og_mou_6', 'total_og_mou_7', 'total_og_mou_8', 'total_og_mou_9'],\n",
      "      dtype='object')\n"
     ]
    }
   ],
   "source": [
    "# As total_og_mou_6, std_og_mou_6 and loc_og_mou_6 already have component variables present in dataset\n",
    "# let's remove these columns for all months from the data set\n",
    "\n",
    "ls_total_og_cols = telecom.columns[telecom.columns.str.contains('total_og_mou|std_og_mou|loc_og_mou',regex=True)]\n",
    "\n",
    "print(ls_total_og_cols)\n",
    "\n",
    "telecom.drop(ls_total_og_cols,axis=1,inplace=True)"
   ]
  },
  {
   "cell_type": "code",
   "execution_count": 55,
   "metadata": {},
   "outputs": [],
   "source": [
    "#let's define good phase derived variables for all og components:\n",
    "telecom['spl_og_mou_good_ph'] = (telecom.spl_og_mou_6 + telecom.spl_og_mou_7)/2\n",
    "telecom['isd_og_mou_good_ph'] = (telecom.isd_og_mou_6 + telecom.isd_og_mou_7)/2\n",
    "telecom['roam_og_mou_good_ph'] = (telecom.roam_og_mou_6 + telecom.roam_og_mou_7)/2\n",
    "telecom['std_og_t2m_mou_good_ph'] = (telecom.std_og_t2m_mou_6 + telecom.std_og_t2m_mou_7)/2\n",
    "telecom['std_og_t2t_mou_good_ph'] = (telecom.std_og_t2t_mou_6 + telecom.std_og_t2t_mou_7)/2\n",
    "telecom['std_og_t2f_mou_good_ph'] = (telecom.std_og_t2f_mou_6 + telecom.std_og_t2f_mou_7)/2\n",
    "\n",
    "telecom['loc_og_t2m_mou_good_ph'] = (telecom.loc_og_t2m_mou_6 + telecom.loc_og_t2m_mou_7)/2\n",
    "telecom['loc_og_t2t_mou_good_ph'] = (telecom.loc_og_t2t_mou_6 + telecom.loc_og_t2t_mou_7)/2\n",
    "telecom['loc_og_t2f_mou_good_ph'] = (telecom.loc_og_t2f_mou_6 + telecom.loc_og_t2f_mou_7)/2\n",
    "telecom['loc_og_t2c_mou_good_ph'] = (telecom.loc_og_t2c_mou_6 + telecom.loc_og_t2c_mou_7)/2"
   ]
  },
  {
   "cell_type": "code",
   "execution_count": 56,
   "metadata": {},
   "outputs": [],
   "source": [
    "# drop all the original og mou variables\n",
    "ls_og = telecom.columns[telecom.columns.str.contains('.*_og_.*mou_6|.*_og_.*mou_7',regex=True)]\n",
    "\n",
    "ls_og\n",
    "\n",
    "telecom.drop(ls_og,axis=1,inplace=True)"
   ]
  },
  {
   "cell_type": "code",
   "execution_count": 57,
   "metadata": {},
   "outputs": [
    {
     "data": {
      "text/html": [
       "<div>\n",
       "<style scoped>\n",
       "    .dataframe tbody tr th:only-of-type {\n",
       "        vertical-align: middle;\n",
       "    }\n",
       "\n",
       "    .dataframe tbody tr th {\n",
       "        vertical-align: top;\n",
       "    }\n",
       "\n",
       "    .dataframe thead th {\n",
       "        text-align: right;\n",
       "    }\n",
       "</style>\n",
       "<table border=\"1\" class=\"dataframe\">\n",
       "  <thead>\n",
       "    <tr style=\"text-align: right;\">\n",
       "      <th></th>\n",
       "      <th>og_others_6</th>\n",
       "      <th>og_others_7</th>\n",
       "      <th>og_others_8</th>\n",
       "      <th>og_others_9</th>\n",
       "    </tr>\n",
       "  </thead>\n",
       "  <tbody>\n",
       "    <tr>\n",
       "      <th>count</th>\n",
       "      <td>99999.000000</td>\n",
       "      <td>99999.000000</td>\n",
       "      <td>99999.000000</td>\n",
       "      <td>99999.000000</td>\n",
       "    </tr>\n",
       "    <tr>\n",
       "      <th>mean</th>\n",
       "      <td>0.436277</td>\n",
       "      <td>0.029069</td>\n",
       "      <td>0.031577</td>\n",
       "      <td>0.043780</td>\n",
       "    </tr>\n",
       "    <tr>\n",
       "      <th>std</th>\n",
       "      <td>4.044839</td>\n",
       "      <td>2.119603</td>\n",
       "      <td>2.260134</td>\n",
       "      <td>3.491866</td>\n",
       "    </tr>\n",
       "    <tr>\n",
       "      <th>min</th>\n",
       "      <td>0.000000</td>\n",
       "      <td>0.000000</td>\n",
       "      <td>0.000000</td>\n",
       "      <td>0.000000</td>\n",
       "    </tr>\n",
       "    <tr>\n",
       "      <th>25%</th>\n",
       "      <td>0.000000</td>\n",
       "      <td>0.000000</td>\n",
       "      <td>0.000000</td>\n",
       "      <td>0.000000</td>\n",
       "    </tr>\n",
       "    <tr>\n",
       "      <th>50%</th>\n",
       "      <td>0.000000</td>\n",
       "      <td>0.000000</td>\n",
       "      <td>0.000000</td>\n",
       "      <td>0.000000</td>\n",
       "    </tr>\n",
       "    <tr>\n",
       "      <th>75%</th>\n",
       "      <td>0.000000</td>\n",
       "      <td>0.000000</td>\n",
       "      <td>0.000000</td>\n",
       "      <td>0.000000</td>\n",
       "    </tr>\n",
       "    <tr>\n",
       "      <th>max</th>\n",
       "      <td>800.890000</td>\n",
       "      <td>370.130000</td>\n",
       "      <td>394.930000</td>\n",
       "      <td>787.790000</td>\n",
       "    </tr>\n",
       "  </tbody>\n",
       "</table>\n",
       "</div>"
      ],
      "text/plain": [
       "        og_others_6   og_others_7   og_others_8   og_others_9\n",
       "count  99999.000000  99999.000000  99999.000000  99999.000000\n",
       "mean       0.436277      0.029069      0.031577      0.043780\n",
       "std        4.044839      2.119603      2.260134      3.491866\n",
       "min        0.000000      0.000000      0.000000      0.000000\n",
       "25%        0.000000      0.000000      0.000000      0.000000\n",
       "50%        0.000000      0.000000      0.000000      0.000000\n",
       "75%        0.000000      0.000000      0.000000      0.000000\n",
       "max      800.890000    370.130000    394.930000    787.790000"
      ]
     },
     "execution_count": 57,
     "metadata": {},
     "output_type": "execute_result"
    }
   ],
   "source": [
    "# let's check summary stats for og_others \n",
    "ls_others = telecom.columns[telecom.columns.str.contains('og_others')]\n",
    "\n",
    "telecom.loc[:,ls_others].describe()"
   ]
  },
  {
   "cell_type": "code",
   "execution_count": null,
   "metadata": {},
   "outputs": [],
   "source": []
  },
  {
   "cell_type": "code",
   "execution_count": null,
   "metadata": {},
   "outputs": [],
   "source": []
  },
  {
   "cell_type": "code",
   "execution_count": null,
   "metadata": {},
   "outputs": [],
   "source": []
  },
  {
   "cell_type": "code",
   "execution_count": null,
   "metadata": {},
   "outputs": [],
   "source": []
  },
  {
   "cell_type": "code",
   "execution_count": null,
   "metadata": {},
   "outputs": [],
   "source": []
  },
  {
   "cell_type": "code",
   "execution_count": null,
   "metadata": {},
   "outputs": [],
   "source": []
  },
  {
   "cell_type": "code",
   "execution_count": null,
   "metadata": {},
   "outputs": [],
   "source": []
  },
  {
   "cell_type": "code",
   "execution_count": null,
   "metadata": {},
   "outputs": [],
   "source": []
  },
  {
   "cell_type": "code",
   "execution_count": null,
   "metadata": {},
   "outputs": [],
   "source": []
  },
  {
   "cell_type": "code",
   "execution_count": null,
   "metadata": {},
   "outputs": [],
   "source": []
  },
  {
   "cell_type": "code",
   "execution_count": null,
   "metadata": {},
   "outputs": [],
   "source": []
  },
  {
   "cell_type": "code",
   "execution_count": null,
   "metadata": {},
   "outputs": [],
   "source": []
  },
  {
   "cell_type": "code",
   "execution_count": null,
   "metadata": {},
   "outputs": [],
   "source": []
  },
  {
   "cell_type": "code",
   "execution_count": null,
   "metadata": {},
   "outputs": [],
   "source": []
  },
  {
   "cell_type": "code",
   "execution_count": null,
   "metadata": {},
   "outputs": [],
   "source": []
  },
  {
   "cell_type": "code",
   "execution_count": null,
   "metadata": {},
   "outputs": [],
   "source": []
  },
  {
   "cell_type": "code",
   "execution_count": null,
   "metadata": {},
   "outputs": [],
   "source": []
  },
  {
   "cell_type": "code",
   "execution_count": null,
   "metadata": {},
   "outputs": [],
   "source": []
  },
  {
   "cell_type": "code",
   "execution_count": null,
   "metadata": {},
   "outputs": [],
   "source": []
  },
  {
   "cell_type": "code",
   "execution_count": null,
   "metadata": {},
   "outputs": [],
   "source": []
  },
  {
   "cell_type": "code",
   "execution_count": null,
   "metadata": {},
   "outputs": [],
   "source": []
  },
  {
   "cell_type": "code",
   "execution_count": null,
   "metadata": {},
   "outputs": [],
   "source": []
  },
  {
   "cell_type": "code",
   "execution_count": null,
   "metadata": {},
   "outputs": [],
   "source": []
  },
  {
   "cell_type": "code",
   "execution_count": null,
   "metadata": {},
   "outputs": [],
   "source": []
  },
  {
   "cell_type": "code",
   "execution_count": null,
   "metadata": {},
   "outputs": [],
   "source": []
  },
  {
   "cell_type": "code",
   "execution_count": null,
   "metadata": {},
   "outputs": [],
   "source": []
  },
  {
   "cell_type": "code",
   "execution_count": null,
   "metadata": {},
   "outputs": [],
   "source": []
  },
  {
   "cell_type": "code",
   "execution_count": null,
   "metadata": {},
   "outputs": [],
   "source": []
  },
  {
   "cell_type": "code",
   "execution_count": null,
   "metadata": {},
   "outputs": [],
   "source": []
  },
  {
   "cell_type": "code",
   "execution_count": null,
   "metadata": {},
   "outputs": [],
   "source": []
  },
  {
   "cell_type": "code",
   "execution_count": null,
   "metadata": {},
   "outputs": [],
   "source": []
  },
  {
   "cell_type": "code",
   "execution_count": null,
   "metadata": {},
   "outputs": [],
   "source": []
  },
  {
   "cell_type": "code",
   "execution_count": null,
   "metadata": {},
   "outputs": [],
   "source": []
  },
  {
   "cell_type": "code",
   "execution_count": null,
   "metadata": {},
   "outputs": [],
   "source": []
  },
  {
   "cell_type": "code",
   "execution_count": null,
   "metadata": {},
   "outputs": [],
   "source": []
  },
  {
   "cell_type": "code",
   "execution_count": null,
   "metadata": {},
   "outputs": [],
   "source": []
  },
  {
   "cell_type": "code",
   "execution_count": null,
   "metadata": {},
   "outputs": [],
   "source": []
  },
  {
   "cell_type": "code",
   "execution_count": null,
   "metadata": {},
   "outputs": [],
   "source": []
  },
  {
   "cell_type": "code",
   "execution_count": null,
   "metadata": {},
   "outputs": [],
   "source": []
  },
  {
   "cell_type": "code",
   "execution_count": null,
   "metadata": {},
   "outputs": [],
   "source": []
  },
  {
   "cell_type": "code",
   "execution_count": null,
   "metadata": {},
   "outputs": [],
   "source": []
  },
  {
   "cell_type": "markdown",
   "metadata": {},
   "source": [
    "# 2. Data Analysis & EDA"
   ]
  },
  {
   "cell_type": "code",
   "execution_count": null,
   "metadata": {},
   "outputs": [],
   "source": []
  },
  {
   "cell_type": "code",
   "execution_count": null,
   "metadata": {},
   "outputs": [],
   "source": []
  },
  {
   "cell_type": "markdown",
   "metadata": {},
   "source": [
    "# 3. PCA"
   ]
  },
  {
   "cell_type": "code",
   "execution_count": null,
   "metadata": {},
   "outputs": [],
   "source": []
  },
  {
   "cell_type": "code",
   "execution_count": null,
   "metadata": {},
   "outputs": [],
   "source": []
  },
  {
   "cell_type": "markdown",
   "metadata": {},
   "source": [
    "# 4. Model Building"
   ]
  },
  {
   "cell_type": "code",
   "execution_count": null,
   "metadata": {},
   "outputs": [],
   "source": []
  },
  {
   "cell_type": "code",
   "execution_count": null,
   "metadata": {},
   "outputs": [],
   "source": []
  },
  {
   "cell_type": "markdown",
   "metadata": {},
   "source": [
    "# 5. Model Evaluation"
   ]
  },
  {
   "cell_type": "code",
   "execution_count": null,
   "metadata": {},
   "outputs": [],
   "source": []
  },
  {
   "cell_type": "code",
   "execution_count": null,
   "metadata": {},
   "outputs": [],
   "source": []
  }
 ],
 "metadata": {
  "kernelspec": {
   "display_name": "Python 3",
   "language": "python",
   "name": "python3"
  },
  "language_info": {
   "codemirror_mode": {
    "name": "ipython",
    "version": 3
   },
   "file_extension": ".py",
   "mimetype": "text/x-python",
   "name": "python",
   "nbconvert_exporter": "python",
   "pygments_lexer": "ipython3",
   "version": "3.7.1"
  }
 },
 "nbformat": 4,
 "nbformat_minor": 2
}
