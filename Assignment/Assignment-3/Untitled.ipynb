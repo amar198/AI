{
 "cells": [
  {
   "cell_type": "code",
   "execution_count": null,
   "metadata": {},
   "outputs": [],
   "source": [
    "#telecom[['loc_og_t2c_mou_6', 'loc_og_t2c_mou_7', 'loc_og_t2c_mou_8', 'std_og_t2c_mou_9', 'std_og_t2c_mou_6', 'std_og_t2c_mou_7', 'std_og_t2c_mou_8', 'std_og_t2c_mou_9']].sum()\n",
    "#telecom[['og_others_6', 'og_others_7', 'og_others_8', 'og_others_9']].sum()\n",
    "\n",
    "telecom[['loc_og_mou_6', 'std_og_mou_6', 'isd_og_mou_7', 'spl_og_mou_6', 'og_others_6', 'roam_og_mou_6', 'total_og_mou_6']].head()\n",
    "\n",
    "#telecom['result_6']= telecom['loc_og_t2c_mou_6']/telecom['total_og_mou_6']\n",
    "#telecom['result_7']= telecom['loc_og_t2c_mou_7']/telecom['total_og_mou_7']\n",
    "#telecom['result_8']= telecom['loc_og_t2c_mou_8']/telecom['total_og_mou_8']\n",
    "#telecom['result_9']= telecom['loc_og_t2c_mou_9']/telecom['total_og_mou_9']\n",
    "\n",
    "#telecom[['result_6', 'result_7', 'result_8', 'result_9']]\n",
    "\n",
    "#telecom[['loc_og_t2c_mou_6', 'total_og_mou_6', 'loc_og_t2c_mou_7', 'total_og_mou_7', 'loc_og_t2c_mou_8', 'total_og_mou_8', 'std_og_t2c_mou_9', 'total_og_mou_9']]"
   ]
  },
  {
   "cell_type": "code",
   "execution_count": null,
   "metadata": {},
   "outputs": [],
   "source": [
    "telecom['percentile_70'] = telecom['arpu_6'] + telecom['arpu_7']\n",
    "telecom['percentile_70'].mean()"
   ]
  },
  {
   "cell_type": "code",
   "execution_count": null,
   "metadata": {},
   "outputs": [],
   "source": [
    "round(100*(telecom.isnull().sum()/len(telecom.index)), 2)"
   ]
  },
  {
   "cell_type": "code",
   "execution_count": null,
   "metadata": {},
   "outputs": [],
   "source": [
    "#telecom[['loc_og_t2o_mou', 'loc_og_t2t_mou_6', 'loc_og_t2m_mou_6', 'loc_og_t2f_mou_6', 'loc_og_t2c_mou_6', 'roam_og_mou_6', 'loc_og_mou_6', 'loc_total']].head()\n",
    "\n",
    "\n",
    "#telecom['loc_total'] = telecom['loc_og_t2o_mou']+telecom['loc_og_t2t_mou_6'] + telecom['loc_og_t2m_mou_6'] + telecom['loc_og_t2f_mou_6'] + telecom['loc_og_t2c_mou_6']\n",
    "\n",
    "\n",
    "\n",
    "telecom[['loc_og_t2c_mou_6', 'loc_og_t2c_mou_7', 'loc_og_t2c_mou_8', 'loc_og_t2c_mou_9']].sum()"
   ]
  },
  {
   "cell_type": "code",
   "execution_count": null,
   "metadata": {},
   "outputs": [],
   "source": [
    "telecom[['total_og_mou_6', 'loc_og_t2c_mou_6', 'total_og_mou_7', 'loc_og_t2c_mou_7', 'total_og_mou_8', 'loc_og_t2c_mou_8', 'total_og_mou_9']]"
   ]
  },
  {
   "cell_type": "code",
   "execution_count": null,
   "metadata": {},
   "outputs": [],
   "source": []
  },
  {
   "cell_type": "code",
   "execution_count": null,
   "metadata": {},
   "outputs": [],
   "source": [
    "telecom.loc[telecom['date_of_last_rech_6'] == pd.NaT]"
   ]
  },
  {
   "cell_type": "code",
   "execution_count": null,
   "metadata": {},
   "outputs": [],
   "source": [
    "telecom.last_date_of_month_6.astype(int).var()\n",
    "telecom.last_date_of_month_7.astype(int).var()\n",
    "telecom.last_date_of_month_8.astype(int).var()\n",
    "telecom.last_date_of_month_9.astype(int).var()"
   ]
  },
  {
   "cell_type": "code",
   "execution_count": null,
   "metadata": {},
   "outputs": [],
   "source": [
    "telecom.last_date_of_month_6.unique()"
   ]
  },
  {
   "cell_type": "code",
   "execution_count": null,
   "metadata": {},
   "outputs": [],
   "source": []
  }
 ],
 "metadata": {
  "kernelspec": {
   "display_name": "Python 3",
   "language": "python",
   "name": "python3"
  },
  "language_info": {
   "codemirror_mode": {
    "name": "ipython",
    "version": 3
   },
   "file_extension": ".py",
   "mimetype": "text/x-python",
   "name": "python",
   "nbconvert_exporter": "python",
   "pygments_lexer": "ipython3",
   "version": "3.7.1"
  }
 },
 "nbformat": 4,
 "nbformat_minor": 2
}
