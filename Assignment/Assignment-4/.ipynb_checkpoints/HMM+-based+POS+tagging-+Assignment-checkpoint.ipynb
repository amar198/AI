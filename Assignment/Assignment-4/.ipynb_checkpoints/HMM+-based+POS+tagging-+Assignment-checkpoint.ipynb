{
 "cells": [
  {
   "cell_type": "markdown",
   "metadata": {},
   "source": [
    "## POS tagging using modified Viterbi"
   ]
  },
  {
   "cell_type": "markdown",
   "metadata": {},
   "source": [
    "### 1. Data Preparation"
   ]
  },
  {
   "cell_type": "code",
   "execution_count": 203,
   "metadata": {},
   "outputs": [],
   "source": [
    "#Importing libraries\n",
    "import numpy as np\n",
    "import pandas as pd\n",
    "\n",
    "import nltk\n",
    "\n",
    "import random\n",
    "from sklearn.model_selection import train_test_split\n",
    "from nltk.tokenize import word_tokenize"
   ]
  },
  {
   "cell_type": "code",
   "execution_count": 204,
   "metadata": {},
   "outputs": [],
   "source": [
    "# reading the Treebank tagged sentences\n",
    "nltk_data = list(nltk.corpus.treebank.tagged_sents(tagset='universal'))"
   ]
  },
  {
   "cell_type": "markdown",
   "metadata": {},
   "source": [
    "#### Exploring corpus"
   ]
  },
  {
   "cell_type": "code",
   "execution_count": 205,
   "metadata": {
    "scrolled": true
   },
   "outputs": [
    {
     "data": {
      "text/plain": [
       "[[('Pierre', 'NOUN'),\n",
       "  ('Vinken', 'NOUN'),\n",
       "  (',', '.'),\n",
       "  ('61', 'NUM'),\n",
       "  ('years', 'NOUN'),\n",
       "  ('old', 'ADJ'),\n",
       "  (',', '.'),\n",
       "  ('will', 'VERB'),\n",
       "  ('join', 'VERB'),\n",
       "  ('the', 'DET'),\n",
       "  ('board', 'NOUN'),\n",
       "  ('as', 'ADP'),\n",
       "  ('a', 'DET'),\n",
       "  ('nonexecutive', 'ADJ'),\n",
       "  ('director', 'NOUN'),\n",
       "  ('Nov.', 'NOUN'),\n",
       "  ('29', 'NUM'),\n",
       "  ('.', '.')],\n",
       " [('Mr.', 'NOUN'),\n",
       "  ('Vinken', 'NOUN'),\n",
       "  ('is', 'VERB'),\n",
       "  ('chairman', 'NOUN'),\n",
       "  ('of', 'ADP'),\n",
       "  ('Elsevier', 'NOUN'),\n",
       "  ('N.V.', 'NOUN'),\n",
       "  (',', '.'),\n",
       "  ('the', 'DET'),\n",
       "  ('Dutch', 'NOUN'),\n",
       "  ('publishing', 'VERB'),\n",
       "  ('group', 'NOUN'),\n",
       "  ('.', '.')]]"
      ]
     },
     "execution_count": 205,
     "metadata": {},
     "output_type": "execute_result"
    }
   ],
   "source": [
    "# checking tagged sentences\n",
    "nltk_data[:2]"
   ]
  },
  {
   "cell_type": "code",
   "execution_count": 206,
   "metadata": {},
   "outputs": [
    {
     "name": "stdout",
     "output_type": "stream",
     "text": [
      "{'NOUN', 'ADP', 'DET', 'X', 'NUM', 'VERB', 'PRON', 'CONJ', 'ADV', '.', 'ADJ', 'PRT'}\n"
     ]
    }
   ],
   "source": [
    "# unique tags applied to the words in the corpus\n",
    "print(set([tpl[1] for pair in nltk_data for tpl in pair]))"
   ]
  },
  {
   "cell_type": "code",
   "execution_count": 207,
   "metadata": {},
   "outputs": [
    {
     "name": "stdout",
     "output_type": "stream",
     "text": [
      "10992\n"
     ]
    }
   ],
   "source": [
    "# checking unique words in the corpus, which does not have 'X', 'NUM', or '.' tags.\n",
    "\n",
    "print(len(set([tlp[0] for pair in nltk_data for tlp in pair \n",
    "                                                  if (tlp[1] != 'X' and tlp[1] != '.' and tlp[1] != 'NUM')\n",
    "              ]\n",
    "         )))"
   ]
  },
  {
   "cell_type": "code",
   "execution_count": 208,
   "metadata": {},
   "outputs": [
    {
     "name": "stdout",
     "output_type": "stream",
     "text": [
      "{'leases', 'pickers', 'kathryn', 'acquirer', 'telegraph', 'care', 'biscuit', 'rules', 'dummies', 'ground', 'pitney', 'yasuda', 'hugo', 'mickey', 'cleanup', 'integration', 'sphere', 'revelations', 'gold', 'discrimination', 'hour', 'dogs', 'bitterness', 'dancing', 'yeargin', 'restaurant', 'development', 'elephant', 'news-american', 'van', 'denver', 'periods', 'comedies', 'witches', 'hiroshi', 'manner', 'framework', 'scoring', 'creditworthiness', 'salty', 'logo', 'seymour', 'lentjes', 'garden-variety', 'explosion', 'regulatory', 'fe', 'officer', 'coconut', 'ferc', 'nicholas', 'florida', 'way', 'advent', 'polluters', 'swift', 'suisse', 'nov.', 'stations', 'boilers', 'machinery', 'braun', 'indiana', 'angier', 'beth', 'resistance', 'defense', 'tissue', 'clock', 'modifications', 'page', 'wall', 'dodger', 'oxnard', 'rubber', 'ramparts', 'movie', 'significance', 'redevelopment', 'prestige', 'perritt', 'downgrade', 'stance', 'buy', 'warrenton', 'shows', 'locations', 'films', 'announcer', 'halls', 'williams', 'fires', 'comparison', 'foreigners', 'minutes', 'contribution', 'nikkei', 'tort', 'planner', 'paso', 'anti-deficiency', 'metallgesellschaft', 'governors', 'skinner', 'virtues', 'economies', 'rates', 'harvard', 'caveat', 'cab', 'dissident', 'administrator', 'indexers', 'exit', 'america', 'spillane', 'allied', 'spence', 'classroom', 'ichiro', 'economist', 'social-studies', 'manpower', 'receipts', 'ranieri', 'leighton', 'hazell', 'headquarters', 'version', 'christopher', 'event', 'wakayama', 'lifes', 'designations', 'company', 'amounts', 'katzenstein', 'alcoholism', 'airlines', 'phipps', 'morale', 'rudolph', 'forecast', 'castle', 'fueling', 'asada', 'planes', 'mail', 'sandra', 'viewpoint', 'doonesbury', 'headline', 'lambert', 'example', 'grants', 'classmates', 'guest', 'rozell', 'henry', 'gambler', 'currency', 'thomas', 'jenrette', 'painewebber', 'retirement', 'incomes', 'shot', 'advertisers', 'guards', 'rapanelli', 'valuations', 'midnight', 'dean', 'sloan', 'pretax', 'multinationals', 'andrew', 'taipei', 'noble', 'cold', 'ackerman', 'clemens', 'account', 'third-quarter', 'caldor', 'wamre', 'lack', 'insider', 'ford', 'salmore', 'zaharah', 'charlie', 'edge', 'fingers', 'mortgages', 'export', 'executive-office', 'hearst', 'division', 'prototype', 'bottles', 'bears', 'leasing', 'punishment', 'conflicts', 'little', 'pipeline', 'freshbake', 'ibm', 'disputes', 'hitachi', 'hhs', 'roof', 'ceiling', 'lieu', 'revenue', 'intermec', 'lesson', 'checkbook', 'bidders', 'down', 'xerox', 'machine', 'fluctuations', 'd.c.', 'money', 'copyright', 'bougainville', 'furniture', 'trades', 'twin-jet', 'procedures', 'stag', 'computing', 'planting', 'major', 'tension', 'consensus', 'wolf', 'payments', 'pools', 'duty', 'penchant', 'riese', 'georgetown', 'dai-ichi', 'gas', 'hopwood', 'diseases', 'camille', 'civil', 'depression', 'basham', 'midwest', 'meatpacking', 'california', 'drobnick', 'chandler', 'piero', 'physics', 'summer', 'softening', 'tie-in', 's.a', 'professional', 'malta', 'sides', 'analyst', 'manila', 'ruth', 'midwesco', 'training', 'glendale', 'francs', 'pact', 'society', 'scott', 'droz', 'class', 'weapon', 'individual', 'bolduc', 'chairs', 'actress', 'kuhns', 'express', 'copper', 'reversal', 'processing', 'chilver', 'bmp-1', 'attractions', 'kong', 'oy', 'plainclothes', 'brean', 'belt', 'tickets', 'consulting', 'inverse', 'lonski', 'cash', 'kentucky', 'replacement', 'generalized', \"dunkin'\", 'cosmopolitan', 'keidanren', 'butterfly', 'packages', 'reporter', 'profit', 'introduction', 'illuminating', 'schemes', 'summary', 'assurance', 'beer', 'noriega', 'reins', 'rounds', 'guinea', 'triton', 'consolidated', 'apple', 'marketplace', 'smaby', 'overtime', 'us', 'elliott', 'basin', 'overseas', 'marketer', 'felonies', 'spenders', 'texaco', 'gift', 'devon', 'factors', 'parties', 'buckhead', 'likelihood', 'net', 'sacramento', 'phoenix', 'lasalle', 'craze', 'secretary', 'parishes', 'dashes', 'pasadena', 'run', 'matters', 'complex', 'block', 'slide', 'prosecution', 'problems', 'filing', 'teaching', 'steve', 'covers', 'freddie', 'rebel', 'mrs', 'three-sevenths', 'difficulties', 'corridors', 'norwalk', 'babcock', 'coaching', 'rulings', 'prerogatives', 'caters', 'worship', 'finding', 'karns', 'elevators', 'riserva', 'hope', 'petroleum', 'palmer', 'los', 'rocket', 'depository', 'saitama', 'valley', 'habit', 'terrace', 'biaggi', 'macheski', 'paris', 'hammond', 'corazon', 'baldwin', 'wallach', 'regulators', 'centerpiece', 'vitulli', 'dole', 'effects', 'deeds', 'usia', 'reaction', 'fans', 'checking', 'va.', 'inflation', 'opportunities', 'a.l.', 'fishman', 'rolling', 'heavy', 'attorneys', 'united', 'hypocrisy', 'railing', 'territory', 'level', 'replacement-car', 'dakotas', 'jersey', 'assistance', 'buy-out', 'countries', 'sub-markets', 'gangs', 'sotheby', 'testing', 'exploration', 'smoking', '1920s', 'aspersions', 'representative', 'movies', 'titans', 'gartner', 'downtown', 'baris', 'n.', 'maximum', 'palisades', 'confines', 'air', 'practice', 'cake', 'ncr', 'month', 's.', 'blindfold', 'yamaichi', 'powers', 'communications', 'emergency', 'belfries', 'average', 'shivers', 'polls', 'ghs', 'volume', 'dolphins', 'criminal', 'rick', 'mona', 'integra', 'troubles', 'financings', 'wife', 'asset-valuation', 'corp.', 'winners', 'jitters', 'george', 'public-relations', 'stoll', 'davies', 'visitors', 'loans', 'ambassador', 'samples', 'superdome', 'changes', 'downturn', 'bat', 'cabinet', 'beijing', 'carbon', 'hara', 'socialism', 'screens', 'initiative', 'discrepancies', 'signals', 'springfield', 'something', 'touch', 'palestine', 'wires', 'patents', 'romanee-conti', 'revolution', 'taxes', 'mrs.', 'grandstander', 'reames', 'charlotte', 'greenmailer', 'bethlehem', 'cereal', 'takings', 'macmillan\\\\/mcgraw-hill', 'fairness', 'ortega', 'guerrillas', 'stadiums', 'species', 'blue-chips', 'imhoff', 'yields', 'weakening', 'gottlieb', 'office', 'sony', 'autos', 'sorts', 'natural', 'shudders', 'sugarman', 'crunch', 'platitudes', 'waif', 'theme', 'perignon', 'japanese', 'grandsire', 'avrett', 'cuvees', 'dynamics', 'supercomputers', 'lungs', 'mistake', 'cheese', 'mexican', 'betterment', 'fixtures', 'minute', 'rim', 'dunton', 'olsen', 'charts', 'pressure', 'dilemma', 'funding', 'marubeni', 'clearance', 'stuff', 'mainland', 'mines', 'law', 'sogo-shosha', 'merits', 'victory', '%', 'departments', 'placement', 'secret', 'services', 'prison', 'buffet', 'nederlanden', 'prebon', 'fan', 'ctb', 'schoolboys', 'legislation', 'times', 'evaluation', 'demand', 'charge', 'midvale', 'telecommunications', 'no.', 'wozniak', 'mortgage', 'woolworth', 'aerospace', 'denominator', 'financing', 'focus', 'stories', 'chunk', 'principals', 'wholesaler', 'lore', 'cigna', 'color', 'vote', 'sense', 'rigors', 'ind.', 'nagymaros', 'flag', 'semiconductor', 'tete-a-tete', 'plot', 'execs', 'pictures', 'veteran', 'richard', 'reinvestment', 'staff', 'sunday', 'absurdity', 'parts', 'commodore', 'fischer', 'program', 'default', 'pins', 'asians', 'supermarket', 'facilities', 'jay', 'view', 'harvest', 'pennies', 'tubes', 'charges', 'others', 'on', 'halt', 'cabernet', 'municipal', 'louisiana-pacific', 'chafic', 'vehicle', 'pilots', 'onus', 'index', 'productions', 'service', 'banker', 'townes', 'cougar', 'blank', 'dom', 'responses', 'kennedy', 'statute', 'alleghany', 'ghkm', 'belfry', 'character', 'request', 'bankruptcy', 'blackstone', 'ann', 'capital', 'recommendations', 'fed', 'dover', 'home', 'ordnance', 'raton', 'stable', 'l.', 'interactions', 'contracts', 'medicine', 'nev.', 'shares', 'ii', 'californian', 'worms', 'norwest', 'downgrading', 'lama', 'markkaa', 'sensation', 'crum', 'top', 'anderson', 'eeoc', 'installment', 'tom', 'shipments', 'images', 'r.d.', 'lucille', 'ballroom', 'cue', 'vision', 'press', 'incentives', 'proviso', 'speed', 'retin-a', 'security', 'academics', 'judges', 'school', 'woodcliff', 'lebanon', 'ferdinand', 'greenwich', 'guilders', 'indianapolis', 'creation', 'poison', 'nelson', 'diaper', 'firmness', 'beneficiary', 'wilton', 'r.i.', 'language', 'creativity', 'bricks', 'defazio', 'old', 'garage', 'african', 'acceptances', 'ridgefield', 'subscribers', 'tires', 'implementation', 'lefcourt', 'jurisdiction', 'thing', 'kind', 'insurance', 'nasdaq', 'guffey', 'fla.', 'studio', 'confederation', 'owner', 'biedermann', 'leo', 'assertions', 'cincinnati', 'sidelines', 'toilet', 'modernization', 'ballpark', 'co-owner', 'strip', 'accessories', 'robertson', 'brooks', 'views', 'folks', 'ronald', 'arbitrage', 'baum', 'millionaires', 'ames', 'philippines', 'declines', 'trial', 'center', 'discount', 'college-bowl', 'ushers', 'carney', 'oil', 'surgeon', 'understatement', 'manager', 'offices', 'shop', 'farmers', 'napa', 'stephen', 'bureaucracy', 'players', 'printers', 'deficiencies', 'waymar', 'overcapacity', 'aug.', 'retailing', 'denial', 'navy', 'mossman', 'surgery', 'pricings', 'pacific', 'professors', 'spokewoman', 'barfield', 'nobody', 'pipes', 'monticello', 'compromises', 'officers', 'c.j.b.', 'apparel', 'arizona', 'fujitsu', 'leaders', 'containers', 'income', 'districts', 'providence', 'rita', 'sponsors', 'manchester', 'erasures', 'health', 'curriculum', 'design', 'sanford', 'waertsilae', 'scripps', 'disarray', 'executives', 'factory', 'plant', 'languages', 'current', 'necklace', 'city', 'cardboard', 'zealand', 'dorrance', 'hoffman', 'bund', 'advertisements', 'permission', 'ec', 'coast', 'associate', 'struggle', 'fight', 'sweden', 'batting', 'bronces', 'incest', 'letter', 'energy', 'legal', 'task', 'reinstatement', 'undertone', 'arts', 'harrison', 'emigres', 'items', 'co.', 'advance', 'examinations', 'hostage', 'inventories', 'donuts', 'farm', 'harris', 'johnny', 'stress', 'sanctions', 'positions', 'bellows', 'moscow', 'necks', 'science', 'certificate', 'solaia', 'landonne', 'meeting', 'c-130', 'rankin', 'pool', 'sectors', 'notch', 'crown', 'barrels', 'cultivation', 'italy', 'toys', 'alzheimer', 'lyle', 'petersburg', 'environmentalists', 'genes', 'univest', 'manipulators', 'verge', 'plaintiffs', 'subcommittee', 'buyers', 'cancers', 'cabernets', 'crystal', 'ones', 'deere', 'sulfur-dioxide', 'ban', 'step', 'ideas', 'voices', 'clarence', 'ends', 'stephanie', 'editing', 'right', 'ballot', 'klauser', 'takeshi', 'speedway', 'values', 'birds', 'filings', 'retorts', 'houghton', 'utilities', 'dexterity', 'tormentors', 'airports', 'terrine', 'standpoint', 'field', 'decision', 'limits', 'logjam', 'jamaica', 'peal', 'signboards', 'winter', 'muramatsu', 'cluster', 'processes', 'headcount-control', 'prize', 'intensity', 'staff-reduction', 'action', 'cartoonist', 'ketchum', 'scholastic', 'settlement', 'population', 'veselich', 'freeway', 'identity-management', 'kirkpatrick', 'cleveland', 'len', 'juggernaut', 'wild', 'berman', 'renovation', 'image', 'ratepayers', 'moon', 'rout', 'fargo', 'greece', 'michael', 'cheetham', 'output', 'pardus', 'persky', 'sol', 'mikhail', 'shipyards', 'appropriations', 'cents', 'defeat', 'detroit', 'december', 'monster', 'corporations', 'tuscany', 'hadson', 'public', 'ywca', 'coniston', 'bloc', 'cat', 'state', 'domination', 'additions', 'candela', 'dallara', 'jacobs', 'sidewalk', 'dinkins', 'bell-ringer', 'change-ringing', 'neighborhood', 'schmidt', 'vice', 'goody', 'building-products', 'showing', 'maintenance', 'indication', 'ray', 'standing', 'ins', 'walker', 'new-car', 'limitation', 'inspection', 'dumpster', 'february', 'earthquake', 'automation', 'slack', 'napolitan', 'buck', 'thunderbird', 'knapp', 'backing', 'labor', 'tray', 'airways', 'irs', 'derek', 'allergan', 'twindam', 'witness', 's&l', 'passenger', 'appliances', 'impetus', 'shell', 'pasta', 'suffering', 'teddy', 'computer', 'indicators', 'opus', 'barclays', 'iran\\\\/contra', 'nagano', 'doubt', 'merchandise', 'inches', 'kansas', 'gasoline', 'hiroshima', 'house', 'torrington', 'publication', 'inadequacy', 'collector', 'pirates', 'audience', 'dick', 'princeton', 'doak', 'future', 'shambles', 'leming', 'departure', 'f-series', 'arsenide', 'haul', 'sharedata', 'wave', 'carl', 'nixon', 'wtvj', 'satrum', 'itoh', 'steinberg', 'chapter', 'caller', 'landfill', 'rankings', 'equivalent', 'tours', 'end', 'macmillan', 'electronics', 'montgomery', 'injury', 'property\\\\/casualty', 'busloads', 'arbitrager', 'element', 'schoolteacher', 'specialists', 'front-seat', 'crane', 'asset', 'wpp', 'keith', 'demise', 'weeklies', 'trucks', 'offender', 'firm', 'market-makers', 'cases', 'spouse', 'earnings', 'hart-scott-rodino', 'lion', 'shadows', 'claims', 'adjustments', 'sachs', 'sweatshirts', 'carillons', 'txo', 'pont', 'purchasing', 'church-goers', 'springs', 'reserve', 'clark', \"o'brien\", 'reality', 'broadcasting', 'trojan', 'relationship', 'michio', 'cracks', 'disorders', 'anglia', 'one', 'expectation', 'unraveling', 'fidelity', 'claim', 'opposition', 'gross', 'dissemination', 'manufacturers', 'scandal', 'amortization', 'jockeys', 'voa', 'tunes', 'bonus', 'failures', 'coliseum', 'c-90', 'compositions', 'hand', 'era', 'persons', 'knowns', 'post', 'integrity', 'groucho', 'fuentes', 'banque', 'gregory', 'goverment', 'matthew', 'lobsenz', 'telephone', 'player', 'rider', 'accomplishments', 'life', 'acres', 'sweaters', 'scientist', 'finmeccanica', 'warrant', 'briefings', 'gyrations', 'genetics', 'carbide', 'august', 'merger', 'feeding', 'peninsula', 'r.p.', 'concept', 'transportation', 'picket', 'mid-1990s', 'circulation', 'taxpayer', 'longwood', 'dislike', 'offerings', 'iii', 'marc', 'lsi', 'goldsmith', 'mark', 'progress', 'battle', 'print', 'period', 'status', 'disaffiliation', 'laura', 'guys', 'perfection', 'networking', 'playing', 'charter', 'factor', 'literature', 'heartland', 'contra', 'driskill', 'allocation', 'career', 'deryck', 'gm', 'intecknings', 'fast-food', 'text', 'billionaire', 'ticket', 'compound', 'kidnapper', 'linda', 'anku', 'the', 'gerald', 'christian', 'consumption', 'statue', 'dale', 'hospital', 'brothers', 'hormone', 'limit', 'cancer', 'auditors', 'marchese', 'samnick', 'custom', 'virginia', 'exchanges', 'steelmaker', 'henderson', 'day', 'altar', 'housewife', 'imbalances', 'j.p.', 'reputation', 'client', 'schedule', 'link', 'standard', 'glory', 'publicity', 'gringo', 'destination', 'culprit', 'flood', 'peng', 'deputy', 'chrysotile', 'kuvin', 'texts', 'kaminski', 'bar', 'turkey', 'businessman', 'judith', 'ariail', 'retail', 'mario', 'accidents', 'practices', 'vintage', 'peter', 'nobel', 'father-in-law', 'pyramids', 'stoppage', 'nofzinger', 'negus', 'exodus', 'flexibility', 'walls', 'desktop', 'estimation', 'bretz', 'citations', 'index-options', 'servicing', 'variety', 'nestor', 'plan', 'osaka', 'greenville', 'lot', 'disputada', 'edwards', 'newsroom', 'philosophy', 'table', 'tissues', 'visit', 'joys', 'svenska', 'restraints', 'yesterday', 'papers', 'errors', 'enforcement', 'jacksonville', 'atsushi', 'victims', 'attention', 'feelings', 'portfolios', 'cambridge', 'chicago', 'september', 'passion', 'jam', 'giants', 'takashima', 'thrifts', 'patient', 'f.w.', 'viewership', 'wilder', 'deal', 'exits', 'mcgraw-hill', 'quantity', 'bancorp', 'urban', 'navigation', 'completion', 'start-up', 'tokio', 'style', 'survival', 'abbot', 'platt', 'sir', 'innuendoes', 'tally', 'donoghue', 'intraday', 'weather', 'pillow', 'fred', 'chemplus', 'self', 'sigler', 'china', 'penalty', 'bonds', 'raise', 'television', 'hud', 'member', 'sasaki', 'cups', 'creature', 'vortex', 'queers', 'halts', 'chaplin', 'krenz', 'f.', 'toll', 'storage', 'thailand', 'today', 'deficit', 'tigers', 'roger', 'boesel', 'arabian', 'hoylake', 'pistols', 'church', 'corporate', 'bomb', 'loewi', 'marietta', 'writers', 'wood', 'addiction', 'irving', 'quantities', 'leinonen', 'moneymakers', 'turnover', 'nemeth', 'males', 'lancaster', 'anger', 'rear-seat', 'friendship', 'francis', 'unpopularity', 'boeing', 'danforth', 'idea', 'senate', 'god', 'friends', 'captive', 'pressures', 'composite', 'plight', 'chalk', 'initiatives', 'rewards', 'enrollment', 'wings', 'patch', 'missiles', 'black', 'laser', 'buckle', 'brands', 'germany', 'lafite-rothschild', 'male', 'arm', 'specifics', 'ringer', 'joel', 'robert', 'memo', 'gaja', 'san', 'station', 'enright', 'griffin', 'harpo', 'official', 'creditors', 'acquisition', 'spread', 'huppert', 'sept.', 'crews', 'chardonnay', 'daiwa', 'tiger', 'genie', 'kathleen', 'participant', 'goods', 'incident', 'creams', 'prepayment', 'tone', 'markdown', 'borrowing', 'shape', 'estate', 'orrick', 'fire', 'queen', 'curses', 'arighi', 'restructure', 'fiber', 'spot', 'wick', 'corton-charlemagne', 'arnold', 'n.h.', 'chamber', 'primerica', 'episodes', 'malizia', 'boosters', 'clouding', 'mo.', 'ky.', 'disadvantage', 'mistrials', 'venture', 'burt', 'william', 'loews', 'invention', 'schwab', 'burden', 'safety', 'two-sevenths', 'toronto', 'trials', 'onslaught', 'cushion', 'skepticism', 'assets', 'institute', 'kilobytes', 'careers', 'homosexual', 'remodeling', 'work', 'avon', 'dsm', 'a-d', 'county', 'craftsmen', 'landowners', 'moves', 'ancient', 'gmac', 'chinese', 'stairs', 'obligations', 'ministers', 'freedoms', 'fall', 'technologies', 'cheerleaders', 'victim', 'seattle', 'herald', 'bordeaux', 'counter', 'stanley', 'violations', 'constraints', 'plenty', 'retailer', 'bribe', 'mcguigan', 'sunlight', 'berlin', 'fang', 'reuter', 'motors', 'depressions', 'election', 'possibility', 'letters', 'mcalpine', 'drinks', 'graphics', 'announcement', 'general', 'slate', 'occupational', 'sable', 'place', 'squier', 'divisions', 'sino-u.s.', 'breaker', 'economic', 'fledgling', 'geneva', 'places', 'rhythm', 'disposal', 'strength', 'p.', 'goodman', 'warnings', 'mo', 'personnel', 'immense', 'spokesman', 'altair', 'persuasion', 'eggers', 'helm', 'traffic', 'transplant', 'catch', 'nervousness', 'nih', 'bowery', 'capitalism', 'blue', 'platinum', 'farren', 'minneapolis', 'spending', 'close', 'mistakes', 'fannie', 'world-wide', 'pub', 'referendum', 'pills', 'ual', 'threats', 'reserves', 'magnitude', 'subsidiary', 'volatility', 'motive', 'administrations', 'colo.', 'ftc', 'parlors', 'stature', 'fabian', 'bugs', 'plo', 'activities', 'exports', 'medical', 'magnets', 'cost', 'page-one', 'centers', 'bearing', 'row', 'satisfaction', 'disagreement', 'sociology', 'food', 'swings', 'point', 'w.n.', 'westport', 'piscataway', 'auctions', 'sea', 'messrs.', 'motives', 'fine', 'writing', 'past', 'memphis', 'newhouse', 'business', 'northy', 'tip', 'conn.', 'generators', 'commission', 'bells', 'employees', 'tree', 'cocoa', 'process', 'steelmakers', 'osborn', 'tapes', 'wives', 'fulham', 'micronite', 'hasbrouk', 'mont', 'portrayal', 'foot', 'perch', 'manufacturer', 'rape', 'ranger', 'intent', 'copperweld', 'supplies', 'president', 'carson', 'marchand', 'student', 'marrow', 'morrell', 'refund', 'mary', 'marvin', 'northampton', 'aptitude', 'school-district', 'dams', 'julia', 'matter', 'barbara', 'zuckerman', 'climate', 'argument', 'traditionalists', 'lender', 'professor', 'roofs', 'driscoll', 'ganes', 'biscayne', 'braidwood', 'sulaiman', 'truck', 'rope', 'barbados', 'itc', 'corps', 'mac', 'foam', 'youth', 'sauternes', 'intoxication', 'ps', 'bridge', 'lake', 'direction', 'information', 'girlfriend', 'franc', 'underwriters', 'snow', 'bramalea', 'winiarski', 'discussion', 'registration', 'congressmen', 'bailey', 'solicitor', 'panel', 'disruption', 'circuit-breaker', 'abuse', 'disaster', 'vicissitudes', 'superintendent', 'heart', 'youngsters', 'democrats', 'system', 'weatherly', 'diversification', 'ceo', 'objectives', 'priority', 'west', 'stigma', 'koizumi', 'benefits', 'doctors', 'taurus', 'contras', 'classifications', 'la', 'edison', 'lady', 'possessions', 'renewal', 'employment', 'restrictions', 'measurement', 'sweepstakes', 'semiconductors', 'recognition', 'brussels', 'spiegel', 'wafa', 'leningrad', 'booklets', 'death', 'fatalities', 'gillespie', 'a.', 'increase', 'corporation', 'stock', 'approaches', 'protection', 'hong', 'sets', 'orange', 'competitor', 'emile', 'policy', 'auto', 'sci', 'turmoil', 'lezovich', 'unavailability', 'child', 'uptick', 'debut', 'space', 'las', 'commodities', 'homebrew', 'hit', 'barney', 'ga.', 'champions', 'concession', 'petersen', 'industrial', 'regulation', 'aba', 'latour', 'futures', 'purepac', 'principal', 'fraud', 'wu', 'needs', 'measure', 'sewing-machine', 'sub-segments', 'honolulu', 'oversight', 'flim-flammery', 'avenues', 'ships', 'minimum-wage', 'worthiness', 'tutorials', 'citadel', 'brat', 'ogilvy', 'veto', 'race', 'barbaresco', 'resignation', 'creator', 'peals', 'irwin', 'ross', 'roll', 'applications', 'ala.', 'contacts', 'norman', 'intelogic', 'rule', 'ambitions', 'option', 'jon', 'tony', 'sigh', 'diloreto', 'match', 'questions', 'kearny', 'producer', 'self-esteem', 'vacancy', 'preparation', 'remarks', 'wellington', 'assertion', 'gillett', 'consultants', 'stocks', 'points', 'achievement-test', 'harper', 'gayle', 'spreads', 'property', 'billing', 'chronicle', 'merchants', 'jumps', 'financial', 'tandy', 'vichy', 'british', 'homework', 'derchin', 'd.', 'directors', 'orleans', 'turf', 'constitutional-law', 'ready', 'technology', 'campaign', 'ginsberg', 'proteins', 'egnuss', 'indexes', 'shapiro', 'pepperdine', 'centimeter', 'linden', 'penny', 'milestones', 'fax', 'one-upsmanship', 'nets', 'angelo', 'agents', 'dust-up', 'butler', 'suitors', 'sheffield', 'controversy', 'wrath', 'sketch', 'use', 'assembly-line', 'schroder', 'tows', 'osha', 'lobster', 'damage', 'boulder', 'threat', 'departures', 'cdc', 'counts', 'haut-brion', 'iras', 'chassis', 'benchmark', 'circulations', 'kondo', 'intervention', 'lipsticks', 'fulbright', 'adrs', 'answers', 'independence', 'n.j', 'pets', 'clinton', 'production', 'england', 'scale', 'gop', 'angola', 'solihull', 'sell-offs', 'resort', 'rabia', 'facade', 'gunship', 'sauvignon', 'subscription', 'tariff', 'crusade', 'aides', 'nbc', 'strike', 'cru', 'bribery', 'vose', 'hammerschmidt', 'pockets', 'mine', 'attacks', 'stockpiles', 'newsstands', 'certin', 'neutrons', 'trockenbeerenauslesen', 'bridges', 'bread', 'graham', 'ties', 'carnival', 'mogavero', 'no-confidence', 'mcleod', 'suspects', 'issuer', 'ethics', 'lane', 'rice', 'cbs', 'congressman', 'ft', 'lives', 'teams', 'heirs', 'logic', 'simeon', 'jeweler', 'don', 'seconds', 'upscale', 'puerto', 'ag', 'nations', 'stock-price', 'arrows', 'b', 'customer', 'traficant', 'strother', 'mid-october', 'zone', 'requirements', 'bowman', 'bushel', 'frequency', 'cap', 'consequence', 'following', 'b.', 'compassion', 'gates-warren', 'saturday', 'world', 'prof.', 'publisher', 'crib', 'cara', 'f.h.', 'francisco', 'martin', 'lung', 'rulers', 'ed', 'resentment', 'studies', 'eyes', 'outlook', 'congregation', 'nyse', 'modems', 'luce', 'sum', 'watson', 't-shirts', 'polytechnic', 'department', 'fifth-grade', 'buying', 'supreme', 'beneficiaries', 'aurora', 'carolina', 'defendant', 'smattering', 'clays', 'fee', 'droughts', 'disapproval', 'depositary', 'agriculture', 'counseling', 'mousseline', 'brokerage', 'patrick', 'label', 'town', 'may', 'purchasers', 'premier', 'narcotics', 'i.', 'tramp', 'melamed', 'railings', 'adults', 'berson', 'obsession', 'phillips', 'georgia', 'learning', 'communists', 'reporters', 'entrepreneur', 'stars', 'intention', 'students', 'computers', 'binge', 'effect', 'performers', 'coors', 'great', 'nation', 'stone', 'municipality', 'all', 'guide', 'screenwriters', 'marketing-communications', 'concentration', 'stockholm', 'campbell', 'par', 'faith', 'hollingsworth', 'chunks', 'incisions', 'appropriation', 'posters', 'session', 'internal', 'troops', 'researcher', 'mercury', 'face', 'impression', 'restructurings', 'sums', 'portion', 'cask', 'wayland', 'dobson', 'shipboard', 'signet', 'doors', 'sun', 'negotiator', 'kuala', 'foster', 'teacher', 'allegations', 'horsham', 'maxwell', 'claude', 'belts', 'side', 'life-insurance', 'ranks', 'n.m.', 'slides', 'romance', 'friedrichs', 'angels', 'private', 'junk', 'hair', 'perspective', 'cent', 'lieberman', 'purchase', 'midtown', 'trays', 'uncertainties', 'exxon', 'deaths', 'tomorrow', 'bricklayers', 'substance', 'monetary', 'lens', 'pricing', 'circuit', 'hearing', 'zicklin', 'raising', 'roukema', 'yquem', 'malaysia', 'warming', 'currently', 'mudslinging', 'methods', 'jury', 'leap', 'ac-130u', 'cloth', 'savers\\\\/investors', 'line', 'low-altitude', 'behemoth', 'derel', 'glaxo', 'morgan', 'peak', 'signs', 'rendering', 'sabhavasu', 'pinning', 'marketing', 'nesb', 'pan', 'candlestick', 'partner', 'laurence', 'behavior', 'flux', 'lure', 'cadet', 'contributions', 'guber', 'challenge', 'pramual', 'stevens', 'broken', 'compensation', 'three-quarters', 'panic', 'replies', 'deposits', 'danzig', 'hubbard', 'magicians', 'cargo', 'hint', 'area', 'goal', 'bolivia', 'usx', 'swing', 'recess', 'impediments', 'stuart', 'trading-company', 'lauderhill', 'guns', 'completeness', 'low', 'n.c', 'wfrr', 'deluge', 'can', 'junk-bond', 'brazil', 'truce', 'topics', 'rancor', 'redemption', 'knight', 'guarantee', 'neoprene', 'anne', 'widow', 'portions', 'beds', 'faculty', 'pianist-comedian', 'nancy', 'close-up', 'booklet', 'subtraction', 'favor', 'half-hour', 'ethel', 'trudeau', 'tags', 'microprocessor', 'boyfriends', 'symphony', 'rae', 'back', 'milk', 'ratners', 'missouri', 'provision', 'kodansha', 'rope-sight', 'meese', 'predecessor', 'thumbs', 'kindness', 'nomenklatura', 'refuge', 'fate', 'harmony', 'excess', 'brace', 'dallas', 'aircraft', 'implications', 'barrett', 'wealth', 'regret', 'germans', 'spectrum', 'grains', 'slowing', 'colony', 'stakes', 'orville', 'minera', 'spitler', 'patterns', 'silicon', 'attorney', 'stake', 'authority', 'researchers', 'brunello', 'comment', 'gencorp', 'mahoney', 'control', 'dividend', 'collection', 'alternative', 'albert', 'growers', 'broker', 'chatter', 'einhorn', 'weakness', 'participation', 'w.', 'crime', 'miguel', 'dahl', 'nebraska', 'miles', 'shortage', 'reasons', 'profession', 'wednesday', 'meinders', 'documents', 'strings', 'richmond', 's.i.', 'middle', 'nationwide', 'bernstein', 'travel', 'groton', 'states', 'oils', 'grower', 'pretoria', 'chance', 'camera', 'alert', 'story', 'functions', 'waters', 'pocket', 'beach', 'pet', 'gambling', 'lurie', 'misdemeanor', 'nationale', 'sound', 'pharaoh', 'federalist', 'frederick', 'referenda', 'stork', 'plains', 'desai', 'jews', 'families', 'cable', 'efficiencies', 'judgments', 'ankle', 'mehta', 'tobacco', 'mcdonald', 'securities', 'moons', 'soviets', 'bit', 'history', 'bates', 'efficiency', 'reagan', 'start', 'sdi', 'set', 'subcontractors', 'repayment', 'withdrawal', 'associates', 'handful', 'lurgi', 'sherwood', 'reports', 'traverse', 'sauce', 'harold', 'votes', 'takuma', 'signal', 'ministry', 'steven', 'calif', 'clothes', 'goodwill', 'drought', 'midland', 'libor', 'helsinki', 'museums', 'ire', 'mesnil', 'ropes', 'nrdc', 'package', 'miklos', 'last', 'novel', 'haney', 'charles', 'powwow', 'earle', 'fabricator', 'ill', 'debacle', '55-year-old', 'komatsu', 'bill', 'bombers', 'promotions', 'chong-sik', 'presentation', 'events', 'viewpoints', 'louis', 'florio', 'fellowship', 'wrists', 'framers', 'vetoes', 'tactics', 'opportunity', 'rumor', 'gain', 'gilts', 'vindication', 'removal', 'dinner', 's&p', 'amin', 'maturities', 'carlos', 'inquiries', 'ore.', 'chrysler', 'hans', 'diceon', 'icahn', 'banquet', 'graduate', 'marcus', 'advances', 'liners', 'knowledge', 'pa.', 'rockefeller', 'bowl', 'minnesota', 'purhasing', 'freshman', 'latter', 'sonny', 'life-style', 'grand', 'participants', 'percentage', 'alfred', 'stock-index', 'mass', 'consomme', 'debt', 'ownership', 'incentive', 'benchmarks', 'jenkins', 'elsevier', 'words', 'kobe', 'members', 'smokers', 'fighters', 'liberal', 'freedom', 'floyd', 'hermitage', 'guy', 'price', 'morita', 'stage', 'driver', 'investments', 'theory', 'combination', 'none', 'buildings', 'treble', 'riviera', 'arbitragers', 'downside', 'record', 'demonstrations', 'motor', 'stamford', 'year', 'stockbroker', 'mothers', 'welfare', 'balloon', 'co', 'recorder', 'card', 'saints', 'b-1b', 'entrance', 'discos', 'receivers', 'mininum-wage', 'preference', 'dydee', 'automobile', 'drink', 'lewis', 'crocidolite', 'commitment', 'figure', 'calder', 'portugal', 'designer', 'hill', 'stream', 'entrants', 'electorate', 'liberty', 'share', 'mcdermott', 'boone', 'pipe', 'blanc', 'museum', 'overruns', 'defendants', 'paperback', 'dan', 'double-c', 'lazzaroni', 'poore', 'dominance', 'shelter', 'zenith', 'mayland', 'understanding', 'lighthouse', 'campaigner', 'closeness', 'rubinfien', 'cray-3', 'remorse', 'drexel', 'weeks', 'smiles', 'trafficking', 'pierre', 'architecture', 'decades', 'resumption', 'm.d.', 'sen.', 'nuys', 'stereo', 'ceos', 'keehn', 'honduras', 'barron', 'uncertainty', 'cathedral', 'cut', 'daniel', 'lord', 'tulane', 'subcontractor', 'liquidity', 'corners', 'overcrowding', 'iran-contra', 'salaries', 'ncnb', 'classics', 'skill', 'cullowhee', 'pressman', 'fibers', 'watchers', 'refunding', 'launch', 'hollis', 'optimism', 'failure', 'pta', 'arms', 'taylor', 'contrary', 'hostility', 'finance', 'wound', 'interest', 'organizations', 'dialogue', 'sticker', 'dozen', 'meridian', 'fluctuation', 'tache', 'scientists', 'aloha', 'feniger', 'markdowns', 'frank', 'year-end', 'prostitute', 'video', 'fountain', 'photographs', 'supporters', 'cheating', 'affair', 'consumers', 'koito', 'shortages', 'modification', 'jihad', 'editors', 'hungary', 'sell', 'allies', 'advocates', 'surrey', 'individuals', 'polyester', 'freeport-mcmoran', 'kean', 'proceeds', 'vegas', 'vacations', 'consideration', 'central', 'washington', 'wages', 'lobbyists', 'attitude', 'ship', 'watchdogs', 'bulldozers', 'ruling', 'masters', 'csv', 'cycles', 'impatient', 'book', 'interpretation', 'address', 'piece', 'spite', 'load', 'lorain', 'parkinson', 'rock', 'designers', 'recession', 'virtue', 'off-track', 'bangkok', 'houston', 'warranties', 'debate', 'reservoirs', 'owners', 'pulls', 'garry', 'marion', 'georgia-pacific', 'taizo', 'scrutiny', 'clive', 'workers', 'reductions', \"creator's\", 'cadmium', 'commercials', 'hudnut', 'precedent', 'machinists', 'manfred', 'presidents', 'payoff', 'cedric', 'purchases', 'familiarization', 'superpremiums', 'bickering', 'industrials', 'seats', 'discounts', 'mining', 'comfort', 'readership', 'architect', 'generation', 'stephens', 'heritage', 'expression', 'waterloo', 'rapport', 'south', 'valuation', 'fantasy', 'graduates', 'fourth-quarter', 'survivor', 'subskills', 'cues', 'oblivion', 'amendment', 'shepperd', 'suppliers', 'evensong', 'toast', 'question', 'robbie', 'diethylstilbestrol', 'luxury', 'degrees', 'bang', 'h.n.', 'targets', 'signature', 'wa', 'serial', 'dutch', 'felten', 'model', 'bronx', 'advisory', 'danube', '8300s', 'mcfarlan', 'plus', 'directorship', 'tokyu', 'donor', 'director', 'provisions', 'angeles', 'betting', 'wilson', 'causes', 'heavy-truck', 'interpublic', 'change', 'refocusing', 'committees', 'g.', 'rise', 'deadline', 'reorganization', 'ltv', 'likeness', 'interrogation', 'peck', 'men', 'pains', 'circumstances', 'bout', 'oshkosh', 'bowes', 'eveready', 'alan', 'huntsville', 'amount', 'government', 'desire', 'allendale', 'levels', 'dennis', 'word', 'timex', 'waivers', 'funds', 'ward', 'ultimatum', 'mix', 'u.s.a.', 'tenn.', 'hardware', 'thread', 'similarity', 'nbi', 'slope', 'segment', 'credit-rating', 'ian', 'april', 'spokeswoman', 'watanabe', 'dingell', 'schweiz', 'cousins', 'computer-services', 'groups', 'research', 'g.m.b', 'miti', 'caribbean', 'sale', 'surplus', 'conversion', 'dugdale', \"o'connor\", 'petrus', 'playwright', 'amendments', 'baltimore', 'greed', 'tourism', 'rampage', 'activity', 'banks', 'look', 'orlando', 'barge', 'malnutrition', 'stirrings', 'fuel', 'livestock', 'nigel', 'samuel', 'municipalities', 'clippings', 'andy', 'md.', 'ability', 'inventor', 'illegality', 'preparatives', 'cheerleading', 'thieves', 'duluth', 'quality', 'systems', 'laws', 'n.y', 'lookee-loos', 'huxtable', 'operator', 'opening', 'trend', 'battles', 'sidak', 'speeches', 'boy', 'accord', 'content', 'shangkun', 'rms', 'bennett', 'clerks', 'hopkins', 'jan.', 'versions', 'decade', 'livelihood', 'eaton', 'strains', 'seniors', 'tenure', 'records', 'kingsbridge', 'caretaker', 'handelsbanken', 'red', 'relation', 'advantages', 'putty', 'social', 'miss.', 'usa', 'fracture', 'hurley', 'councils', 'canepa', 'jackson', 'boom', 'vicars', 'disregard', 'jeremy', 'midyear', 'means', 'islamabad', 'expenses', 'executive', 'warren', 'requirement', 'protein-1', 'brand', 'pollution', 'displays', 'marder', 'merrill', 'beatles', 'john', 'mae', 'confidence', 'games', 'churches', 'parents', 'collecting', 'oilman', 'maker', 'tiny', 'arafat', 'billings', 'boogieman', 'hero', 'pate', 'explorer', 'traded', 'e.w.', 'users', 'stark', 'reuters', 'mood', 'game', 'environmental', 'courts', 'brady', 'switch', 'sonnett', 'iowa', 'lotions', 'categories', 'barth', 'solutions', 'raleigh', 'tad', 'rey\\\\/fawcett', 'ralston', 'scammers', 'monday', 'improvements', 'newgate', 'leash', 'projector', 'clothing', 'yorker', 'basket', 'put', 'funny', 'virginians', 'ymca', 'situation', 'olson', 'lilly', 'title', 'boston', 'miami', 'producers', 'deane', 'card-member', 'terms', 'wis.', 'russo', 'garrison', 'shokubai', 'fights', 'mount', 'fragmentation', 'marriages', 'position', 'knopf', 'balance', 'hatch', 'round', 'widget', 'tribe', 'liquid', 'tons', 'protesters', 'schlemmer', 'guests', 'suppression', 'rentals', 'ious', 'jaguar', 'diagram', 'appliance', 'long', 'tax', 'barometer', 'reupke', 'ounce', 'sheepskin', 'agenda', 'columbia', 'dec.', 'acne', 'exclusion', 'coffee', 'cigarettes', 'rivals', 'mindy', 'corestates', 'shoulder', 'limited', 'journals', 'column', 'hamilton', 'mercer', 'unicorp', 'duo', 'spring', 'interleukin-3', 'byron', 'evening', 'deadwood', 'newsweek', 'duckling', 'towns', 'water', 'si', 'affiliate', 'stability', 'colleagues', 'audit', 'horoscopes', 'boost', 'tatsunori', 'costs', 'good', 'elections', 'library', 'disputado', 'preferences', 'hymowitz', 'spin-off', 'type', 'sebastian', 'representatives', 'routine', 'middlesex', 'code', 'links', 'pratt', 'rusty', 'takeover', 'involvement', 'a.c.', 'unico', 'wickliffe', 'transition', 'instruction', 'thrift', 'notion', 'scypher', 'occurrences', 'circuit-board', 'holiday', 'parliament', 'jovanovich', 'bloods', 'liberals', 'at&t', 'moore', 'dill', 'huntington', 'spilling', 'thirtysomething', 'glauber', 'clara', 'jolts', 'chairman', 'forest-product', 'powder', 'tassinari', 'dorothy', 'agreements', 'declaration', 'namibia', 'mailing', 'irony', 'father', 'mission', 'triple-c', 'najarian', 'purposes', 'chip', 'den', 'offensive', 'optical', 'proportion', 'edward', 'strait', 'pioneer', 'rollover', 'alumni', 'sluggishness', 'bias', 'products', 'house-senate', 'week', 'eakle', 'engineers', 'trees', 'estimate', 'spaghetti', 'mode', 'open', 'disclosure', 'clouds', 'importer', 'shrum', 'beall', 'trap', 'job', 'champion', 'yamamoto', 'madison', 'bush', 'margins', 'toy', 'compliance', 'capacity', 'power', 'copies', 'equivalents', 'ancestry', 'colorliner', 'u.s.a', 'scholar', 'goode', 'wakui', 'firms', 'ringing', 'real-estate', 'act', 'implication', 'agnew', 'speech', 'polyproplene', 'friction', 'anti-programmers', 'policies', 'operations', 'sixth', 'solution', 'report', 'cartilage', 'agency', 'preston', 'minicrash', 'exchange', 'everything', 'schools', 'pentagon', 'siegal', 'acid-rain', 'october', 'jack', 'word-processing', 'fringe', 'yorkers', 'farms', 'institutions', 'target', 'rieslings', 'desires', 'procedure', 'realization', 'escape', 'growths', 'suspension', 'a', 'tradition', 'massachusetts', 'odyssey', 'microcomputers', 'viewers', 'longevity', 'issues', 'supply', 'art', 'worksheets', 'tailors', 'good-faith', 'mccabe', 'catch-22', 'johnson-era', 'freud', 'prizes', 'comeback', 'homes', 'santa', 'czechoslovakia', 'agreed', 'undersecretary', 'slogan', 'firings', 'quarters', 'gut', 'discretion', 'rbc', 'upjohn', 'hawke', 'bids', 'specialty', 'inquiry', 'unitholders', 'folio', 'mcfall', 'constitution', 'insurer', 'passages', 'bank', 'guild', 'product', 'hedging', 'transactions', 'candidates', 'clause', 'contractors', 'location', 'asbestos', 'emotions', 'laurels', 'will', 'affiliates', 'stronach', 'project', 'hutton', 'inland', 'sigmund', 'pain', 'statistics', 'brokers', 'lunch', 'neighborhoods', 'dolls', 'duties', 'arthur', 'n.v.', 'lawmakers', 'tablets', 'friend', 'railcars', 'retardation', 'bonnell', 'louisiana', 'hahn', 'age', 'judie', 'humans', 'management', 'scholars', 'while', 'plea', 'rash', 'flap', 'outrage', 'hammersmith', 'insight', 'bhutto', 'auditor', 'shovels', 'play', 'author', 'sec', 'achievement', 'grant', 'europe', 'blow', 'collapse', 'inner-city', 'bell', 'list', 'ellis', 'merchandising', 'crookery', 'inouye', 'express-buick', 'wash.', 'backer', 'garbage', 'pension', 'potables', 'pace', 'saul', 'superiors', 'wilcox', 'wilfred', 'form', 'shuxian', 'mortimer', 'thugs', 'variation', 'capital-gains', 'seminar', 'prints', 'e.', 'prayer', 'mother', 'du', 'celebrity', 'connection', 'crane-safety', 'andrea', 'entity', 'fulton', 'underwood', 'patients', 'p.m.', 'matthews', 'pages', 'areas', 'opinions', 'settlements', 'langner', 'siti', 'stands', 'expansion', 'employee', 'acetate', 'two-thirds', 'hayne', 'muster', 'subskill', 'plans', 'finland', 'peters', 'star', 'retort', 'senior', 'lawsuit', 'portfolio', 'freudtoy', 'universities', 'phi', 'ginnie', 'ovation', 'phillip', 'cost-sharing', 'ordeal', 'bunny', 'beers', 'michaels', 'observers', 'alliance', 'editorial', 'crook', 'marina', 'rights', 'gary', 'corp', \"o'loughlin\", 'crash', 'grade', 'restructuring', 'n.v', 'jerry', 'devices', 'rebound', 'turnaround', 'dormitory', 'l.p.', 'composer', 'chain', 'violence', 'vineyard', 'war', 'phacoflex', 'justice', 'runkel', 'trotter', 'cruise', 'ariz.', 'scores', 'range', 'dealings', 'sherwin', 'partnership', 'k.', 'guarantees', 'hostile', 'coupon', 'foreign', 'passage', 'warsaw', 'incentive-bonus', 'carla', 'slowdown', 'experts', 'brigham', 'rate', 'thanks', 'coche-dury', 'jaffray', 'nominees', 'principle', 'leigh', 'random', 'banking', 'pounds', 'randolph', 'operating', 'colleges', 'playgrounds', 'hysteria', 'fairlawn', 'stewart', '1990s', 'old-house', 'illness', 'hawaii', 'ritual', 'reservations', 'small-company', 'newsstand', 'choice', 'lenders', 'prize-fighter', 'presence', 'underwriter', 'railcar', 'excision', 'coverage', 'sutcliffe', 'novello', 'lumpur', 'carriers', 'comments', 'larry', 'audiocassettes', 'search', 'austin', 'fanfare', 'july', 'frankfurt', 'attempt', 'pickens', 'sydney', 'intrusions', 'gaf', 'economy', 'fasteners', 'format', 'hampshire', 'fleet', 'mike', 'decline', 'hammerton', 'multiples', 'speculator', 'deals', 'minimum', 'programmer', 'confidant', 'consequences', 'marathon', 'rifles', 'giveaways', 'bombs', 'slowdowns', 'heidelberg', 'kenneth', 'calculator', 'differences', 'brakes', 'avenue', 'soup', 'uses', 'breakfast', 'nicole', 'islands', 'arrival', 'chivas', 'decorator', 'pamplin', 'phrase', 'risks', 'source', 'coordinator', 'insiders', 'mayor', 'closing', 'sprint', 'wright', 'recovery', 'behest', 'trs-80', 'association', 'intel', 'panama', 'bradley', 'move', 'tag', 'democracy', 'voters', 'diplomats', 'cote', 'xiaoping', 'pattenden', 'jennison', 'champagnes', 'murray', 'minn.', 'wisdom', 'different', 'days', 'lifting', 'loops', 'federation', 'movements', 'topix', 'eagleton', 'regal', 'backlog', 'kidnapping', 'btr', 'inc', 'waiver', 'bottle', 'quant', 'advice', 'peculiarities', 'appetite', 'asbestosis', 'integra-a', 'sparkplugs', 'summons', 'article', 'glenn', 'psychiatry', 'thousands', 'judiciary', 'briefs', 'rowe', 'gorbachev', 'wilbur', 'years', 'voice', 'boys', 'emphasis', 'ringers', 'cycle', 'vaccines', 'cataracts', 'newspapers', 'lieutenant', 'trustco', 'prices', 'syracuse', 'speculation', 'dismay', 'wayne', 'ambassadors', 'buyer', 'louisville', 'formula', 'kurland', 'merchant', 'albuquerque', 'radioactivity', 'engineer', 'programs', 'businessmen', 'gotta', 'standards', 'moratorium', 'protections', 'household', 'white', 'january', 'graphs', 'teikoku', 'drops', 'insolvency', 'stanford', 'consent', 'food-industry', 'nichol', 'council', 'hoopla', 'conduct', 'eye', 'counterparts', 'complaints', 'club', 'rill', 'beta', 'physicist', 'chile', 'floor', 'blunt', 'skills', 'indications', 'demonstrators', 'interbank', 'surprise', 'works', 'novelist', 'drawing', 'vega', 'literacy', 'quarter', 'reforms', 'ad', 'command', 'lawsuits', 'gates', 'watches', 'knife', 'aid', 'pepperidge', 'laboratories', 'excesses', 'palace', 'beirut', 'tenth', 'trettien', 'deposit', 'budget', 'tribune', 'hobbyists', 'york', 'corrigan', 'premiere', 'visa', 'gorman', 'hitter', 'nesconset', 'judgment', 'stand', 'latin', 'boutique', 'contract', 'everyone', 'microwave', 'ms.', 'northeast', 'reason', 'best-seller', 'legg', 'natural-gas', 'ferro', 'sales', 'in', 'windfall', 'auction', 'autions', 'homelessness', 'automobiles', 'corn', 'posts', 'younkers', 'skittishness', 'o.', 'centennial', 'rothschild', 'ensrud', 'actions', 'prescription', 'counterweight', 'port', 'court', 'plastic', 'financial-services', 'solicitation', 'u.s.s.r.', 'brownstein', 'treasury', 'jail', 'group', 'innovation', 'manhattan', 'utility', 'unknown', 'politicians', 'common', 'payouts', 'sheep', 'campeau', 'solidarity', 'loan', 'brian', 'hurdles', 'walkout', 'currencies', 'multitude', 'ubs', 'part', 'extent', 'walters', 'pharaohs', 'success', 'baker', 'aftermath', 'subscriptions', 'moines', 'facility', 'deposits-a', 'simon', 'backers', 'sympathy', 'fiscal', 'precious', 'vintages', 'rubicam', 'reader', 'returns', 'co-developers', 'cause', 'protest', 'vacation', 'resolution', 'hotels', 'salarymen', 'revolt', 'contributors', 'review', 'squeeze', 'call', 'ounces', 'push', 'concern', 'kidder', 'conglomerate', 'india', 'weight', 'nature', 'elite', 'acceptance', 'telephone-information', 'ohio', 'wines', 'ratings', 'cotran', 'mathematics', 'marketers', 'censorship', 'pathlogy', 'taccetta', 'carballo', 'holt', 'contradictions', 'barnum', 'starters', 'civics', 'maytag', 'wine-making', 'women', 'offering', 'chase', 'sufficiency', 'equipment', 'a.d.', 'hoosier', 'duchossois', 'ways', 'egypt', 'investor', 'tiphook', 'yasser', 'neighbors', 'sandberg', 'garret', 'hills', 'charm', 'rev.', 'edition', 'grace', 'capsules', 'mobster', 'willingness', 'observations', 'improvement', 'kalamazoo', 'insurance-company', 'trade', 'schaefer', 'pakistan', 'partners', 'inception', 'amps', 'hands', 'cds', 'no-smoking', 'olympic', 'attwood', 'blackjack', 'cosmetic', 'tool', 'burnham', 'plunge', 'nickel', 'israel', 'pty.', 'soldiers', 'warehousing', 'medallions', 'dakota', 'nl', 'johns', 'drop', 'seoul', 'chauffeur', 'worker', 'kensington', 'leroy', 'arguments', 'array', 'douglas', 'hours', 'housing', 'texan', 'dna', 'la.', 'complaint', 'cell', 'abortionist', 'network', 'noodles', 'credentials', 'timing', 'beer-belly', 'netware', 'register', 'knell', 'terrorists', 'constitutional', 'landor', 'whelen', 'relocate', 'edwin', 'ricken', 'taxpayers', 'anti-abortionists', 'trans', 'diamond', 'chief', 'schoolchildren', 'lobo', 'connections', 'deregulation', 'ton', 'cellar', 'pattern', 'numeral', 'base', 'conviction', 'dinosaurs', 'equity', 'bench', 'female', 'river', 'girl', 'americans', 'holding', 'yang', 'cabs', 'billions', 'albany', 'body', 'phelan', 'france', 'properties', 'fraction', 'silicone', 'sat', 'aspect', 'turn', 'smoke', 'carnegie-mellon', 'w.d.', 'wheeland', 'analysts', 'enthusiasm', 'fit', 'subject', 'wholesale', 'bull', 'citizen', 'liabilities', 'equities', 'blanchard', 'heights', 'garanti', 'marbles', 'detail', 'austria', 'campaigning', 'giuliani', 'worry', 'index-fund', 'zinc', 'tokyo', 'providers', 'jim', 'stieglitz', 'backseat', 'reliance', 'wage', 'printing-press', 'floors', 'twist', 'debentures', 'herald-american', 'dessert', 'and', 'pretext', 'separation', 'auspices', 'evidence', 'reference', 'designation', 'sports', 'movement', 'bellwether', 'refusal', 'megabytes', 'programming', 'disk', 'bid', 'equal', 'reflection', 'accommodations', \"o'neill\", 'appeals', 'skin', 'norwegian', 'markup', 'el', 'joy', 'binders', 'phone', 'acre', 'fetal-tissue', 'route', 'electricity', 'doerflinger', 'somerset', 'vos', 'stalls', 'breakers', 'mirror', 'temperature', 'swap', 'monopolies', 'rapists', 'slab', 'asia', 'one-third', 'johnson', 'm.', 'planters', 'stena', 'overhead', 'ramirez', 'interests', 'darrell', 'valhi', 'books', 'renee', 'neal', 'shelf', 'ala', 'compilation', 'steelworkers', 'dominus', 'plantation', 'overproduction', 'aisles', 'skirmishes', 'walt', 'cornerstones', 'professionals', 'contests', 'attendance', 'composting', 'haden', 'branches', 'campaigns', 'european', 'leadership', 'transplants', 'russell', 'mind', 'civilization', 'transplantation', 'anticipation', 'mass.', 'bon', 'lotter', 'high', 'elisabeth', 'sugar', 'drugs', 'eric', 'deviation', 'environment', 'import', 'delmont', 'landis', 'piper', 'lindner', 'release', 'needham', 'goldman', 'jerritts', 'instance', 'photography', 'cs', 'commercial', 'silver', 'skokie', 'rouge', 'capitol', 'interventions', 'delwin', 'c.d.s', 'burdens', 'lobbyist', 'peaks', 'sternberg', 'britain', 'westminster', 'nekoosa', 'host', 'restaurants', 'chatsworth', 'transaction', 'planners', 'district', 'trader', 'tens', 'bew', 'scenes', 'gallon', 'dot', 'elco', 'occupant', 'mitchell', 'grgich', 'lovett', 'proponent', 'dozens', 'commerce', 'exporter', 'estates', 'assumption', 'total', 'moments', 'baseball', 'bentsen', 'rexinger', 'curry', 'paribas', 'execution', 'malcolm', 'committee', 'fancy', 'employer', 'layer', 'neil', 'relief', 'have', 'indifference', 'huber', 'oak', 'college', 'force', 'whip', 'airline', 'rep.', 'leon', 'bottlenecks', 'tallies', 'name', 'loss', 'burgundies', 'region', 'rent-a-car', 'emissions', 'mayer', 'rockford', 'light', 'morbidity', 'outlays', 'americana', 'canada', 'savin', 'answer', 'arbs', 'transamerica', 'harassment', 'briefing', 'army', 'sterling', 'tidbits', 'des', 'strategies', 'patent', 'ddb', 'drain', 'inns', 'federal', 'chinese-american', 'prefecture', 'shift', 'petition', 'pickups', 'airplane', 'milwaukee', 'stockholders', 'legislature', 'ads', 'minivans', 'merrick', 'debts', 'datapoint', 'psychiatrist', 'richebourg', 'alcohol', 'presidency', 'dr.', 'east', 'giant', 'kendrick', 'governor', 'sweater', 'arrangement', 'hale', 'pieces', 'hook', 'cosby', 'advantage', 'kent', 'clairton', 'trinity', 'r.', 'argentina', 'counterattack', 'coxon', 'credit', 'rockwell', 'regulations', 'greer', 'aide', 'motion', 'qualities', 'dealers', 'sounds', 'information-services', 'adams', 'thai', 'brooklyn', 'lawless', 'communication', 'asian', 'conditions', '500-stock', 'transfers', 'brunei', 'goblins', 'tube', 'brent', 'courage', 'maze', 'affairs', 'grandfather', 'market', 'gifts', 'australian', 'blender', 'slump', 'might', 'furor', 'nominee', 'zurich', 'i', 'rating', 'rumors', 'selling', 'hartford', 'mergers', 'resources', 'observance', 'mississippi', 'competitions', 'majority', 'stores', 'big', 'mazda', 'cane', 'mercedes', 'imsai', 'lines', 'riders', 'educational', 'truth', 'donaldson', 'trading', 'convention', 'choosing', 'results', 'jugglers', 'notes', 'kane', 'cards', 'supplier', 'charities', 'drug', 'landrieu', 'trailer', 'maine', 'hummerstone', 'doctor', 'yen', 'martyr', 'orchestra', 'models', 'feet', 'return', 'dunn', 'prerogative', 'videocassette', 'escrow', 'dolan', 'drew', 'senses', 'expert', 'film', 'cray', 'investigations', 'w.r.', 'indonesia', 'setback', 'pretty', 'ark', 'parent', 'fret', 'order', 'treatment', 'mercantile', 'fahrenheit', 'davenport', 'montedison', 'quotations', 'disclosures', 'symptoms', 'walbrecher', 'ingenuity', 'investor-relations', 'atmosphere', 'ft-se', 'cult', 'vansant', 'lorillard', 'partisans', 'worth', 'human', 'intrusion', 'wonder', 'crops', 'free', 'klein', 'adam', 'young', 'derivatives', 'counterpart', 'value', 'hanifen', 'ctbs', 'six-packs', 'milne', 'stalemate', 'slippage', 'gingl', 'payment', 'jeopardy', 'obstacles', 'consultant', 'asher', 'front', 'streets', 'lynch', 'toledo', 'citibank', 'openings', 'boorse', 'try', 'november', 'markey', 'aftereffects', 'evans', 'esso', 'document', 'borough', 'lloyd', 'feature', 'count', 'roosevelt', 'arabia', 'foods', 'bodner', 'coca-cola', 'luck', 'danville', 'ltd', 'assistant', 'cellars', 'artist', 'electric', 'berger', 'copycats', 'sumitomo', 'ethanol', 'eurobonds', 'fines', 'aerojet', 'bars', 'road', 'non-u.s.', 'packaging', 'wizards', 'powerhouse', 'licenses', 'ana', 'friday', 'grapes', 'investigation', 'democrat', 'gordon', 'dispute', 'technique', 'scandals', 'trends', 'bags', 'stadium', 'polystyrene', 'muscolina', 'clubs', 'saudi', 'proprietor', 'lizhi', 'carlton', 'isabelle', 'chuck', 'dow', 'environments', 'mainframe', 'examination', 'negotiations', 'joni', 'michigan', 'test', 're-election', 'lee', 'sticker-shock', 'viacom', 'harm', 'indicator', 'store', 'vanderbilt', 'makers', 'crises', 'one-fifth', 'fashion', 'yale', 'murakami', 'crowd', 'pop', 'blocks', 'dividends', 'minus', 'bottom', 'clerics', 'appreciation', 'joe', 'subjects', 'reach', 'haven', 'boca', 'workbooks', 'decrease', 'alvin', 'dismissal', 'breed', 'crisis', 'premium', 'salvador', 'grader', 'money-fund', 'shipyard', 'merc', 'sr.', 'smelting', 'goodies', 'bargains', 'painting', 'northern', 'collateral', 'woodward', 'weddings', 'tender', 'h.', 'blood', 'catch-up', 'outcry', 'proposition', 'murder', 'successor', 'walkman', 'baim', 'ednie', 'superconductor', 'opponents', 'legend', 'fundamentalists', 'macmillan\\\\/mcgraw', 'merit', 'perception', 'tarwhine', 'korea', 'macdonald', 'magazines', 'union', 'box', 'intertitles', 'evolution', 'eastern', 'board', 'picture', 'aim', 'congress', 'liquid-nitrogen', 'rest', 'province', 'brownell', 'device', 'negatives', 'cerf', 'contrast', 'kalipharma', 'crystal-lattice', 'mania', 'fbi', 'types', 'insurgents', 'delay', 'relevance', 'processors', 'spaces', 'miscarriages', 'norfolk', 'republicans', 'fairless', 'decisions', 'reluctance', 'pall', 'investment', 'pamela', 'date', 'addition', 'ballots', 'door', 'david', 'furillo', 'decliners', 'losses', 'wtd', 'dd', 'organization', 'anthony', 'recommendation', 'patricia', 'spirit', 'apartment', 'quotas', 'lead', 'therapy', 'spielvogel', 'generalizations', 'loser', 'matches', 'hole', 'magna', 'rapprochement', 'hopes', 'mattress', 'fortune', 'labouisse', 'hudson', 'mifflin', 'watch', 'strategy', 'rebellion', 'impact', 'metal', 'magleby', 'music', 'children', 'shirts', 'fears', 'attack', 'christmas', 'protocols', 'al', 'palestinian', 'maturity', 'correll', 'staffs', 'mesothelioma', 'odds', 'dunkin', 'businesses', 'lights', 'signore', 'exhibition', 'lover', 'creek', 'scenario', 'monchecourt', 'breeden', 'colorado', 'taxation', 'buy-back', 'theaters', 'yielding', 'lobbies', 'thursday', 'beverly', 'e.c.', 'half', 'leather', 'cutbacks', 'financier', 'earlham', 'peddling', 'lesions', 'consumer', 'photograph', 'repair', 'adolph', 'forster', 'dreyfus', 'anybody', 'baton', 'proposals', 'james', 'crackdown', 'lakes', 'nutrition', 'master', 'entertainment', 'figures', 'insanity', 'citation', 'marty', 'marks', 'companion', 'rebels', 'sign', 'monopoly', 'difference', 'perceptions', 'poverty', 'spanish', 'backgrounds', 'pride', 'supercomputer', 'alurralde', 'referral', 'alcoholics', 'traitor', 'upturn', 'embassy', 'riyadh', 'units', 'soybeans', 'variables', 'score', 'temple', 'durable-goods', 'employers', 'circle', 'car-development', 'olympia', 'bakery', 'bidding', 'landing', 'bankers', 'kawasaki', 'therapies', 'frances', 'lawyer', 'races', 'scotia', 'balloting', 'corruption', 'syndication', 'r', 'envoy', 'smith', 'procurement', 'miller', 'graders', 'octogenarians', 'features', 'spirits', 'hotel', 'kids', 'lt.', 'westborough', 'appeal', 'manufacturing', 'complexes', 'apology', 'reddington', 'stockbrokers', 'coleman', 'infusion', 'size', 'truth-in-lending', 'prudential-bache', 'casino', 'sector', 'dominion', 'marie', 'branch', 'filter', 'kits', 'outlets', 'wedtech', 'synergistics', 'efforts', 'succession', 'promise', 'dana-farber', 'gains', 'bronze', 'awareness', 'mr.', 'cuts', 'single-family', 'dompierre', 'productivity', 'alternatives', 'fits', 'backyard', 'magazine', 'extension', 'jefferson', 'intermediate', 'sentiment', 'scams', 'telephones', 'workforce', 'role', 'diming', 'exemption', 'projects', 'mason', 'deterioration', 'cataract', 'elders', 'volunteer', 'century', 'penalties', 'passenger-car', 'license', 'judah', 'boomers', 'authorities', 'divergence', 'unit', 'pitcher', 'troubled', 'mechanisms', 'sky', 'del', 'marge', 'millions', 'candidate', 'offers', 'basis', 'survey', 'metropolitan', 'wadsworth', 'fair', 'puccio', 'offer', 'lap', 'plc', 'prosecutor', 'fuels', 'opinion', 'sentence', 'z.', 'u.k.', 'pound', 'series', 'weil', 'newspaper-printing', 'economists', 'jacob', 'dollar', 'dairy', 'justices', 'barrel', 'inter-tel', 'calif.', 'bellringers', 'sake', 'joanne', 'miners', 'pharmaceuticals', 'daniels', 'seller', 'university', 'hanover', 'texture', 'mich.', 'harbinger', 'mega-stadium', 'islamic', 'western', 'herrington', 'issue', 'sheet', 'legislators', 'caution', 'chinchon', 'savings', 'officials', 'continental', 'fear', 'b.a.t', 'widgets', 'editions', 'waste', 'porter', 'politics', 'accordance', 'index-arbitrage', 'detective-story', 'cathryn', 'calculations', 'mortgage-backed', 'sandifer', 'gaithersburg', 'boosts', 'outsiders', 'chefs', 'hegemony', 'managers', 'examiner', 'profits', 'makato', 'responsibilities', 'advanced', 'thrall', 'mutchin', 'inventiveness', 'expectations', 'killings', 'woman', 'milestone', 'pencil', 'combinations', 'borrowers', 'microprocessors', 'machines', 'soul', 'son', 'balls', 'pennview', 'marie-louise', 'reruns', 'chadha', 'instruments', 'lyrics', 'monitor', 'study', 'chiodo', 'secilia', 'scoop', 'passers-by', 'ilminster', 'salt', 'columbus', 'term', 'behalf', 'details', 'appointment', 'existence', 'duke', 'rail', 'prosecutors', 'hayes', 'elmhurst', 'bomber', 'markets', 'nose', 'nielsen', 'grain', 'industry', 'purpose', 'trains', 'american', 'program-trading', 'amsterdam', 'salon', 'ball', 'calls', 'conduit', 'concerns', 'quota', 'industries', 'chevrolet', 'gerhard', 'fees', 'sacks', 'surge', 'cement', 'writer', 'retailers', 'demands', 'releases', 'access', 'drawbacks', 'statement', 'context', 'netherlands', 'occidental', 'st.', 'alysia', 'metals', 'landfills', 'prevalance', 'mannix', 'backlogs', 'education', 'judicial', 'barrier', 'factories', 'gelatin', 'chemical', 'web', 'separately', 'stern', 'valrico', 'citizens', 'niches', 'vinken', 'microphone', 'sort', 'course', 'mcgovern', 'sensitivity', 'fernando', 'orders', 'nomination', 'mara', 'raul', 'meetings', 'enterprise', 'cluff', 'tire-kickers', 'suspensions', 'est', 'reform', 'passbook', 'crack', 'workplace', 'southern', 'plaza', 'issuers', 'national', 'hospitals', 'households', 'ballantine\\\\/del', 'cleanliness', 'honor', 'bureau', 'railroad', 'j.', 'everybody', 'hay', 'restriction', 'projections', 'n.j.', 'kidney', 'delaware', 'things', 'veal', 'distributor', 'burlap', 'citicorp', 'addresses', 'anything', 'first', 'prisoners', 'attempts', 'aslacton', 'poor', 'columns', 'lorenzo', 'bromwich', 'record-keeping', 'courter', 'payrolls', 'night', 'catholic', 'seafood', 'pa', 's.p.a.', 'scheme', 'faithful', 'stages', 'drives', 'raymond', 'spinoff', 'massacre', 'cutrer', 'wertheim', 'doctorate', 'atlanta', 'june', 'baby', 'aids', 'warner', 'facts', 'bulk', 'curse', 'x', 'techniques', 'trip', 'commodity', 'rosenblum', 'building', 'howard', 'acid', 'chabrol', 'yield', 'ibc', 'are', 'requests', 'root', 'afternoon', 'roadblock', 'gunmen', 'steps', 'condition', 'referrals', 'adjustment', 'north', 'nightmare', 'stirlen', 'plate', 'foundations', 'adviser', 'rap', 'thought', \"d'amico\", 'contractor', 'appropriators', 'instrument', 'injuries', 'antonio', 'receipt', 'gerard', 'g', 'sell-off', 'guber\\\\/peters', 'upham', 'institution', 'school-board', 'rings', 'pauline', 'borders', 'gray', 'file', 'meal', 'chateau', 'estimates', 'case', 'wohlstetter', 'collections', 'pap', 'kindergarten', 'traders', 'shores', 'severance', 'brunt', 'racket', 'prospect', 'examples', 'membership', 'kit', 'sanderoff', 'parishioners', 'doctrine', 'vicar', 'parking', 'soho', 'new', 'moody', 'shaw', 'birmingham', 'crop', 'regime', 'sweat', 'ventures', 'labels', 'lottery', 'l.a.', 'sites', 'yoshihashi', 'hackensack', 'ensembles', 'educators', 'purse', 'eurodollars', 'shareholder', 'tools', 'write-downs', 'application', 'discussions', 'community', 'chemicals', 'cease-fire', 'storm', 'barriers', 'forces', 'findings', 'backe', 'nomura', 'disappointment', 'antinori', 'betrayer', 'colonsville', 'cancellation', 'sellers', 'assault', 'interest-rate', 'debenture', 'material', 'gulf', 'instances', 'mill', 'guerrilla', 'recyclability', 'lawyers', 'wafers', 'fracturing', 'coleco', 'listeners', 'marshall', 'experience', 'tots', 'bag', 'hutchinson', 'strain', 'joseph', 'alexander', 'kingdom', 'buick', 'jalaalwalikraam', 'midwestern', 'cells', 'data', 'myron', 'prospects', 'battery', 'plants', 'delegates', 'bone', 'acquisitions', 'f', 's.p', 'identities', 'surrender', 'dust', 'maryland', 'reformers', 'actor', 'downfall', 'dresser', 'appellate', 'tire', 'track', 'compromise', 'beige', 'electric-utility', 'illinois', 'editor', 'spain', 'grange', 'whiting', 'southeast', 'crystals', 'rust', 'harcourt', 'vacancies', 'lowe', 'sponsor', 'fronts', 'felony', 'blessing', 'radio', 'credits', 'seed', 'pcs', 'institutes', 'moleculon', 'souper', 'competitors', 'seahorse', 'operators', 'family', 'holland', 'spoon', 'heads', 'increases', 'cartons', 'britta', 'assaults', 'sundays', 'performance', 'reading', 'police', 'beginning', 'shops', 'hundreds', 'fremantle', 'globe', 'classes', 'amphobiles', 'couples', 'n.y.', 'underwoods', 'jonas', 'talks', 'houses', 'relations', 'taste', 'symbol', 'chardonnays', 'band', 'intelligence', 'purina', 'percent', 'publications', 'kinds', 'zayed', 'deprivation', 'fund', 'sex', 'stearn', 'cotton', 'twin', 'arlington', 'help', 'surpluses', 'inheritor', 'cristal', 'scannell', 'cannell', 'soups', 'guard', 'acquirers', 'ntg', 'cattle', 'wrongdoing', 'exposure', 'roederer', 'cup-tote', 'rain', 'indictment', 'morning', 'royal', 'living', 'ltd.', 'vargas', 'outside', 'outlay', 'bin', 'prime', 'subsidiaries', 'need', 'criteria', 'street', 'mulford', 'contel', 'holder', 'genel', 'arraignments', 'sheets', 'limbo', 'advertising', 'launch-vehicle', 'hubbell', 'campus', 'ingersoll-rand', 'hazards', 'section', 'bmp', 'crashes', 'heating', 'paycheck', 'kicker', 'semesters', 'backdrop', 'showings', 'honors', 'brain', 'seagate', 'mexico', 'forecasts', 'telerate', 'carrier', 'scotland', 'starts', 'elimination', 'cow', 'heatherington', 'establishment', 'inferences', 'dodge', 'nippon', 'champagne', 'limited-partnership', 'ballplayers', 'wine', 'founder', 'chaos', 'error', 'jimmy', 't.', 'litany', 'structure', 'mariotta', 'psychology', 'neuberger', 'menem', 'husband', 'investors', 'response', 'trademark', 'utah', 'plane', 'furukawa', 'pulp', 'styles', 'hammacher', 'salary', 'ports', 'nec', 'radio-station', 'spiders', 'warning', 'boots', 'notice', 'agreement', 'adult', 'trouble', 'camilli', 'erbamont', 'high-technology', 'drums', 'customers', 'pie', 'autumn', 'seat', 'reasoning', 'situations', 'mignon', 'decay', 'scripts', 'accountants', 'theodore', 'beheading', 'whas', 'li', 'trigger', 'aktiebolaget', 'pediatrician', 'vow', 'escort', 'winner', 'materials', 'jr.', 'bushels', 'administrators', 'simmons', 'photos', 'bills', 'unemployment', 'slew', 'taittinger', 'apples', 'highway', 'minister', 'structural', 'peabody', 'excellence', 'velcro', 'stock-market', 'brunswick', 'combines', 'football', 'controls', 'premiums', 'wish', 'sickness', 'collins', 'months', 'importance', 'vehicles', 'diplomacy', 'island', 'australia', 'oliver', 'concessions', 'baking', 'talcott', 'eugene', 'chest', 'akio', 'mitsui', 'lab', 'evil', 'operation', 'equus', 'headrests', 'temptation', 'clients', 'torrent', 'neanderthals', 'silverman', 'defects', 'characteristics', 'local', 'holdings', 'sight', 'terrence', 'respect', 'japan', 'syndrome', 'filling', 'bradford', 'foldability', 'shipping', 'show', 'switzerland', 'conference', 'london', 'margin', 'companies', 'prejudice', 'goldinger', 'drivers', 'flow', 'bendectin', 'acceleration', 'edelman', 'sayers', 'disasters', 'window', 'blood-cell', 'breakey', 'passport', 'otero', 'brown', 'acts', 'angle', 'nissho-iwai', 'platforms', 'editorials', 'shareholders', 'credibility', 'influence', 'paramount', 'mcmillin', 'nylev', 'christie', 'deborah', 'collar', 'susan', 'reds', 'tower', 'exercise', 'biondi-santi', 'russel', 'profitability', 'violation', 'mead', 'victor', 'tea', 'inside', 'conn', 'core', 'rhetoric', 'pc', 'inc.', 'park', 'ill.', 'hot', 'container', 'constituent', 'agencies', 'developments', 'nilson', 'bidder', 'negotiators', 'glitches', 'practitioners', 'ratner', 'piracy', 'faulding', 'reduction', 'initiate', 'mellon', 'herbert', 'interview', 'conversations', 'architects', 'tuesday', 'borge', 'ailes', 'approach', 'carter', 'borrowings', 'talk', 'bonuses', 'newspaper', 'philadelphia', 'comtes', 'vendors', 'jet', 'york-based', 'meaning', 'ascendency', 'equitable', 'rhone', 'mechanism', 'options', 'degree', 'rey', 'screen', 'exhaust', 'labor-management', 'speculators', 'swearingen', 'articles', 'haruki', 'commissions', 'bulls', 'profit-taking', 'visits', 'cars', 'hurricane', 'utsumi', 'poland', 'sources', 'virgin', 'killeen', 'somebody', 'structures', 'expense', 'cooper', 'applicability', 'respite', 'maughan', 'offenders', 'rotie', 'reporting', 'superdot', 'formation', 'kligman', 'homeless', 'builders', 'destinations', 'empire', 'hits', 'privilege', 'buy-outs', 'number', 'wilmington', 'crew', 'item', 'connecticut', 'andersson', 'wheels', 'gamut', 'shipbuilding', 'otc', 'man', 'foundation', 'accounts', 'liability', 'morass', 'premises', 'callers', 'inkling', 'interviews', 'teachers', 'troop', 'investing', 'nasd', 'davis', 'preface', 'spiro', 'scherer', 'write-off', 'communist', 'engineering', 'brenda', 'shelby', 'unions', 'cia', 'wake', 'arrangements', 'papua-new', 'suit', 'abortion', 'jobs', 'car', 'filters', 'working', 'fuji', 'inventory', 'disposables', 'milan', 'bridgeville', 'engines', 'coke', 'texas', 'imports', 'talk-show', 'kelli', 'retaliation', 'revival', 'expenditures', 'pittsburgh', 'stevenson', 'moslem', 'bullets', 'novell', 'africa', 'shame', 'weekends', 'stones', 'english', 'waterworks', 'support', 'listing', 'time', 'nothing', 'feb.', 'season', 'pennsylvania', 'glenham', 'squad', 'discontent', 'fault', 'taiwan', 'bermuda', 'moment', 'delays', 'claire', 'philip', 'indexing', 'sewer', 'numbers', 'deng', 'kappa', 'mutual', 'norwick', 'category', 'interference', 'karl', 'construction', 'measures', 'amr', 'hormats', 'green', 'bust', 'irvine', 'barges', 'administration', 'trace', 'passions', 'daily', 'offense', 'judge', 'cole', 'nissan', 'readings', 'fields', 'motor-home', 'certificates', 'tour', 'economics', 'substitute', 'hub', 'j.l.', 'bunches', 'hallwood', 'publishers', 'broadcasts', 'vermont', 'bases', 'fact', 'domaine', 'peoria', 'message', 'buses', 'salinas', 'necessities', 'akerfeldt', 'peace', 'nelms', 'astonishment', 'copyrights', 'geography', 'flightiness', 'mcauley', 'philippine', 'proponents', '1980s', 'specialist', 'gardner', 'lids', 'journal', 'swaps', 'bass', 'reed', 'berliner', 'respondents', 'courtroom', 'trust', 'textile', 'proceedings', 'obligation', 'appointments', 'pep', 'worsening', 'singapore', 'crapshoot', 'lyn', 'frenzy', 'soldado', 'litigation', 'tooth', 'particulars', 'residence', 'potential', 'breakdown', 'tow', 'vagabond', 'weisfield', 'elisa', 'phobias', 'team', 'pay', 'contingent', 'criticism', 'equal-opportunity', 'pit', 'combo', 'remainder', 'times-stock', 'beverage', 'cos.', 'memory', 'jones', 'webb', 'blancs', 'chapman', 'inmates', 'shuttle', 'mccormick', 'promotion', 'accountability', 'soviet', 'vans', 'centerbank', 'result', 'sandoz', 'nameplate', 'distribution', 'effort', 'healing', 'land', 'meals', 'dam', 'segments', 'risk', 'creditor', 'aquino', 'clues', 'emergencies', 'parallels', 'prater', 'woodrow', 'heebie-jeebies', 'sullivan', 'n.c.', 'length', 'subindustry', 'sheaf', 'designated', 'forest-products', 'anxieties', 'bond', 'daughters', 'raspberry', 'glass', 'deck', 'ravenswood', 'forum', 'subminimum', 'highs', 'dollars', 'lufkin', 'benefit', 'co-author', 'worries', 'tyre', 'mehrens', 'wheat', 'sections', 'blacks', 'kangyo', 'pill', 'harry', 'news', 'bedding', 'approval', 'rises', 'subscriber', 'flows', 'joint', 'holders', 'german', 'giraud', 'journalists', 'keyboards', 'trump', 'slaying', 'paper', 'protests', 'beauty', 'voting', 'oct.', 'three', 'commitments', 'international', 'loyalty', 'protein', 'jr', '1\\\\/10th', 'pinocchio', 'phase-out', 'lehman', 'elizabeth', 'problem', 'publishing', 'second', 'comprehensive', 'heiwado', 'gelles', 'wells', 'superconductors', 'barnett', 'pack', 'millis', 'pence', 'maclellan', 'corkscrews', 'ingredients', 'mather', 'symmetry', 'gallium', 'managements', 'wong', 'generations', 'revenues', 'showa', 'refrigerator', 'paul', 'warehouse', 'roland', 'rico', 'michelin', 'reps', 'country', 'veraldi', 'forms', 'thunder', 'difficulty', 'leader', 'person', 'pat', 'iota', 'scowcroft', 'objective', 'march', 'witnesses', 'minority', 'brooke', 'analysis', 'dawn', 'syndicate', 'co-chairman', 'privacy', 'bumkins', 'baskets', 'names', 'c.', 'abortions', 'jonathan', 'cooperation', 'rival', 'correspondence', 'morrison', 'handling', 'refunds', 'someone', 'liquidation', 'internatonal', 'wellcome', 'growth', 'disease', 'essays', 'youths', 'donald', 'buildup', 'note', 'damages', 'rally', 'anyone', 'liberation', 'sierra', 'jeffrey', 'dances', 'newcomer', 'steel', 'train', 'software', 'longtime', 'cigarette', 'aspects', 'water-authority', 'guigal', 'sandinista', 'dailies', 'bundles', 'common-law', 'dolphin', 'oklahoma', 'couple', 'leeway', 'tests', 'bridgestone\\\\/firestone', 'fortunes', 'mitsubishi', 'nail', 'cabbage', 'penetration', 'rogers', 'allen', 'bargain', 'inefficiencies', 'exporters', 'mutual-fund', 'people', 'coal', 'media', 'exception', 'propaganda', 'enzor', 'u.s.', 'authors', 'insistence', 'diabetes', 'burgundy', 'checks', 'assembly', 'tv', 'free-enterprise', 'developer', 'hearings', 'gov.', 'republican', 'prof', 'sangyo', 'warehouses', 'shugart', 'shearson', 'hampton', 'village', 'exposures', 'kerensky', 'sleep', 'proposal', 'refinery', 'characters', 'marine', 'bob', 'antitrust', 'hallett', 'head', 'regions', 'cross', 'responsibility', 'chips', 'travelers', 'accountant', 'nickname', 'holidays', 'salomon', 'competition', 'cloud', 'warrants', 'practical', 'strindberg', 'flights', 'abbey', 'capability', 'fixes', 'cities', 'networks', 'memories', 'royalty', 'key', 'alstyne', 'hustlers', 'dell', 'path', 'sights', 'hostess', 'critics', 'vinyl', 'commonwealth', 'conferees', 'party', 'accident', 'delivery', 'licensing', 'darkhorse', 'del.', 'atlantic'}\n"
     ]
    }
   ],
   "source": [
    "# checking the text for which 'NOUN' tag is used\n",
    "\n",
    "print(set(\n",
    "    [tpl[0].lower() for pair in nltk_data for tpl in pair \n",
    "                                        if tpl[1] == 'NOUN']\n",
    "         ))"
   ]
  },
  {
   "cell_type": "code",
   "execution_count": 209,
   "metadata": {
    "scrolled": true
   },
   "outputs": [
    {
     "name": "stdout",
     "output_type": "stream",
     "text": [
      "{'*t*-251', '*t*-178', '*-42', '0', '*t*-153', '*t*-116', '*t*-249', '*-165', '*t*-240', '*-158', '*-13', '&', '*-96', '*t*-203', '*t*-202', '*-102', '*t*-252', '*t*-101', '*t*-56', '*t*-186', '*rnr*-1', '*t*-111', '*t*-100', '*-117', '*t*-237', '*t*-32', '*t*-192', '*t*-214', '*t*-63', '*-83', '*t*-15', '*t*-137', '*t*-11', '*t*-233', '*-133', '*t*-244', '*t*-72', '*t*-258', '*t*-48', '*t*-245', '*-74', '*t*-175', '*t*-196', '*t*-259', '*-136', '*-11', '*-70', '*-73', '*t*-221', '*t*-180', '*t*-218', '*t*-235', '*t*-50', '*-41', '*t*-129', '*t*-127', '*t*-20', '*t*-242', '*-103', '*t*-157', '*t*-119', '*-1', '*t*-99', '*-10', '*-46', '*t*-55', '*t*-206', '*t*-131', '*t*-189', '*-151', '*-9', '*-139', '*exp*-2', '*t*-90', '*t*-57', '*t*-148', '*-5', '1', '*t*-140', '*-116', '*t*-38', '*t*-205', '*', '*-14', '*t*-215', '*t*-92', '*exp*-3', '*-53', '*-38', '*t*-213', 'b', '*t*-255', '*-145', 'besuboru', '*t*-94', '*t*-168', '*t*-230', '*-161', '*t*-9', '*-86', '*t*-95', 'no', '*t*-191', '*-89', '*-76', '*t*-199', '*-56', '*t*-33', '*-50', '*-49', '*-132', '*t*-17', '*t*-34', '*t*-51', '*-119', '*t*-201', '*-40', '*-59', '*t*-93', '*-101', '*t*-29', '*-105', '*t*-60', '*-45', '*-137', '*ich*-3', '*t*-10', '*-157', '*t*-113', '*t*-52', '*-37', '*-125', '*t*-183', '*t*-132', '*t*-256', '*t*-41', 'perestroika', '*t*-118', '*t*-172', '*-146', '*t*-5', '*t*-62', '*-21', '*t*-25', '*t*-223', '*t*-35', '*-112', '*t*-241', '*-120', '*t*-88', '*-68', '*-152', '*-35', '*t*-163', '*t*-97', '*t*-145', '*t*-162', '*t*-65', '*t*-164', '*t*-134', '*t*-104', '*t*-37', '*-32', '*-104', '*-64', '*t*-149', '*t*-155', '*t*-195', '*t*-238', '*-156', '*t*-236', '*t*-115', '*t*-67', '*t*-78', '*t*-216', '*-43', '*t*-110', '*-17', '*-162', '*t*-87', '*t*-142', '*t*-126', '*t*-133', '*t*-165', '*-97', '*-118', '*t*-1', '*ich*-1', '*-114', '*t*-173', 'a', '*-138', '*t*-139', '*t*-200', '*t*-107', '*t*-83', '*ich*-4', '*t*-39', '*ppa*-1', '*-123', '*-81', '*t*-158', '*t*-2', '*t*-4', '*-127', '*-16', '*t*-182', '*t*-161', '*-63', '*t*-125', '*t*-179', '*t*-176', '*t*-124', '*t*-98', '*-24', '*t*-36', '*-48', '*t*-64', '*t*-229', '*t*-174', '*-2', '*-95', '*-52', '*-163', '*t*-80', '*-99', '*t*-150', '*t*-47', '*-25', '*-23', '*t*-243', '*t*-23', '*t*-75', '*-33', '*-61', '*-92', '*t*-71', '*-147', '*-108', '*t*-49', '*-98', 'oh', '*-22', '*t*-31', '*u*', '*-71', '*-30', '*t*-159', '*t*-204', '*t*-26', '*t*-54', '*t*-184', '*t*-109', '*-36', '*-155', '*t*-120', '*t*-40', '*-4', '*rnr*-4', '*-3', '*-142', '*t*-260', '*t*-151', '*-160', '*-110', '*-150', '*t*-128', '*t*-246', '*-66', '*t*-156', '*-93', '*t*-105', '*t*-102', '4', '*-109', '*t*-160', '*t*-66', '*t*-212', '*t*-227', '*-131', '*-75', '*t*-253', '*t*-18', '*t*-193', '*t*-226', '*t*-166', '*t*-257', '*t*-68', '*t*-86', '*t*-28', '*-154', '*t*-234', '*t*-211', '*t*-171', '*t*-185', '*-88', '*-84', '*-51', '*t*-69', '*t*-143', '*t*-130', '*t*-45', '3', '*-62', '*t*-73', '*t*-85', '*t*-114', '*-85', '*t*-112', '*-79', '*-29', '*-57', '*-6', '*t*-16', '*t*-12', '*t*-74', '*?*', '*t*-217', '*t*-138', '*-55', '*-12', '*-67', '*-90', '*t*-122', '*-34', '*t*-210', '*t*-24', '*-72', '*t*-207', '*-26', '*t*-14', '*t*-22', '*rnr*-2', '*-94', '*-130', '*t*-169', '*-159', '*t*-59', '*-18', '*-87', '*t*-70', '*t*-181', '*t*-21', '*t*-167', '*-69', '*t*-121', '*ich*-2', '5', '*-19', '*t*-170', '*t*-123', '*t*-61', '*-113', '*t*-225', '*-149', '*-111', '*t*-154', '*t*-232', '*-126', '*t*-231', '*t*-198', '*t*-228', '*-60', '*t*-89', '*t*-220', '*t*-248', '*t*-194', '*t*-6', '*-80', '*t*-84', '*t*-224', '*t*-117', '*t*-79', '*-121', '*t*-27', '*-47', '*t*-250', '*t*-103', '*t*-239', '*t*-91', '*-129', '*-82', '*-28', '*ppa*-2', '*t*-13', '*t*-247', '*t*-136', '*-39', '*t*-76', '*t*-188', '*t*-43', '*-115', '*-128', '*t*-82', '*t*-44', '*-124', '*-141', '*t*-96', '*-144', '*-44', '*-106', '*t*-108', 'ok', '*t*-77', '*-107', '*t*-147', '*t*-3', '*t*-197', 'de', '*-20', '*-122', '*-27', '*t*-53', '*-58', '*t*-208', '*t*-152', '*t*-146', '*t*-187', '*not*', '*-8', '*t*-254', '*-31', '*t*-19', '*-153', '*t*-106', '*-140', '*t*-30', '*-91', '*-100', '*-166', '*t*-42', '*t*-135', 'etc.', '*t*-177', '*t*-58', '*-54', '*t*-219', '*-15', '*t*-46', '2', '*exp*-1', '*t*-81', '*t*-7', '*-164', '*-7', '*-135', '*t*-8', '*t*-222', '*ppa*-3', '*-77', '*t*-190', '*t*-141', '*t*-144', '*-78', '*-134'}\n"
     ]
    }
   ],
   "source": [
    "# checking the text for which 'X' tag is used\n",
    "\n",
    "print(set(\n",
    "    [tpl[0].lower() for pair in nltk_data for tpl in pair \n",
    "                                        if tpl[1] == 'X']\n",
    "         ))\n",
    "\n",
    "# as per the documentation 'X' tag is used for foreign words.\n",
    "# https://www.nltk.org/_modules/nltk/tag/mapping.html"
   ]
  },
  {
   "cell_type": "markdown",
   "metadata": {},
   "source": [
    "#### Splitting the data into train and test sets"
   ]
  },
  {
   "cell_type": "code",
   "execution_count": 210,
   "metadata": {
    "scrolled": false
   },
   "outputs": [
    {
     "name": "stdout",
     "output_type": "stream",
     "text": [
      "3718\n",
      "196\n",
      "[[('Susan', 'NOUN'), ('Del', 'NOUN'), ('Signore', 'NOUN'), (',', '.'), ('head', 'NOUN'), ('trader', 'NOUN'), ('at', 'ADP'), ('Travelers', 'NOUN'), ('Investment', 'NOUN'), ('Management', 'NOUN'), ('Co.', 'NOUN'), (',', '.'), ('says', 'VERB'), ('0', 'X'), ('critics', 'NOUN'), ('are', 'VERB'), ('ignoring', 'VERB'), ('``', '.'), ('the', 'DET'), ('role', 'NOUN'), ('0', 'X'), ('the', 'DET'), ('-LCB-', '.'), ('takeover', 'NOUN'), ('stock', 'NOUN'), ('-RCB-', '.'), ('speculator', 'NOUN'), ('is', 'VERB'), ('taking', 'VERB'), ('*T*-1', 'X'), ('in', 'ADP'), ('the', 'DET'), ('market', 'NOUN'), ('as', 'ADP'), ('a', 'DET'), ('source', 'NOUN'), ('of', 'ADP'), ('volatility', 'NOUN'), ('.', '.'), (\"''\", '.')], [('By', 'ADP'), ('comparison', 'NOUN'), (',', '.'), ('for', 'ADP'), ('the', 'DET'), ('first', 'ADJ'), ('nine', 'NUM'), ('months', 'NOUN'), (',', '.'), ('Xerox', 'NOUN'), ('earned', 'VERB'), ('$', '.'), ('492', 'NUM'), ('million', 'NUM'), ('*U*', 'X'), (',', '.'), ('or', 'CONJ'), ('$', '.'), ('4.55', 'NUM'), ('*U*', 'X'), ('a', 'DET'), ('share', 'NOUN'), (',', '.'), ('on', 'ADP'), ('revenue', 'NOUN'), ('of', 'ADP'), ('$', '.'), ('12.97', 'NUM'), ('billion', 'NUM'), ('*U*', 'X'), ('.', '.')], [('The', 'DET'), ('resulting', 'VERB'), ('company', 'NOUN'), ('would', 'VERB'), ('be', 'VERB'), ('the', 'DET'), ('largest', 'ADJ'), ('forest-products', 'NOUN'), ('concern', 'NOUN'), ('in', 'ADP'), ('the', 'DET'), ('world', 'NOUN'), ('with', 'ADP'), ('combined', 'VERB'), ('sales', 'NOUN'), ('of', 'ADP'), ('more', 'ADJ'), ('than', 'ADP'), ('$', '.'), ('13', 'NUM'), ('billion', 'NUM'), ('*U*', 'X'), ('.', '.')], [('Mr.', 'NOUN'), ('Spiegel', 'NOUN'), (\"'s\", 'PRT'), ('next', 'ADJ'), ('career', 'NOUN'), ('move', 'NOUN'), ('is', 'VERB'), ('a', 'DET'), ('subject', 'NOUN'), ('of', 'ADP'), ('speculation', 'NOUN'), ('on', 'ADP'), ('Wall', 'NOUN'), ('Street', 'NOUN'), ('.', '.')], [('The', 'DET'), ('government', 'NOUN'), (\"'s\", 'PRT'), ('borrowing', 'NOUN'), ('authority', 'NOUN'), ('dropped', 'VERB'), ('at', 'ADP'), ('midnight', 'NOUN'), ('Tuesday', 'NOUN'), ('to', 'PRT'), ('$', '.'), ('2.80', 'NUM'), ('trillion', 'NUM'), ('*U*', 'X'), ('from', 'ADP'), ('$', '.'), ('2.87', 'NUM'), ('trillion', 'NUM'), ('*U*', 'X'), ('.', '.')]]\n"
     ]
    }
   ],
   "source": [
    "# as per the instructions, splitting the data into 95% train set and 5% test set\n",
    "random.seed(1234)\n",
    "train_set, test_set = train_test_split(nltk_data,test_size=0.05)\n",
    "\n",
    "print(len(train_set))\n",
    "print(len(test_set))\n",
    "print(train_set[:5])"
   ]
  },
  {
   "cell_type": "code",
   "execution_count": null,
   "metadata": {},
   "outputs": [],
   "source": []
  },
  {
   "cell_type": "markdown",
   "metadata": {},
   "source": [
    "### 2. Build the vanilla Viterbi based POS tagger"
   ]
  },
  {
   "cell_type": "code",
   "execution_count": 211,
   "metadata": {},
   "outputs": [],
   "source": [
    "# Getting list of tagged words\n",
    "train_tagged_words = [tup for sent in train_set for tup in sent]\n",
    "\n",
    "# number of tags\n",
    "T = set([pair[1] for pair in train_tagged_words])"
   ]
  },
  {
   "cell_type": "markdown",
   "metadata": {},
   "source": [
    "#### Emission probability"
   ]
  },
  {
   "cell_type": "code",
   "execution_count": 212,
   "metadata": {},
   "outputs": [],
   "source": [
    "# compute word given tag: Emission Probability\n",
    "\n",
    "def word_given_tag(word, tag, train_bag = train_tagged_words):\n",
    "    tag_list = [pair for pair in train_bag if pair[1].lower()==tag.lower()]\n",
    "    w_given_tag_list = [pair[0] for pair in tag_list if pair[0].lower()==word.lower()]\n",
    "    \n",
    "    return (len(w_given_tag_list), len(tag_list))"
   ]
  },
  {
   "cell_type": "markdown",
   "metadata": {},
   "source": [
    "#### Transition probability"
   ]
  },
  {
   "cell_type": "code",
   "execution_count": 213,
   "metadata": {},
   "outputs": [],
   "source": [
    "# compute tag given tag: tag2(t2) given tag1 (t1), i.e. Transition Probability\n",
    "\n",
    "def t2_given_t1(t2, t1, train_bag = train_tagged_words):\n",
    "    tags = [pair[1] for pair in train_bag]\n",
    "    count_t1 = len([t for t in tags if t==t1])\n",
    "    count_t2_t1 = 0\n",
    "    for index in range(len(tags)-1):\n",
    "        if tags[index]==t1 and tags[index+1] == t2:\n",
    "            count_t2_t1 += 1\n",
    "    return (count_t2_t1, count_t1)"
   ]
  },
  {
   "cell_type": "markdown",
   "metadata": {},
   "source": [
    "#### Viterbi Algorithm"
   ]
  },
  {
   "cell_type": "code",
   "execution_count": 214,
   "metadata": {},
   "outputs": [],
   "source": [
    "# creating t x t transition matrix of tags\n",
    "# each column is t2, each row is t1\n",
    "# thus M(i, j) represents P(tj given ti)\n",
    "\n",
    "tags_matrix = np.zeros((len(T), len(T)), dtype='float32')\n",
    "for i, t1 in enumerate(list(T)):\n",
    "    for j, t2 in enumerate(list(T)):\n",
    "        tags_matrix[i, j] = t2_given_t1(t2, t1)[0]/t2_given_t1(t2, t1)[1]"
   ]
  },
  {
   "cell_type": "code",
   "execution_count": 215,
   "metadata": {},
   "outputs": [],
   "source": [
    "# convert the matrix to a df for better readability\n",
    "tags_df = pd.DataFrame(tags_matrix, columns = list(T), index=list(T))"
   ]
  },
  {
   "cell_type": "code",
   "execution_count": 216,
   "metadata": {},
   "outputs": [],
   "source": [
    "# Viterbi Heuristic\n",
    "def Viterbi(words, train_bag = train_tagged_words):\n",
    "    state = []\n",
    "    \n",
    "    #extracting unique tags from the text\n",
    "    T = list(set([pair[1] for pair in train_bag]))\n",
    "    \n",
    "    #enumerate creates a tuple with key and the individual value passed in the enumerate function.\n",
    "    #in this case words. \n",
    "    \n",
    "    #E.g. l1 = [\"eat\",\"sleep\",\"repeat\"] \n",
    "    # print(l1) will result in (0, 'eat'), (1, 'sleep'), (2, 'repeat')\n",
    "    \n",
    "    for key, word in enumerate(words):\n",
    "        #initialise list of probability column for a given observation\n",
    "        p = [] \n",
    "        for tag in T:\n",
    "            if key == 0:\n",
    "                transition_p = tags_df.loc['.', tag]\n",
    "            else:\n",
    "                transition_p = tags_df.loc[state[-1], tag]\n",
    "                \n",
    "            # compute emission and state probabilities\n",
    "            emission_p = word_given_tag(words[key], tag)[0]/word_given_tag(words[key], tag)[1]\n",
    "            state_probability = emission_p * transition_p    \n",
    "            p.append(state_probability)\n",
    "            \n",
    "    # the loop executes for (words*tags) times. Therefore time is O(nt); where, n=words and t=tags.\n",
    "            \n",
    "        pmax = max(p)\n",
    "        # getting state for which probability is maximum\n",
    "        state_max = T[p.index(pmax)] \n",
    "        state.append(state_max)\n",
    "    return list(zip(words, state))"
   ]
  },
  {
   "cell_type": "markdown",
   "metadata": {},
   "source": [
    "#### Evaluation on Test data set"
   ]
  },
  {
   "cell_type": "code",
   "execution_count": 217,
   "metadata": {},
   "outputs": [],
   "source": [
    "# creating a function to show list of words which were incorrectly tagged.\n",
    "\n",
    "def correction(output_of_viterbi_algo, testing_set):\n",
    "    return [\n",
    "                [\n",
    "                    j\n",
    "                ] \n",
    "\n",
    "                for i, j in enumerate(zip(output_of_viterbi_algo, testing_set))\n",
    "                    if j[0]!=j[1]\n",
    "            ]"
   ]
  },
  {
   "cell_type": "markdown",
   "metadata": {},
   "source": [
    "### 3. Solve the problem of unknown words"
   ]
  },
  {
   "cell_type": "markdown",
   "metadata": {},
   "source": [
    "#### 3.1 Analyzing how Viterbi Algoritm tags the new words"
   ]
  },
  {
   "cell_type": "markdown",
   "metadata": {},
   "source": [
    "Identifying patterns which may help in improving the problem of unknown words."
   ]
  },
  {
   "cell_type": "code",
   "execution_count": 218,
   "metadata": {
    "scrolled": true
   },
   "outputs": [],
   "source": [
    "# reading the Test_sentences.txt file and applying the viterbi algo, to see how the words are tagged.\n",
    "\n",
    "test_text = open('Test_sentences.txt', 'r')\n",
    "words = word_tokenize(test_text.read())\n",
    "viterbi_tagged_wrds = Viterbi(words)"
   ]
  },
  {
   "cell_type": "markdown",
   "metadata": {},
   "source": [
    "Here we can see that words (nouns) like 'Android', 'Google', 'Twitter', 'FIFA' etc. are tagged as 'ADP - adpositions (prepositions and postpositions)', because they were not present in the earlier corpus."
   ]
  },
  {
   "cell_type": "code",
   "execution_count": 219,
   "metadata": {},
   "outputs": [
    {
     "name": "stdout",
     "output_type": "stream",
     "text": [
      "{('of', 'ADP'), ('on', 'ADP'), ('with', 'ADP'), ('from', 'ADP'), ('by', 'ADP'), ('for', 'ADP'), ('after', 'ADP'), ('near', 'ADP'), ('about', 'ADP'), ('under', 'ADP'), ('If', 'ADP'), ('at', 'ADP'), ('in', 'ADP'), ('as', 'ADP'), ('that', 'ADP')}\n"
     ]
    }
   ],
   "source": [
    "# checking unique words in the corpus, which are marked as 'ADP'. Most of the nouns are wrongly marked as ADP\n",
    "\n",
    "print(\n",
    "    set(\n",
    "        [tlp for tlp in tagged_seq if tlp[1] == 'ADP']\n",
    "    )\n",
    ")"
   ]
  },
  {
   "cell_type": "markdown",
   "metadata": {},
   "source": [
    "From above we can see that the numbers and nouns are not tagged properly. They are by default tagged as 'ADP' because these words were not present in the universal corpus. Hence will create below patterns which tags the number, nouns properly.\n",
    "\n",
    "<u>Analysis of tagging with Vanilla Viterbi algorithm</u>\n",
    "1. Proper nouns like 'Android', 'Google', 'Twitter', 'FIFA' etc. start with a capital letter.\n",
    "2. Plural nouns like 'tweets', 'trips', 'messages' etc which ends with an 's' are also in correctly marked as ADP"
   ]
  },
  {
   "cell_type": "markdown",
   "metadata": {},
   "source": [
    "#### 3.2 Lexicon (Unigram) Tagger"
   ]
  },
  {
   "cell_type": "code",
   "execution_count": 220,
   "metadata": {},
   "outputs": [],
   "source": [
    "lexicon_tagger = nltk.UnigramTagger(train_set)\n",
    "wrds_only_lex_tagger = lexicon_tagger.tag(words)"
   ]
  },
  {
   "cell_type": "markdown",
   "metadata": {},
   "source": [
    "<u>Analysis of tagging with UnigramTagger algorithm</u>\n",
    "1. Since this tagger is trained with NLTK's Universal corpus, it is not able to tag new words like 'Android', 'Google', 'Twitter', 'domineering' etc.\n",
    "2. Words like 'networking' are correctly tagged as Noun, where as other verbs like 'entering', 'leaving' are tagged correctly.\n",
    "\n",
    "<u>Conclusion</u>\n",
    "There are many new words in the Test_sentences.txt files which UnigramTagger is not able to identify. Hence we should use a secondary Rule based tagger for such words."
   ]
  },
  {
   "cell_type": "markdown",
   "metadata": {},
   "source": [
    "#### 3.3 Rule-Based (Regular Expression) Tagger"
   ]
  },
  {
   "cell_type": "code",
   "execution_count": 221,
   "metadata": {},
   "outputs": [],
   "source": [
    "# specifying patterns for tagging as per the patterns found in the test sentences\n",
    "# example from the NLTK book\n",
    "patterns = [\n",
    "    (r'.*ing$', 'VERB'),                             # gerund\n",
    "    (r'.*ed$', 'VERB'),                              # past tense\n",
    "    (r'.*es$', 'VERB'),                              # 3rd singular present\n",
    "    (r'.*ould$', 'PRT'),                             # modals\n",
    "    (r'[A-Z]{1}([a-z]{1,})?([A-Z]{1,})?', 'NOUN'),   # words with capital letters\n",
    "    (r'.*\\'s$', 'NOUN'),                             # possessive nouns\n",
    "    (r'.*s$', 'NOUN'),                               # plural nouns\n",
    "    (r'([0-9])+(\\-|\\/)?([a-z]{2,3})?(\\-)?', 'NUM'),  # cardinal numbers and dates\n",
    "    (r'.*', 'NOUN')                                  # any word not found will be tagged as a noun\n",
    "]"
   ]
  },
  {
   "cell_type": "code",
   "execution_count": 222,
   "metadata": {},
   "outputs": [],
   "source": [
    "# Rule based tagger\n",
    "rule_based_tagger = nltk.RegexpTagger(patterns)\n",
    "wrds_rule_tagger = rule_based_tagger.tag(words)"
   ]
  },
  {
   "cell_type": "markdown",
   "metadata": {},
   "source": [
    "<u>Analysis of tagging with Rule Based Tagger</u>\n",
    "1. Since the we have specified the final rule as a Noun, all the words that RegEx is not able to parse are tagged as 'NOUN'.\n",
    "2. Words like 'networking' which are ending with 'ing' are tagged as Verb, where as it is a Noun.\n",
    "\n",
    "<u>Conclusion</u>\n",
    "Since the Rule Based (RegEx based) Tagger is not efficiently tagging the POS, we'll need another Tagger and we should use the RegEx tagger as a secondary tagger. "
   ]
  },
  {
   "cell_type": "markdown",
   "metadata": {},
   "source": [
    "#### 3.4 Combined Taggers"
   ]
  },
  {
   "cell_type": "code",
   "execution_count": 223,
   "metadata": {},
   "outputs": [],
   "source": [
    "# initializing the variables again to avoid any confusion.\n",
    "\n",
    "# rule based tagger\n",
    "rule_based_tagger = nltk.RegexpTagger(patterns)\n",
    "\n",
    "# lexicon tagger, backed up by the rule-based tagger\n",
    "# lexicon tagger is trained on the NLTK's Universal corpus.\n",
    "\n",
    "lexicon_tagger = nltk.UnigramTagger(train_set, backoff=rule_based_tagger)\n",
    "\n",
    "wrds_comb_tagger = lexicon_tagger.tag(words)"
   ]
  },
  {
   "cell_type": "markdown",
   "metadata": {},
   "source": [
    "### 4. Evaluating tagging accuracy"
   ]
  },
  {
   "cell_type": "markdown",
   "metadata": {},
   "source": [
    "#### Evaluating tagging accuracy on Viterbi algorithm (checking Universal's train data vs test data)"
   ]
  },
  {
   "cell_type": "code",
   "execution_count": 224,
   "metadata": {},
   "outputs": [],
   "source": [
    "# Running on entire test dataset would take more than 3-4hrs. \n",
    "# Let's test our Viterbi algorithm on a few sample sentences of test dataset\n",
    "\n",
    "random.seed(1234)\n",
    "\n",
    "# choose random 20 sents\n",
    "rndom = [random.randint(1,len(test_set)) for x in range(20)]\n",
    "\n",
    "# list of sents\n",
    "test_run = [test_set[i] for i in rndom]\n",
    "\n",
    "# list of tagged words\n",
    "test_run_base = [tup for sent in test_run for tup in sent]\n",
    "\n",
    "# list of untagged words\n",
    "test_tagged_words = [tup[0] for sent in test_run for tup in sent]"
   ]
  },
  {
   "cell_type": "code",
   "execution_count": 225,
   "metadata": {},
   "outputs": [],
   "source": [
    "# tagging the test sentences\n",
    "tagged_seq = Viterbi(test_tagged_words)"
   ]
  },
  {
   "cell_type": "code",
   "execution_count": 226,
   "metadata": {},
   "outputs": [
    {
     "name": "stdout",
     "output_type": "stream",
     "text": [
      "0.9279588336192109\n"
     ]
    }
   ],
   "source": [
    "# accuracy\n",
    "check = [i for i, j in zip(tagged_seq, test_run_base) if i == j]\n",
    "print(len(check)/len(tagged_seq))"
   ]
  },
  {
   "cell_type": "markdown",
   "metadata": {},
   "source": [
    "#### Evaluating tagging accuracy of Lexicon and Rule based taggers"
   ]
  },
  {
   "cell_type": "code",
   "execution_count": 227,
   "metadata": {},
   "outputs": [
    {
     "data": {
      "text/plain": [
       "0.9404923434774181"
      ]
     },
     "execution_count": 227,
     "metadata": {},
     "output_type": "execute_result"
    }
   ],
   "source": [
    "lexicon_tagger.evaluate(test_set)"
   ]
  },
  {
   "cell_type": "code",
   "execution_count": 228,
   "metadata": {},
   "outputs": [
    {
     "data": {
      "text/plain": [
       "0.3363054855592169"
      ]
     },
     "execution_count": 228,
     "metadata": {},
     "output_type": "execute_result"
    }
   ],
   "source": [
    "rule_based_tagger.evaluate(test_set)"
   ]
  },
  {
   "cell_type": "markdown",
   "metadata": {},
   "source": [
    "### 5. List down cases which were incorrectly tagged by original POS tagger and got corrected by your modifications"
   ]
  },
  {
   "cell_type": "code",
   "execution_count": 229,
   "metadata": {},
   "outputs": [
    {
     "data": {
      "text/plain": [
       "[[(('smartphones', 'NOUN'), ('smartphones', 'VERB'))],\n",
       " [(('2011', 'NOUN'), ('2011', 'NUM'))],\n",
       " [(('2013', 'NOUN'), ('2013', 'NUM'))],\n",
       " [(('2015', 'NOUN'), ('2015', 'NUM'))],\n",
       " [(('messages', 'NOUN'), ('messages', 'VERB'))],\n",
       " [(('domineering', 'NOUN'), ('domineering', 'VERB'))],\n",
       " [(('2018', 'NOUN'), ('2018', 'NUM'))],\n",
       " [(('21st', 'NOUN'), ('21st', 'NUM'))],\n",
       " [(('international', 'NOUN'), ('international', 'ADJ'))],\n",
       " [(('contested', 'NOUN'), ('contested', 'VERB'))],\n",
       " [(('arriving', 'NOUN'), ('arriving', 'VERB'))],\n",
       " [(('invited', 'NOUN'), ('invited', 'VERB'))]]"
      ]
     },
     "execution_count": 229,
     "metadata": {},
     "output_type": "execute_result"
    }
   ],
   "source": [
    "correction(viterbi_tagged_wrds, wrds_comb_tagger)"
   ]
  }
 ],
 "metadata": {
  "kernelspec": {
   "display_name": "Python 3",
   "language": "python",
   "name": "python3"
  },
  "language_info": {
   "codemirror_mode": {
    "name": "ipython",
    "version": 3
   },
   "file_extension": ".py",
   "mimetype": "text/x-python",
   "name": "python",
   "nbconvert_exporter": "python",
   "pygments_lexer": "ipython3",
   "version": "3.7.1"
  }
 },
 "nbformat": 4,
 "nbformat_minor": 2
}
