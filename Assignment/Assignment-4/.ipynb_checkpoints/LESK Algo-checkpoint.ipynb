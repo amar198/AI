{
 "cells": [
  {
   "cell_type": "code",
   "execution_count": 1,
   "metadata": {},
   "outputs": [],
   "source": [
    "# importing required libraries\n",
    "\n",
    "import nltk\n",
    "from nltk.corpus import wordnet\n",
    "from nltk.corpus import stopwords"
   ]
  },
  {
   "cell_type": "code",
   "execution_count": 8,
   "metadata": {},
   "outputs": [],
   "source": [
    "def remove_stpwords(sent):\n",
    "    stp_wrds = set(stopwords.words('english'))    # retrieving unique stop words in english.\n",
    "    wrd_tkns = nltk.word_tokenize(sentence)       # tokenize sentence passed to this fn.\n",
    "    \n",
    "    filtered_sentence = []                  # initializing an empty list for storing key words (excluding stop words).\n",
    "    \n",
    "    for wrd in wrd_tkns:\n",
    "        if wrd not in stp_wrds:             # if the word is a stop word it will not be added to the filtered list.\n",
    "            filtered_sentence.append(wrd)\n",
    "            \n",
    "    return filtered_sentence                # returning the list without stop-words of english language."
   ]
  },
  {
   "cell_type": "code",
   "execution_count": 34,
   "metadata": {},
   "outputs": [],
   "source": [
    "# LESK algo returns the best definition of the sense in which the words are supposed to be used.\n",
    "# it returns a list which contains Tuples with word and its definition.\n",
    "# E.g.\n",
    "# [\n",
    "#     (word1, best definition of word1), - Tuple 1\n",
    "#     (word2, best definition of word2), - Tuple 2\n",
    "#     ...\n",
    "# ]\n",
    "\n",
    "# List of parameters passed to the LESK algo fn.\n",
    "# words: the list of words for which sense definition needs to be found.\n",
    "# sents: the sentence in which the association b/w word and sense will be found.\n",
    "\n",
    "def lesk_algo(words, sent):\n",
    "    wrd_def = []                           # var in which word and its definition will be stored.\n",
    "    split_sent = remove_stpwords(sent.lower())\n",
    "        \n",
    "    for word in words:                     # finding synsets for each word passed in the 'words' variable.\n",
    "    # {\n",
    "        max_overlap = -1                   # initializing variable.\n",
    "        best_sense = ''                    # initializing variable.\n",
    "        \n",
    "        for sense in wordnet.synsets(word.lower()):\n",
    "        # {\n",
    "            overlap = len(                    # finding the length of intersected words and assigning it to a var.\n",
    "                set(                          \n",
    "                    nltk.word_tokenize(sense.definition()) # finding the length of unique words in the sense \n",
    "                                                           # definition text.\n",
    "                ).intersection(                            # finding the words which intersets with the words\n",
    "                    split_sent                             # retrieved from the sentences passed to this fn.\n",
    "                )\n",
    "            )\n",
    "\n",
    "            if overlap > max_overlap:            # if another sense has more common words, then new sense is \n",
    "                max_overlap = overlap            # assigned to the best_sense variable to hold the sense till a \n",
    "                best_sense = sense.definition()  # better one is identified.\n",
    "        # } End of sense for-loop.\n",
    "        \n",
    "        wrd_def.append(best_sense)\n",
    "    # } End of word for-loop\n",
    "    \n",
    "    return list(zip(words, wrd_def))\n"
   ]
  },
  {
   "cell_type": "code",
   "execution_count": 27,
   "metadata": {},
   "outputs": [],
   "source": [
    "sentence = \"The frog is jumping around the bank of the river\"\n",
    "words = ['bank', 'jumping', 'leaping', 'frog']"
   ]
  },
  {
   "cell_type": "code",
   "execution_count": 35,
   "metadata": {},
   "outputs": [
    {
     "data": {
      "text/plain": [
       "[('bank', 'enclose with a bank'),\n",
       " ('jumping', 'the act of jumping; propelling yourself off the ground'),\n",
       " ('leaping', 'a light, self-propelled movement upwards or forwards'),\n",
       " ('frog',\n",
       "  'any of various tailless stout-bodied amphibians with long hind limbs for leaping; semiaquatic and terrestrial species')]"
      ]
     },
     "execution_count": 35,
     "metadata": {},
     "output_type": "execute_result"
    }
   ],
   "source": [
    "lesk_algo(words, sentence)"
   ]
  }
 ],
 "metadata": {
  "kernelspec": {
   "display_name": "Python 3",
   "language": "python",
   "name": "python3"
  },
  "language_info": {
   "codemirror_mode": {
    "name": "ipython",
    "version": 3
   },
   "file_extension": ".py",
   "mimetype": "text/x-python",
   "name": "python",
   "nbconvert_exporter": "python",
   "pygments_lexer": "ipython3",
   "version": "3.7.1"
  }
 },
 "nbformat": 4,
 "nbformat_minor": 2
}
