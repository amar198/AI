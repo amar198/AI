{
 "cells": [
  {
   "cell_type": "markdown",
   "metadata": {},
   "source": [
    "    11## POS tagging using modified Viterbi"
   ]
  },
  {
   "cell_type": "markdown",
   "metadata": {},
   "source": [
    "### 1. Data Preparation"
   ]
  },
  {
   "cell_type": "code",
   "execution_count": 1,
   "metadata": {},
   "outputs": [],
   "source": [
    "#Importing libraries\n",
    "import numpy as np\n",
    "import pandas as pd\n",
    "\n",
    "import nltk\n",
    "\n",
    "import random\n",
    "from sklearn.model_selection import train_test_split\n",
    "from nltk.tokenize import word_tokenize"
   ]
  },
  {
   "cell_type": "code",
   "execution_count": 2,
   "metadata": {},
   "outputs": [],
   "source": [
    "# reading the Treebank tagged sentences\n",
    "nltk_data = list(nltk.corpus.treebank.tagged_sents(tagset='universal'))"
   ]
  },
  {
   "cell_type": "markdown",
   "metadata": {},
   "source": [
    "#### Exploring corpus"
   ]
  },
  {
   "cell_type": "code",
   "execution_count": 3,
   "metadata": {
    "scrolled": true
   },
   "outputs": [
    {
     "data": {
      "text/plain": [
       "[[('Pierre', 'NOUN'),\n",
       "  ('Vinken', 'NOUN'),\n",
       "  (',', '.'),\n",
       "  ('61', 'NUM'),\n",
       "  ('years', 'NOUN'),\n",
       "  ('old', 'ADJ'),\n",
       "  (',', '.'),\n",
       "  ('will', 'VERB'),\n",
       "  ('join', 'VERB'),\n",
       "  ('the', 'DET'),\n",
       "  ('board', 'NOUN'),\n",
       "  ('as', 'ADP'),\n",
       "  ('a', 'DET'),\n",
       "  ('nonexecutive', 'ADJ'),\n",
       "  ('director', 'NOUN'),\n",
       "  ('Nov.', 'NOUN'),\n",
       "  ('29', 'NUM'),\n",
       "  ('.', '.')],\n",
       " [('Mr.', 'NOUN'),\n",
       "  ('Vinken', 'NOUN'),\n",
       "  ('is', 'VERB'),\n",
       "  ('chairman', 'NOUN'),\n",
       "  ('of', 'ADP'),\n",
       "  ('Elsevier', 'NOUN'),\n",
       "  ('N.V.', 'NOUN'),\n",
       "  (',', '.'),\n",
       "  ('the', 'DET'),\n",
       "  ('Dutch', 'NOUN'),\n",
       "  ('publishing', 'VERB'),\n",
       "  ('group', 'NOUN'),\n",
       "  ('.', '.')]]"
      ]
     },
     "execution_count": 3,
     "metadata": {},
     "output_type": "execute_result"
    }
   ],
   "source": [
    "# checking tagged sentences\n",
    "nltk_data[:2]"
   ]
  },
  {
   "cell_type": "code",
   "execution_count": 4,
   "metadata": {},
   "outputs": [
    {
     "name": "stdout",
     "output_type": "stream",
     "text": [
      "{'DET', 'X', 'ADV', 'ADJ', 'ADP', 'CONJ', '.', 'PRON', 'NUM', 'VERB', 'PRT', 'NOUN'}\n"
     ]
    }
   ],
   "source": [
    "# unique tags applied to the words in the corpus\n",
    "print(set([tpl[1] for pair in nltk_data for tpl in pair]))"
   ]
  },
  {
   "cell_type": "code",
   "execution_count": 5,
   "metadata": {},
   "outputs": [
    {
     "name": "stdout",
     "output_type": "stream",
     "text": [
      "10992\n"
     ]
    }
   ],
   "source": [
    "# checking unique words in the corpus, which does not have 'X', 'NUM', or '.' tags.\n",
    "\n",
    "print(len(set([tlp[0] for pair in nltk_data for tlp in pair \n",
    "                                                  if (tlp[1] != 'X' and tlp[1] != '.' and tlp[1] != 'NUM')\n",
    "              ]\n",
    "         )))"
   ]
  },
  {
   "cell_type": "code",
   "execution_count": 6,
   "metadata": {},
   "outputs": [
    {
     "name": "stdout",
     "output_type": "stream",
     "text": [
      "{'counterpart', 'disapproval', 'blocks', 'investors', 'library', 'dinner', 'thai', 'departures', 'minnesota', 'neil', 'millions', 'riders', 'asset-valuation', 'timex', 'autumn', 'bates', 'signs', 'liquid-nitrogen', 'holding', 'three', 'corkscrews', 'nasd', 'nelms', 'felony', 'defense', 'weapon', 'drop', 'session', 'social', 'las', 'understatement', 'surpluses', 'huntington', 'neighbors', 'house-senate', 'thieves', 'nec', 'symphony', 'comments', 'benefits', 'ed', 'williams', 'lenders', 'whelen', 'buildings', 'fleet', 'medallions', 'guerrilla', 'robbie', 'current', 'households', 'guard', 'magazine', 'frequency', 'labels', 'tormentors', 'kent', 'labouisse', 'carl', 'insistence', 'tallies', 'fee', 'defeat', 'a.d.', 'ventures', 'waymar', 'jockeys', 'johnson', 'rankings', 'jr.', 'bombers', 'heating', 'radioactivity', 'insider', 'tutorials', 'impatient', 'commonwealth', 'work', 'occupant', 'initiatives', 'bribe', 'spillane', 'meal', 'fannie', '1990s', 'stone', 'reinvestment', 'student', 'commercial', '1\\\\/10th', 'networking', 'fellowship', 'tobacco', 'blackstone', 'bit', 'document', 'successor', 'status', 'farm', 'peddling', 'nose', 'weeks', 'attempt', 'springs', 'takings', 'account', 'deprivation', 'additions', 'markey', 'centerbank', 'choosing', 'vargas', 'yasser', 'release', 'orville', 'jan.', 'injuries', 'rhone', 'return', 'wick', 'veal', 'chance', 'dolan', 'ceiling', 'mcdonald', 'setback', 'balloting', 'harcourt', 'walters', 'first', 'magicians', 'unknown', 'danzig', 'paul', 'ambassador', 'el', 'internal', 'assistance', 'a-d', 'prices', 'executive-office', 'peculiarities', 'hearst', 'dobson', 'expert', 'microphone', 'christie', 'trials', 'voices', 'democracy', 'pamela', 'exporters', 'clerks', 'hutchinson', 'odds', 'prints', 'betrayer', 'kurland', 'estimate', 'titans', 'jacob', 'cooperation', 'socialism', 'traded', 'paribas', 'columbia', 'bread', 'estimates', 'loss', 'inmates', 'austria', 'boulder', 'hara', 'holidays', 'investments', 'wisdom', 'circulation', 'sacks', 'auspices', 'gm', 'handelsbanken', 'marie-louise', 'spin-off', 'ore.', 'briefs', 'powers', 'close', 'centimeter', 'mitsui', 'swings', 'coke', 'rounds', 'softening', 'ministers', 'hook', 'judicial', 'dismay', 'ultimatum', 'self-esteem', 'composer', 'frenzy', 'factor', 'evidence', 'la.', 'watson', 'german', 'scientists', 'surgeon', 'goodman', 'bags', 'express', 'term', 'boone', 'empire', 'marshall', 'defects', 'minimum', 'structural', 'brooks', 'seminar', 'offices', 'search', 'airports', 'grower', 'iii', 'adult', 'schaefer', 'indexes', 'calif', 'egypt', 'debacle', 'risks', 'nothing', 'chadha', 'cardboard', 'outside', 'jet', 'streets', 'mignon', 'btr', 'salarymen', 'headrests', 'inventories', 'maintenance', 'stock-market', 'look', 'halt', 'circumstances', 'electric', 'tiger', 'tag', 'violence', 'stena', 'workers', 'blindfold', 'copycats', 'trademark', 'freedoms', 'qualities', 'haut-brion', 'arighi', 'carrier', 'cellars', 'doctrine', 'beijing', 'sweatshirts', 'observers', 'shop', 'suisse', 'rest', 'sympathy', 'zaharah', 'slogan', 'durable-goods', 'middlesex', 'travel', 'multitude', 'while', 'copper', 'college-bowl', 'ac-130u', 'cask', 'eric', 'reformers', 'decorator', 'refinery', 'note', 'debts', 'bodner', 'winner', 'troops', 'inventory', 'governors', 'employers', 'answer', 'arts', 'designations', 'director', 'on', 'occurrences', 'enthusiasm', 'crane', 'move', 'ailes', 'someone', 'sci', 'bag', 'benchmark', 'cosby', 'watchers', 'hatch', 'twin-jet', 'sierra', 'something', 'views', 'exchange', 'subscribers', 'needs', 'maker', 'flows', 'mickey', 'mcfarlan', 'taccetta', 'sense', 'feniger', 'prospects', 'enzor', 'country', 'reagan', 'trace', 'attack', 'fountain', 'honolulu', 'optical', 'sections', 'louisville', 'l.', 'writer', 'turn', 'exercise', 'gary', 'brat', 'bidder', 'earthquake', 'counterattack', 'virginians', 'sauvignon', 'code', 'shapiro', 'romanee-conti', 'santa', 'stephen', 'richmond', 'sphere', 'brent', 'option', 'montgomery', 'irony', 'three-quarters', 'jews', 'malcolm', 'sex', 'audiocassettes', 'retailer', 'videocassette', 'dialogue', 'match', 'inadequacy', 'september', 'recommendation', 'angola', 'planners', 'inter-tel', 'atlantic', 'heatherington', 'cotran', 'velcro', 'offerings', 'clothes', 'dover', 'statistics', 'litigation', 'write-downs', 'aspects', 'intraday', 'competition', 'crystal', 'spouse', 'crew', 'ticket', 'rey', 'laser', 'commercials', 'universities', 'rear-seat', 'failures', 'elisa', 'sacramento', 'basket', 'borrowing', 'frances', 'charities', 'strings', 'dom', 'traitor', 'fires', 'neal', 'flux', 'heirs', 'monopolies', 'breeden', 'plunge', 'congress', 'c-90', 'campbell', 'ibc', 'ringer', 'appropriation', 'sights', 'jersey', 'railcars', 'gerhard', 'regulation', 'speculators', 'members', 'article', 'revolt', 'motor', 'slide', 'wtvj', 'tool', 'clubs', 'kearny', 'advice', 'kingdom', 'marc', 'purepac', 'indications', 'freeport-mcmoran', 'superintendent', 'osborn', 'verge', 'wa', 'trend', 'certin', 'transamerica', 'cerf', 'rules', 'seattle', 'books', 'mirror', 'salaries', 'rebellion', 'spirits', 'mayor', 'peace', 'spain', 'stephens', 'dugdale', 'siti', 'barnett', 'mercury', 'calif.', 'pop', 'protections', 'common-law', 'daniels', 'pat', 'jugglers', 'criticism', 'numeral', 'reuters', 'angels', 'staffs', 'radio-station', 'labor-management', 'forecasts', 'dealers', 'barrel', 'sectors', 'order', 'solihull', 'apparel', 'office', 'formation', 'seconds', 'aug.', 'old', 'stadiums', 'anglia', 'cartoonist', 'michaels', 'astonishment', 'souper', 'taiwan', 'gains', 'butler', 'child', 'specifics', 'landfill', 'servicing', 'appropriators', 'sheaf', 'cadet', 'factors', 'will', 'wheels', 'circuit-board', 'meeting', 'summer', 'faculty', 'big', 'barbados', 'passers-by', 'clive', 'gorbachev', 'jon', 'buck', 'impression', 'walkout', 'divisions', 'commodity', 'subcontractor', 'supplier', 'administrations', 'sorts', 'genel', 'civics', 'sulaiman', 'lafite-rothschild', 'discontent', 'tandy', 'arrows', 'unit', 'toll', 'career', 'deposits', 'banker', 'pockets', 'fla.', 'opus', 'tony', 'toy', 'prejudice', 'victim', 'sonnett', 'favor', 'waters', 'aspersions', 'laura', 'ovation', 'passages', 'preface', 'logo', 'hollis', 'allendale', 'dna', 'lottery', 'depressions', 'classifications', 'tablets', 'non-u.s.', 'rope', 'fringe', 'scoring', 'bar', 'body', 'improvement', 'tenth', 'hanover', 'alan', 'have', 'plight', 'result', 'fabricator', 'papua-new', 'record-keeping', 'rockefeller', 'seymour', 'battle', 'lyrics', 'two-thirds', 'retaliation', 'lung', 'lt.', 'acceptance', 'consultants', 'addition', 'sources', 'silverman', 'parliament', 'hudnut', 'isabelle', 'member', 'speedway', 'taxpayer', 'exclusion', 'deadline', 'measurement', 'worthiness', 'individual', 'meetings', 'nail', 'ana', 'nobel', 'attendance', 'pressures', 'horsham', 'hit', 'brunello', 'lumpur', 'stanford', 'ketchum', 'felonies', 'course', 'interviews', 'pate', 'can', 'contractors', 'sketch', 'defazio', 'living', 'arraignments', 'avon', 'allies', 'try', 'step', 'pieces', 'mcgovern', 'laws', 'second', 'showing', 'specialists', 'miss.', 'backlogs', 'schedule', 'merchants', 'texan', 'warehouses', 'market', 'rusty', 'bridgeville', 'features', 'tiphook', 'wayland', 'machine', 'agnew', 'season', 'plastic', 'trees', 'bronces', 'fang', 'football', 'tigers', 'malnutrition', 'uptick', 'aurora', 'subcontractors', 'yoshihashi', 'pentagon', 'nomination', 'offer', 'biscayne', 'standpoint', 'quota', 'businessman', 'wilfred', 'm.', 'attention', 'thursday', 'oil', 'eastern', 'london', 'biedermann', 'erbamont', 'greed', 'types', 'brunei', 'format', 'tires', 'slate', 'lefcourt', 'satrum', 'maughan', 'lieutenant', 'rumors', 'worsening', 'drobnick', 'productivity', 'achievement-test', 'china', 'stockbrokers', 'causes', 'u.s.a', 'russo', 'cos.', 'furor', 'strindberg', 'shift', 'marrow', 'contributions', 'replacement', 'platt', 'l.a.', 'rape', 'month', 'luce', 'images', 'devon', 'nagano', 'bridgestone\\\\/firestone', 'stuart', 'stable', 'entertainment', 'campeau', 'cathryn', 'virginia', 'vicars', 'inouye', 'bulls', 'rieslings', 'recommendations', 'computing', 'saudi', 'right', 'enforcement', 'documents', 'starts', 'movement', 'shipboard', 'fibers', 'crop', 'freddie', 'roger', 'russell', 'deposits-a', 'sensitivity', 'rozell', 'farren', 'woman', 'ways', 'hurley', 'prime', 'slowdowns', 'shipyards', 'riviera', 'natural', 'confidence', 'klauser', 'initiate', 'longwood', 'precedent', 'hutton', 'downgrade', 'necklace', 'good', 'innuendoes', 'samnick', 'european', 'dolphin', 'processing', 'question', 'elisabeth', 'cole', 'eaton', 'maine', 'hammond', 'anticipation', 'dreyfus', 'rick', 'midnight', 'ind.', 'bankers', 'petroleum', 'interpublic', 'committees', 'vegas', 'undersecretary', 'cereal', 'shot', 'ual', 'ii', 'autos', 'solidarity', 'sweater', 'speech', 'palestine', 'tuscany', 'numbers', 'neighborhood', 'bowman', 'diethylstilbestrol', 'smiles', 'eugene', 'association', 'resources', 'intention', 'delivery', 'positions', 'nationwide', 'soviet', 'page-one', 'low', 'bill', 'congressmen', 'anything', 'families', 'altair', 'participation', 'wakui', 'activities', 'excellence', 'lookee-loos', 'injury', 'essays', 'citicorp', 'tailors', 'dot', 'hills', 'homeless', 'ramirez', 'visitors', 'peak', 'estates', 'terms', 'futures', 'contractor', 'goods', 'conn.', 'feelings', 'expense', 'tenure', 'meridian', 'compromise', 'devices', 'burlap', 'hermitage', 'findings', 'promise', 'ibm', 'locations', 'n.y', 'adults', 'car-development', 'brunt', 'feet', 'clinton', 'disadvantage', 'octogenarians', 'thomas', 'switch', 'norwalk', 'hand', 'power', 'none', 'leaders', 'ghs', 'pipe', 'navigation', 'mix', 'duties', 'ambassadors', 'secilia', 'presence', 'interactions', 'deryck', 'sheet', 'fuel', 'hamilton', 'tokyu', 'extension', 'double-c', 'ill', 'cotton', 'backing', 'resolution', 'harvest', 'caters', 'generators', 'stance', 'tests', 'nightmare', 'pins', 'romance', 'motives', 'harbinger', 'touch', 'crowd', 'readership', 'framework', 'winter', 'politicians', 'orange', 'plenty', 'w.n.', 'otc', 'prosecutor', 'manpower', 'ferdinand', 'household', 'restriction', 'lieu', 'competitions', 'brakes', 'creativity', 'paso', 'cadmium', 'statute', 'attorney', 'lover', 'installment', 'testing', 'refrigerator', 'boomers', 'acceleration', 'cracks', 'food-industry', 'feeding', 'hampshire', 'names', 'scammers', 'advantages', 'appropriations', 'examination', 'los', 'coliseum', 'agreement', 'brands', 'bradford', 'changes', 'six-packs', 'projections', 'chandler', 'fargo', 'rent-a-car', 'andersson', 'emotions', 'intervention', 'reed', 'f-series', 'ohio', 'ideas', 'variables', 'poor', 'reuter', 'abbot', 'negatives', 'prestige', 'consomme', 'harper', 'counterweight', 'hostile', 'slump', 'gerard', 'micronite', 'presentation', 'markdowns', 'october', 'mid-october', 'rigors', 'haney', 'macmillan', 'humans', 'pitcher', 'derek', 'davies', 'guinea', 'leadership', 'evensong', 'pet', 'sticker', 'book', 'hallwood', 'portrayal', 'auctions', 'fishman', 'mehrens', 'volunteer', 'kawasaki', 'andrew', 'outlook', 'florio', 'iota', 'national', 'pains', 'retin-a', 'surrender', 'eyes', 'weil', 'data', 'clues', 'coleco', 'violations', 'sets', 'nominee', 'dormitory', 'deluge', 'pools', 'baris', 'desai', 'referrals', 'dust', 'charm', 'secret', 'disasters', 'kuhns', 'facade', 'examples', 'marty', 'nekoosa', 'gunship', 'mona', 'family', 'z.', 'producers', 'commitment', 'keidanren', 'dummies', 'purse', 'community', 'curry', 'aquino', 'tulane', 'exchanges', 'tots', 'patient', 'lake', 'copies', 'jihad', 'fixtures', 'saitama', 'hustlers', 'vanderbilt', 'warren', 'blacks', 'backlog', 'movies', 'macheski', 'witness', 'key', 'lowe', 'districts', 'segments', 'preparation', 'samples', 'cues', 'macmillan\\\\/mcgraw', 'hong', 'georgetown', 'n.v', 'filings', 'smelting', 'objectives', 'transplant', 'army', 'lead', 'bust', 'sale', 'ballroom', 'fields', 'hayes', 'livelihood', 'remarks', 'comeback', 'ag', 'tip', 'secretary', 'microprocessor', 'wohlstetter', 'stewart', 'african', 'accounts', 'jeremy', 'coffee', 'graphs', 'nissho-iwai', 'chabrol', 'marchese', 'inches', 'earlham', 'examinations', 'architect', 'explosion', 'g.m.b', 'clemens', 'misdemeanor', 'common', 'word', 'lifes', 'diabetes', 'plains', 'cdc', 'prof.', 'journal', 'guarantees', 'soybeans', 'regulators', 'history', 'co-chairman', 'albuquerque', 'tuesday', 'mercedes', 'priority', 'accountant', 'details', 'familiarization', 'disaster', 'livestock', 'belt', 'dam', 'kentucky', 'somebody', 'fine', 'loews', 'milne', 'screen', 'maturity', 'imbalances', 'finance', 'plot', 'silicon', 'pamplin', 'i', 'j.p.', 'hearing', 'series', 'sec', 'daughters', 'machines', 'brooklyn', 'york', 'scowcroft', 'semiconductor', 'beall', 'dai-ichi', 'seniors', 'steel', 'compilation', 'facilities', 'corp', 'stevenson', 'monopoly', 'powwow', 'wozniak', 'crashes', 'interview', 'radio', 'ownership', 'curses', 'presidents', 'industry', 'organizations', 'off-track', 'montedison', 'pack', 'hegemony', 'down', 'marketer', 'nasdaq', 'ready', 'point', 'brazil', 'rule', 'mode', 'hoopla', 'moment', 'coca-cola', 'cluster', 'color', 'sluggishness', 'others', 'mike', 'mind', 'odyssey', 'pit', 'liberation', 'municipalities', 'veteran', 'plc', 'strategy', 'prize', 'callers', 'comprehensive', 'logjam', 'abortion', 'output', 'democrat', 'playing', 'layer', 'intent', 'forum', 'breakfast', 'fracturing', 'polls', 'lawyers', 'backers', 'damage', 'thunderbird', 'agents', 'vision', 'stalls', 'automobile', 'stock-index', 'wish', 'superdot', 'coleman', 'green', 'sayers', 'classes', 'energy', 'blanchard', 'problems', 'particulars', 'triton', 'barrels', 'parlors', 'advance', 'joanne', 'recess', 'institute', 'activity', 'lifting', 'figure', 'tokio', 'involvement', 'carney', 'sandoz', 'forest-products', 'inside', 'april', 'bureau', 'fourth-quarter', 'marder', 'circulations', 'crack', 'kit', 'bidders', 'persky', 'bmp', 'publication', 'waivers', 'fed', 'fair', 'u.s.s.r.', 'pickers', 'processors', 'deadwood', 'focus', 'interventions', 'crackdown', 'cartons', 'voting', 'solicitor', 'mindy', 'implications', 'back', 'edward', 'exxon', 'salary', 'regal', 'newcomer', 'civil', 'test', 'pound', 'latour', 'uncertainty', 'modifications', 'bearing', 'races', 'zenith', 'plaza', 'juggernaut', 'midland', 'hampton', 'matter', 'supermarket', 'portions', 'sweepstakes', 'scenario', 'lab', 'exhibition', 'day', 'jeffrey', 'drugs', 'relocate', 'mood', 'civilization', 'borge', 'greer', 'diceon', 'problem', 'adolph', 'equities', 'nl', 'consumption', 'completeness', 'flap', 'prevalance', 'rating', 's.a', 'bids', 'driskill', 'natural-gas', 'dances', 'twindam', 'merits', 'illegality', 'conversion', 'complexes', 'mary', 'processes', 'systems', 'recorder', 'visa', 'paperback', 'information', 'concentration', 'sweden', 'tyre', 'policies', 'pulls', 'louisiana-pacific', 'fighters', 'hiroshima', 'hammersmith', 'ensembles', 'quantities', 'title', 'burt', 'establishment', 'necessities', 'renee', 'client', 'slope', 'caution', 'points', 'negotiations', 'rita', 'stock-price', 'wells', 'interest', 'hardware', 'sat', 'targets', 'insurer', 'redevelopment', 'dividend', 'casino', 'adam', 'strait', 'dale', 'wolf', 'forest-product', 'borough', 'bonuses', 'posters', 'issues', 'carla', 'stands', 'citadel', 'homelessness', 'competitor', 'observance', 'stirlen', 'fantasy', 'attractions', 'dairy', 'holdings', 'a', 'houghton', 'morgan', 'airlines', 'attacks', 'infusion', 'miti', 'web', 'payments', 'sanford', 'band', 'limits', 'period', 'deeds', 'prosecutors', 'jacksonville', 'intrusion', 'allocation', 'rates', 'agriculture', 'arthur', 'kerensky', 'logic', 'u.k.', 'youngsters', 'cluff', 'ire', 'emissions', 'inkling', 'steps', 'onslaught', 'lonski', 'dodge', 'certificate', 'reliance', 'patent', 'town', 'rapanelli', 'taxation', 'sydney', 'progress', 'ednie', 'silicone', 'financier', 'crash', 'need', 'money', 'unemployment', 'shadows', 'ltd.', 'petrus', 'painewebber', 'companion', 'cheating', 'anku', 'rebels', 'creditor', 'murray', 'stereo', 'preferences', 'records', 'prisoners', 'ratings', 'gross', 'flag', 'harrison', 'transaction', 'rabia', 'moves', 'west', 'sales', 'centerpiece', 'mass.', 'protein', 'checks', 'avenues', 'one-fifth', 'nations', 'disaffiliation', 'balls', 'dinkins', 'reductions', 'companies', 'things', 'attwood', 'signature', 'flights', 'outsiders', 'vehicles', 'grandfather', 'transplantation', 'luxury', 'construction', 'way', 'wrath', 'property', 'pictures', 'blancs', 'columbus', 'coupon', 'copperweld', 'following', 'condition', 'raise', 'protests', 'sleep', 'maytag', 'judgments', 'combines', 'mitsubishi', 'disregard', 'gain', 'charges', 'pub', 'actions', 'waiver', 'osaka', 'weakening', 'understanding', 'performers', 'scenes', 'reruns', 'utilities', 'shell', 'adjustments', 'bolivia', 'substance', 'pounds', 'boost', 'kathryn', 'wrongdoing', 'fate', 'memories', 'friendship', 'reorganization', 'chunks', 'collections', 'master', 'intertitles', 'd.', 'moon', 'arguments', 'urban', 'tom', 'earnings', 'bout', 'parishes', 'proceeds', 'disagreement', 'announcement', 'sunday', 'notes', 'towns', 'creation', 'mikhail', 'news', 'ounce', 'friction', 'equal-opportunity', 'cell', 'clouding', 'dynamics', 'bat', 'necks', 'sasaki', 'conversations', 'everybody', 'horoscopes', 'clouds', 'drought', 'rothschild', 'foam', 'forces', 'camilli', 'cara', 'interest-rate', 'drain', 'device', 'cosmetic', 'industries', 'actor', 'microcomputers', 'publisher', 'employee', 'campaigns', 'cash', 'version', 'fuels', 'krenz', 'tidbits', 'accident', 'cabs', 'sterling', 'reform', 'clerics', 'brian', 'georgia', 'acne', 'nestor', 'leinonen', 'wtd', 'partners', 'conflicts', 'cab', 'fulton', 'temperature', 'syndrome', 'surge', 'kondo', 'calls', 'educators', 'amin', 'campaigning', 'research', 'shuttle', 'kenneth', 'occidental', 'hoylake', 'dompierre', 'ltv', 'disease', 'soviets', 'contacts', 'application', 'vacations', 'language', 'disputado', 'mines', 'write-off', 'beige', 'fronts', 'bellringers', 'sept.', 'disarray', 'christian', 'alysia', 'connecticut', 'cold', 'hammacher', 'manchester', 'physics', 'leningrad', 'tower', 'corridors', 'x', 'dr.', 'place', 'chinese', 'poison', 'beverly', 'symptoms', 'senses', 'concerns', 'managers', 'faith', 'ballplayers', 'use', 'recession', 'reason', 'creature', 'smoking', 'cars', 'glauber', 'major', 'harold', 'deficiencies', 'head', 'contribution', 'judiciary', 'government', 'chaos', 'powerhouse', 'equivalent', 'protein-1', 'kane', 'amsterdam', 'cooper', 'taxpayers', 'list', 'raleigh', 'g.', 'torrington', 'quarter', 'level', 'services', 'salmore', 'contradictions', 'sotheby', 'fax', 'mr.', 'stadium', 'haven', 'jefferson', 'gingl', 'bottlenecks', 'skittishness', 'spite', 'delays', 'nobody', 'nigel', 'widget', 'procedures', 'spenders', 'importance', 'face', 'rollover', 'nelson', 'cote', 'orlando', 'stephanie', 'roof', 'province', 'thugs', 'assistant', 'a.c.', 'giants', 'racket', 'hotels', 'organization', 'wrists', 'philip', 'oct.', 'mrs.', 'boeing', 'expectations', 'cruise', 'lasalle', 'doerflinger', 'doonesbury', 'negus', 'napa', 'wheat', 'leighton', 'anybody', 'road', 'passbook', 'house', 'phrase', 'newgate', 'gates', 'o.', 'elliott', 'twist', 'excision', 'listeners', 'censorship', 'scripts', 'herrington', 'consent', 'world', 'separation', 'garden-variety', 'sugarman', 'jurisdiction', 'deck', 'strain', 'quarters', 'computer', 't.', 'actress', 'stream', 'best-seller', 'newspapers', 'rebel', 'claude', 'murakami', 'delay', 'officers', 'wu', 'trader', 'xerox', 'traffic', 'cycle', 'lancaster', 'txo', 'triple-c', 'knowns', 'securities', 'alternative', 'builders', 'ports', 'north', 'wakayama', 'seller', 'judith', 'burden', 'engines', 'forster', 'detail', 'message', 'mortimer', 'brenda', 'spirit', 'edelman', 'checking', 'moody', 'derchin', 'close-up', 'restructuring', 'berger', 'notion', 'symmetry', 'networks', 'card-member', 'hopwood', 'wpp', 'alurralde', 'grapes', 'b', 'thought', 'citation', 'net', 'holland', 'ala.', 'instance', 'taittinger', 'jonas', 'n.j.', 'responses', 'pretext', 'drops', 'air', 'baldwin', 'barney', 'turnover', 'mason', 'retardation', 'high-technology', 'donoghue', 'receipts', 'alvin', 'respondents', 'billionaire', 'stocks', 'east', 'pool', 'words', 'monitor', 'muster', 'guber', 'keyboards', 'sums', 'flow', 'amortization', 'authors', 'duo', 'cells', 'crops', 'bases', 'certificates', 'charlotte', 'retailing', 'australia', 'technique', 'marketplace', 'gas', 'issue', 'youths', 'milan', 'mininum-wage', 'albert', 'shangkun', 'thrift', 'chain', 'characteristics', 'everything', 'wednesday', 'tens', 'oshkosh', 'attitude', 'heart', 'tassinari', 'alternatives', 'post', 'germany', 'inferences', 'routine', 'mailing', 'dexterity', 'subskill', 'pay', 'victory', 'nickel', 'mesnil', 'arbitrager', 'total', 'r.d.', 'mercantile', 'collecting', 'tours', 'piper', 'gerald', 'placement', 'wheeland', 'sigh', 'stark', 'bob', 'demand', 'campaign', 'god', 'assumption', 'chatter', 'midyear', 'correll', 'threats', 'connection', 'refuge', 'economic', 'target', 'berson', 'hudson', 'r.', 'plus', 'constraints', 'bomber', 'experience', 'dakota', 'perignon', 'aide', 'investor', 'exhaust', 'techniques', 'republicans', 'buy-out', 'ramparts', 'accomplishments', 'pence', 'barbara', 'curse', 'drivers', 'merrill', 'warrants', 'liquidity', 'time', 'growers', 'intermediate', 'ranks', 'herbert', 'trudeau', 'trip', 'education', 'reasoning', 'twin', 'tickets', 'arsenide', 'crews', 'utility', 'sanctions', 'glenn', 'ranieri', 'elsevier', 'brothers', 'queen', 'homework', 'sub-segments', 'units', 'handful', 'newspaper', 'vega', 'boosts', 'herald', 'aid', 'standards', 'del.', 'partner', 'whiting', 'burdens', 'unraveling', 'arnold', 'cataracts', 'hoffman', 'resentment', 'languages', 'luck', 'vindication', 'arrival', 'trockenbeerenauslesen', 'moratorium', 'fast-food', 'miklos', 'bankruptcy', 'holiday', 'rico', 'kangyo', 'sticker-shock', 'inquiries', 'pistols', 'victor', 'planting', 'patch', 'june', 'warehousing', 'opportunities', 'lizhi', 'contests', 'pension', 'napolitan', 'breed', 'retorts', 'prototype', 'americans', 'suit', 'b.a.t', 'ferro', 'clients', 'stern', 'grain', 'stand', 'kilobytes', 'valley', 'guy', 'virtues', 'context', 'conviction', 'railings', 'comedies', 'wood', 'citizen', 'frederick', 'cabinet', 'groups', 'polluters', 'exports', 'challenge', 'boy', 'minivans', 'troubles', 'vintages', 'barron', 'shaw', 'behalf', 'payrolls', 'location', 'consumer', 'advisory', 'vans', 'drinks', 'fund', 'subscriber', 'promotion', 'iran-contra', 'designer', 'colleges', 'marks', 'sdi', 'dow', 'places', 'command', 'corporations', 'john', 'providers', 'sell-offs', 'public', 'roadblock', 'journals', 'inc', 'owner', 'larry', 'troop', 'intensity', 'august', 'rae', 'recognition', 'oklahoma', 'milestone', 'william', 'federal', 'widow', 'lunch', 'afternoon', 'bridge', 'dolls', 'philadelphia', 'compassion', 'dividends', 'toast', 'buckhead', 'biondi-santi', 'biaggi', 'lorillard', 'economics', 'headcount-control', 'analyst', 'creditworthiness', 'passage', 'life-style', 'cable', 'jr', 'opening', 'kidnapping', 'warning', 'squad', 'diloreto', 'diming', 'jenkins', 'conduit', 'call', 'announcer', 'shearson', 'pinocchio', 'distributor', 'fred', 'multinationals', 'emergencies', 'spreads', 'borrowings', 'venture', 'referenda', 'painting', 'joel', 'leases', 'broker', 'trends', 'integra', 'register', 'interleukin-3', 'yeargin', 'dismissal', 'jacobs', 'composting', 'departments', 'robertson', 'territory', 'demonstrations', 'evil', 'parents', 'buyers', 'confines', 'statue', 'weddings', 'concessions', 'md.', 'cents', 'moslem', 'restructure', 'in', 'barrett', 'lezovich', 'hour', 'vagabond', 'chile', 'rope-sight', 'legislators', 'hart-scott-rodino', 'stories', 'theme', 'proviso', 'wife', 'webb', 'pierre', 'spanish', 'classmates', 'generations', 'poverty', 'stalemate', 'morbidity', 'gartner', 'colony', 'hysteria', 'jitters', 'nbc', 'northern', 'age', 'magnitude', 'media', 'shuxian', 'mutchin', 'integra-a', 'miller', 'instruments', 'fbi', 'vintage', 'party', 'success', 'squier', 'distribution', 'rubber', 'shudders', 'wright', 'navy', 'pediatrician', 'health', 'show', 'hugo', 'investigation', 'thing', 'stigma', 'ncr', 'genes', 'missiles', 'top', 'professors', 'sternberg', 'magnets', 'compliance', 'index-arbitrage', 'credit-rating', 'insolvency', 'cease-fire', 'seat', 's&l', 'goody', 'crum', 'taylor', 'blue-chips', 'interpretation', 'specialist', 'ky.', 'speeches', 'younkers', 'overhead', 'degree', 'acts', 'appetite', 'degrees', 'replacement-car', 'republican', 'intrusions', 'bordeaux', 'massacre', 'school-district', 'pride', 'folks', 'coxon', 'bricklayers', 'land', 'garage', 'route', 'founder', 'writers', 'average', 'chalk', 'merrick', 'pressure', \"o'brien\", 'laboratories', 'substitute', 'heavy-truck', 'w.d.', 'dashes', 'complex', 'knell', 'sidak', 'acetate', 'lighthouse', 'oak', 'closeness', 'packaging', 'outrage', 'watch', 'nominees', 'sites', 'ridgefield', 'ctbs', 'bmp-1', 'hayne', 'assets', 'moscow', 'efficiencies', 'davis', 'poore', 'corestates', 'abbey', 'listing', 'host', 'occupational', 'swap', 'housing', 'miles', 'college', 'nation', 'subscriptions', 'impetus', 'disposables', 'greenwich', 'monster', 'customer', 'palisades', 'governor', 'usx', 'seats', 'november', 'truth-in-lending', 'pinning', 'raising', 'torrent', 'killeen', 'gillespie', 'carlton', 'spilling', 'plant', 'glenham', 'policy', 'premium', 'financial', 'illness', 'chardonnay', 'lesions', 'hospital', 'campus', 'hawaii', 'lorain', 'station', 'lentjes', 'indexers', 'hostility', 'excesses', 'openings', 'walbrecher', 'practitioners', 'friedrichs', 'gottlieb', 'tiny', 'example', 'soldado', 'sumitomo', 'shokubai', 'grade', 'pittsburgh', 'portugal', 'mutual', 'direction', 'collector', 'mont', 'ball', 'trustco', 'outlay', 'scale', 'purchase', 'categories', 'worker', 'comment', 'canepa', 'leather', 'asbestos', 'prudential-bache', 'fairlawn', 'internatonal', 'elco', 'meese', 'breakers', 'gunmen', 'process', 'makers', 'aftermath', 'car', 'kodansha', 'judie', 'baum', 'cocoa', 'buses', 'fluctuations', 'mass', 'picket', 'indifference', 'refund', 'yield', 'netherlands', 'bargain', 'pickens', 'automobiles', 'pharmaceuticals', 'training', 'beer', 'fanfare', 'row', 'collection', 'wamre', 'traditionalists', 'morrell', 'virtue', 'stores', 'reading', 'measures', 'beds', 'castle', 'hedging', 'counts', 'chuck', 'northy', 'side', 'the', 'liberty', 'fuji', 'si', 'filters', 'mcleod', 'assembly', 'cabernet', 'gelatin', 'accordance', 'prostitute', 'change', 'chafic', 'insight', 'martin', 'principals', 'claire', 'oversight', 'tally', 'operations', 'productions', 'little', 'peck', 'anger', 'boorse', 'deficit', 'theodore', 'dan', 'ctb', 'headline', 'inc.', 'hummerstone', 'automation', 'sr.', 'w.', 'hanifen', 'pharaoh', 'crane-safety', 'dsm', 'temple', 'inspection', 'appliance', 'wilder', 'carlos', 'jamaica', 'cuvees', 'signore', 'ratners', 'administrator', 'virgin', 'tags', 'westport', 'pall', 'breaker', 'affair', 'assertions', 'ian', 'jay', 'bars', 'corp.', 'sixth', 'referral', 'dawn', 'objective', 'h.', 'royalty', 'electric-utility', 'file', 'contrary', 'ministry', 'auto', 'salinas', 'k.', 'auditors', 'curriculum', 'li', 'ginsberg', 'public-relations', 'klein', 'belfries', 'obligation', 'foundations', 'eveready', 'matches', 'base', 'ruth', 'cap', 'zurich', 'trigger', 'red', 'exporter', 'synergistics', 'cases', 'bushels', 'cue', 'years', 'walt', 'detroit', 'teams', 'trans', 'discussions', 'premiums', 'restraints', 'vow', 'entrepreneur', 'mainframe', 'schoolteacher', 'nature', 'institutes', 'capacity', 'fans', 'rice', 'est', 'abortionist', 'kendrick', 'huxtable', 'beers', 'provision', 'bullets', 'citibank', 'developments', 'mcfall', 'breakdown', 'ensrud', 'publishers', 'charter', 'lambert', 'discos', 'motor-home', 'fit', 'properties', 'commission', 'xiaoping', 'wages', 'bendectin', 'differences', 'firmness', 'contingent', 'father', 'pep', 'strains', 'senior', 'practices', 'report', 'liberals', 'droughts', 'generalized', 'unions', 'regime', 'showa', 'clark', 'britain', 'modification', 'rudolph', 'hymowitz', 'apples', 'lobbyists', 'offensive', 'city', 'shepperd', 'saints', 'chrysotile', 'communist', 'singapore', 'propaganda', 'briefing', 'workforce', 'sort', 'help', 'booklet', 'spoon', 'diamond', 'councils', 'lobbyist', 'architects', 'failure', 'warrant', 'network', 'lap', 'charts', 'good-faith', 'cattle', 'smattering', 'holders', 'instrument', 'albany', 'ounces', 'wallach', 'exposure', 'put', 'blender', 'design', 'approaches', 'act', 'crapshoot', 'tow', 'tokyo', 'itoh', 'sprint', 'protesters', 'privilege', 'asset', 'c-130', 'flood', 'market-makers', 'reputation', \"o'loughlin\", 'exposures', 'mid-1990s', 'persuasion', 'sauce', 'johns', 'interests', 'slaying', 'darkhorse', 'evans', 'accountants', 'cutrer', 'cities', 'joint', 'parishioners', 'booklets', 'coverage', 'miami', 'pipes', 'grant', 'morale', 'angelo', 'orders', 'affiliates', 'works', 'professional', 'possibility', 'blackjack', 'houses', 'carnegie-mellon', 'rampage', 'insurance', 'vose', 'prayer', 'trains', 'mergers', 'directors', 'ceo', 'facility', 'n.c.', 'c.d.s', 'island', 'shores', 'publications', 'intelogic', 'refunds', 'dollars', 'bromwich', 'goode', 'cannell', 'fremantle', 'jonathan', 'international', 'diplomats', 'officer', 'healing', 'counseling', 'masters', 'wine-making', 'silver', 'votes', 'walker', 'michigan', 'busloads', 'fujitsu', 'squeeze', 'tad', 'kennedy', 'players', 'care', 'declaration', 'mayer', 'girlfriend', 'vichy', 'registration', 'pathlogy', 'half-hour', 'expectation', 'kinds', 'ballots', 'mossman', 'fetal-tissue', 'implementation', 'telephones', 'ginnie', 'disk', 'decline', 'literacy', 'hubbell', 'view', 'chauffeur', 'budget', 'cristal', 'miscarriages', 'cullowhee', 'rep.', 'leigh', 'boston', 'rowe', 'york-based', 'detective-story', 'shipyard', 'edison', 'stock', 'scherer', 'brownell', 'haden', 'science', 'slowing', 'declines', 'cray', 'nyse', 'irvine', 'modernization', 'centers', 'islamic', 'samuel', 'bears', 'pattern', 'chief', 'psychology', 'smoke', 'phelan', 'anti-deficiency', 'shops', 'watchdogs', 'nippon', 'philippine', 'error', 'pioneer', 'framers', 'woodcliff', 'vermont', 'eurobonds', 'inner-city', 'ghkm', 'co.', 'behemoth', 'respite', 'questions', 'kingsbridge', 'heidelberg', 'dozen', 'category', 'crown', 'industrial', 'track', 'herald-american', 'attempts', 'briefings', 'wafa', 'kuala', 'refusal', 'deregulation', 'product', 'mich.', 'hiroshi', 'turf', 'takeover', 'support', 'part', 'operating', 'davenport', 'exits', 'johnson-era', 'spring', 'examiner', 'bull', 'trotter', 'deborah', 'vortex', 'indexing', 'sheffield', 'mathematics', 'camera', 'carillons', 'ricken', 'severance', 'advances', 'physicist', 'yale', 'talks', 'memo', 'inquiry', 'denominator', 'schmidt', 'increase', 'careers', 'reds', 'rolling', 'irving', 'fiscal', 'yamamoto', 'charlie', 'planters', 'scientist', 'light', 'environments', 'symbol', 'interrogation', 'payoff', 'elders', 'gillett', 'prefecture', 'banking', 'slippage', 'system', 'adjustment', 'aim', 'parallels', 'warrenton', 'lives', 'passions', '1920s', 'landonne', 'addresses', 'garbage', 'bradley', 'relation', 'thread', 'revival', 'container', 'businesses', 'reach', 'kids', 'mulford', 'fluctuation', 'texas', 'sight', 'hollingsworth', 'jobs', 'remainder', 'pill', 'editing', 'fraction', 'profit-taking', 'stag', 'insanity', 'water', 'exploration', 'h.n.', 'notice', 'memphis', 'jumps', 'moines', 'researcher', 'months', 'crystals', 'consideration', 'affiliate', 'milk', 'ortega', 'sheepskin', 'bonus', 'basham', 'food', 'levels', 'junk', 'carolina', 'transfers', 'traders', 'fledgling', 'bethlehem', 'cent', 'free', 'parking', 'ceos', 'kalamazoo', 'glendale', 'department', 'kensington', 'thunder', 'teachers', 'cleanliness', 'backe', 'arms', 'roukema', 'r.p.', 'plaintiffs', 'intermec', 'incomes', 'christopher', 'links', 'mo', 'vinyl', 'james', 'ascendency', 'connections', 'lufkin', 'sign', 'fragmentation', 'minute', 'fight', 'one', 'thousands', 'backseat', 'pirates', 'shelf', 'danville', 'polystyrene', 'suspension', 'finding', 'elizabeth', 'tache', 'harassment', 'carter', 'millionaires', 'deere', 'summary', 'caribbean', 'hearings', 'nancy', 'bottles', 'programming', 'bew', 'scannell', 'j.', 'cleveland', 'ends', 'aloha', 'feb.', 'airways', 'dominus', 'superiors', 'karns', 'gallium', 'kaminski', 'dominance', 'preparatives', 'fairless', 'outcry', 'comfort', 'cabbage', 'candela', 'artist', 'males', 'parties', 'brady', 'springfield', 'tariff', 'speculator', 'ward', 'employer', 'peninsula', 'contributors', 'discretion', 'reports', 'contel', 'angeles', 'ala', 'highway', 'beauty', 'topix', 'economies', 'pretty', 'chemical', 'deaths', 'goldinger', 'stronach', 'macmillan\\\\/mcgraw-hill', 'effect', 'scott', 'amr', 'flim-flammery', 'jaffray', 'punishment', 'implication', 'solaia', 'trade', 'habit', 'resignation', 'canada', 'criminal', 'orrick', 'sun', 'gringo', 'novel', 'texture', 'hoosier', 'otero', 'treble', 'witches', 'doctors', 'january', 'dunton', 'old-house', 'reflection', 'graphics', 'designated', 'stations', 'contras', 'boutique', 'marina', 'fifth-grade', 'ins', 'champagnes', 'texts', 'clippings', 'colorliner', 'loans', 'baton', 'winiarski', 'ground', 'theaters', 'alumni', 'narcotics', 'fancy', 'wadsworth', 'legislature', 'periods', 'building', 'stoll', 'sebastian', 'litany', 'affairs', 'patrick', 'fuentes', 'leap', 'caldor', 'terrence', 'markets', 'passport', 'windfall', 'stuff', 'mothers', 'financial-services', 'styles', 'two-sevenths', 'turkey', 'constitutional-law', 'svenska', 'dingell', 'girl', 'disclosures', 'eagleton', 'mcdermott', 'cost-sharing', 'arizona', 'women', 'intel', 'skokie', 'noriega', 'burgundy', 'surrey', 'champions', 'kicker', 'doors', 'broken', 'anderson', 'stockholm', 'ancestry', 'buy-back', 'landor', 'scripps', 'fidelity', 'legg', 'mazda', \"d'amico\", 'perfection', \"creator's\", 'walkman', 'sponsor', 'moneymakers', 'milwaukee', 'alexander', 'nih', 'yields', 'sandifer', 'review', 'bloc', 'score', 'ads', 'legend', 'derel', 'gulf', 'lines', 'veto', 'freud', 'potential', 'continental', 'sen.', 'division', 'bin', 'revolution', 'cups', 'chase', 'gmac', 'schemes', 'courter', 'equivalents', 'neighborhoods', 'interference', 'donaldson', 'pty.', 'missouri', 'appointment', 'prater', 'royal', 'arafat', 'dennis', 'dominion', 'ringers', 'den', 'reaction', 'ambitions', 'satisfaction', 'kirkpatrick', 'event', 'rash', 'superpremiums', 'kind', 'peoria', 'exception', 'strother', 'ratepayers', 'pills', 'volume', 'bermuda', 'reserve', 'stability', 'olympia', 'prison', 'viewership', 'sugar', 's&p', 'insurgents', 'markdown', 'name', 'dispute', 'betterment', \"o'neill\", 'tribe', 'clara', 'damages', 'economists', 'decade', 'gambling', 'no-confidence', 'subsidiaries', 'index-options', 'kligman', 'airline', 'warnings', 'chiodo', 'geography', 'heights', 'fabian', 'serial', 'bernstein', 'church-goers', 'banque', 'ethel', 'purpose', 'lama', 'restaurants', 'jack', 'guilders', 'textile', 'machinists', 'chicago', 'rockwell', 'trucks', 'customers', 'skinner', 'quantity', 'stress', 'rockford', 'currently', 'leasing', 'cloth', 'abuse', 'reddington', 'roland', 'taurus', 'calder', 'unpopularity', 'apology', 'bench', 'visits', 'workplace', 'rate', 'mission', 'banquet', 'sidelines', '500-stock', 'hands', 'don', 'tissue', 'travelers', 'widgets', 'heiwado', 'photography', 'schoolboys', 'citizens', 'raton', 'mead', 'asbestosis', 'outlets', 'tradition', 'july', 'hotel', 'esso', 'door', 'schlemmer', 'airplane', 'nesb', 'deposit', 'difficulties', 'francis', 'path', 'accessories', 'woolworth', 'compromises', 'teikoku', 'programmer', 'cost', 'randolph', 'overcrowding', 'financings', 'france', 'survey', 'displays', 'borders', 'menem', 'graduate', 'guffey', 'high', 'purchasers', 'excess', 'district', 'perritt', 'keehn', 'drug', 'speculation', 'spectrum', 'proprietor', 'capital-gains', 'releases', 'pianist-comedian', 'business', 'referendum', 'andy', 'blessing', 'union', 'sake', 'yasuda', 'sandra', 'interbank', 'steinberg', 'classics', 'conduct', 'downside', 'cru', 'barnum', 'san', 'kappa', 'formula', 'barge', 'dancing', 'firms', 'cloud', 'guests', 'jaguar', 'solution', 'argument', 'graham', 'papers', 'akio', 'acquisitions', 'portfolios', 'amendment', 'slides', 'hostess', 'classroom', 'waterworks', 'compensation', 'decisions', 'schweiz', 'eakle', 'advertisers', 'round', 'defendants', 'harpo', 'mattress', 'professor', 'upscale', 'municipal', 'brownstein', 'argentina', 'federation', 'pta', 'sharedata', 'emergency', 'introduction', 'long', 'funny', 'offers', 'advocates', 'shambles', 'providence', 'barges', 'tooth', 'hitter', 'individuals', 'pepperdine', 'users', 'execs', 'overcapacity', 'frank', 'norwegian', 'convention', 'icahn', 'lee', 'analysis', 'forecast', 'candidates', 'relevance', 'peters', 'fischer', 'amount', 'ackerman', 'accord', 'yorker', 'bloods', 'dec.', 'magleby', 'amphobiles', 'art', 'junk-bond', 'rumor', 'bribery', 'stars', 'optimism', 'mrs', 'j.l.', 'g', 'combination', 'ann', 'p.m.', 'plan', 'crises', 'moons', 'l.p.', 'vitulli', 'quotations', 'president', 'shugart', 'mine', 'cancer', 'executive', 'wilmington', 'environmentalists', 'manhattan', 'prepayment', 'street', 'western', 'deputy', 'english', 'nomura', 'figures', 'olsen', 'reserves', 'carbide', 'truth', 'permission', 'hurricane', 'rain', 'lobo', 'seagate', 'auditor', 'supercomputers', 'obstacles', 'a.l.', 'delegates', 'yen', 'rankin', 'newsstand', 'belfry', 'duckling', 'bronx', 'norfolk', 'mudslinging', 'stirrings', 'kuvin', 'scandal', 'fueling', 'ties', 'bretz', 'joe', 'taizo', 'page', 'malizia', 'daniel', 'payouts', 'shelby', 'rifles', 'rill', 'supercomputer', 'study', 'responsibility', 'firm', 'pennview', \"dunkin'\", 'passion', 'capability', 'hospitals', 'pain', 'worry', 'television', 'peter', 'railing', 'leming', 'fracture', 'ft', 'dissemination', 'broadcasts', 'passenger', 'rendering', 'guns', 'bundles', 'veselich', 'sachs', 'limbo', 'ballot', 'sutcliffe', 'norman', 'credentials', 'liberal', 'reference', 'bureaucracy', 'nuys', 'residence', 'osha', 'nylev', 'desktop', 'neutrons', 'alzheimer', 'domination', 'savings', 'academics', 'monday', 'beta', 'riserva', 'melamed', 'cancellation', 'freudtoy', 'braun', 'penetration', 'push', 'eeoc', 'needham', 'difference', 'asian', 'highs', 'southern', 'pasadena', 'meaning', 'mannix', 'lion', 'suspects', 'memory', 'rider', 'overruns', 'townes', 'specialty', 'bancorp', 'vicissitudes', 'globe', 'sector', 'sell-off', 'thrall', 'losses', 'charge', 'porter', 'sigler', 'ywca', 'churches', 'appeal', 'danforth', 'dorrance', 'timing', 'hair', 'ious', 'paris', 'today', 'stage', 'toys', 'waif', 'commodities', 'free-enterprise', 'film', 'prize-fighter', 'arrangement', 'controversy', 'cornerstones', 'editorial', 'medicine', 'roll', 'siegal', 'lieberman', 'glory', 'showings', 'behest', 'limit', 'jalaalwalikraam', 'project', 'rivals', 'circuit-breaker', 'letters', 'contract', '%', 'south', 'cds', 'underwood', 'phoenix', 'lord', 'c.', 'person', 'increases', 'truce', 'nissan', 'tender', 'no-smoking', 'link', 'rouge', 'brean', 'offense', 'trojan', 'carbon', 'strategies', 'senate', 'lack', 'cultivation', 'e.c.', 'debentures', 'agenda', 'faithful', 'donuts', 'co-owner', 'world-wide', 'trays', 'applicability', 'arbitrage', 'surgery', 'chivas', 'covers', 'gov.', 'discrepancies', 'dakotas', 'researchers', 'income', 'chevrolet', 'franc', 'enrollment', 'autions', 'leash', 'premier', 'peaks', 'semiconductors', 'hurdles', 'simon', 'new-car', 'sable', 'incisions', 'warner', 'farms', 'derivatives', 'rail', 'loewi', 'cougar', 'spokewoman', 'planner', 'contracts', 'denver', 'runkel', 'u.s.a.', 'waterloo', 'merit', 'learning', 'clairton', 'confidant', 'editorials', 'share', 'protest', 'petition', 'importer', 'asians', 'start', 'p.', 'soup', 'playgrounds', 'grange', 'gorman', 'goodwill', 'par', 'regions', 'des', 'motive', 'rulers', 'lawsuit', 'baby', 'limitation', 'nickname', 'storage', 'communists', 'phi', 'unico', 'shape', 'traverse', 'benefit', 'sponsors', 'boom', 'consultant', 'dallara', 'jail', 'stieglitz', 'giveaways', 'monchecourt', 'combo', 'drawbacks', 'grandsire', 'viewpoint', 'tension', 'earle', 'tubes', 'opposition', 'corrigan', 'sulfur-dioxide', 'holt', 'diplomacy', 'vote', 'estimation', 'young', 'wall', 'voice', 'puerto', 'culprit', 'pillow', 'events', 'identity-management', 'kidney', 'lakes', 'shipments', 'sol', 'trettien', 'gilts', 'mayland', 'midwestern', 'longevity', 'nets', 'huppert', 'steelmakers', 'shareholders', 'hero', 'pocket', 'quant', 'kidder', 'control', 'pennies', 'calculations', 'cargo', 'indianapolis', 'freshman', 'demands', 'reluctance', 'stockpiles', 'babcock', 'louis', 'matthews', 'michio', 'publishing', 'workbooks', 'knapp', 'fe', 'pipeline', 'lloyd', 'soul', 'constitution', 'puccio', 'suppression', 'allied', 'caveat', 'concept', 'grgich', 'oblivion', 'helsinki', 'stages', 'methods', 'stamford', 'acid', 'possessions', 'brokers', 'dilemma', 'counterparts', 'vacancies', 'environment', 'proteins', 'leroy', 'limited', 'options', 'aftereffects', 'edge', 'honors', 'steven', 'tows', 'sangyo', 'utsumi', 'nemeth', 'bitterness', 'metallgesellschaft', 'nederlanden', 'development', 'retailers', 'gaithersburg', 'proposition', 'courtroom', 'basin', 's.i.', 'soho', 'wellcome', 'chairman', 'courage', 'monetary', 'stearn', 'lady', 'hud', 'robert', 'week', 'al', 'proportion', 'jam', 'rhetoric', 'offering', 'editor', 'subcommittee', 'chinchon', 'islamabad', 'wayne', 'americana', 'weatherly', 'friday', 'tools', 'bass', 'picture', 'fan', 'designation', 'length', 'errors', 'core', 'preston', 'video', 'fairness', 'inns', 'zinc', 'letter', 'tone', 'hhs', 'limited-partnership', 'katzenstein', 'sports', 'catholic', 'australian', 'lender', 'dozens', 'garry', 'worksheets', 'disposal', 'steve', 'trap', 'perch', 'spiro', 'guards', 'northeast', 'machinery', 'reduction', 'leo', 'gaf', 'teaching', 'clothing', 'duchossois', 'nixon', 's.p.a.', 'assurance', 'chong-sik', 'burnham', 'sentiment', 'different', 'sickness', 'co-author', 'alcohol', 'returns', 'news-american', 'likelihood', 'glaxo', 'incentive-bonus', 'centennial', 'pap', 'passenger-car', 'drink', 'stones', 'spence', 'mortgages', 'sellers', 'victims', 'acre', 'thumbs', 'unicorp', 'dunn', 'manufacturer', 'harm', 'pie', 'sauternes', 'bowery', 's.', 'upham', 'opponents', 'rust', 'fees', 'iras', 'appeals', 'ratner', 'equity', 'accountability', 'tunes', 'brussels', 'gut', 'husband', 'candidate', 'fall', 'ad', 'replies', 'desires', 'guber\\\\/peters', 'ton', 'marbles', 'procurement', 'cathedral', 'addiction', 'parent', 'consensus', 'doctorate', 'star', 'decliners', 'supply', 'scheme', 'niches', 'marine', 'veraldi', 'corton-charlemagne', 'spot', 'pyramids', 'mining', 'array', 'sunlight', 'buyer', 'panama', 'broadcasting', 'stork', 'acceptances', 'joys', 'latter', 'chip', 'agencies', 'goal', 'islands', 'rewards', 'areas', 'water-authority', 'management', 'pricings', 'gangs', 'andrea', 'promotions', 'bronze', 'race', 'telephone-information', 'relief', 'winners', 'pc', 'offender', 'idea', 'all', 'measure', 'berliner', 'upjohn', 'toronto', 'removal', 'daiwa', 'position', 'law', 'element', 'analysts', 'fear', 'constitutional', 'brace', 'mexico', 'whip', 'store', 'mousseline', 'coordinator', 'saturday', 'christmas', 'trading', 'pact', 'vansant', 'reversal', 'manfred', 'and', 'cycles', 'electricity', 'era', 'obligations', 'sundays', 'valrico', 'action', 'staff-reduction', 'warehouse', 'directorship', 'sound', 'philosophy', 'editions', 'leeway', 'copyright', 'skill', 'amendments', 'plo', 'vetoes', 'indonesia', 'nikkei', 'wis.', 'box', 'approach', 'models', 'technology', 'rubinfien', 'small-company', 'betting', 'colorado', 'basis', 'funding', 'address', 'vicar', 'asia', 'birmingham', 'iowa', 'beach', 'lindner', 'property\\\\/casualty', 'uses', 'signals', 'f', 'landfills', 'stairs', 'pauline', 'stature', 'tie-in', 'assault', 'doctor', 'refunding', 'factory', 'liabilities', 'riyadh', 'rap', 'wong', 'brain', 'superdome', 'gray', 'palestinian', 'liquidation', 'depository', 'threat', 'electorate', 'proceedings', 'africa', 'gifts', 'seoul', 'tete-a-tete', 'opinions', 'mather', 'nrdc', 'decades', 'suffering', 'legal', 'peals', 'piece', 'univest', 'rms', 'ingenuity', 'mcmillin', 'photograph', 'decision', 'seed', 'manager', 'chips', 'students', 'cigna', 'rapport', 'card', 'bangkok', 'sanderoff', 'summons', 'manufacturers', 'georgia-pacific', 'catch', 'muscolina', 'suspensions', 'friend', 'pitney', 'matthew', 'comtes', 'life', 'force', 'team', 'debt', 'lawsuits', 'philippines', 'currencies', 'staff', 'ltd', 'wild', 'critics', 'halts', 'identities', 'lurie', 'crib', 'meals', 'voa', 'advent', 'answers', 'matters', 'behavior', 'mexican', 'nev.', 'maryland', 'gamut', 'dorothy', 'dana-farber', 'miners', 'amounts', 'clause', 'spiders', 'fortunes', 'funds', 'mortgage', 'aspect', 'chapman', 'filling', 'ingredients', 'conferees', 'barrier', 'programs', 'elephant', 'doak', 'relationship', 'farmers', 'remodeling', 'ushers', 'topics', 'choice', 'label', 'shortage', 'bennett', 'ability', 'marcus', 'leader', 'sigmund', 'police', 'source', 'fasteners', 'raul', 'douglas', 'bowl', 'purina', 'greenmailer', 'auction', 'window', 'sell', 'salon', 'employees', 'simeon', 'disputes', 'efforts', 'newsroom', 'pratt', 'rulings', 'monticello', 'w.r.', 'correspondence', 'guide', 'slab', 'lobsenz', 'assembly-line', 'laurels', 'transportation', 'disorders', 'talk-show', 'statement', 'barbaresco', 'edition', 'queers', 'shovels', 'tomorrow', 'hits', 'fault', 'profession', 'madison', 'bushel', 'opinion', 'u.s.', 'departure', 'benchmarks', 'capitalism', 'cutbacks', 'trinity', 'kobe', 'syndicate', 'democrats', 'rosenblum', 'boosters', 'shirts', 'intelligence', 'piero', 'cuts', 'british', 'participant', 'case', 'aircraft', 'profits', 'lorenzo', 'chest', 'subject', 'donor', 'destinations', 'custom', 'mccormick', 'chamber', 'jim', 'conglomerate', 'indicators', 'bakery', 'train', 'bramalea', 'underwriter', 'koito', 'freedom', 'gardner', 'harvard', 'goldsmith', 'commerce', 'instances', 'merc', 'cheerleaders', 'craftsmen', 'texaco', 'worries', 'ropes', 'anti-abortionists', 'diseases', 'characters', 'future', 'raymond', 'hazards', 'onus', 'operators', 'homes', 'bills', 'dodger', 'eurodollars', 'fahrenheit', 'whas', 'allergan', 'cheetham', 'economy', 'r.i.', 'gaja', 'ichiro', 'grandstander', 'furniture', 'pricing', 'fatalities', 'accommodations', 'supporters', 'mechanism', 'articles', 'premiere', 'drew', 'people', 'advertising', 'guerrillas', 'executives', 'survivor', 'sullivan', 'hours', 'index-fund', 'folio', 'mcauley', 'completion', 'spaces', 'railcar', 'museum', 'baker', 'lynch', 'hammerschmidt', 'marathon', 'county', 'integration', 'telecommunications', 'homosexual', 'nielsen', 'hint', 'social-studies', 'editors', 'dresser', 'teacher', 'backdrop', 'joseph', 'stakes', 'respect', 'spiegel', 'perceptions', 'itc', 'multiples', 'mogavero', 'access', 'phone', 'polyester', 'vos', 'finland', 'issuers', 'chinese-american', 'wilcox', 'playwright', 'marietta', 'extent', 'meinders', '1980s', 'deng', 'oils', 'ferc', 'equal', 'brokerage', 'word-processing', 'antinori', 'rights', 'koizumi', 'privacy', 'pencil', 'standing', 'pcs', 'jeopardy', 'sony', 'duty', 'bottom', 'morita', 'class', 'garret', 'macdonald', 'settlement', 'creator', 'majority', 'coche-dury', 'avenue', 'pickups', 'mount', 'e.w.', 'loyalty', 'colleagues', 'chaplin', 'incentives', 'criteria', 'associates', 'block', 'r', 'gold', 'telerate', 'britta', 'manila', 'screens', 'lewis', 'filter', 'dell', 'credibility', 'wealth', 'haruki', 'lungs', 'byron', 'thailand', 'salt', 'treasury', 't-shirts', 'capitol', 'bedding', 'judges', 'buildup', 'response', '55-year-old', 'domaine', 'ship', 'marchand', 'elimination', 'municipality', 'susan', 'ones', 'versions', 'parkinson', 'mother', 'ymca', 'shipping', 'disruption', 'len', 'ross', 'bang', 'corazon', 'st.', 'competitors', 'komatsu', 'headquarters', 'corruption', 'oy', 'dydee', 'inefficiencies', 'f.', 'exit', 'production', 'studio', 'discount', 'alleghany', 'arrangements', 'dollar', 'aisles', 'rentals', 'personnel', 'computer-services', 'cia', 'longtime', 'cigarette', 'loops', 'reporter', 'columns', 'story', 'program', 'alliance', 'imsai', 'mo.', 'boogieman', 'burgundies', 'difficulty', 'cray-3', 'braidwood', 'meatpacking', 'kelli', 'atlanta', 'model', 'quality', 'henry', 'piscataway', 'pa', 'nameplate', 'entrants', 'balance', 'olympic', 'faulding', 'korea', 'prebon', 'black', 'retort', 'honduras', 'insurance-company', 'administration', 'westminster', 'strip', 'harry', 'brooke', 'commissions', 'transition', 'takeshi', 'i.', 'wings', 'marion', 'authorities', 'soldiers', 'yielding', 'wonder', 'trafficking', 'shelter', 'battles', 'morass', 'candlestick', 'approval', 'salty', 'space', 'berlin', 'restrictions', 'angier', 'patricia', 'professionals', 'hadson', 'cataract', 'haul', 'illinois', 'floyd', 'aktiebolaget', 'dumpster', 'turnaround', 'tapes', 'performance', 'delmont', 'scoop', 'foods', 'insiders', 'cause', 'pont', 'suppliers', 'billions', 'packages', 'la', 'rogers', 'soups', 'cartilage', 'ancient', 'patients', 'club', 'united', 'dams', 'hartford', 'b-1b', 'feature', 'films', 'mcalpine', 'billings', 'hans', 'creams', 'arabian', 'one-upsmanship', 'nilson', 'olson', 'abortions', 'caretaker', 'lawmakers', 'lids', 'pace', 'subsidiary', 'daily', 'mara', 'keith', 'financing', 'imhoff', 'hammerton', 'lobster', 'port', 'platinum', 'mistakes', 'dolphins', 'diagram', 'couples', 'jenrette', 'trouble', 'bottle', 'warsaw', 'change-ringing', 'jeweler', 'batting', 'form', 'marketing-communications', 'movie', 'palmer', 'scotland', 'aptitude', 'money-fund', 'marketers', 'tree', 'moleculon', 'upturn', 'type', 'collapse', 'ralston', 'resistance', 'pa.', 'lore', 'life-insurance', 'practice', 'fulbright', 'foreigners', 'crusade', 'compound', 'mario', 'renovation', 'church', 'baskets', 'style', 'subskills', 'prescription', 'beverage', 'coast', 'nofzinger', 'wake', 'm.d.', 'underwoods', 'technologies', 'irwin', 'collar', 'guigal', 'fears', 'lilly', 'ga.', 'metal', 'irs', 'paramount', 'ballantine\\\\/del', 'butterfly', 'garanti', 'scrutiny', 'hay', 'bank', 'friends', 'minneapolis', 'audit', 'downtown', 'massachusetts', 'exemption', 'developer', 'export', 'scotia', 'restaurant', 'river', 'plans', 'nichol', 'ubs', 'altar', 'hackensack', 'line', 'boys', 'principle', 'portfolio', 'results', 'emigres', 'norwest', 'restructurings', 'rally', 'enterprise', 'midvale', 'supreme', 'labor', 'somerset', 'incest', 'newsweek', 'campaigner', 'justices', 'times-stock', 'asada', 'music', 'fights', 'regret', 'single-family', 'wedtech', 'blow', 'foldability', 'coconut', 'mac', 'iran\\\\/contra', 'mobster', 'adams', 'rexinger', 'thirtysomething', 'debate', 'intecknings', 'mainland', 'inheritor', 'smith', 'fire', 'newspaper-printing', 'ruling', 'collateral', 'risk', 'fixes', 'rises', 'century', 'portion', 'terrine', 'debenture', 'bulldozers', 'tissues', 'tax', 'chronicle', 'sheets', 'killings', 'chilver', 'election', 'acquirer', 'simmons', 'assaults', 'desire', 'spaghetti', 'deals', 'press', 'shoulder', 'consolidated', 'spokeswoman', 'peng', 'merchandising', 'partnership', 'regulatory', 'cambridge', 'values', 'mellon', 'chapter', 'overseas', 'wholesaler', 'novelist', 'composite', 'decrease', 'range', 'foster', 'worship', 'barclays', 'tv', 'engineers', 'copyrights', 'licensing', 'mania', 'clarence', 'brigham', 'takuma', 'text', 'owners', 'bonds', 'vehicle', 'wilson', 'suitors', 'nesconset', 'wholesale', 'random', 'oxnard', 'percent', 'politics', 'genetics', 'newhouse', 'dean', 'costs', 'repair', 'launch', 'reupke', 'ec', 'denial', 'brand', 'claim', 'avrett', 'tea', 'three-sevenths', 'corn', 'dahl', 'george', 'marubeni', 'episodes', 'ankle', 'pasta', 'advantage', 'tatsunori', 'trailer', 'issuer', 'ill.', 'boots', 'flexibility', 'equitable', 'branches', 'night', 'swing', 'hahn', 'group', 'rout', 'martyr', 'malaysia', 'paycheck', 'edwin', 'nervousness', 'tire-kickers', 'blood-cell', 'francisco', 'subjects', 'savers\\\\/investors', 'solicitation', 'rubicam', 'communication', 'third-quarter', 'licenses', 'congregation', 'swearingen', 'modems', 'neanderthals', 'baking', 'n.m.', 'yamaichi', 'harris', 'erasures', 'wines', 'princeton', 'sloan', 'institutions', 'crime', 'goldman', 'america', 'najarian', 'valuation', 'escrow', 'japanese', 'instruction', 'obsession', 'yesterday', 'ftc', 'assertion', 'hitachi', 'psychiatry', 'guest', 'lights', 'namibia', 'number', 'brown', 'shareholder', 'n.c', 'revenue', '8300s', 'achievement', 'harmony', 'groucho', 'smokers', 'vineyard', 'jones', 'influence', 'norwick', 'hormone', 'expenditures', 'valhi', 'kansas', 'ncnb', 'corners', 'minimum-wage', 'caller', 'frankfurt', 'size', 'dislike', 'patterns', 'scandals', 'lens', 'reporting', 'index', 'kits', 'riese', 'revelations', 'redemption', 'felten', 'nicholas', 'heavy', 'bond', 'complaints', 'maturities', 'boca', 'taipei', 'wfrr', 'corps', 'reservations', 'trading-company', 'audience', 'markkaa', 'advertisements', 'states', 'bellows', 'forms', 'offenders', 'rancor', 'escape', 'solutions', 'circle', 'peabody', 'giuliani', 'license', 'ronald', 'standard', 'wellington', 'storm', 'mistake', 'potables', 'dd', 'chardonnays', 'ps', 'anyone', 'enright', 'entity', 'weakness', 'geneva', 'import', 'ariail', 'retirement', 'officials', 'trial', 'great', 'female', 'dallas', 'hub', 'rebound', 'remorse', 'medical', 'judah', 'taxes', 'donald', 'jennison', 'fines', 'dealings', 'celebrity', 'filing', 'deterioration', 'depositary', 'school', 'settlements', 'screenwriters', 'linda', 'material', 'struggle', 'stockbroker', 'attorneys', 'ray', 'atmosphere', 'play', 'dogs', 'son', 'improvements', 'zealand', 'package', 'blanc', 'greece', 'waste', 'talk', 'newsstands', 'alstyne', 'hale', 'theory', 'microprocessors', 'witnesses', 'security', 'fulham', 'warranties', 'impediments', 'huber', 'czechoslovakia', 'battery', 'heebie-jeebies', 'temptation', 'character', 'overproduction', 'crookery', 'ellis', 'scypher', 'knopf', 'liquid', 'default', 'front', 'francs', 'general', 'woodward', 'prerogative', 'breakey', 'materials', 'kindness', 'a.', 'allegations', 'scholar', 'premises', 'segment', 'paper', 'bridges', 'toilet', 'cincinnati', 'finmeccanica', 'b.', 'jimmy', 'corporation', 'membership', 'vacation', 'swaps', 'businessmen', 'penalty', 'containers', 'associate', 'bonnell', 'bid', 'bowes', 'chassis', 'aides', 'disputada', 'driscoll', 'plate', 'backyard', 'year-end', 'roofs', 'cup-tote', 'f.h.', 'maclellan', 'weight', 'noble', 'sparkplugs', 'cheerleading', 'brunswick', 'loan', 'arbs', 'apple', 'semesters', 'margin', 'explorer', 'indication', 'proponent', 'inventor', 'clock', 'responsibilities', 'salvador', 'barfield', 'captive', 'impact', 'berman', 'village', 'chatsworth', 'panel', 'judge', 'central', 'psychiatrist', 'lotions', 'coniston', 'days', 'bell', 'justice', 'means', 'park', 'conn', 'consequences', 'receivers', 'swift', 'sandberg', 'midtown', 'flightiness', 'tray', 'sky', 'surprise', 'hot', 'worms', 'bailey', 'rev.', 'expression', 'thrifts', 'piracy', 'partisans', 'rocket', 'indicator', 'mill', 'compositions', 'refocusing', 'self', 'ford', 'growths', 'penalties', 'muramatsu', 'alfred', 'rbc', 'powder', 'mesothelioma', 'trust', 'rise', 'champagne', 'ethics', 'manipulators', 'incentive', 'millis', 'plantation', 'launch-vehicle', 'tourism', 'march', 'skepticism', 'readings', 'ganes', 'relations', 'ordeal', 'lawless', 'ordnance', 'posts', 'bumkins', 'lazzaroni', 'boesel', 'mutual-fund', 'skin', 'firings', 'applications', 'citations', 'turmoil', 'n.v.', 'educational', 'alert', 'subminimum', 'reporters', 'cow', 'author', 'mariotta', 'arabia', 'generalizations', 'margins', 'mifflin', 'spread', 'minister', 'percentage', 'male', 'zayed', 'mae', 'sentence', 'takashima', 'situations', 'claims', 'ddb', 'miguel', 'bougainville', 'society', 'sir', 'jerry', 'dailies', 'weisfield', 'indictment', 'tramp', 'bellwether', 'conditions', 'freshbake', 'wave', 'at&t', 'bone', 'messrs.', 'apartment', 'slew', 'investigations', 'shame', 'countries', 'karl', 'adviser', 'phobias', 'drawing', 'anthony', 'lebanon', 'bells', 'waertsilae', 'californian', 'csv', 'intoxication', 'primerica', 'lot', 'buffet', 'baim', 'mcguigan', 'children', 'lawyer', 'laurence', 'joni', 'wafers', 'minn.', 'demise', 'antitrust', 'banks', 'hill', 'notch', 'teddy', 'column', 'stoppage', 'entrance', 'demonstrators', 'aba', 'neoprene', 'richebourg', 'dick', 'chefs', 'deviation', 'front-seat', 'switzerland', 'helm', 'anxieties', 'integrity', 'lurgi', 'nagymaros', 'japan', 'willingness', 'perception', 'speed', 'landowners', 'sum', 'viewpoints', 'capital', 'chateau', 'working', 'blunt', 'strike', 'bell-ringer', 'university', 'bricks', 'bund', 'congressman', 'knight', 'linden', 'zuckerman', 'tort', 'credit', 'kong', 's.p', 'committee', 'seafood', 'neuberger', 'sonny', 'makato', 'starters', 'branch', 'reasons', 'dust-up', 'nebraska', 'guarantee', 'buying', 'fernando', 'gift', 'doubt', 'sherwin', 'polytechnic', 'purchases', 'kalipharma', 'murder', 'trs-80', 'hypocrisy', 'receipt', 'pulp', 'spokesman', 'root', 'job', 'e.', 'snow', 'patents', 'goverment', 'population', 'plea', 'task', 'richard', 'wertheim', 'landis', 'dole', 'smaby', 'delwin', 'complaint', 'white', 'crystal-lattice', 'functions', 'grader', 'champion', 'birds', 'liability', 'michael', 'cancers', 'consulting', 'boyfriends', 'coors', 'price', 'open', 'delaware', 'presidency', 'corporate', 'sweaters', 'yquem', 'du', 'significance', 'europe', 'usia', 'times', 'may', 'facts', 'bolduc', 'tactics', 'furukawa', 'greenville', 'magazines', 'embassy', 'selling', 'huntsville', 'fashion', 'reader', 'carnival', 'schroder', 'studies', 'couple', 'pakistan', 'griffin', 'hungary', 'schwab', 'beth', 'motion', 'jerritts', 'ft-se', 'low-altitude', 'representatives', 'colonsville', 'date', 'midwesco', 'cheese', \"o'connor\", 'oilman', 'datapoint', 'sweat', 'wash.', 'treatment', 'gregory', 'grains', 'investment', 'vendors', 'survival', 'indiana', 'david', 'elections', 'equipment', 'signet', 'charles', 'supplies', 'downgrading', 'building-products', 'balloon', 'are', 'moments', 'pardus', 'uncertainties', 'india', 'co', 'landing', 'consequence', 'producer', 'fingers', 'minicrash', 'man', 'savin', 'honor', 'commodore', 'guys', 'subscription', 'yang', 'lovett', 'advanced', 'spitler', 'rey\\\\/fawcett', 'bugs', 'darrell', 'hopes', 'proponents', 'deal', 'terrace', 'beneficiary', 'gates-warren', 'fortune', 'beatles', 'watches', 'northampton', 'salomon', 'cedric', 'asher', 'circuit', 'parts', 'wickliffe', 'vacancy', 'appellate', 'kindergarten', 'aerospace', 'evaluation', 'knife', 'catch-22', 'thanks', 'reality', 'principal', 'revenues', 'van', 'appliances', 'graduates', 'proposal', 'provisions', 'ingersoll-rand', 'profitability', 'ravenswood', 'carriers', 'ringing', 'railroad', 'valuations', 'blue', 'contra', 'guild', 'half', 'foot', 'planes', 'nicole', 'pepperidge', 'discrimination', 'fiber', 'ships', 'va.', 'shares', 'reinstatement', 'comparison', 'taste', 'recovery', 'foundation', 'council', 'underwriters', 'merchant', 'ethanol', 'imports', 'edwards', 'austin', 'mega-stadium', 'drums', 'purchasing', 'sidewalk', 'purhasing', 'lure', 'fret', 'houston', 'subtraction', 'industrials', 'wage', 'invention', 'drexel', 'atsushi', 'sea', 'utah', 'sandinista', 'ballpark', 'last', 'engineering', 'ark', 'bentsen', 'home', 'malta', 'school-board', 'bunny', 'ranger', 'drives', 'crunch', 'moore', 'penny', 'aerojet', 'latin', 'hope', 'cushion', 'orleans', 'hawke', 'craze', 'awareness', 'minus', 'skills', 'stanley', 'n.h.', 'resort', 'december', 'crisis', 'lehman', 'transplants', 'concession', 'holder', 'palace', 'bargains', 'nov.', 'violation', 'ariz.', 'calculator', 'downturn', 'merchandise', 'trades', 'saul', 'effects', 'amps', 'f.w.', 'pramual', 'center', 'crook', 'mehta', 'wound', 'independence', 'knowledge', 'cement', 'items', 'persons', 'conference', 'defendant', 'elevators', 'reins', 'stevens', 'catch-up', 'youth', 'cat', 'undertone', 'rock', 'february', 'viewers', 'requirement', 'anne', 'billing', 'orchestra', 'grants', 'russel', 'fact', 'adrs', 'courts', 'operator', 'mechanisms', 'games', 'morning', 'value', 'homebrew', 'genie', 'game', 'tribune', 'landrieu', 'freeway', 'beer-belly', 'print', 'slowdown', 'chemplus', 'california', 'hole', 'publicity', 'execution', 'writing', 'johnny', 'gop', 'disappointment', 'sociology', 'area', 'mitchell', 'gotta', 'confederation', 'zicklin', 'inception', 'mark', 'microwave', 'war', 'growth', 'giant', 'service', 'rim', 'section', 'sounds', 'journalists', 'england', 'hundreds', 'initiative', 'nbi', 'lesson', 'hobbyists', 'mercer', 'renewal', 'immense', 'generation', 'information-services', 'rapprochement', 'd.c.', 'toledo', 'arm', 'negotiator', 'blank', 'southeast', 'steelworkers', 'withdrawal', 'prerogatives', 'spielvogel', 'pennsylvania', 'tons', 'liners', 'tour', 'jackson', 'official', 'combinations', 'marketing', 'nutrition', 'item', 'mcgraw-hill', 'appreciation', 'accidents', 'private', 'electronics', 'talcott', 'bush', 'visit', 'retail', 'dissident', 'estate', 'projects', 'louisiana', 'petersen', 'phillip', 'mistrials', 'climate', 'egnuss', 'langner', 'novello', 'foreign', 'lane', 'variety', 'noodles', 'manufacturing', 'hormats', 'cs', 'prof', 'grand', 'vinken', 'syndication', 'graders', 'leon', 'role', 'hostage', 'rhythm', 'structure', 'giraud', 'gayle', 'vaccines', 'practical', 'discussion', 'dill', 'bickering', 'institution', 'kidnapper', 'danube', 'signboards', 'heartland', 'buy-outs', 'lobbies', 'vice', 'shortages', 'bidding', 'opportunity', 'table', 'printers', 'del', 'spending', 'carson', 'controls', 'manner', 'arlington', 'ogilvy', 'chrysler', 'emile', 'polyproplene', 'biscuit', 'troubled', 'lipsticks', 'father-in-law', 'beheading', 'checkbook', 'board', 'viacom', 'investor-relations', 'profit', 'lyle', 'american', 'stockholders', 'michelin', 'voters', 'antonio', 'colo.', 'chemicals', 'scores', 'arbitragers', 'reps', 'therapies', 'wires', 'goblins', 'metals', 'netware', 'raspberry', 'deane', 'one-third', 'agency', 'phacoflex', 'seahorse', 'myron', 'everyone', 'prosecution', 'tenn.', 'discounts', 'floor', 'constituent', 'n.y.', 'fundamentalists', 'dessert', 'company', 'cleanup', 'real-estate', 'groton', 'safety', 'germans', 'joy', 'superconductor', 'strength', 'gordon', 'printing-press', 'fraud', 'load', 'gallon', 'inland', 'tarwhine', 'walls', 'chunk', 'duluth', 'putty', 'men', 'pattenden', 'borrowers', 'participants', 'bulk', 'spinoff', 'minutes', 'acquisition', 'barriers', 'observations', 'gelles', 'procedure', 'creditors', 'scholastic', 'angle', 'minority', 'express-buick', 'akerfeldt', 'cross', 'rapists', 'pilots', 'steelmaker', 'cut', 'inventiveness', 'wilton', 'droz', 'expansion', 'effort', 'welfare', 'outlays', 'realization', 'architecture', 'cane', 'trump', 'lotter', 'disclosure', 'predecessor', 'oliver', 'eggers', 'destination', 'libor', 'existence', 'death', 'ilminster', 'maximum', 'pretoria', 'aids', 'consumers', 'fits', 'counter', 'jovanovich', 'acres', 'decay', 'anti-programmers', 'schoolchildren', 'absurdity', 'human', 'negotiators', 'program-trading', 'lyn', 'start-up', 'shivers', 'us', 'local', 'closing', 'woodrow', 'creek', 'baltimore', 'c.j.b.', 'florida', 'heritage', 'maze', 'morrison', 'cosmopolitan', 'pan', 'roosevelt', 'kathleen', 'maxwell', 'slack', 'depression', 'content', 'phase-out', 'peal', 'dinosaurs', 'ntg', 'engineer', 'platitudes', 'region', 'communications', 'cousins', 'image', 'cellar', 'sino-u.s.', 'requests', 'lucille', 'sewer', 'housewife', 'penchant', 'representative', 'motors', 'signal', 'hubbard', 'co-developers', 'chairs', 'commitments', 'skirmishes', 'elmhurst', 'run', 'operation', 'perspective', 'goodies', 'sherwood', 'buy', 'surplus', 'sensation', 'tire', 'mississippi', 'capsules', 'boilers', 'cabernets', 'wives', 'authority', 'mail', 'barth', 'illuminating', 'weather', 'innovation', 'species', 'duke', 'barometer', 'blood', 'proposals', 'mccabe', 'rival', 'telegraph', 'situation', 'glass', 'plants', 'reforms', 'environmental', 'stake', 'merger', 'camille', 'scams', 'novell', 'jury', 'emphasis', 'succession', 'federalist', 'megabytes', 'factories', 'plane', 'schools', 'buckle', 'protection', 'ritual', 'worth', 'phillips', 'loser', 'coaching', 'driver', 'sub-markets', 'diversification', 'employment', 'therapy', 'economist', 'gasoline', 'dutch', 'downfall', 'grace', 'binge', 'backer', 'crocidolite', 'pages', 'backgrounds', 'zone', 'set', 'movements', 'superconductors', 'watanabe', 'bunches', 'software', 'petersburg', 'israel', 'sogo-shosha', 'italy', 'furillo', 'jolts', 'buick', 'wilbur', 'wizards', 'recyclability', 'markup', 'wine', 'subindustry', 'overtime', 'incident', 'gyrations', 'end', 'belts', 'truck', 'marge', 'n.', 'pacific', 'pets', 'sufficiency', 'tube', 'aslacton', 'sides', 'milestones', 'alcoholism', 'resumption', 'contrast', 'traficant', 'elite', 'inflation', 'binders', 'computers', 'count', 'year', 'bomb', 'photos', 'nationale', 'midwest', 'payment', 'nomenklatura', 'poland', 'carballo', 're-election', 'acid-rain', 'acquirers', 'howard', 'envoy', 'unavailability', 'quotas', 'debut', 'exodus', 'request', 'museums', 'telephone', 'henderson', 'court', 'gencorp', 'products', 'repayment', 'hallett', 'n.j', 'legislation', 'variation', 'player', 'scholars', 'bombs', 'syracuse', 'hopkins', 'beginning', 'shows', 'managements', 'credits', 'structures', 'rings', 'ames', 'prizes', 'phipps', 'pollution', 'sheep', 'pretax', 'middle', 'requirements', 'volatility', 'washington', 'prospect', 'escort', 'cult', 'similarity', 'no.', 'yorkers', 'ban', 'transactions', 'state', 'panic', 'equus', 'clays', 'baseball', 'investing', 'terrorists', 'floors', 'plainclothes', 'cigarettes', 'cake', 'marvin', 'designers', 'bhutto', 'glitches', 'lauderhill', 'coal', 'reservoirs', 'marie', 'mahoney', 'pharaohs', 'hazell', 'bon', 'warming', 'inverse', 'cards', 'collins', 'metropolitan', 'administrators', 'hasbrouk', 'evening', 'shrum', 'regulations', 'diaper', 'garrison', 'kean', 'weekends', 'minera', 'dunkin', 'cbs', 'protocols', 'platforms', 'might', 'roederer', 'evolution', 'currency', 'heads', 'pressman', 'past', 'photographs', 'record', 'efficiency', 'weeklies', 'allen', 'mortgage-backed', 'westborough', 'shipbuilding', 'halls', 'experts', 'agreements', 'lsi', 'purposes', 'gambler', 'marriages', 'agreed', 'sewing-machine', 'einhorn', 'new', 'alcoholics', 'precious', 'projector', 'beneficiaries', 'reames', 'field', 'separately', 'appointments', 'preference', 'concern', 'handling', 'sabhavasu', 'clearance', 'divergence', 'beirut', 'expenses', 'unitholders', 'rotie', 'judgment', 'literature', 'bias', 'julia', 'usa', 'eye', 'likeness', 'ms.', 'magna'}\n"
     ]
    }
   ],
   "source": [
    "# checking the text for which 'NOUN' tag is used\n",
    "\n",
    "print(set(\n",
    "    [tpl[0].lower() for pair in nltk_data for tpl in pair \n",
    "                                        if tpl[1] == 'NOUN']\n",
    "         ))"
   ]
  },
  {
   "cell_type": "code",
   "execution_count": 7,
   "metadata": {
    "scrolled": true
   },
   "outputs": [
    {
     "name": "stdout",
     "output_type": "stream",
     "text": [
      "{'*-47', '*t*-122', '*t*-127', '*-3', '*t*-185', '*-162', '*t*-47', '*-14', '*-136', '*-64', '*-4', '*t*-190', '*t*-121', '*t*-112', '*t*-218', '*-102', '*t*-166', '*t*-83', '*-95', '*-29', '*t*-40', '*t*-177', '*-117', '*t*-220', '*t*-86', '*t*-116', '*-83', '*-51', '*t*-165', '*t*-87', '*-135', '*-22', '*-121', '*-27', '*t*-76', '*-81', '*-94', '*t*-117', '*t*-119', '*t*-227', '*-142', '*t*-68', '*t*-133', '*-105', '*-76', '*t*-103', '*-132', '*-139', '*t*-217', '*-66', '*t*-191', '*ppa*-2', '*t*-248', '*t*-140', '*t*-124', '*-118', '*t*-9', '*t*-228', '*t*-193', '*t*-210', '*-164', '*t*-78', '*exp*-1', '*t*-183', '*t*-144', '*t*-64', '*t*-239', '*t*-224', '*-93', '*-20', '*t*-255', '*t*-3', '*t*-61', '*t*-125', '*t*-130', '*t*-204', '*-36', '*t*-110', '*t*-55', '*t*-33', '*-45', '*-111', '*t*-159', '*t*-253', '*-21', '*-25', '*-99', '*t*-235', '*t*-71', '*t*-242', '*t*-39', '*t*-157', '*t*-97', '*-87', '*t*-211', '*t*-142', '*t*-69', '*t*-167', '*-130', '*t*-25', '*-82', '*t*-254', '*t*-139', '*t*-243', '*t*-181', '*-40', '*-123', '*-146', '*t*-214', '*-13', '*-17', '*t*-206', '*t*-63', '*-60', '*t*-49', '*-157', '*rnr*-1', '*-78', '*-112', '*t*-251', '*t*-7', '*-11', '*ich*-2', '*t*-82', '*t*-115', '*-113', '*t*-113', 'oh', '*t*-32', '*-140', '*-28', '*-5', '*t*-28', '*t*-256', '*-147', '*-129', '*t*-15', '*t*-129', '*-88', '*-31', '*-127', '*t*-174', '*t*-105', '*t*-99', '*not*', '*-48', '*-133', '*-150', 'perestroika', '*-23', '*t*-201', '*-16', '*t*-222', '*-155', '*t*-88', '*-141', '*-71', '&', '*t*-5', '*t*-151', '*-50', '*t*-118', '*t*-212', '*t*-85', '*-96', '*-77', '*t*-259', '*t*-8', '*t*-208', '*t*-186', '*-125', '*-35', '*t*-91', '*t*-81', '*t*-163', 'de', '*-67', '*-85', '*t*-237', '*-46', '*t*-200', '*t*-158', '*t*-11', '*-131', '*-30', '*t*-184', '*t*-27', '*-10', '*-54', '*-151', '*t*-20', '*t*-176', '*t*-168', '*-158', '*-68', '*t*-96', '*-90', '*t*-2', '*t*-137', '*t*-141', '*-137', '*t*-44', '*t*-111', '*-69', '*t*-16', '*t*-135', '*-109', '*t*-198', '5', '*t*-240', '*t*-149', '*t*-77', '1', '*t*-245', '*t*-80', '*-15', '*t*-38', '*t*-252', '*-152', '*-61', '*t*-156', '*t*-134', '*t*-6', '*t*-226', '*t*-106', '2', '*t*-24', '*-84', '*t*-161', '*t*-221', '*t*-246', '*-149', '*t*-17', '*-153', '*t*-51', '*-122', '*t*-232', '*-42', '*-6', '*t*-150', '*t*-171', '*t*-93', '*t*-13', '3', '*t*-175', '*t*-53', '*-19', '*-39', '*t*-260', '*t*-203', '*t*-52', '*-103', '*-97', '*t*-95', '*t*-30', '*t*-249', '*t*-70', '*t*-160', '*-24', '*t*-54', '*?*', '*t*-59', '*t*-138', '*-161', '*ich*-3', '*t*-230', '*t*-146', '*t*-229', '*t*-89', '*t*-154', '*exp*-3', '*t*-74', 'a', '*t*-4', '*t*-10', '*t*-152', '*t*-205', '*t*-100', '*t*-12', '*t*-170', '*t*-31', '*t*-257', '*-100', '*t*-192', '*t*-107', '*t*-66', '*-26', '*-116', '*t*-197', '*-72', '*t*-153', '*t*-98', '*t*-65', '*t*-72', '*-126', 'etc.', '*-101', '*-74', '*-37', '*t*-194', '*t*-225', '*-62', '*ppa*-3', '*-75', '*-138', '*t*-188', '*t*-84', '*t*-101', '*-134', '*ich*-1', '4', '*t*-216', '*t*-19', '*-98', '*-73', '*t*-126', '*t*-199', '*-145', '*t*-136', '*t*-35', '*-12', '*-18', '*rnr*-4', '*t*-147', '*t*-37', '*-166', '*t*-162', 'b', '*-114', '*t*-143', '*t*-109', '*-57', '*t*-102', '*t*-215', '0', '*t*-241', '*t*-244', '*t*-234', '*t*-67', '*t*-104', '*-159', '*-89', '*-52', '*t*-26', '*-110', '*t*-46', '*t*-169', '*t*-92', '*t*-179', '*-115', '*-108', '*t*-187', '*t*-236', '*t*-238', '*-144', 'ok', '*t*-219', '*t*-196', '*-9', '*t*-164', '*-33', '*t*-195', '*t*-120', '*t*-114', '*t*-131', 'besuboru', '*t*-21', '*-119', '*t*-155', '*-63', '*-43', '*-86', '*t*-202', '*t*-75', '*-58', '*t*-79', '*', '*t*-42', '*t*-22', '*t*-148', '*-1', '*t*-108', '*-80', '*t*-56', '*t*-14', '*-128', '*t*-45', '*ppa*-1', '*t*-18', '*-91', '*t*-41', '*-104', '*-7', '*t*-223', '*t*-247', '*-44', '*exp*-2', '*-53', '*-106', '*-2', '*t*-250', '*-34', '*-160', '*t*-213', '*t*-145', '*t*-182', '*t*-178', '*t*-172', '*-79', '*t*-189', '*t*-60', '*t*-62', '*t*-173', '*-165', '*ich*-4', '*t*-132', '*-49', '*t*-29', '*-70', '*t*-57', '*-8', '*-154', '*-92', '*-107', '*t*-43', '*-41', '*-56', '*t*-94', '*-124', '*t*-180', '*t*-233', '*-120', '*-163', '*t*-1', '*t*-34', '*t*-23', '*-38', '*t*-207', '*t*-48', '*t*-123', '*t*-36', '*-55', '*-156', 'no', '*t*-50', '*t*-231', '*t*-73', '*t*-58', '*-32', '*-59', '*u*', '*t*-128', '*t*-258', '*rnr*-2', '*t*-90'}\n"
     ]
    }
   ],
   "source": [
    "# checking the text for which 'X' tag is used\n",
    "\n",
    "print(set(\n",
    "    [tpl[0].lower() for pair in nltk_data for tpl in pair \n",
    "                                        if tpl[1] == 'X']\n",
    "         ))\n",
    "\n",
    "# as per the documentation 'X' tag is used for foreign words.\n",
    "# https://www.nltk.org/_modules/nltk/tag/mapping.html"
   ]
  },
  {
   "cell_type": "markdown",
   "metadata": {},
   "source": [
    "#### Splitting the data into train and test sets"
   ]
  },
  {
   "cell_type": "code",
   "execution_count": 8,
   "metadata": {
    "scrolled": false
   },
   "outputs": [
    {
     "name": "stdout",
     "output_type": "stream",
     "text": [
      "3718\n",
      "196\n",
      "[[('But', 'CONJ'), ('Japan', 'NOUN'), (\"'s\", 'PRT'), ('power', 'NOUN'), ('in', 'ADP'), ('the', 'DET'), ('region', 'NOUN'), ('also', 'ADV'), ('is', 'VERB'), ('sparking', 'VERB'), ('fears', 'NOUN'), ('of', 'ADP'), ('domination', 'NOUN'), ('and', 'CONJ'), ('posing', 'VERB'), ('fresh', 'ADJ'), ('policy', 'NOUN'), ('questions', 'NOUN'), ('.', '.')], [('They', 'PRON'), ('read', 'VERB'), ('Mickey', 'NOUN'), ('Spillane', 'NOUN'), ('and', 'CONJ'), ('talk', 'VERB'), ('about', 'ADP'), ('Groucho', 'NOUN'), ('and', 'CONJ'), ('Harpo', 'NOUN'), ('.', '.')], [('While', 'ADP'), ('program', 'NOUN'), ('trades', 'NOUN'), ('swiftly', 'ADV'), ('kicked', 'VERB'), ('in', 'ADP'), (',', '.'), ('a', 'DET'), ('``', '.'), ('circuit', 'NOUN'), ('breaker', 'NOUN'), (\"''\", '.'), ('that', 'DET'), ('*T*-1', 'X'), ('halted', 'VERB'), ('trading', 'NOUN'), ('in', 'ADP'), ('stock', 'NOUN'), ('futures', 'NOUN'), ('in', 'ADP'), ('Chicago', 'NOUN'), ('made', 'VERB'), ('some', 'DET'), ('program', 'NOUN'), ('trading', 'NOUN'), ('impossible', 'ADJ'), ('.', '.')], [('He', 'PRON'), ('is', 'VERB'), ('his', 'PRON'), ('own', 'ADJ'), ('man', 'NOUN'), ('.', '.')], [('While', 'ADP'), ('*-1', 'X'), ('acknowledging', 'VERB'), ('0', 'X'), ('one', 'NUM'), ('month', 'NOUN'), (\"'s\", 'PRT'), ('figures', 'NOUN'), ('do', 'VERB'), (\"n't\", 'ADV'), ('prove', 'VERB'), ('a', 'DET'), ('trend', 'NOUN'), (',', '.'), ('Mr.', 'NOUN'), ('Bretz', 'NOUN'), ('said', 'VERB'), (',', '.'), ('``', '.'), ('It', 'PRON'), ('does', 'VERB'), ('lead', 'VERB'), ('you', 'PRON'), ('to', 'PRT'), ('suspect', 'VERB'), ('0', 'X'), ('imports', 'NOUN'), ('are', 'VERB'), ('going', 'VERB'), ('down', 'ADV'), (',', '.'), ('or', 'CONJ'), ('at', 'ADP'), ('least', 'ADJ'), ('not', 'ADV'), ('increasing', 'VERB'), ('that', 'ADV'), ('much', 'ADV'), ('.', '.'), (\"''\", '.')]]\n"
     ]
    }
   ],
   "source": [
    "# as per the instructions, splitting the data into 95% train set and 5% test set\n",
    "random.seed(1234)\n",
    "train_set, test_set = train_test_split(nltk_data,test_size=0.05)\n",
    "\n",
    "print(len(train_set))\n",
    "print(len(test_set))\n",
    "print(train_set[:5])"
   ]
  },
  {
   "cell_type": "code",
   "execution_count": null,
   "metadata": {},
   "outputs": [],
   "source": []
  },
  {
   "cell_type": "markdown",
   "metadata": {},
   "source": [
    "### 2. Build the vanilla Viterbi based POS tagger"
   ]
  },
  {
   "cell_type": "code",
   "execution_count": 9,
   "metadata": {},
   "outputs": [],
   "source": [
    "# Getting list of tagged words\n",
    "train_tagged_words = [tup for sent in train_set for tup in sent]\n",
    "\n",
    "# number of tags\n",
    "T = set([pair[1] for pair in train_tagged_words])"
   ]
  },
  {
   "cell_type": "markdown",
   "metadata": {},
   "source": [
    "#### Emission probability"
   ]
  },
  {
   "cell_type": "code",
   "execution_count": 10,
   "metadata": {},
   "outputs": [],
   "source": [
    "# compute word given tag: Emission Probability\n",
    "\n",
    "def word_given_tag(word, tag, train_bag = train_tagged_words):\n",
    "    tag_list = [pair for pair in train_bag if pair[1].lower()==tag.lower()]\n",
    "    w_given_tag_list = [pair[0] for pair in tag_list if pair[0].lower()==word.lower()]\n",
    "    \n",
    "    return (len(w_given_tag_list), len(tag_list))"
   ]
  },
  {
   "cell_type": "markdown",
   "metadata": {},
   "source": [
    "#### Transition probability"
   ]
  },
  {
   "cell_type": "code",
   "execution_count": 11,
   "metadata": {},
   "outputs": [],
   "source": [
    "# compute tag given tag: tag2(t2) given tag1 (t1), i.e. Transition Probability\n",
    "\n",
    "def t2_given_t1(t2, t1, train_bag = train_tagged_words):\n",
    "    tags = [pair[1] for pair in train_bag]\n",
    "    count_t1 = len([t for t in tags if t==t1])\n",
    "    count_t2_t1 = 0\n",
    "    for index in range(len(tags)-1):\n",
    "        if tags[index]==t1 and tags[index+1] == t2:\n",
    "            count_t2_t1 += 1\n",
    "    return (count_t2_t1, count_t1)"
   ]
  },
  {
   "cell_type": "markdown",
   "metadata": {},
   "source": [
    "#### Viterbi Algorithm"
   ]
  },
  {
   "cell_type": "code",
   "execution_count": 12,
   "metadata": {},
   "outputs": [],
   "source": [
    "# creating t x t transition matrix of tags\n",
    "# each column is t2, each row is t1\n",
    "# thus M(i, j) represents P(tj given ti)\n",
    "\n",
    "tags_matrix = np.zeros((len(T), len(T)), dtype='float32')\n",
    "for i, t1 in enumerate(list(T)):\n",
    "    for j, t2 in enumerate(list(T)):\n",
    "        tags_matrix[i, j] = t2_given_t1(t2, t1)[0]/t2_given_t1(t2, t1)[1]"
   ]
  },
  {
   "cell_type": "code",
   "execution_count": 13,
   "metadata": {},
   "outputs": [],
   "source": [
    "# convert the matrix to a df for better readability\n",
    "tags_df = pd.DataFrame(tags_matrix, columns = list(T), index=list(T))"
   ]
  },
  {
   "cell_type": "code",
   "execution_count": 14,
   "metadata": {},
   "outputs": [],
   "source": [
    "# Viterbi Heuristic\n",
    "def Viterbi(words, train_bag = train_tagged_words):\n",
    "    state = []\n",
    "    \n",
    "    #extracting unique tags from the text\n",
    "    T = list(set([pair[1] for pair in train_bag]))\n",
    "    \n",
    "    #enumerate creates a tuple with key and the individual value passed in the enumerate function.\n",
    "    #in this case words. \n",
    "    \n",
    "    #E.g. l1 = [\"eat\",\"sleep\",\"repeat\"] \n",
    "    # print(l1) will result in (0, 'eat'), (1, 'sleep'), (2, 'repeat')\n",
    "    \n",
    "    for key, word in enumerate(words):\n",
    "        #initialise list of probability column for a given observation\n",
    "        p = [] \n",
    "        for tag in T:\n",
    "            if key == 0:\n",
    "                transition_p = tags_df.loc['.', tag]\n",
    "            else:\n",
    "                transition_p = tags_df.loc[state[-1], tag]\n",
    "                \n",
    "            # compute emission and state probabilities\n",
    "            emission_p = word_given_tag(words[key], tag)[0]/word_given_tag(words[key], tag)[1]\n",
    "            #######\n",
    "            #print(\"%s %s %s\" % (emission_p, word, tag))\n",
    "            #######\n",
    "            state_probability = emission_p * transition_p    \n",
    "            p.append(state_probability)\n",
    "            \n",
    "    # the loop executes for (words*tags) times. Therefore time is O(nt); where, n=words and t=tags.\n",
    "            \n",
    "        #print(p)\n",
    "        pmax = max(p)\n",
    "        ######\n",
    "        #print('pmax = %f, %s, %s' % (pmax, word, tag))\n",
    "        ######\n",
    "        \n",
    "        \n",
    "        # getting state for which probability is maximum\n",
    "        state_max = T[p.index(pmax)] \n",
    "        ######\n",
    "        #print('pmax = %f, %s, %s' % (pmax, word, state_max))\n",
    "        ######\n",
    "        \n",
    "        state.append(state_max)\n",
    "    return list(zip(words, state))"
   ]
  },
  {
   "cell_type": "code",
   "execution_count": 29,
   "metadata": {},
   "outputs": [],
   "source": [
    "# Viterbi Heuristic\n",
    "def Viterbi_updated(words, train_bag = train_tagged_words):\n",
    "    \n",
    "    #########################################################################\n",
    "    # Defining RegEx and Unigram tagger for tagging unknown words\n",
    "    \n",
    "    # specifying patterns for tagging as per the patterns found in the test sentences\n",
    "    # example from the NLTK book\n",
    "    patterns = [\n",
    "        (r'.*ing$', 'VERB'),                             # gerund\n",
    "        (r'.*ed$', 'VERB'),                              # past tense\n",
    "        (r'.*es$', 'VERB'),                              # 3rd singular present\n",
    "        (r'.*ould$', 'PRT'),                             # modals\n",
    "        (r'[A-Z]{1}([a-z]{1,})?([A-Z]{1,})?', 'NOUN'),   # words with capital letters\n",
    "        (r'.*\\'s$', 'NOUN'),                             # possessive nouns\n",
    "        (r'.*s$', 'NOUN'),                               # plural nouns\n",
    "        (r'([0-9])+(\\-|\\/)?([a-z]{2,3})?(\\-)?', 'NUM'),  # cardinal numbers and dates\n",
    "        (r'.*', 'NOUN')                                  # any word not found will be tagged as a noun\n",
    "    ]\n",
    "    \n",
    "    \n",
    "    \n",
    "    rule_based_tagger = nltk.RegexpTagger(patterns)\n",
    "    \n",
    "    # lexicon tagger is trained on the NLTK's Universal corpus.\n",
    "    # lexicon tagger, backed up by the rule-based tagger\n",
    "    lexicon_tagger = nltk.UnigramTagger(train_set, backoff=rule_based_tagger)\n",
    "    #########################################################################\n",
    "    \n",
    "    state = []\n",
    "    \n",
    "    #extracting unique tags from the text\n",
    "    T = list(set([pair[1] for pair in train_bag]))\n",
    "    \n",
    "    #enumerate creates a tuple with key and the individual value passed in the enumerate function.\n",
    "    #in this case words. \n",
    "    \n",
    "    #E.g. l1 = [\"eat\",\"sleep\",\"repeat\"] \n",
    "    # print(l1) will result in (0, 'eat'), (1, 'sleep'), (2, 'repeat')\n",
    "    \n",
    "    for key, word in enumerate(words):\n",
    "        #initialise list of probability column for a given observation\n",
    "        p = [] \n",
    "        for tag in T:\n",
    "            if key == 0:\n",
    "                transition_p = tags_df.loc['.', tag]\n",
    "            else:\n",
    "                transition_p = tags_df.loc[state[-1], tag]\n",
    "                \n",
    "            # compute emission and state probabilities\n",
    "            emission_p = word_given_tag(words[key], tag)[0]/word_given_tag(words[key], tag)[1]\n",
    "            #######\n",
    "            #print(\"%s %s %s\" % (emission_p, word, tag))\n",
    "            #######\n",
    "            state_probability = emission_p * transition_p    \n",
    "            p.append(state_probability)\n",
    "            \n",
    "    # the loop executes for (words*tags) times. Therefore time is O(nt); where, n=words and t=tags.\n",
    "            \n",
    "        #print(p)\n",
    "        pmax = max(p)\n",
    "        ######\n",
    "        #print('pmax = %f, %s, %s' % (pmax, word, tag))\n",
    "        ######\n",
    "        \n",
    "        if pmax == 0.0:\n",
    "            # if the emission probability of a word is 0 (meaning it's an unknown word) then use unigram tagger\n",
    "            state_max = (lexicon_tagger.tag([word])[0])[1]\n",
    "            \n",
    "        else:\n",
    "            # getting state for which probability is maximum\n",
    "            state_max = T[p.index(pmax)] \n",
    "\n",
    "        \n",
    "        state.append(state_max)\n",
    "    return list(zip(words, state))"
   ]
  },
  {
   "cell_type": "markdown",
   "metadata": {},
   "source": [
    "#### Evaluation on Test data set"
   ]
  },
  {
   "cell_type": "code",
   "execution_count": 16,
   "metadata": {},
   "outputs": [],
   "source": [
    "# creating a function to show list of words which were incorrectly tagged.\n",
    "\n",
    "def correction(output_of_viterbi_algo, testing_set):\n",
    "    return [\n",
    "                [\n",
    "                    j\n",
    "                ] \n",
    "\n",
    "                for i, j in enumerate(zip(output_of_viterbi_algo, testing_set))\n",
    "                    if j[0]!=j[1]\n",
    "            ]"
   ]
  },
  {
   "cell_type": "markdown",
   "metadata": {},
   "source": [
    "### 3. Solve the problem of unknown words"
   ]
  },
  {
   "cell_type": "markdown",
   "metadata": {},
   "source": [
    "#### 3.1 Analyzing how Viterbi Algoritm tags the new words"
   ]
  },
  {
   "cell_type": "markdown",
   "metadata": {},
   "source": [
    "Identifying patterns which may help in improving the problem of unknown words."
   ]
  },
  {
   "cell_type": "code",
   "execution_count": 30,
   "metadata": {
    "scrolled": true
   },
   "outputs": [
    {
     "name": "stdout",
     "output_type": "stream",
     "text": [
      "Vanilla Viterbi completed\n",
      "Updated Viterbi completed\n"
     ]
    }
   ],
   "source": [
    "# reading the Test_sentences.txt file and applying the viterbi algo, to see how the words are tagged.\n",
    "\n",
    "test_text = open('Test_sentences.txt', 'r')\n",
    "words = word_tokenize(test_text.read())\n",
    "#viterbi_tagged_wrds = Viterbi(words)\n",
    "print('Vanilla Viterbi completed')\n",
    "\n",
    "viterbi_tagged_wrds_upd = Viterbi_updated(words)\n",
    "print('Updated Viterbi completed')"
   ]
  },
  {
   "cell_type": "markdown",
   "metadata": {},
   "source": [
    "Here we can see that words (nouns) like 'Android', 'Google', 'Twitter', 'FIFA' etc. are tagged as 'ADP - adpositions (prepositions and postpositions)', because they were not present in the earlier corpus."
   ]
  },
  {
   "cell_type": "markdown",
   "metadata": {},
   "source": [
    "### 4. Evaluating tagging accuracy"
   ]
  },
  {
   "cell_type": "markdown",
   "metadata": {},
   "source": [
    "#### Evaluating tagging accuracy on Viterbi algorithm (checking Universal's train data vs test data)"
   ]
  },
  {
   "cell_type": "code",
   "execution_count": 95,
   "metadata": {},
   "outputs": [],
   "source": [
    "# Running on entire test dataset would take more than 3-4hrs. \n",
    "# Let's test our Viterbi algorithm on a few sample sentences of test dataset\n",
    "\n",
    "random.seed(1234)\n",
    "\n",
    "# choose random 20 sents\n",
    "rndom = [random.randint(1,len(test_set)) for x in range(20)]\n",
    "\n",
    "# list of sents\n",
    "test_run = [test_set[i] for i in rndom]\n",
    "\n",
    "# list of tagged words\n",
    "test_run_base = [tup for sent in test_run for tup in sent]\n",
    "\n",
    "# list of untagged words\n",
    "test_tagged_words = [tup[0] for sent in test_run for tup in sent]"
   ]
  },
  {
   "cell_type": "code",
   "execution_count": 96,
   "metadata": {},
   "outputs": [],
   "source": [
    "# tagging the test sentences\n",
    "tagged_seq = Viterbi(test_tagged_words)"
   ]
  },
  {
   "cell_type": "code",
   "execution_count": 97,
   "metadata": {},
   "outputs": [
    {
     "name": "stdout",
     "output_type": "stream",
     "text": [
      "0.9272388059701493\n"
     ]
    }
   ],
   "source": [
    "# accuracy\n",
    "check = [i for i, j in zip(tagged_seq, test_run_base) if i == j]\n",
    "print(len(check)/len(tagged_seq))"
   ]
  },
  {
   "cell_type": "markdown",
   "metadata": {},
   "source": [
    "#### Evaluating tagging accuracy of Lexicon and Rule based taggers"
   ]
  },
  {
   "cell_type": "code",
   "execution_count": 98,
   "metadata": {},
   "outputs": [],
   "source": [
    "# Rule based tagger\n",
    "rule_based_tagger = nltk.RegexpTagger(patterns)\n",
    "\n",
    "# lexicon tagger is trained on the NLTK's Universal corpus.\n",
    "lexicon_tagger = nltk.UnigramTagger(train_set)"
   ]
  },
  {
   "cell_type": "code",
   "execution_count": 99,
   "metadata": {},
   "outputs": [
    {
     "data": {
      "text/plain": [
       "0.9055520102105935"
      ]
     },
     "execution_count": 99,
     "metadata": {},
     "output_type": "execute_result"
    }
   ],
   "source": [
    "lexicon_tagger.evaluate(test_set)"
   ]
  },
  {
   "cell_type": "code",
   "execution_count": 100,
   "metadata": {},
   "outputs": [
    {
     "data": {
      "text/plain": [
       "0.33843863007870667"
      ]
     },
     "execution_count": 100,
     "metadata": {},
     "output_type": "execute_result"
    }
   ],
   "source": [
    "rule_based_tagger.evaluate(test_set)"
   ]
  },
  {
   "cell_type": "markdown",
   "metadata": {},
   "source": [
    "### 5. List down cases which were incorrectly tagged by original POS tagger and got corrected by your modifications"
   ]
  },
  {
   "cell_type": "code",
   "execution_count": 32,
   "metadata": {},
   "outputs": [
    {
     "data": {
      "text/plain": [
       "[[(('Android', 'DET'), ('Android', 'NOUN'))],\n",
       " [(('Google', 'DET'), ('Google', 'NOUN'))],\n",
       " [(('Android', 'DET'), ('Android', 'NOUN'))],\n",
       " [(('OS', 'DET'), ('OS', 'NOUN'))],\n",
       " [(('worldwide', 'DET'), ('worldwide', 'NOUN'))],\n",
       " [(('smartphones', 'DET'), ('smartphones', 'VERB'))],\n",
       " [(('2011', 'DET'), ('2011', 'NUM'))],\n",
       " [(('2013', 'DET'), ('2013', 'NUM'))],\n",
       " [(('Google', 'DET'), ('Google', 'NOUN'))],\n",
       " [(('Twitter', 'DET'), ('Twitter', 'NOUN'))],\n",
       " [(('2015', 'DET'), ('2015', 'NUM'))],\n",
       " [(('Google', 'DET'), ('Google', 'NOUN'))],\n",
       " [(('Twitter', 'DET'), ('Twitter', 'NOUN'))],\n",
       " [((\"'s\", 'VERB'), (\"'s\", 'PRT'))],\n",
       " [(('firehose', 'DET'), ('firehose', 'NOUN'))],\n",
       " [(('Twitter', 'DET'), ('Twitter', 'NOUN'))],\n",
       " [(('online', 'DET'), ('online', 'NOUN'))],\n",
       " [(('networking', 'DET'), ('networking', 'VERB'))],\n",
       " [(('interact', 'DET'), ('interact', 'NOUN'))],\n",
       " [(('messages', 'DET'), ('messages', 'VERB'))],\n",
       " [(('known', 'ADJ'), ('known', 'VERB'))],\n",
       " [(('tweets', 'DET'), ('tweets', 'NOUN'))],\n",
       " [(('domineering', 'DET'), ('domineering', 'VERB'))],\n",
       " [(('personality', 'DET'), ('personality', 'NOUN'))],\n",
       " [(('2018', 'DET'), ('2018', 'NUM'))],\n",
       " [(('FIFA', 'DET'), ('FIFA', 'NOUN'))],\n",
       " [(('Cup', 'DET'), ('Cup', 'NOUN'))],\n",
       " [(('21st', 'DET'), ('21st', 'NUM'))],\n",
       " [(('FIFA', 'DET'), ('FIFA', 'NOUN'))],\n",
       " [(('Cup', 'DET'), ('Cup', 'NOUN'))],\n",
       " [(('tournament', 'DET'), ('tournament', 'NOUN'))],\n",
       " [(('contested', 'DET'), ('contested', 'VERB'))],\n",
       " [(('Cup', 'DET'), ('Cup', 'NOUN'))],\n",
       " [(('trips', 'DET'), ('trips', 'NOUN'))],\n",
       " [(('arriving', 'DET'), ('arriving', 'VERB'))],\n",
       " [(('NASA', 'DET'), ('NASA', 'NOUN'))],\n",
       " [(('invited', 'DET'), ('invited', 'VERB'))],\n",
       " [(('ICESAT-2', 'DET'), ('ICESAT-2', 'NOUN'))],\n",
       " [(('Satellite', 'DET'), ('Satellite', 'NOUN'))]]"
      ]
     },
     "execution_count": 32,
     "metadata": {},
     "output_type": "execute_result"
    }
   ],
   "source": [
    "correction(viterbi_tagged_wrds, viterbi_tagged_wrds_upd)"
   ]
  }
 ],
 "metadata": {
  "kernelspec": {
   "display_name": "Python 3",
   "language": "python",
   "name": "python3"
  },
  "language_info": {
   "codemirror_mode": {
    "name": "ipython",
    "version": 3
   },
   "file_extension": ".py",
   "mimetype": "text/x-python",
   "name": "python",
   "nbconvert_exporter": "python",
   "pygments_lexer": "ipython3",
   "version": "3.7.1"
  }
 },
 "nbformat": 4,
 "nbformat_minor": 2
}
