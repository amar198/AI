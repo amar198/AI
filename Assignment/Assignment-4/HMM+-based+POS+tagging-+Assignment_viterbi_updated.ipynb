{
 "cells": [
  {
   "cell_type": "markdown",
   "metadata": {},
   "source": [
    "    11## POS tagging using modified Viterbi"
   ]
  },
  {
   "cell_type": "markdown",
   "metadata": {},
   "source": [
    "### 1. Data Preparation"
   ]
  },
  {
   "cell_type": "code",
   "execution_count": 1,
   "metadata": {},
   "outputs": [],
   "source": [
    "#Importing libraries\n",
    "import numpy as np\n",
    "import pandas as pd\n",
    "\n",
    "import nltk\n",
    "\n",
    "import random\n",
    "from sklearn.model_selection import train_test_split\n",
    "from nltk.tokenize import word_tokenize"
   ]
  },
  {
   "cell_type": "code",
   "execution_count": 2,
   "metadata": {},
   "outputs": [],
   "source": [
    "# reading the Treebank tagged sentences\n",
    "nltk_data = list(nltk.corpus.treebank.tagged_sents(tagset='universal'))"
   ]
  },
  {
   "cell_type": "markdown",
   "metadata": {},
   "source": [
    "#### Exploring corpus"
   ]
  },
  {
   "cell_type": "code",
   "execution_count": 3,
   "metadata": {
    "scrolled": true
   },
   "outputs": [
    {
     "data": {
      "text/plain": [
       "[[('Pierre', 'NOUN'),\n",
       "  ('Vinken', 'NOUN'),\n",
       "  (',', '.'),\n",
       "  ('61', 'NUM'),\n",
       "  ('years', 'NOUN'),\n",
       "  ('old', 'ADJ'),\n",
       "  (',', '.'),\n",
       "  ('will', 'VERB'),\n",
       "  ('join', 'VERB'),\n",
       "  ('the', 'DET'),\n",
       "  ('board', 'NOUN'),\n",
       "  ('as', 'ADP'),\n",
       "  ('a', 'DET'),\n",
       "  ('nonexecutive', 'ADJ'),\n",
       "  ('director', 'NOUN'),\n",
       "  ('Nov.', 'NOUN'),\n",
       "  ('29', 'NUM'),\n",
       "  ('.', '.')],\n",
       " [('Mr.', 'NOUN'),\n",
       "  ('Vinken', 'NOUN'),\n",
       "  ('is', 'VERB'),\n",
       "  ('chairman', 'NOUN'),\n",
       "  ('of', 'ADP'),\n",
       "  ('Elsevier', 'NOUN'),\n",
       "  ('N.V.', 'NOUN'),\n",
       "  (',', '.'),\n",
       "  ('the', 'DET'),\n",
       "  ('Dutch', 'NOUN'),\n",
       "  ('publishing', 'VERB'),\n",
       "  ('group', 'NOUN'),\n",
       "  ('.', '.')]]"
      ]
     },
     "execution_count": 3,
     "metadata": {},
     "output_type": "execute_result"
    }
   ],
   "source": [
    "# checking tagged sentences\n",
    "nltk_data[:2]"
   ]
  },
  {
   "cell_type": "code",
   "execution_count": 4,
   "metadata": {},
   "outputs": [
    {
     "name": "stdout",
     "output_type": "stream",
     "text": [
      "{'ADP', 'ADJ', 'PRON', 'VERB', 'NOUN', '.', 'CONJ', 'NUM', 'PRT', 'X', 'DET', 'ADV'}\n"
     ]
    }
   ],
   "source": [
    "# unique tags applied to the words in the corpus\n",
    "print(set([tpl[1] for pair in nltk_data for tpl in pair]))"
   ]
  },
  {
   "cell_type": "code",
   "execution_count": 5,
   "metadata": {},
   "outputs": [
    {
     "name": "stdout",
     "output_type": "stream",
     "text": [
      "10992\n"
     ]
    }
   ],
   "source": [
    "# checking unique words in the corpus, which does not have 'X', 'NUM', or '.' tags.\n",
    "\n",
    "print(len(set([tlp[0] for pair in nltk_data for tlp in pair \n",
    "                                                  if (tlp[1] != 'X' and tlp[1] != '.' and tlp[1] != 'NUM')\n",
    "              ]\n",
    "         )))"
   ]
  },
  {
   "cell_type": "code",
   "execution_count": 6,
   "metadata": {},
   "outputs": [
    {
     "name": "stdout",
     "output_type": "stream",
     "text": [
      "{'telerate', 'office', 'agriculture', 'chrysler', 'george', 'operators', 'cs', 'seafood', 'signore', 'look', 'three-sevenths', 'xerox', 'roederer', 'leinonen', 'li', 'guards', 'kidder', 'approval', 'slides', 'haden', 'campeau', 'clerks', 'caldor', 'carballo', 'kappa', 'kong', 'knowns', 'dahl', 'hollis', 'investors', 'envoy', 'valhi', 'sidewalk', 'poverty', 'commonwealth', 'gains', 'departments', 'taipei', 'comprehensive', 'railings', 'economics', 'clara', 'american', 'rating', 'composting', 'drives', 'form', 'necessities', 'lady', 'escape', 'peng', 'wafa', 'maytag', 'nelms', 'veteran', 'huxtable', 'series', 'crisis', 'intraday', 'cannell', 'shipyards', 'child', 'californian', 'philip', 'ferro', 'bernstein', 'biaggi', 'philadelphia', 'children', 'corp', 'attwood', 'cents', 'blancs', 'counterweight', 'f-series', 'buckhead', 'machinery', 'powder', '1\\\\/10th', 'pierre', 'virginians', 'name', 'nrdc', 'hopwood', 'blank', 'americans', 'copper', 'murray', 'platitudes', 'equipment', 'squier', 'aide', 'instruction', 'wheels', 'territory', 'coordinator', 'redevelopment', 'cleanliness', 'stakes', 'dna', 'command', 'instance', 'specialist', 'des', 'teikoku', 'objective', 'carnival', 'chief', 'buying', 'lewis', 'ricken', 'suppliers', 'sparkplugs', 'document', 'crib', 'behavior', 'disputado', 'demands', 'century', 'overcrowding', 'la', 'behemoth', 'foundation', 'furillo', 'bellringers', 'rowe', 'survivor', 'arnold', 'institution', 'americana', 'representatives', 'comtes', 'ranks', 'champagnes', 'start', 'starters', 'textile', 'trigger', 'pilots', 'human', 'peter', 'stereo', 'widow', 'fire', 'pay', 'clause', 'soldiers', 'minus', 'dessert', 'balls', 'lap', 'jury', 'longtime', 'samuel', 'executive-office', 'preparatives', 'bell-ringer', 'petrus', 'at&t', 'midwestern', 'warnings', 'satisfaction', 'gillett', 'displays', 'counterparts', 'council', 'steps', 'downside', 'jerritts', 'amr', 'equity', 'opus', 'interest-rate', 'earle', 'alcohol', 'transamerica', 'era', 'brain', 'bat', 'phobias', 'prosecutors', 'design', 'blocks', 'muster', 'natural-gas', 'schoolboys', 'ltd.', 'gerard', 'programs', 'enterprise', 'plant', 'club', 'mercantile', 'soviet', 'heating', 'williams', 'liberal', 'wpp', 'requirements', 'sentiment', 'standing', 'washington', 'spoon', 'photographs', 'offices', 'hale', 'elite', 'north', 'fans', 'ethics', 'coast', 'baldwin', 'buildings', 'nilson', 'august', 'magna', 'bar', 'discrepancies', 'drought', 'circuit-board', 'uncertainties', 'puerto', 'feb.', 'minimum', 'g.m.b', 'future', 'leigh', 'savings', 'vicars', 'prof.', 'pricings', 'benefits', 'schmidt', 'william', 'common-law', 'letter', 'propaganda', 'brown', 'wadsworth', 'screens', 'machines', 'ii', 'viewers', 'chemical', 'beverly', 'savin', 'gorbachev', 'bell', 'classroom', 'pacific', 'instances', 'recovery', 'list', 'shop', 'est', 'periods', 'exits', 'shirts', 'sickness', 'asians', 'election', 'dunkin', 'boost', 'hook', 'reference', 'workforce', 'edward', 'common', 'machinists', 'callers', 'jim', 'awareness', 'arighi', 'diversification', 'partner', 'reservoirs', 'ones', 'teacher', 'transplant', 'bread', 'ports', 'merits', 'day', 'deposit', 'namibia', 'blessing', 'findings', 'plot', 'vicissitudes', 'guy', 'netherlands', 'policy', 'magnets', 'midwesco', 'retardation', 'rock', 'chapter', 'antitrust', 'derchin', 'dormitory', 'kaminski', 'ltv', 'journal', 'angels', 'purposes', 'clues', 'davis', 'processes', 'profits', 'importance', 'speedway', 'heights', 'rey\\\\/fawcett', 'modems', 'katzenstein', 'sellers', 'orchestra', 'intervention', 'bonds', 'aurora', 'bowl', 'conn', 'meals', 'compound', 'cell', 'hermitage', 'watson', 'conduit', 'j.p.', 'grandstander', 'scholastic', 'variety', 'point', 'moves', 'marrow', 'mailing', 'lack', 'excision', 'mulford', 'borders', 'weatherly', 'breakdown', 'ship', 'persky', 'works', 'alliance', 'needs', 'veraldi', 'rent-a-car', 'manila', 'salomon', 'marketers', 'testing', 'thread', 'unico', 'alumni', 'talk', 'smith', 'mainframe', 'homes', 'style', 'cancellation', 'pediatrician', 'guerrilla', 'alan', 'gaja', 'chronicle', 'assumption', 'weisfield', 'globe', 'onslaught', 'taylor', 'damage', 'tooth', 'networking', 'yamamoto', 'capital', 'mccabe', 'strategies', 'mcguigan', 'trailer', 'renovation', 'biedermann', 'corporate', 'constitutional-law', 'collector', 'minnesota', 'ginnie', 'bag', 'advance', 'diethylstilbestrol', 'lake', 'critics', 'conn.', 'sewer', 'richebourg', 'alzheimer', 'ft', 'regulators', 'deng', 'mousseline', 'train', 'itoh', 'predecessor', 'trans', 'prudential-bache', 'gold', 'subsidiaries', 'chairman', 'nations', 'condition', 'beers', 'england', 'matches', 'gulf', 'advertisements', 'sticker-shock', 'wright', 'fulbright', 'wall', 'passions', 'couples', 'anybody', 'derek', 'hopkins', 'memories', 'put', 'core', 'ichiro', 'macmillan\\\\/mcgraw-hill', 'issuers', 'writing', 'tv', 'amphobiles', 'shrum', 'persons', 'atlanta', 'islamabad', 'leadership', 'announcement', 'steelworkers', 'courter', 'discount', 'rockefeller', 'aug.', 'payments', 'formation', 'plane', 'siegal', 'food-industry', 'consultant', 'management', 'reporters', 'mead', 'dinkins', 'dydee', 'wheeland', 'debt', 'connection', 'blood-cell', 'bethlehem', 'judges', 'director', 'valley', 'bermuda', 'sony', 'freshman', 'battles', 'correspondence', 'waterloo', 'pencil', 'households', 'sauce', 'spiro', 'violations', 'press', 'scenes', 'kindergarten', 'midvale', 'brownstein', 'escrow', 'restraints', 'ticket', 'team', 'melamed', 'inc', 'sphere', 'taxes', 'ton', 'factor', 'bentsen', 'packages', 'handelsbanken', 'panama', 'marketing-communications', 'gyrations', 'card-member', 'reservations', 'o.', 'maine', 'all', 'town', 'car', 'visitors', 'subsidiary', 'array', 'south', 'force', 'pace', 'ctbs', 'rill', 'eakle', 'aquino', 'quotations', 'friendship', 'camera', 'comment', 'chairs', 'chandler', 'forms', 'elections', 'scripts', 'baskets', 'inkling', 'lore', 'dutch', 'scholar', 'bushels', 'truce', 'hammersmith', 'standards', 'elmhurst', 'nl', 'latour', 'statute', 'ridgefield', 'morrell', 'scypher', 'record-keeping', 'mississippi', 'remorse', 'sun', 'confederation', 'claims', 'old-house', 'corazon', 'ntg', 'bullets', 'session', 'teaching', 'drug', 'georgetown', 'place', 'n.m.', 'bronces', 'leon', 's.p.a.', 'olsen', 'dominus', 'breakers', 'environmentalists', 'vansant', 'deane', 'deterioration', 'operator', 'revelations', 'durable-goods', 'mass', 'opportunity', 'signboards', 'rises', 'july', 'dolphins', 'hutchinson', 'treatment', 'fountain', 'contel', 'different', 'takings', 'index-arbitrage', 'parts', 'secilia', 'settlement', 'gottlieb', 'pall', 'therapies', 'greece', 'rain', 'remainder', 'salmore', 'tokio', 'ala', 'desktop', 'ascendency', 'college', 'amortization', 'mattress', 'result', 'features', 'middle', 'killeen', 'owner', 'allies', 'scannell', 'esso', 'wakayama', 'dobson', 'james', 'affair', 'detective-story', 'coal', 'program', 'russell', 'demise', 'intermec', 'pet', 'slowing', 'fed', 'confidence', 'death', 'railcars', 'ann', 'yoshihashi', 'detroit', 'people', 'subject', 'bmp', 'science', 'ferc', 'suspension', 'japan', 'wage', 'contrary', 'movies', 'thumbs', 'anku', 'official', 'judgments', 'trays', 'municipality', 'kit', 'aba', 'spirit', 'express-buick', 'clays', 'framework', 'offerings', 'increase', 'donuts', 'family', 'j.l.', 'computers', 'baking', 'fundamentalists', 'ala.', 'checking', 'items', 'platt', 'charm', 'stanford', 'stanley', 'roukema', 'firm', 'cuvees', 'billions', 'zone', 'round', 'affiliate', 'significance', 'wellington', 'nomenklatura', 'sugar', 'rbc', 'palace', 'ministers', 'proceedings', 'thing', 'employers', 'breaker', 'r.p.', 'while', 'money-fund', 'mannix', 'machine', 'jack', 'branches', 'barbara', 'illinois', 'bretz', 'audience', 'dompierre', 'breakfast', 'seminar', 'compensation', 'joni', 'choice', 'spending', 'mechanisms', 'diming', 'sweepstakes', 'value', 'divergence', 'akio', 'educators', 'basis', 'deputy', 'skepticism', 'morass', 'paperback', 'therapy', 'collecting', 'ketchum', 'san', 'playing', 'regime', 'range', 'tally', 'canada', 'provisions', 'myron', 'revolt', 'accomplishments', 'novelist', 'trader', 'philippine', 'correll', 'droughts', 'reduction', 'shell', 'firings', 'travel', 'platforms', 'rouge', 'bidders', 'prices', 'painting', 'sigmund', 'ac-130u', 'prints', 'mortgage', 'barron', 'fe', 'us', 'oct.', 'owners', 'write-downs', 'champions', 'combination', 'lotter', 'painewebber', 'row', 'track', 'mesothelioma', 'introduction', 'target', 'discos', 'speech', 'lights', 'diseases', 'ties', 'macmillan\\\\/mcgraw', 'advances', 'votes', 'companion', 'april', 'co', 'cdc', 'doonesbury', 'beer', 'security', 'hart-scott-rodino', 'pathlogy', 'kenneth', 'commissions', 'food', 'charles', 'examinations', 'marchand', 'integra', 'relationship', 'proteins', 'censorship', 'acquirers', 'macdonald', 'filings', 'creativity', 'a', 'jay', 'infusion', 'accessories', 'protests', 'argentina', 'outlays', 'chafic', 'amendment', 'colorado', 'goode', 'freudtoy', 'succession', 'crook', 'thrift', 'arrangements', 'pramual', 'box', 'practice', 'case', 'fax', 'characters', 'arabian', 'fret', 'petition', 'fluctuations', 'n.j.', 'rulers', 'god', 'debacle', 'retailing', 'alurralde', 'years', 'girlfriend', 'metropolitan', 'aid', 'parents', 'titans', 'regions', 'anxieties', 'stock-price', 'locations', 'prayer', 'arm', 'isabelle', 'seoul', 'walls', 'programming', 'texaco', 'angelo', 'sales', 'linden', 'threats', 'elsevier', 'stena', 'van', 'marathon', 'calculations', 'passages', 'gingl', 'memphis', 'oilman', 'banker', 'no-confidence', 'moment', 'trap', 'refunds', 'pa', 'irony', 'emotions', 'pipe', 'downturn', 'register', 'equitable', 'hole', 'spiegel', 'kligman', 'glauber', 'restaurants', 'rhythm', 'smaby', 'backseat', 'stock', 'txo', 'rancor', 'complaints', 'crews', 'parlors', 'grgich', 'terrence', 'russo', 'index-options', 'borge', 'akerfeldt', 'enforcement', 'leroy', 'chefs', 'negus', 'counterattack', 'bronx', 'troubled', 'patients', 'kingdom', 'coniston', 'reports', 'ballplayers', 'duty', 'rhone', 'sangyo', 'syndicate', 'sight', 'ruth', 'duluth', 'theory', 'surrender', 'margins', 'vow', 'coors', 'crash', 'separation', 'reupke', \"dunkin'\", 'tools', 'mergers', 'trockenbeerenauslesen', 'battle', 'months', 'cigarette', 'wertheim', 'three', 'scholars', 'contracts', 'breeden', 'winter', 'interference', 'killings', 'dailies', 'usa', 'gilts', 'glitches', 'rankin', 'lens', 'processing', 'rev.', 'twin', 'bumkins', 'toll', 'columns', 'm.', 'blender', 'shot', 'elco', 'dealers', 'multitude', 'hitachi', 'koizumi', 'minneapolis', 'self', 'corn', 'educational', 'syndication', 'norfolk', 'hammacher', 'coaching', 'weather', 'bradley', 'mutual', 'page', 'flights', 'glendale', 'closing', 'hostile', 'compromise', 'legislature', 'aerojet', 'gain', 'troubles', 'minicrash', 'petroleum', 'beirut', 'dreyfus', 'wild', 'incomes', 'crashes', 'turmoil', 'k.', 'virgin', 'flexibility', 'andrea', 'headquarters', 'punishment', 'angeles', 'print', 'reuter', 'cooper', 'stieglitz', 'ban', 'factories', 'candidates', 'southeast', 'merrick', 'plo', 'attacks', 'united', 'meeting', 'customers', 'assembly-line', 'indianapolis', 'loewi', 'categories', 'ward', 'stork', 'liquidation', 'intent', 'sum', 'world', 'intrusion', 'gm', 'st.', 'army', 'heart', 'car-development', 'stockbrokers', 'storage', 'sec', 'ual', 'purina', 'forster', 'busloads', 'resistance', 'bridges', 'brunt', 'group', 'receivers', 'producer', 'goverment', 'depository', 'symptoms', 'cluff', 'poore', 'wamre', 'film', 'attack', 'minera', 'mode', 'lefcourt', 'editions', 'public-relations', 'meaning', 'maryland', 'cues', 'stephen', 'workplace', 'hint', 'scandal', 'block', 'insurer', 'earlham', 'superintendent', 'panic', 'industrial', 'consultants', 'occidental', 'ratners', 'disposables', 'surpluses', 'records', 'statement', 'diabetes', 'dealings', 'lucille', 'actions', 'litany', 'decline', 'hungary', 'laura', 'salarymen', 'framers', 'achievement-test', 'brothers', 'corrigan', 'ringing', 'old', 'czechoslovakia', 'lobster', 'sydney', 'vitulli', 'joint', 'duckling', 'nippon', 'sights', 'electorate', 'strains', 'al', 'disorders', 'scandals', 'cow', 'hanover', 'equivalent', 'rifles', 'leningrad', 'pains', 'zenith', 'fund', 'scripps', 'computer-services', 'idea', 'sacramento', 'shortages', 'furniture', 'clubs', 'currently', 'studies', 'principal', 'iran\\\\/contra', 'filing', 'francs', 'designations', 'synergistics', 'chardonnays', 'status', 'customer', 'riserva', 'iowa', 'guild', 'thailand', 'wealth', 'water', 'physicist', 'tubes', 'inferences', 'field', 'stark', 'posts', 'francis', 'solutions', 'base', 'j.', 'giant', 'passion', 'arbitrage', 'tomorrow', 'bankruptcy', 'broadcasting', 'associate', 'tower', 'pasta', 'empire', 'inquiries', 'creature', 'boorse', 'analyst', 'nature', 'lids', 'routine', 'dislike', 'trotter', 'projects', 'holders', 'wong', 'consensus', 'macmillan', 'sternberg', 'heavy-truck', 'spin-off', 'corporations', 'integrity', 'exports', 'fraud', 'pardus', 'transactions', 'cargo', 'lieberman', 'body', 'kentucky', 'meinders', 'boutique', 'cloth', 'topics', 'labor-management', 'girl', 'coliseum', 'dollar', 'softening', 'ford', 'advisory', 'sweaters', 'u.s.s.r.', 'humans', 'estates', 'campaigning', 'baim', 'texas', 'acceleration', 'temple', 'terrorists', 'recession', 'pretoria', 'michelin', 'forecasts', 'disputada', 'drop', 'general', 'rebound', 'beneficiaries', 'freedom', 'conference', 'literature', 'structure', 'homelessness', 'nesb', 'reaction', 'struggle', 'license', 'sebastian', 'wilder', 'faithful', 'sex', 'benchmarks', 'bugs', 'superpremiums', 'nutrition', 'nobel', 'imports', 'harvard', 'area', 'observers', 'lt.', 'arizona', 'backdrop', 'sounds', 'are', 'anne', 'understatement', 'broker', 'charter', 'custom', 'kensington', 'vegas', 'perspective', 'prizes', 'homeless', 'rieslings', 'ballots', 'widget', 'itc', 'jon', 'associates', 'hostage', 'responsibility', 'par', 'society', 'vendors', 'auction', 'champion', 'zuckerman', 'asset-valuation', 'underwood', 'arraignments', 'courts', 'acetate', 'printing-press', 'florida', 'merchant', 'lifting', 'edelman', 'tag', 'audiocassettes', 'patricia', 'seagate', 'eveready', 'spread', 'phillips', 'insight', 'foot', 'hub', 'approaches', 'eyes', 'jonathan', 'zealand', 'relief', 'shuxian', 'legislators', 'administrations', 'cataract', 'buyers', 'fragmentation', 'muscolina', 'abortionist', 'w.', 'wellcome', 'younkers', 'donor', 'carlton', 'tone', 'heirs', 'beatles', 'northampton', 'talcott', 'conflicts', 'undertone', 'simon', 'cellar', 'half', 'release', 'caters', 'cabernet', 'subcontractors', 'dole', 'unemployment', 'african', 'liberty', 'polyproplene', 'nielsen', 'vacancy', 'orlando', 'stamford', 'peoria', 'legg', 'lot', 'presentation', 'proposals', 'nikkei', 'inventories', 'campbell', 'support', 'potential', 'author', 'mexico', 'workbooks', 'n.j', 'fields', 'nicholas', 'situation', 'sherwin', 'equal', 'randolph', 'rep.', 'marine', 'feet', 'indexing', 'distribution', 'states', 'slogan', 'dollars', 'spiders', 'implementation', 'malta', 'yasser', 'vacancies', 'decision', 'purchases', 'entrance', 'severance', 'six-packs', 'lines', 'anything', 'type', 'intecknings', 'internal', 'exercise', 'disruption', 'stone', 'germans', 'coche-dury', 'movements', 'numeral', 'classmates', 'manufacturing', 'maximum', 'contractors', 'cycle', 'latter', 'shares', 'sanderoff', 'fit', 'riyadh', 'pennies', 'switch', 'e.w.', 'eurobonds', 'linda', 'credits', 'hammond', 'truck', 'chile', 'orleans', 'symphony', 'hymowitz', 'mega-stadium', 'neil', 'proportion', 'acre', 'dividends', 'nissan', 'boyfriends', 'fortunes', 'purhasing', 'strain', 'quarters', 'graduate', 'newsroom', 'parking', 'parkinson', 'scherer', 'promise', 'rust', 'harbinger', 'griffin', 'impression', 'smiles', 'red', 'symbol', 'markets', 'avenue', 'indication', 'initiative', 'shepperd', 'receipt', 'palisades', 'path', 'nationale', 'inventor', 'district', 'pharaoh', 'attendance', 'schroder', 'veto', 'judgment', 'proposal', 'prerogatives', 'wood', 'telegraph', 'microphone', 'one-fifth', 'mariotta', 'tramp', 'profit', 'identities', 'dresser', 'b-1b', 'capsules', 'police', 'nichol', 'communists', 'precedent', 'financial', 'apartment', 'basket', 'deadwood', 'motor', 'richard', 'm.d.', 'current', 'passenger-car', 'smoking', 'halts', 'bolivia', 'causes', 'fines', 'constraints', 'cathryn', 'bottlenecks', 'housewife', 'prime', 'necklace', 'susan', 'schemes', 'generalizations', 'southern', 'bureaucracy', 'daily', 'ancient', 'neutrons', 'copies', 'marion', 'color', 'penetration', 'n.c.', 'texture', 'westminster', 'osaka', 'petersburg', 'mather', 'eggers', 'tags', 'subminimum', 'agreements', 'picture', 'marina', 'gut', 'jacobs', 'milk', 'fraction', 'sociology', 'prostitute', 'riviera', 'understanding', 'electricity', 'evil', 'abbot', 'clearance', 'ncnb', 'inns', 'wilcox', 'comparison', 'resentment', 'marketplace', 'lyrics', 'speculation', 'law', 'transaction', 'hiroshi', 'guinea', 'blue-chips', 'portions', 'grant', 'obstacles', 'commitments', 'carbide', 'nissho-iwai', 'e.', 'assets', 'shokubai', 'mass.', 'rout', 'cadmium', 'conviction', 'differences', 'troop', 'center', 'bricklayers', 'pulls', 'moore', 'pate', 'shift', 'import', 'proposition', 'issue', 'purse', 'gates', 'cedric', 'centerbank', 'bramalea', 'ratings', 'surprise', 'open', 'berman', 'witnesses', 'arrangement', 'harrison', 'sticker', 'orrick', 'catch-22', 'plea', 'restructuring', 'vacations', 'b', 'cabbage', 'recognition', 'boom', 'louisiana', 'wells', 'month', 'school', 'rights', 'velcro', 'soviets', 'woodward', 'tatsunori', 'incident', 'frankfurt', 'county', 'ounce', 'recommendations', 'ronald', 'auditor', 'sulfur-dioxide', 'herald-american', 'resignation', 'families', 'l.a.', 'route', 'herrington', 'citadel', 'designers', 'bottom', 'harcourt', 'rider', 'mcgraw-hill', 'crookery', 'bowes', 'turnover', 'bowery', 'manipulators', 'reserves', 'a.d.', 'scams', 'grader', 'buy-out', 'technique', 'inc.', 'markup', 'publicity', 'recess', 'illuminating', 'justice', 'tutorials', 'cement', 'tapes', 'window', 'mexican', 'experts', 'software', 'father', 'reagan', 'student', 'voice', 'strother', 'words', 'celebrity', 'filters', 'pipes', 'cane', 'billionaire', 'poor', 'source', 'oshkosh', 'herald', 'mehrens', 'capability', 'foundations', 'jackson', 'maughan', 'hedging', 'senate', 'move', 'hazards', 'denial', 'code', 'holland', 'tribe', 'addition', 'nuys', 'express', 'rothschild', 'industries', 'raul', 'borrowings', 'semiconductors', 'exposures', 'networks', 'vintages', 'calculator', 'wtvj', 'noble', 'disappointment', 'kirkpatrick', 'retort', 'ramirez', 'arts', 'diaper', 'del.', 'dom', 'vineyard', 'burgundies', 'patents', 'panel', 'psychiatry', 'shipbuilding', 'pride', 'basham', 'protection', 'laws', 'groucho', 'ackerman', 'cease-fire', 'jenkins', 'huppert', 'participant', 'cost-sharing', 'amsterdam', 'wings', 'opponents', 'imhoff', 'sunlight', 'decrease', 'newgate', 'merc', 'dunn', 'initiatives', 'serial', 'pop', 'texan', 'slaying', 'explorer', 'manpower', 'lorillard', 'fueling', 'vichy', 'blindfold', 'autions', 'perritt', 'ghs', 'organization', 'watch', 'lobbyist', 'duke', 'corporation', 'squeeze', 'yang', 'address', 'houston', 'sandifer', 'cullowhee', 'gillespie', 'promotion', 'criteria', 'holding', 'madison', 'gambler', 'robertson', 'malizia', 'stones', 'format', 'accountability', 'choosing', 'teachers', 'messrs.', 'ellis', 'hatch', 'psychology', 'chaos', 'eeoc', 'pta', 'change-ringing', 'respect', 'loan', 'edition', 'boeing', 'stages', 'modernization', 'b.a.t', 'engines', 'dinosaurs', 'installment', 'term', 'commercial', 'influence', 'ranger', 'stocks', 'skin', 'woodcliff', 'limit', 'judge', 'basin', 'biscuit', 'deck', 'securities', 'asher', 'w.d.', 'diamond', 'si', 'ball', 'florio', 'buick', 'dakotas', 'livelihood', 'lurie', 'sweater', 'cousins', 'karns', 'speeches', 'warrenton', 'professionals', 'currencies', 'liberation', 'behest', 'r.', 'teddy', 'peck', 'ceos', 'dances', 'bombers', 'exhaust', 'concession', 'reflection', 'backlogs', 'mona', 'concentration', 'best-seller', 'chong-sik', 'gross', 'retorts', 'collar', 'spokeswoman', 'edwards', 'debate', 'exodus', 'population', 'church', 'malcolm', 'rapanelli', 'amendments', 'fluctuation', 'dodger', 'felony', 'petersen', 'engineers', 'sci', 'extent', 'cars', 'worth', 'fifth-grade', 'paycheck', 'employer', 'ortega', 'neighborhood', 'sentence', 'corestates', 'tigers', 'monticello', 'elizabeth', 'osha', 'feeding', 'receipts', 'local', 'employees', 'lazzaroni', 'covers', 'memory', 'sale', 'welfare', 'accountants', 'attorneys', 'mirror', 'pack', 'allen', 'band', 'australian', 'shambles', 'mogavero', 'glaxo', 'krenz', 'numbers', 'ohio', 'barney', 'chest', 'thugs', 'scoop', 'qualities', 'sheepskin', 'spinoff', 'fights', 'rey', 'loser', 'part', 'revival', 'disposal', 'ill.', 'marie-louise', 'investigations', 'residence', 'beneficiary', 'shipments', 'topix', 'board', 'newspaper', 'deeds', 'slippage', 'hara', 'butterfly', 'chatsworth', 'spokewoman', 'elliott', 'industry', 'folks', 'deluge', 'edge', 'stake', 'stature', 'wilfred', 'crane', 'cost', 'anti-abortionists', 'skinner', 'twist', 'professor', 'victim', 'mcgovern', 'freud', 'quality', 'trip', 'rope-sight', 'coke', 'community', 'dinner', 'seat', 'stockholm', 'toronto', 'holt', 'prepayment', 'developer', 'fischer', 'landor', 'peddling', 'brakes', 'benefit', 'delay', 'executives', 'usia', 'chinchon', 'spain', 'chinese', 'bout', 'father-in-law', 'rebel', 'takashima', 'oklahoma', 'staff', 'decorator', 'steven', 'sources', 'world-wide', 'rumors', 'loss', 'schoolteacher', 'hummerstone', 'indexes', 'suitors', 'officers', 'wives', 'judah', 'midwest', 'demonstrators', 'yasuda', 'will', 'circulation', 'episodes', 'w.n.', 'rice', 'passenger', 'dd', 'son', 'slide', 'ankle', 'yielding', 'belts', 'iota', 'medical', 'canepa', 'levels', 'hotels', 'olympia', 'sprint', 'coupon', 'white', 'backgrounds', 'editing', 'dust', 'donald', 'mo.', 'suspects', 'governors', 'computer', 'supply', 'cash', 'nets', 'character', 'banks', 'policies', 'berlin', 'skittishness', 'albuquerque', 'reversal', 'nec', 'prototype', '55-year-old', 'government', 'soups', 'privilege', 'image', 'prosecutor', 'reach', 'positions', 'viacom', 'graduates', 'counterpart', 'spirits', 'norwalk', 'lung', 'semiconductor', 'sign', \"d'amico\", 'health', 'protections', 'mark', 'mich.', 'ruling', 'alvin', 'indictment', 'trettien', 'jerry', 'sauternes', 'headline', 'stock-market', 'publication', 'boomers', 'soup', 'ious', 'meese', 'automation', 'crises', 'date', 'leather', 'credentials', 'journalists', 'legislation', 'futures', 'socialism', 'waiver', 'difficulties', 'co.', 'jennison', 'wedtech', 'european', 'retailers', 'focus', 'lawyers', 'tissues', 'kidney', 'avenues', 'sharedata', 'insider', 'variables', 'procedure', 'jail', 'week', 'art', 'usx', 'elevators', 'stairs', 'pittsburgh', 'campaign', 'georgia', 'lebanon', 'containers', 'mcdonald', 'jefferson', 'g.', 'pins', 'reporting', 'year-end', 'pets', 'guarantees', 'joseph', 'negatives', 'ballpark', 'genes', 'brand', 'efficiencies', 'korea', 'chivas', 'yields', 'bond', 'plains', 'hope', 'equus', 'miami', 'heads', 'merit', 'raymond', 'u.k.', 'mifflin', 'windfall', 'repair', 'barclays', 'german', 'returns', 'wu', 'things', 'mortgage-backed', 'balloon', 'minister', 'geography', 'brady', 'torrington', 'traitor', 'foam', 'blow', 'hammerton', 'holiday', 'beheading', 'cadet', 'quotas', 'challenge', 'creditor', 'proprietor', 'candidate', 'r.d.', 'waif', 'suit', 'moments', 'novell', 'palestine', 'bunches', 'cat', 'phacoflex', 'cards', 'megabytes', 'contractor', 'guest', 'weakness', 't-shirts', 'cleanup', 'fahrenheit', 'dozen', 'widgets', 'bill', 'delays', 'seahorse', 'abortion', 'city', 'rico', 'vinken', 'glenn', 'taiwan', 'chiodo', 'tete-a-tete', 'voting', 'guber', 'lungs', 'completion', 'winners', \"o'neill\", 'avrett', 'stress', 'school-district', 'marder', 'stands', 'advertisers', 'premiums', 'house', 'sums', 'halls', 'hay', 'walkout', 'web', 'boots', 'destination', 'manfred', 'tiny', 'warehouses', 'operation', 'calif.', 'md.', 'electric', 'holder', 'yield', 'colo.', 'discounts', 'places', 'conversion', 'attorney', 'authors', 'creditors', 'papers', 'carrier', 'clouding', 'facility', 'america', 'quant', 'goody', 'niches', 'equities', 'silicon', 'grains', 'sandberg', 'emile', 'otc', 'chapman', 'motives', 'guys', 'spielvogel', 'evidence', 'export', 'three-quarters', 'toy', 'wallach', 'thai', 'possessions', 'jovanovich', 't.', 'plate', 'chips', 'louisiana-pacific', 'september', 'zaharah', 'survival', 'geneva', 'fixes', 'action', 'payment', 'presidents', 'rankings', 'solicitor', 'unions', 'logic', 's&p', 'ovation', 'event', 'toledo', 'railcar', 'habit', 'star', 'millionaires', 'moody', 'arbs', 'drink', 'roadblock', 'enrollment', 'actress', 'green', 'times-stock', 'handful', 'swearingen', 'mercer', 'situations', 'shovels', 'labouisse', 'eurodollars', 'junk-bond', 'anthony', 'tom', 'october', 'towns', 'crime', 'freeport-mcmoran', 'hysteria', 'yorker', 'stockpiles', 'black', 'chadha', 'pratt', 'den', 'plus', 'solihull', 'complexes', 'withdrawal', 'moneymakers', 'disclosure', 'olympic', 'agnew', 'frank', 'borough', 'underwoods', 'swaps', 'landis', 'tool', 'chuck', 'rigors', 'playwright', 'interview', 'advertising', 'swings', 'ends', 'pitney', 'a-d', 'poland', 'brunswick', 'chassis', 'carbon', 'effect', 'piscataway', 'uptick', 'whelen', 'bangkok', 'aids', 'bars', 'quantities', 'obligations', 'raton', 'no.', 'bridge', 'account', 'stand', 'trading-company', 'forest-products', 'campaigns', 'salon', 'number', 'activities', 'two-thirds', 'monster', 'wake', 'warehousing', 'reasoning', 'charlotte', 'ctb', 'guide', 'nih', 'buildup', 'confidant', 'crystal', 'amounts', 'electric-utility', 'documents', 'academics', 'daughters', 'cathedral', 'judicial', 'air', 'page-one', 'debentures', 'bon', 'greenmailer', 'acceptances', 'drain', 'cuts', 'freddie', 'gray', 'ensembles', 'columbus', 'anti-deficiency', 'half-hour', 'department', 'allendale', 'sierra', 'shipboard', 'scammers', 'napolitan', 'truth', 'technology', 'wis.', 'kilobytes', 'drums', 'reorganization', 'ministry', 'anglia', 'finmeccanica', 'carlos', 'friends', 'spanish', 'mistrials', 'skokie', 'chardonnay', 'babcock', 'civics', 'superdome', 'trade', 'faith', 'degree', 'summary', 'underwriters', 'rapprochement', 'enthusiasm', 'study', 'benchmark', 'willingness', 'gaithersburg', 'motive', 'procedures', 'r.i.', 'datapoint', 'accounts', 'offender', 'woodrow', 'thunder', 'retaliation', 'flow', 'completeness', 'iran-contra', 'passers-by', 'clothes', 'briefs', 'slack', 'mac', 'centerpiece', 'assertions', 'obligation', 'illness', 'subscription', 'limits', 'cleveland', 'company', 'waters', 'ingenuity', 'tarwhine', 'parishes', 'cab', 'yamaichi', 'campaigner', 'apples', 'brands', 'dec.', 'farms', 'majority', 'sorts', 'harold', 'sidak', 'springfield', 'allied', 'cushion', 'solaia', 'springs', 'britain', 'hartford', 'ways', 'public', 'claim', 'criminal', 'users', 'ariz.', 'makato', 'fighters', 'glass', 'meridian', 'danforth', 'direction', 'collection', 'lonski', 'somerset', 'domination', 'flux', 'universities', 'sanford', 'recommendation', 'preferences', 'baton', 'knife', 'prevalance', 'giveaways', 'income', 'rhetoric', 'norwest', 'storm', 'importer', 'stations', 'ibm', 'party', 'chateau', 'intertitles', 'indonesia', 'erbamont', 'remodeling', 'freshbake', 'areas', 'shapiro', 'bakery', 'compositions', 'call', 'sdi', 'bidder', \"o'brien\", 'accidents', 'communications', 'brooke', 'duchossois', 'beta', 'selling', 'retail', 'csv', 'yeargin', 'jeremy', 'item', 'provision', 'occupational', 'nameplate', 'cotton', 'coconut', 'substance', 'fringe', 'occupant', 'way', 'takeover', 'harvest', 'streets', 'colorliner', 'commission', 'lord', 'solicitation', 'warner', 'vos', 'showing', 'mission', 'stigma', 'gates-warren', 'species', 'marubeni', 'skill', 'sonny', 'broken', 'nervousness', 'phipps', 'decades', 'perignon', 'specifics', 'removal', 'price', 'life-insurance', 'amps', 'prize', 'restructure', 'airways', 'coffee', 'surge', 'leo', 'adrs', 'genel', 'news-american', 'gelatin', 'caretaker', 'playgrounds', 'electronics', 'cases', 'top', 'skills', 'ballroom', 'parliament', 'feature', 'protocols', 'wires', 'princeton', 'nofzinger', 'henderson', 'binders', 'flag', 'nightmare', 'hormats', 'kathleen', 'slate', 'guard', 'ind.', 'intention', 'eye', 'protein-1', 'moslem', 'railroad', 'caveat', 'sullivan', 'gift', 'julia', 'schwab', 'elders', 'rear-seat', 'successor', 'philippines', 'anti-programmers', 'broadcasts', 'cable', 'huber', 'nederlanden', 'cougar', 'simeon', 'angier', 'openings', 'business', 'intoxication', 'comfort', 'doubt', 'consideration', 'mid-1990s', 'cattle', 'variation', 'rampage', 'vindication', 'asia', 'asada', 'targets', 'mistake', 'space', 'gorman', 'mayer', 'neighbors', 'marketer', 'poison', 'work', 'mario', 'dumpster', 'optical', 'kelli', 'disputes', 'reed', 'funny', 'temperature', 'greenwich', 'occurrences', 'pockets', 'trial', 'gop', 'vision', 'markdown', 'turnaround', 'wisdom', 'combo', 'opinions', 'patrick', 'presence', 'marie', 'radio-station', 'newhouse', 'outlook', 'distributor', 'hollingsworth', 'kuvin', 'notion', 'construction', 'houghton', 'republicans', 'divisions', 'repayment', 'justices', 'bronze', 'seniors', 'appeals', 'vehicles', 'fast-food', 'superiors', 'booklet', 'warming', 'corps', 'classifications', 'preface', 'night', 'israel', 'films', 'backing', 'guerrillas', 'shelby', 'signals', 'camilli', 'bid', 'ritual', 'allergan', 'acne', 'wave', 'fasteners', 'operations', 'agreement', 'contributions', 'temptation', 'decay', 'witches', 'dr.', 'moons', 'devices', 'expression', 'wayne', 'gartner', 'lobo', 'uses', 'sea', 'ec', 'assault', 'subskills', 'state', 'cold', 'jalaalwalikraam', 'sol', 'credit-rating', 'limitation', 'bombs', 'jam', 'shores', 'outsiders', 'figures', 'miller', 'structures', 'appliance', 'ore.', 'reins', 'intel', 'tokyu', 'robbie', 'honduras', 'squad', 'airline', 'dell', 'prospects', 'context', 'lowe', 'table', 'citizens', 'hand', 'paribas', 'illegality', 'disarray', 'arsenide', 'literacy', 'bidding', 'inouye', 'grange', 'timing', 'traffic', 'shaw', 'tots', 'nickel', 'telephone', 'papua-new', 'buffet', 'plans', 'rapists', 'expectation', 'matters', 'passage', 'games', 'gallium', 'ps', 'disease', 'managers', 'letters', 'patient', 'arrival', 'vacation', 'maturity', 'caller', 'lawmakers', 'teams', 'jockeys', 'execs', 'settlements', 'nbi', 'violence', 'lorain', 'farm', 'maturities', 'wizards', 'parties', 'sell-offs', 'elephant', 'administrators', 'protein', 'long', 'budget', 'liberals', 'nancy', 'roger', 'weddings', 'architect', 'movie', 'small-company', 'kendrick', 'bull', 'school-board', 'explosion', 'coca-cola', 'fang', 'plants', 'careers', 'committees', 'u.s.a.', 'leader', 'pc', 'alert', 'twindam', 'story', 'frederick', 'minivans', 'plastic', 'tobacco', 'crew', 'relocate', 'smoke', 'civilization', 'knopf', 'inner-city', 'planting', 'jamaica', 'war', 'delmont', 'return', 'unavailability', 'bates', 'hubbard', 'pep', 'northern', 'assistant', 'arbitrager', 'millis', 'spilling', 'researcher', 'sections', 'drexel', 'wick', 'cutrer', 'controls', 'investigation', 'chemplus', 'supercomputer', 'slope', 'risks', 'suisse', 'charges', 'setback', 'nominee', 'low', 'mines', 'kobe', 'today', 'effects', 'standard', 'murakami', 'affairs', 'growths', 'lyle', 'evensong', 'banquet', 'aftereffects', 'columbia', 'orange', 'pattern', 'capitalism', 'sufficiency', 'restructurings', 'strength', 'test', 'joe', 'triton', 'dallara', 'pentagon', 'adam', 'forecast', 'tons', 'aptitude', 'captive', 'bridgestone\\\\/firestone', 'overcapacity', 'johnson-era', 'p.', 'stalls', 'tires', 'appeal', 'models', 'jaffray', 'version', 'luck', 'roosevelt', 'derivatives', 'malaysia', 'conduct', 'pretext', 'servicing', 'regulatory', 'improvements', 'inter-tel', 'victims', 'division', 'gamut', 'alstyne', 'grand', 'osborn', 'sundays', 'cara', 'sensitivity', 'female', 'langner', 'cabernets', 'johns', 'nation', 'buy', 'pamela', 'home', 'refrigerator', 'addresses', 'water-authority', 'friedrichs', 'fight', 'syracuse', 'dana-farber', 'passbook', 'jeffrey', 'bids', 'everything', 'seed', 'lobbyists', 'services', 'candlestick', 'tray', 'binge', 'compassion', 'consent', 'performers', 'roofs', 'saints', 'baris', 'disaffiliation', 'fernando', 'thursday', 'observations', 'miscarriages', 'legal', 'steelmakers', 'pasadena', 'nagymaros', 'texts', 'sweden', 'goldinger', 'pipeline', 'svenska', 'reuters', 'imsai', 'dale', 'lorenzo', 'container', 'giants', 'escort', 'cue', 'fan', 'veal', 'transition', 'events', 'meal', 'rogers', 'adjustments', 'michio', 'betting', 'christopher', 'chance', 'sonnett', 'copyrights', 'radioactivity', 'excellence', 'instrument', 'haney', 'workers', 'silicone', 'rotie', 'consulting', 'rubinfien', 'friend', 'materials', 'sidelines', 'reforms', 'california', 'river', 'spot', 'discontent', 'prestige', 'crusade', 'oak', 'royal', 'penny', 'delaware', 'spaces', 'bulls', 'kangyo', 'articles', 'missiles', 'alysia', 'showings', 'facade', 'carillons', 'payrolls', 'kennedy', 'hudnut', 'francisco', 'herbert', 'dominance', 'jihad', 'checks', 'programmer', 'bottle', 'rope', 'biscayne', 'democrats', 'bellwether', 'bearing', 'chalk', 'market-makers', 'doctors', 'spaghetti', 'backer', 'sets', 'supporters', 'trs-80', 'mcdermott', 'researchers', 'dogs', 'bonnell', 'competitor', 'vicar', 'einhorn', 'kidnapping', 'ag', 'palestinian', 'pieces', 'bust', 're-election', 'subscriptions', 'pharaohs', 'west', 'football', 'sterling', 'freedoms', 'lottery', 'drugs', 'indiana', 'use', 'bonuses', 'carriers', 'arguments', 'days', 'summons', 'rest', 'libor', 'fronts', 'curriculum', 'pound', 'cambridge', 'segments', 'johnny', 'station', 'nagano', 'boosts', 'departure', 'dugdale', 'hoopla', 'overseas', 'sir', 'miklos', 'macheski', 'wish', 'statistics', 'front', 'tenn.', 'subindustry', 'portfolio', 'india', 'change', 'lives', 'signet', 'pie', 'stewart', 'davies', 'nov.', 'stuart', 'duo', 'pickers', 'new-car', 'learning', 'guarantee', 'floyd', 'compromises', 'trucks', 'rape', 'fancy', 'frances', 'june', 'total', 'changes', 'charities', 's.p', '8300s', 'andy', 'carter', 'houses', 'minute', 'modifications', 'rae', 'co-chairman', 'pennview', 'rise', 'lane', 'strings', 'paramount', 'nasd', 'swing', 'pressure', 'thomas', 'option', 'engineering', 'stevenson', 'restrictions', 'mike', 'nyse', 'scale', 'cells', 'counts', 'contingent', 'experience', 'ventures', 'toast', 'disagreement', 'alcoholics', 'member', 'cut', 'inheritor', 'recorder', 'torrent', 'directors', 'building', 'xiaoping', 'dynamics', 'delwin', 'ceo', 'dam', 'trojan', 'unitholders', 'mara', 'stephens', 'nationwide', 'fujitsu', 'sr.', 'stories', 'incentive', 'winner', 'collateral', 'burt', 'standpoint', 'compliance', 'rash', 'cluster', 'giraud', 'rulings', 'impact', 'primerica', 'drinks', 'aim', 'curry', 'barfield', 'hypocrisy', 'project', 'debts', 'disclosures', 'good', 'w.r.', 'airports', 'clarence', 'fishman', 'bit', 'briefings', 'matthews', 'corridors', 'power', 'generators', 'slowdowns', 'wilmington', 'iii', 'walters', 'folio', 'street', 'equal-opportunity', 'means', 'utah', 'nestor', 'prize-fighter', 'navy', 'bargain', 'fetal-tissue', 'independence', 'none', 'off-track', 'applicability', 'speed', 'soldado', 'partisans', 'growth', 'faulding', 'hostess', 'ark', 'crop', 'leasing', 'hills', 'chase', 'downgrade', 'motion', 'pyramids', 'truth-in-lending', 'caribbean', 'refocusing', 'crystals', 'tour', 'mahoney', 'gelles', 'names', '%', 'harmony', 'batting', 'kodansha', \"o'loughlin\", 'scrutiny', 'jobs', 'steinberg', 'westport', 'diplomats', 'gangs', 'fulham', 'host', 'mother', 'kurland', 'cultivation', 'chabrol', 'counseling', 'mount', 'attractions', 'aisles', 'danzig', 'producers', 'microcomputers', 'transplantation', 'ferdinand', 'boca', 'tourism', 'applications', 'jimmy', 'profitability', 'offensive', 'oversight', 'icahn', 'georgia-pacific', 'run', 'scenario', 'wilson', 'complaint', 'rings', 'surgery', 'gringo', 'cosmetic', 'premiere', 'warning', 'bowman', 'renee', 'goodies', 'sino-u.s.', 'traditionalists', 'combines', 'monopoly', 'pool', 'britta', 'rap', 'sleep', 'deprivation', \"creator's\", 'lsi', 'stage', 'councils', 'front-seat', 'laboratories', 'stockbroker', 'good-faith', 'professional', 'chicago', 'sotheby', 'heebie-jeebies', 'ftc', 'michaels', 'feniger', 'robert', 'plaintiffs', 'hegemony', 'thieves', 'sandra', 'morbidity', 'pressures', 'finance', 'view', 'utility', 'pulp', 'groton', 'stadium', 'showa', 'scott', 'studio', 'delivery', 'brat', 'harpo', 'nose', 'disapproval', 'mesnil', 'decisions', 'nylev', 'advent', 'gerald', 'exxon', 'improvement', 'guber\\\\/peters', 'readings', 'kondo', 'collections', 'rockwell', 'n.h.', 'inmates', 'nebraska', 'planners', 'trials', 'faculty', 'currency', 'consomme', 'constitutional', 'consolidated', 'estimate', 'computing', 'guests', 'privacy', 'daniels', 'ancestry', 'interbank', 'remarks', 'mehta', 'schweiz', 'sketch', 'identity-management', 'theme', 'injuries', 'valuation', 'samples', 'europe', 'breakey', 'worker', 'dot', 'exit', 'history', 'toys', 'addiction', 'fall', 'crapshoot', 'real-estate', 'polls', 'market', 'schaefer', 'random', 'hair', 'e.c.', 'prejudice', 'points', 'middlesex', 'dashes', 'upham', 'pit', 'craftsmen', 'thought', 'christie', 'embassy', 'tender', 'racket', 'tunes', 'devon', 'goldman', 'partners', 'u.s.', 'heiwado', 'cardboard', 'physics', 'volume', 'risk', 'mazda', 'mainland', 'kansas', 'stern', 'motors', 'connecticut', 'harassment', 'close-up', 'hackensack', 'judith', 'cole', 'growers', 'inches', 'secret', 'knowledge', 'briefing', 'facilities', 'particulars', 'fuels', 'l.p.', 'barriers', 'mcfarlan', 'congregation', 'queen', 'derel', 'deaths', 'powers', 'existence', 'cote', 'douglas', 'job', 'implications', 'watchers', 'pickups', 'founder', 'nothing', 'requests', 'frequency', 'maker', 'ratner', 'norwegian', 'photos', 'chunk', 'college-bowl', 'brunei', 'ywca', 'barbaresco', 'piracy', 'sort', 'c-130', 'exposure', 'brussels', 'marvin', 'france', 'fuji', 'jitters', 'mcauley', 'builders', 'bottles', 'nickname', 'new', 'massachusetts', 'everybody', 'newsstand', 'citations', 'wine-making', 'uncertainty', 'editor', 'lynch', 'northy', 'cartoonist', 'requirement', 'gmac', 'newsstands', 'montgomery', 'chunks', 'anderson', 'agency', 'netware', 'excess', \"o'connor\", 'nixon', 'fracture', 'railing', 'kane', 'peals', 'louis', 'whiting', 'amin', 'economist', 'mitsui', 'doctrine', 'economy', 'question', 'pattenden', 'suspensions', 'rita', 'pap', 'eastern', 'reddington', 'soybeans', 'farren', 'committee', 'renewal', 'deere', 'spreads', 'advice', 'leeway', 'solution', 'danube', 'bmp-1', 'compilation', 'brace', 'latin', 'hamilton', 'goldsmith', 'interrogation', 'surgeon', 'bang', 'albert', 'favor', 'partnership', 'gregory', 'raleigh', 'spence', 'shows', 'aspect', 'coxon', 'peculiarities', 'goodman', 'incentives', 'depositary', 'louisville', 'hospital', 'rubber', 'burden', 'confines', 'ships', 'phelan', 'glory', 'greenville', 'mutchin', 'waertsilae', 'makers', 'china', 'automobile', 'information', 'wayland', 'sigler', 'diceon', 'maintenance', 'eric', 'finding', 'collapse', 'landowners', 'monchecourt', 'cotran', 'lover', 'tenure', 'mccormick', 'allocation', 'stalemate', 'tariff', 'deposits-a', 'tache', 'inquiry', 'fingers', 'fine', 'graders', 'rivals', 'rudolph', 'deal', 'tire', 'authorities', 'richmond', 'someone', 'capital-gains', 'message', 'laurence', 'jan.', 'tuesday', 'books', 'inflation', 'ambassador', 'westborough', 'victory', 'innovation', 'viewpoint', 'figure', 'albany', 'additions', 'russel', 'homebrew', 'last', 'hampshire', 'oy', 'male', 'missouri', 'neanderthals', 'hans', 'regret', 'x', 'executive', 'prosecution', 'mr.', 'bew', 'back', 'monday', 'hayes', 'oils', 'acres', 'precious', 'supplier', 'debut', 'pricing', 'lasalle', 'shareholder', 'longevity', 'helm', 'insiders', 'butler', 'hobbyists', 'politics', 'joys', 'calls', 'time', 'berson', 'article', 'insurgents', 'association', 'screenwriters', 'race', 'odyssey', 'goal', 'vanderbilt', 'label', 'marge', 'henry', 'doak', 'trace', 'psychiatrist', 'satrum', 'proviso', 'paul', 'hayne', 'markey', 'auctions', 'plaza', 'reinvestment', 'weeklies', 'cult', 'lehman', 'copperweld', 'sen.', 'guigal', 'beauty', 'champagne', 'march', 'transplants', 'flap', 'deregulation', 'chip', 'cup-tote', 'designer', 'g', 'citicorp', 'sound', 'assertion', 'merrill', 'mail', 'garbage', 'wound', 'rubicam', 'kicker', 'on', 'garanti', 'darrell', 'contrast', 'music', 'retailer', 'newcomer', 'las', 'file', 'statue', 'valuations', 'zicklin', 'competition', 'pitcher', 'pact', 'checkbook', 'difficulty', 'supreme', 'colonsville', 'potables', 'revenue', 'credibility', 'donoghue', 'auspices', 'verge', 'discrimination', 'pinocchio', 'communist', 'constituent', 'start-up', 'nicole', 'shipyard', 'shipping', 'chemicals', 'crops', 'races', 'beijing', 'borrowing', 'stevens', 'inception', 'microwave', 'sewing-machine', 'symmetry', 'financier', 'marchese', 'play', 'runkel', 'application', 'goblins', 'intermediate', 'turkey', 'trading', 'voters', 'webb', 'cds', 'traficant', 'spite', 'boosters', 'lloyd', 'errors', 'plight', 'vagabond', 'strindberg', 'face', 'gifts', 'strategy', 'warsaw', 'quantity', 'garrison', 'investments', 'dawn', 'municipalities', 'museum', 'peninsula', 'boogieman', 'brean', 'readership', 'kidnapper', 'hardware', 'initiate', 'porter', 'undersecretary', 'salvador', 'miles', 'refinery', 'fla.', 'lieu', 'bone', 'hearing', 'drobnick', 'sachs', 'tiger', 'connections', 'goods', 'insurance', 'expectations', 'gerhard', 'service', 'styles', 'mudslinging', 'advanced', 'deposits', 'everyone', 'supplies', 'magleby', 'hubbell', 'beverage', 'clothing', 'unicorp', 'ibc', 'arlington', 'egypt', 'profit-taking', 'jenrette', 'midnight', 'landfill', 'losses', 'citibank', 'viewership', 'little', 'arbitragers', 'noodles', 'closeness', 'efficiency', 'brenda', 'private', 'federal', 'engineer', 'garden-variety', 'inverse', 'card', 'marietta', 'designated', 'tribune', 'healing', 'boy', 'co-author', 'rosenblum', 'sigh', 'detail', 'fate', 'refunding', 'surrey', 'traders', 'merger', 'midyear', 'depression', 'upturn', 'veselich', 'clinton', 'failures', 'members', 'montedison', 'menem', 'businessman', 'planner', 'nail', 'scoring', 'certificate', 'combinations', 'polytechnic', 'fiber', 'imbalances', 'n.y', 'dissident', 'bribe', 'clark', 'purchasers', 'first', 'dialogue', 'tip', 'alcoholism', 'filter', 'grapes', 'bribery', 'likeness', 'telephones', 'sector', 'index', 'nesconset', 'eaton', 'holidays', 'banking', 'fairless', 'past', 'end', 'trust', 'men', 'hurley', 'finland', 'cartons', 'listeners', 'assurance', 'rates', 'title', 'sub-markets', 'federalist', 'accord', 'a.', 'pretty', 'sponsors', 'content', 'licenses', 'shortage', 'conversations', 'sheep', 'forum', 'others', 'york', 'great', 'clairton', 'harm', 'braun', 'polystyrene', 'foldability', 'corp.', 'circulations', 'heritage', 'alexander', 'economists', 'spring', 'realization', 'posters', 'switzerland', 'headrests', 'polluters', 'store', 'ethel', 'leaders', 'chatter', 'moratorium', 'presidency', 'tire-kickers', 'sunday', 'example', 'acquisitions', 'classics', 'berliner', 'pioneer', 'gallon', 'dodge', 'grandsire', 'knapp', 'zinc', 'peal', 'vaccines', 'fees', 'problem', 'watches', 'taizo', 'representative', 'examples', 'complex', 'calif', 'ballantine\\\\/del', 'opportunities', 'lighthouse', 'examiner', 'bomber', 'show', 'prisoners', 'minn.', 'fits', 'insolvency', 'safety', 'concessions', 'fiscal', 'pat', 'larry', 'step', 'congressmen', 'cornerstones', 'forces', 'moon', 'training', 'fred', 'keehn', 'commitment', 'shugart', 'cake', 'skirmishes', 'unraveling', 'trudeau', 'premium', 'steelmaker', 'word-processing', 'manhattan', 'republican', 'smattering', 'companies', 'corruption', 'refusal', 'baum', 'pictures', 'blackstone', 'shelf', 'tidbits', 'indicators', 'pressman', 'retin-a', 'bradford', 'conferees', 'bulk', 'man', 'results', 'reds', 'creation', 'gotta', 'kuhns', 'seats', 'london', 'battery', 'barge', 'beall', 'hadson', 'driscoll', 'percentage', 'defense', 'democracy', 'triple-c', 'scheme', 'strait', 'rail', 'foreign', 'morale', 'pirates', 'sell', 'side', 'waste', 'threat', 'microprocessors', 'stirrings', 'editorial', 'crack', 'ambassadors', 'morning', 'tiphook', 'cocoa', 'boone', 'secretary', 'sept.', 'joel', 'defeat', 'honolulu', 'section', 'prof', 'santa', 'soho', 'mutual-fund', 'scotland', 'karl', 'del', 'mrs', 'demonstrations', 'two-sevenths', 'greed', 'line', 'fault', 'ft-se', 'sandinista', 'sluggishness', 'reality', 'wash.', 'cause', 'collins', 'cincinnati', 'february', 'doctorate', 'aircraft', 'bellows', 'expenses', 'publishing', 'fuentes', 'baltimore', 'irving', 'bass', 'peaks', 'arthur', 'stearn', 'silver', 'players', 'foster', 'clemens', '1920s', 'townes', 'overhead', 'leighton', 'listing', 'sheaf', 'international', 'monopolies', 'h.', 'fires', 'lama', 'culprit', 'queers', 'funds', 'bases', 'museums', 'tax', 'wrath', 'david', 'classes', 'exemption', 'magazine', 'capitol', 'gaf', 'similarity', 'a.l.', 'hhs', 'onus', 'malnutrition', 'otero', 'ymca', 'anyone', 'thrall', 'agenda', 'ill', 'appointment', 'starts', 'desires', 'summer', 'principle', 'may', 'consumer', 'season', 'exclusion', 'valrico', 'lurgi', 'greer', 'thirtysomething', 'age', 'designation', 'development', 'federation', 'mood', 'fremantle', 'ariail', 'british', 'agencies', 'interests', 'parishioners', 'separately', 'sayers', 'progress', 'environments', 'copyright', 'permission', 'maxwell', 'tickets', 'deadline', 'alternative', 'specialty', 'optimism', 'adams', 'cartilage', 'arabia', 'cheese', 'aides', 'belt', 'promotions', 'success', 'techniques', 'load', 'carla', 'grain', 'sat', 'demand', 'contests', 'level', 'loans', 'balance', 'doors', 'i.', 'putty', 'prater', 'stirlen', 'publications', 'lumpur', 'wrists', 'centimeter', 'review', 'medallions', 'subscribers', 'merchandising', 'cbs', 'location', 'democrat', 'crunch', 'churches', 'bargains', 'replies', 'inventory', 'rendering', 'navigation', 'bench', 'silverman', 'u.s.a', 'behalf', 'tea', 'notch', 'acid', 'altar', 'facts', 'key', 'data', 'options', 'rate', 'foreigners', 'buckle', 'sub-segments', 'dow', 'sumitomo', 'witness', 'billings', 'third-quarter', 'livestock', 'lindner', 'prebon', 'australia', 'urban', 'hiroshima', 'ideas', 'aftermath', 'davenport', 'magicians', 'appropriators', 'kindness', 'defendant', 'union', 'multinationals', 'colleagues', 'furukawa', 'cracks', 'participation', 'carnegie-mellon', 'lenders', 'waymar', 'cheetham', 'rebellion', 'economic', 'barrett', 'ray', 'clock', 'marcus', 'units', 'cellars', 'carson', 'subjects', 'sanctions', 'n.y.', 'production', 'christian', 'hill', 'vote', 'lunch', 'emigres', 'preference', 'funding', 'castle', 'napa', 'environment', 'seller', 'billing', 'markdowns', 'merchants', 'visit', 'liabilities', 'period', 'seattle', 'outside', 'ballot', 'execution', 'one-third', 'charlie', 'alfred', 'rim', 'kingsbridge', 'fairness', 'peabody', 'komatsu', 'terrine', 'necks', 'activity', 'souper', 'property\\\\/casualty', 'barbados', 'drawing', 'piece', 'household', 'takuma', 'mechanism', 'swift', 'vortex', 'audit', 'reporter', 'leap', 'purpose', 'gardner', 'harris', 'environmental', 'inventiveness', 'pepperdine', 'len', 'land', 'apparel', 'citizen', 'charge', 'disk', 'roll', 'oblivion', 'waterworks', 'cities', 'hazell', 'minutes', 'defazio', 'creditworthiness', 'expansion', 'smelting', 'n.v.', 'hundreds', 'publisher', 'pickens', 'stoppage', 'backyard', 'supermarket', 'jolts', 'parent', 'intrusions', 'crowd', 'speculator', 'familiarization', 'contribution', 'lee', 'ltd', 'grade', 'lure', 'scientist', 'professors', 'rewards', 'exporters', 'industrials', 'troops', 'homework', 'c-90', 'door', 'aslacton', 'spokesman', 'university', 'pianist-comedian', 'abortions', 'sectors', 'barrier', 'takeshi', 'bhutto', 'expense', 'dividend', 'pharmaceuticals', 'portfolios', 'exhibition', 'weapon', 'stuff', 'preston', 'edwin', 'newsweek', 'kerensky', 'felonies', 'stability', 'reform', 'answers', 'biondi-santi', 'opinion', 'danville', 'piper', 'rules', 'milan', 'donaldson', 'blood', 'trademark', 'vehicle', 'overtime', 'might', 'factory', 'fleet', 'officials', 'austria', 'rule', 'liners', 'intensity', 'regulation', 'suffering', 'disasters', 'responses', 'r', 'no-smoking', 'sense', 'referendum', 'baker', 'cutbacks', 'persuasion', 'negotiators', 'rexinger', 'lotions', 'raising', 'crane-safety', 'survey', 'ground', 'jacksonville', 'jersey', 'accident', 'cancer', 'decliners', 'mcalpine', 'clive', 'try', 'pill', 'pan', 'dancing', 'bancorp', 'offenders', 'huntington', 'courage', 'irs', 'bears', 'achievement', 'speculators', 'kent', 'curse', 'province', 'peters', 'tow', 'ghkm', 'warren', 'lender', 'eagleton', 'harper', 'dozens', 'phi', 'bodner', 'resort', 'chauffeur', 'gov.', 'reformers', 'concept', 'contract', 'knight', 'consumers', 'exchange', 'increases', 'centennial', 'rival', 'narcotics', 'november', 'asbestosis', 'ownership', 'milwaukee', 'one-upsmanship', 'sutcliffe', 'drew', 'picket', 'reading', 'landonne', 'bob', 'guns', 'investment', 'dan', 'apology', 'relation', 'japanese', 'liquidity', 'head', 'garret', 'desire', 'hurdles', 'mistakes', 'sloan', 'money', 'dolls', 'cross', 'adviser', 'antonio', 'taurus', 'circuit-breaker', 'degrees', 'elimination', 'litigation', 'blackjack', 'commodities', 'minority', 'bromwich', 'brunello', 'powerhouse', 'raspberry', 'kearny', 'claire', 'strip', 'slowdown', 'guffey', 'warrants', 'balloting', 'following', 'virtue', 'rolling', 'egnuss', 'wolf', 'planters', 'non-u.s.', 'interest', 'sponsor', 'oil', 'vintage', 'measure', 'lizhi', 'crystal-lattice', 'one', 'contradictions', 'free', 'reinstatement', 'mix', 'architecture', 'murder', 'principals', 'house-senate', 'bougainville', 'hustlers', 'mine', 'magazines', 'philosophy', 'utsumi', 'd.', 'purchasing', 'savers\\\\/investors', 'charts', 'patent', 'transfers', 'interpretation', 'stores', 'disregard', 'sogo-shosha', 'packaging', 'jeweler', 'patterns', 'sasaki', 'deficit', 'mayor', 'fact', 'don', 'asbestos', 'evans', 'dennis', 'wilbur', 'ames', 'kalamazoo', 'feelings', 'hero', 'telephone-information', 'heatherington', 'najarian', 'claude', 'response', 'chaplin', 'kids', 'grower', 'microprocessor', 'banque', 'appreciation', 'measurement', 'tuscany', 'reasons', 'acquisition', 'president', 'weight', 'cereal', 'jeopardy', 'write-off', 'ability', 'pain', 'major', 'ambitions', 'blanchard', 'region', 'orville', 'certificates', 'coleco', 'cooperation', 'municipal', 'something', 'woman', 'set', 'bonus', 'hearings', 'size', 'acceptance', 'language', 'hours', 'maze', 'master', 'officer', 'providence', 'defendants', 'africa', 'milestone', 'course', 'simmons', 'barnett', 'emissions', 'wages', 'writer', 'comeback', 'unit', 'fidelity', 'c.j.b.', 'genie', 'equivalents', 'tension', 'links', 'disadvantage', 'spouse', 'exchanges', 'comedies', 'jugglers', 'cent', 'utilities', 'interactions', 'volatility', 'palmer', 'tulane', 'pools', 'lakes', 'erasures', 'oxnard', 'bias', 'jacob', 'establishment', 'superdot', 'appliances', 'career', 'belfries', 'shudders', 'saudi', 'productions', 'manufacturer', 'weeks', 'purepac', 'meatpacking', 'cray-3', 'incentive-bonus', 'beth', 'brigham', 'limited-partnership', 'composite', 'byron', 'jonas', 'lab', 'negotiator', 'casino', 'manufacturers', 'bells', 'elisa', 'darkhorse', 'details', 'effort', 'chilver', 'mitsubishi', 'ranieri', 'angola', 'businessmen', 'marks', 'braidwood', 'relations', '500-stock', 'metallgesellschaft', 'emergencies', 'purchase', 'monetary', 'giuliani', 'miguel', 'co-owner', 'blanc', 'lauderhill', 'jones', 'graphics', 'clients', 'paper', 'pinning', 'process', 'headcount-control', 'proponents', 'alternatives', 'abbey', 'incisions', 'winiarski', 'downtown', 'paso', 'barnum', 'blacks', 'districts', 'hoylake', 'carney', 'vinyl', 'haven', 'systems', 'bedding', 'dispute', 'premier', 'score', 'glenham', 'heartland', 'subscriber', 'muramatsu', 'breed', 'frenzy', 'arms', 'advantages', 'hutton', 'offer', 'constitution', 'pamplin', 'a.c.', 'warehouse', 'mining', 'marketing', 'rozell', 'mickey', 'notes', 'chrysotile', 'recyclability', 'doctor', 'schedule', 'lesions', 'tube', 'overproduction', 'antinori', 'thousands', 'criticism', 'lawless', 'leming', 'immense', 'hawaii', 'financial-services', 'hotel', 'ravenswood', 'peak', 'mercedes', 'discussions', 'delegates', 'univest', 'appellate', 'landing', 'monitor', 'nbc', 'interventions', 'high-technology', 'junk', 'opening', 'bailey', 'brent', 'appointments', 'position', 'f.', 'obsession', 'penalty', 'mitchell', 'flim-flammery', 'amount', 'staff-reduction', 'products', 'phase-out', 'park', 'stockholders', 'wife', 'deviation', 'va.', 'commercials', 'asian', 'editorials', 'rally', 'pages', 'videocassette', 'shearson', 'violation', 'superconductor', 'tallies', 'guilders', 'ralston', 'aloha', 'ensrud', 'corton-charlemagne', 'investor', 'reliance', 'birds', 'peace', 'arafat', 'dismay', 'quarter', 'masters', 'riders', 'payouts', 'zayed', 'taittinger', 'fuel', 'allegations', 'buck', 'ga.', 'ubs', 'jurisdiction', 'research', 'diloreto', 'mortimer', 'buses', 'slump', 'salt', 'lifes', 'blunt', 'schoolchildren', 'intelogic', 'clippings', 'planes', 'neoprene', 'likelihood', 'hearst', 'liability', 'push', 'saul', 'volunteer', 'kean', 'pty.', 'ordnance', 'holdings', 'journals', 'tree', 'cosmopolitan', 'close', 'droz', 'waivers', 'johnson', 'bitterness', 'reps', 'possibility', 'phone', 'honor', 'irvine', 'hammerschmidt', 'plenty', 'phillip', 'fantasy', 'ncr', 'pub', 'surplus', 'editors', 'mont', 'bloc', 'lawsuit', 'port', 'fourth-quarter', 'ailes', 'kuala', 'riese', 'sides', 'tactics', 'concern', 'double-c', 'sensation', 'crum', 'co-developers', 'wilton', 'weakening', 'knell', 'ednie', 'notice', 'atsushi', 'package', 'overruns', 'millions', 'gordon', 'building-products', 'dexterity', 'powwow', 'blue', 'administrator', 'atmosphere', 'keith', 'lobbies', 'december', 'tenth', 'rms', 'italy', 'generalized', 'offering', 'birmingham', 'respondents', 'judie', 'default', 'lipsticks', 'dsm', 'roof', 'rollover', 'kits', 'redemption', 'trains', 'shelter', 'person', 'somebody', 'vargas', 'kalipharma', 'output', 'wednesday', 'steve', 'revenues', 'shuttle', 'kawasaki', 'saturday', 'continental', 'consumption', 'boilers', 'matthew', 'ad', 'sulaiman', 'network', 'elisabeth', 'du', 'text', 'matter', 'p.m.', 'upjohn', 'formula', 'profession', 'participants', 'romance', 'couple', 'generation', 'essays', 'pence', 'reruns', 'michigan', 'single-family', 'morita', 'marshall', 'employee', 'adult', 'angle', 'signal', 'leash', 'rumor', 'contras', 'worship', 'in', 'estate', 'plan', 'backe', 'manager', 'reames', 'aktiebolaget', 'lesson', 'layer', 'wohlstetter', 'airlines', 'huntsville', 'vega', 'coverage', 'error', 'domaine', 'competitions', 'search', 'trends', 'btr', 'c.d.s', 'housing', 'vose', 'minimum-wage', 'leases', 'accommodations', 'issuer', 'enzor', 'rockford', 'and', 'sixth', 'disaster', 'hudson', 'bridgeville', 'damages', 'regulations', 'entrepreneur', 'schools', 'beach', 'logjam', 'puccio', 'victor', 'screen', 'inspection', 'stronach', 'edison', 'yen', 'husband', 'catch', 'cristal', 'can', 'bund', 'sympathy', 'norwick', 'relevance', 'avon', 'fixtures', 'perch', 'misdemeanor', 'protest', 'declaration', 'senses', 'pounds', 'energy', 'metal', 'duties', 'debenture', 'cups', 'micronite', 'insurance-company', 'stephanie', 'self-esteem', 'interpublic', 'marriages', 'walbrecher', 'shape', 'attempts', 'wfrr', 'education', 'record', 'earthquake', 'wholesaler', 'solidarity', 'spitler', 'liquid', 'institute', 'class', 'word', 'employment', 'virtues', 'expenditures', 'goodwill', 'genetics', 'worsening', 'mania', 'manchester', 'cask', 'seconds', 'preparation', 'weil', 'revolution', 'barrel', 'garry', 'trades', 'model', 'milestones', 'scotia', 'los', 'placement', 'generations', 'toilet', 'referenda', 'doerflinger', 'mill', 'helsinki', 'agents', 'personnel', 'bills', 'enright', 'gencorp', 'sacks', 'bloods', 'investor-relations', 'tissue', 'york-based', 'creek', 'views', 'shadows', 'index-fund', 'morgan', 'oliver', 'fashion', 'memo', 'hallwood', 'rentals', 'phoenix', 'concerns', 'internatonal', 'news', 'task', 'grants', 'taccetta', 'entertainment', 'western', 'f', 'court', 'acid-rain', 'carl', 'outlay', 'tyre', 'drawbacks', 'modification', 'aerospace', 'stream', 'launch', 'reader', 'meetings', 'samnick', 'aspersions', 'cap', 'care', 'vetoes', 'directorship', 'examination', 'moscow', 'flows', 'driskill', 'hands', 'hit', 'sheffield', 'aspects', 'consequences', 'bush', 'taxpayer', 'discussion', 'fortune', 'cigna', 'sites', 'fabricator', 'alleghany', 'siti', 'impetus', 'worksheets', 'highway', 'incest', 'bankers', 'mathematics', 'swap', 'loyalty', 'hawke', 'd.c.', 'fargo', 'cia', 'chevrolet', 'visits', 'dingell', 'congress', 'access', 'perception', 'control', 'capacity', 'hits', 'note', 'analysts', 'fannie', 'perceptions', 'platinum', 'extension', 'ogilvy', 'excesses', 'intelligence', 'tokyo', 'pa.', 'subtraction', 'royalty', 'lovett', 'citation', 'gambling', 'writers', 'astonishment', 'whas', 'brooklyn', 'ads', 'substitute', 'baby', 'friction', 'f.w.', 'transportation', 'radio', 'walkman', 'newspaper-printing', 'vermont', 'dorothy', 'sheets', 'auto', 'limited', 'theaters', 'forest-product', 'la.', 'sky', 'deals', 'country', 'subcommittee', 'answer', 'clerics', 'campus', 'males', 'mellon', 'lieutenant', 'wozniak', 'jaguar', 'beer-belly', 'firms', 'share', 'wafers', 'signature', 'architects', 'contributors', 'boesel', 'graphs', 'novello', 'length', 'projections', 'ire', 'organizations', 'exception', 'high', 'thunderbird', 'soul', 'dams', 'ropes', 'sauvignon', 'structural', 'medicine', 'tandy', 'tests', 'cataracts', 'underwriter', 'entity', 'resources', 'regal', 'warranties', 'yesterday', 'ushers', 'laurels', 'indifference', 'mcmillin', 'licensing', 'bulldozers', 'composer', 'civil', 'practical', 'ratepayers', 'prescription', 'scores', 'failure', 'walt', 'integration', 'subcontractor', 'wa', 'prefecture', 'taxpayers', 'bricks', 'fatalities', 'abuse', 'ordeal', 'logo', 'pillow', 'viewpoints', 'television', 'marc', 'voices', 'defects', 'floors', 'buy-outs', 'sweatshirts', 'eugene', 'horoscopes', 'dunton', 'analysis', 'irwin', 'ultimatum', 'commodity', 'down', 'year', 'desai', 'brazil', 'system', 'zurich', 'types', 'dick', 'book', 'moleculon', 'communication', 'freeway', 'shoulder', 'stadiums', 'altair', 'bank', 'fairlawn', 'labels', 'camille', 'ginsberg', 'commerce', 'conglomerate', 'assembly', 'nominees', 'spillane', 'low-altitude', 'procurement', 'implication', 'adolph', 'creator', 'olson', 'lezovich', 'flood', 'telecommunications', 'accordance', 'automobiles', 'unknown', 'expert', 'bendectin', 'individuals', 'hong', 'controversy', 'island', 'trinity', 'brooks', 'iras', 'publishers', 'responsibilities', 'burnham', 'staffs', 'governor', 'catch-up', 'denominator', 'rabia', 'retirement', 'n.', 'consequence', 'margin', 'voa', 'dismissal', 'worry', 'merchandise', 'help', 'nemeth', 'performance', 'interviews', 'gasoline', 'salinas', 'b.', 'entrants', 'copycats', 'emphasis', 'versions', 'inadequacy', 'burdens', 'klein', 'nasdaq', 'pepperidge', 'turn', 'autos', 'average', 'methods', 'observance', 'barth', 'cos.', 'mobster', 'politicians', 'fair', 'mininum-wage', 'seymour', 'visa', 'lafite-rothschild', 'estimates', 'andersson', 'stars', 'tassinari', 'chain', 'colleges', 'loops', 'northeast', 'game', 'acts', 'comments', 'link', 'arrows', 'warrant', 'central', 'sherwood', 'church-goers', 'insistence', 'islands', 'baseball', 'manner', 's.i.', 'n.v', 'deborah', 'commodore', 'product', 'affiliates', 'c.', 'fbi', 'ilminster', 'worms', 'east', 'lambert', 'estimation', 'property', 'landrieu', 'dover', 'indications', 'z.', 'cosby', 'questions', 'horsham', 'mae', 'reputation', 'tort', 'ringers', 'outcry', 'functions', 'chinese-american', 'ceiling', 'el', 'investing', 'mossman', 'grandfather', 'firmness', 'have', 'betrayer', 'friday', 'barrels', 'mcleod', 'anger', 'newspapers', 'islamic', 'stable', 'working', 'scientists', 'fear', 'downfall', 'betterment', 'reluctance', 'crocidolite', 'hour', 'indexers', 'lancaster', 'properties', 'right', 'michael', 'heavy', 'hoosier', 'n.c', 'instruments', 'theodore', 'evaluation', 'second', 'fellowship', 'prerogative', 'massacre', 'financing', 'launch-vehicle', 'luce', 'perfection', 'juggernaut', 'snow', 'library', 'column', 'costs', 'auditors', 'floor', 'projector', 'calder', 'lentjes', 'big', 'competitors', 'catholic', 'impediments', 'quota', 'destinations', 'haul', 'subskill', 'net', 'cigarettes', 'pauline', 'wheat', 'superconductors', 'novel', 'beige', 'shame', 'proponent', 'scowcroft', 'brownell', 'talks', 'mayland', 'mikhail', 'dakota', 'priority', 'request', 'reserve', 'andrew', 'brokerage', 'salaries', 'efforts', 'businesses', 'restriction', 'registration', 'germany', 'haruki', 'referral', 'percent', 'koito', 'refund', 'parallels', 'tormentors', 'pistols', 'cheating', 'client', 'hahn', 'noriega', 'dairy', 'agreed', 'count', 'boulder', 'dust-up', 'prison', 'the', 'h.n.', 'managements', 'smokers', 'fledgling', 'shivers', 'l.', 'ian', 'countries', 'printers', 'images', 'midland', 'fabian', 'roland', 'role', 'wickliffe', 'injury', 'pont', 'sports', 'insanity', 'tours', 's.a', 'ganes', 'saitama', 'deryck', 'argument', 'membership', 'mind', 'norman', 'social-studies', 'national', 'nekoosa', 'vice', 'mrs.', 'stag', 'hallett', 'rick', 'lilly', 'cru', 'gunmen', 'stock-index', 'interleukin-3', 'program-trading', 'bickering', 'homosexual', 'ins', 'trend', 'proceeds', 'gary', 'measures', 'dill', 'cerf', 'portrayal', 'cheerleaders', 'jet', 'halt', 'resumption', 'ramparts', 'sugarman', 'tens', 'thrifts', 'diplomacy', 'involvement', 'neal', 'keidanren', 'heidelberg', 'grace', 'fibers', 'attempt', 'plainclothes', 'departures', 'tradition', 'students', 'tie-in', 'hampton', 'pennsylvania', 'joanne', 'austin', 'unpopularity', 'mary', 'protesters', 'plantation', 'graham', 'dallas', 'lufkin', 'pills', 'productivity', 'operating', 'attention', 'advocates', 'adjustment', 'wholesale', 'ddb', 'orders', 'referrals', 'daiwa', 'pollution', 'boston', 'beds', 'information-services', 'spectrum', 'carolina', 'morrison', 'talk-show', 'sheet', 'treble', 'corkscrews', 'decade', 'watanabe', 'segment', 'harry', 'metals', 'fears', 'taste', 'hormone', 'tad', 'lobsenz', 'drops', 'motor-home', 'backers', 'candela', 'pretax', 'jews', 'yale', 'youths', 'offense', 'opposition', 'exporter', 'john', 'vans', 'strike', 'financings', 'conditions', 'living', 'walker', 'f.h.', 'fee', 'hurricane', 'portion', 'characteristics', 'problems', 'magnitude', 'element', 'sandoz', 'evening', 'portugal', 'nomura', 'mortgages', 'attitude', 'technologies', 'salary', 'cheerleading', 'natural', 'video', 'dilemma', 'wakui', 'hanifen', 'weekends', 'cycles', 'highs', 'apple', 'trees', 'hasbrouk', 'atlantic', 'sable', 'diagram', 'loews', 'gas', 's.', 'groups', 'young', 'marbles', 'payoff', 'circuit', 'rebels', 'moines', 'wine', 'life-style', 'landfills', 'nev.', 'martin', 'replacement-car', 'senior', 'ingredients', 'craze', 'approach', 'emergency', 'counter', 'free-enterprise', 'autumn', 'flightiness', 'respite', 'contacts', 'climate', 'slab', 'treasury', 'nobody', 'certin', 'travelers', 'lawsuits', 'whip', 'premises', 'colony', 'administration', 'wines', 'replacement', 'inland', 'lookee-loos', 'raise', 'jr', 'social', 'rusty', 'prospect', 'liquid-nitrogen', 'milne', 'dissemination', 'miners', 'filling', 'order', 'barges', 'beginning', 'bolduc', 'device', 'laser', 'ingersoll-rand', 'berger', 'crackdown', 'dummies', 'need', 'shareholders', 'absurdity', 'women', 'stance', 'brokers', 'watchdogs', 'cloud', 'processors', 'limbo', 'inefficiencies', 'youth', 'buyer', 'circumstances', 'mindy', 'chamber', 'jr.', 'refuge', 'nomination', 'inside', 'barometer', 'courtroom', 'airplane', 'fracturing', 'exploration', 'ringer', 'neighborhoods', 'suppression', 'asset', 'maclellan', 'centers', 'curses', 'jumps', 'bordeaux', 'handling', 'plc', 'light', 'penalties', 'sabhavasu', 'clouds', 'acquirer', 'needham', 'media', 'spenders', 'rocket', 'cancers', 'innuendoes', 'judiciary', 'driver', 'wtd', 'road', 'farmers', 'keyboards', 'caution', 'tows', 'piero', 'material', 'dai-ichi', 'garage', 'issues', '1980s', 'ross', 'downgrading', 'bushel', 'longwood', 'burlap', 'hoffman', 'patch', 'upscale', 'adults', 'rapport', 'depressions', 'earnings', 'negotiations', 'worries', 'ms.', 'restaurant', 'declines', 'dolan', 'miti', 'values', 'boys', 'marty', 'pakistan', 'dolphin', 'life', 'appropriations', 'penchant', 'economies', 'plunge', 'slew', 'cruise', 'practices', 'burgundy', 'institutions', 'branch', 'gayle', 'reductions', 'hopes', 'match', 'impatient', 'corners', 'mercury', 'backlog', 'legend', 'credit', 'deficiencies', 'artist', 'neuberger', 'village', 'trouble', 's&l', 'institutes', 'kinds', 'klauser', 'semesters', 'tailors', 'contra', 'actor', 'octogenarians', 'furor', 'honors', 'syndrome', 'schlemmer', 'photograph', 'practitioners', 'denver', 'individual', 'post', 'touch', 'announcer', 'multiples', 'bomb', 'turf', 'odds', 'joy', 'act', '1990s', 'circle', 'indicator', 'developments', 'offers', 'felten', 'brian', 'anticipation', 'supercomputers', 'category', 'nigel', 'ethanol', 'nelson', 'tablets', 'timex', 'signs', 'cray', 'ana', 'fanfare', 'hospitals', 'hugo', 'invention', 'howard', 'thanks', 'pension', 'movement', 'outrage', 'times', 'luxury', 'kind', 'booklets', 'sweat', 'bin', 'mid-october', 'ready', 'outlets', 'ounces', 'january', 'bundles', 'yorkers', 'borrowers', 'venture', 'drivers', 'gunship', 'stoll', 'haut-brion', 'report', 'coleman', 'assaults', 'polyester', 'integra-a', 'lyn', 'dorrance', 'buy-back', 'mcfall', 'congressman', 'creams', 'bunny', 'assistance', 'trustco', 'hot', 'pcs', 'mothers', 'twin-jet', 'factors', 'player', 'pocket', 'objectives', 'appetite', 'hud', 'kathryn', 'youngsters', 'lawyer', 'labor', 'evolution', 'midtown', 'providers', 'afternoon', 'accountant', 'lion', 'phrase', 'steel', 'authority', 'virginia', 'traverse', 'mignon', 'convention', 'releases', 'singapore', 'mason', 'daniel', 'mo', 'shops', 'languages', 'cabinet', 'passport', 'dominion', 'yquem', 'rounds', 'shangkun', 'terrace', 'miss.', 'difference', 'fulton', 'appropriation', 'worthiness', 'franc', 'photography', 'ed', 'ky.', 'wrongdoing', 'bags', 'sake', 'belfry', 'taxation', 'bureau', 'resolution', 'i', 'root', 'salty', 'romanee-conti', 'dean', 'tony', 'trump', 'advantage', 'trafficking', 'markkaa', 'reason', 'martyr', 'woolworth', 'hostility', 'terms', 'hitter', 'sell-off', 'lead', 'cabs', 'discretion', 'specialists', 'crown', 'foods', 'christmas', 'bennett', 'english', 'wonder', 'traded', 'paris'}\n"
     ]
    }
   ],
   "source": [
    "# checking the text for which 'NOUN' tag is used\n",
    "\n",
    "print(set(\n",
    "    [tpl[0].lower() for pair in nltk_data for tpl in pair \n",
    "                                        if tpl[1] == 'NOUN']\n",
    "         ))"
   ]
  },
  {
   "cell_type": "code",
   "execution_count": 7,
   "metadata": {
    "scrolled": true
   },
   "outputs": [
    {
     "name": "stdout",
     "output_type": "stream",
     "text": [
      "{'*t*-64', '*-153', '*-41', '*t*-179', '*t*-39', '*-88', '*t*-90', '*t*-224', '*-102', '*not*', '*-165', '*t*-219', '*ich*-3', '*-18', '*-49', '*t*-68', '*t*-85', '*t*-164', '*-111', '*t*-3', '*exp*-2', '*-80', '*t*-109', '*t*-99', '*t*-10', '*t*-5', '*t*-111', 'a', '*t*-212', '*t*-149', '*-14', 'etc.', '*-133', '*t*-223', 'ok', '*t*-112', '*t*-43', '*t*-229', '*t*-185', '*-140', '*-74', '*t*-35', '*t*-31', '*-67', '*t*-135', '*-162', '*t*-240', '*t*-2', '*t*-235', '*t*-61', '*?*', '*t*-248', '*t*-25', '*t*-156', '*-96', '*t*-70', '*t*-9', '*t*-117', '*t*-151', '*t*-115', '*-21', '*t*-124', '*t*-72', '*t*-26', '*t*-1', '*t*-118', '*-105', '*t*-203', '*t*-24', '*t*-215', '*exp*-3', '*-13', '*t*-27', '*t*-22', '*-31', '*t*-228', '*t*-84', '*-40', '*t*-253', '*t*-69', '*-129', '*-16', '*t*-29', '*t*-130', '*-141', '*ppa*-3', '*u*', '*-59', '*-64', '*t*-110', '*t*-231', '*-19', '*t*-82', '*t*-232', '*-1', '*t*-86', '*t*-129', '*t*-49', '*-104', '*-124', '*-99', '*-76', '*t*-173', '*t*-126', '*-12', '*-123', '*t*-132', '*t*-101', '*t*-140', 'b', '*t*-113', '*-110', '*t*-51', '*t*-88', '*t*-157', '*t*-53', '*-93', '*t*-222', '*-82', '*-20', '*t*-243', '*t*-62', '5', '*-10', '*-11', '*rnr*-1', '*t*-165', '*t*-233', '*-75', '*t*-158', '*t*-250', '*t*-30', '*-72', '*t*-170', '*t*-55', '*t*-60', '*t*-34', '*t*-218', '*-84', '*t*-92', '*t*-181', '*t*-241', '*t*-200', '*t*-12', '*t*-6', '*t*-191', '*t*-198', '*t*-42', '0', '*t*-76', '*-125', '*t*-172', '*-131', '*t*-255', '*-22', '*-33', '&', '*t*-208', '*-48', '*t*-4', '*-70', '*-158', '*-159', '*t*-242', '*t*-38', '*-101', '*-9', '*t*-247', '*-147', '*-160', '*-6', '*t*-79', '*t*-107', '*t*-254', '*t*-11', '*t*-256', '*-79', '*-46', '*-38', '*-138', '*-24', '*-115', '*t*-121', '*t*-133', '*-108', 'de', '*-45', '*-7', '*t*-213', '*t*-102', '*-3', '*-144', '*t*-8', '*t*-58', '*-130', '*t*-197', '*-4', '*-106', '*-36', '*t*-116', '*-30', '*-92', '*t*-98', '*t*-168', '*t*-207', '*t*-166', '*-51', '*-113', '*t*-201', '*t*-66', '*t*-50', '*t*-20', '*t*-45', '*t*-36', '*t*-13', '*-42', '*-126', '*t*-97', 'besuboru', '*-43', '*-97', '*t*-146', '*-83', '*t*-204', '*-142', '*-77', '*-118', '*t*-134', '*t*-238', '*-39', '*-58', '*-50', '*t*-71', '*t*-18', '*t*-136', '*t*-87', '*t*-63', '*rnr*-4', '*t*-19', '*-15', '1', '*t*-83', '*t*-205', '*t*-106', '*-116', '*-35', '*-112', '*t*-199', '*t*-245', '*t*-46', '*t*-40', '*t*-174', '*t*-147', '*-87', '*exp*-1', '*t*-52', '*-151', '*ich*-2', '*-52', '*-2', '*-114', '*-54', '*-23', '*t*-221', '*t*-57', '*t*-225', '*t*-175', '*-63', '*t*-108', '*t*-260', '*-135', '*t*-182', '*t*-54', '*t*-244', '*ich*-1', '*-57', '3', '*t*-171', '*-90', '*-60', '*t*-206', '*t*-183', '*t*-144', '*t*-139', '*t*-73', '*t*-128', '*t*-143', '*t*-160', '*t*-202', '*t*-230', '*-85', '*t*-65', '*-107', '*-61', '*t*-44', '*t*-21', '*-17', '*t*-91', '*t*-122', '*t*-104', '*t*-249', '*-5', '*-78', '*t*-152', '*t*-75', '*t*-216', '*t*-23', '*t*-189', 'no', '*t*-33', '*t*-239', '*-37', '*-81', '*t*-210', '*t*-257', '*t*-94', '*t*-193', '*t*-74', '*t*-95', '*-29', '*t*-81', '*t*-125', '*-91', '*-128', '*t*-96', '*-8', '*t*-236', '*-163', '*t*-137', '*t*-15', '*-120', '*t*-214', '*t*-163', '*t*-188', '*t*-47', '*', '*t*-180', '*-94', '*t*-155', '*t*-252', '*t*-32', '*-157', '*-68', '*t*-93', '*t*-89', '*-27', '*t*-105', '*t*-16', '*-34', '*t*-7', '*t*-184', '*t*-138', '*t*-162', '*t*-196', '*t*-217', '*t*-176', '*t*-41', '*-71', '*ppa*-1', '*t*-246', '*ppa*-2', '*t*-259', '*-66', '*t*-78', 'perestroika', '*-69', '*t*-237', '*-117', '*-89', '4', '*t*-120', '*-149', '*t*-154', '*-86', '*t*-67', '*-136', '*-164', '*t*-187', '*t*-80', '*t*-56', '*t*-227', '*t*-178', '*t*-192', '*-146', '*-122', '*t*-103', '*t*-131', '*-155', '*t*-177', '*t*-211', '*-98', '*t*-141', '*-156', '*t*-167', '*-95', '*t*-234', '*-166', '*-109', '*-161', '*-119', '*t*-100', '*-150', '*-44', '2', '*t*-194', '*-25', '*-32', '*t*-220', '*-154', '*t*-159', '*t*-150', '*t*-153', '*t*-123', 'oh', '*t*-14', '*t*-59', '*t*-119', '*t*-186', '*-53', '*t*-127', '*t*-258', '*-103', '*t*-169', '*t*-190', '*-26', '*-28', '*-62', '*-132', '*-139', '*t*-77', '*t*-145', '*t*-28', '*t*-195', '*-73', '*-100', '*-56', '*-47', '*-55', '*-127', '*t*-251', '*-137', '*ich*-4', '*t*-226', '*t*-161', '*-145', '*rnr*-2', '*-121', '*t*-37', '*t*-17', '*t*-148', '*t*-48', '*t*-142', '*-152', '*t*-114', '*-134'}\n"
     ]
    }
   ],
   "source": [
    "# checking the text for which 'X' tag is used\n",
    "\n",
    "print(set(\n",
    "    [tpl[0].lower() for pair in nltk_data for tpl in pair \n",
    "                                        if tpl[1] == 'X']\n",
    "         ))\n",
    "\n",
    "# as per the documentation 'X' tag is used for foreign words.\n",
    "# https://www.nltk.org/_modules/nltk/tag/mapping.html"
   ]
  },
  {
   "cell_type": "markdown",
   "metadata": {},
   "source": [
    "#### Splitting the data into train and test sets"
   ]
  },
  {
   "cell_type": "code",
   "execution_count": 8,
   "metadata": {
    "scrolled": false
   },
   "outputs": [
    {
     "name": "stdout",
     "output_type": "stream",
     "text": [
      "3718\n",
      "196\n",
      "[[('Reliance', 'NOUN'), ('acquired', 'VERB'), ('a', 'DET'), ('7', 'NUM'), ('%', 'NOUN'), ('UAL', 'NOUN'), ('stake', 'NOUN'), ('early', 'ADV'), ('this', 'DET'), ('year', 'NOUN'), ('at', 'ADP'), ('an', 'DET'), ('average', 'ADJ'), ('cost', 'NOUN'), ('of', 'ADP'), ('$', '.'), ('110', 'NUM'), ('*U*', 'X'), ('a', 'DET'), ('share', 'NOUN'), (',', '.'), ('and', 'CONJ'), ('reduced', 'VERB'), ('its', 'PRON'), ('stake', 'NOUN'), ('to', 'PRT'), ('4.7', 'NUM'), ('%', 'NOUN'), ('after', 'ADP'), ('UAL', 'NOUN'), ('accepted', 'VERB'), ('the', 'DET'), ('bid', 'NOUN'), ('at', 'ADP'), ('prices', 'NOUN'), ('higher', 'ADJ'), ('than', 'ADP'), ('$', '.'), ('282', 'NUM'), ('*U*', 'X'), ('a', 'DET'), ('share', 'NOUN'), ('.', '.')], [('The', 'DET'), ('issue', 'NOUN'), ('is', 'VERB'), ('further', 'ADV'), ('complicated', 'ADJ'), ('*-1', 'X'), ('by', 'ADP'), ('uncertainty', 'NOUN'), ('over', 'ADP'), ('the', 'DET'), ('future', 'NOUN'), ('of', 'ADP'), ('the', 'DET'), ('U.S.', 'NOUN'), (\"'s\", 'PRT'), ('leases', 'NOUN'), ('on', 'ADP'), ('military', 'ADJ'), ('bases', 'NOUN'), ('in', 'ADP'), ('the', 'DET'), ('Philippines', 'NOUN'), ('and', 'CONJ'), ('by', 'ADP'), ('a', 'DET'), ('possible', 'ADJ'), ('U.S.', 'NOUN'), ('troop', 'NOUN'), ('reduction', 'NOUN'), ('in', 'ADP'), ('South', 'NOUN'), ('Korea', 'NOUN'), ('.', '.')], [('The', 'DET'), ('theory', 'NOUN'), ('was', 'VERB'), ('that', 'ADP'), ('the', 'DET'), ('Voice', 'NOUN'), ('is', 'VERB'), ('a', 'DET'), ('propaganda', 'NOUN'), ('agency', 'NOUN'), ('and', 'CONJ'), ('this', 'DET'), ('government', 'NOUN'), ('should', 'VERB'), (\"n't\", 'ADV'), ('propagandize', 'VERB'), ('its', 'PRON'), ('own', 'ADJ'), ('people', 'NOUN'), ('.', '.')], [('David', 'NOUN'), ('Berson', 'NOUN'), (',', '.'), ('economist', 'NOUN'), ('for', 'ADP'), ('the', 'DET'), ('Mortgage', 'NOUN'), ('Bankers', 'NOUN'), ('Association', 'NOUN'), (',', '.'), ('predicted', 'VERB'), ('0', 'X'), ('the', 'DET'), ('drop', 'NOUN'), ('in', 'ADP'), ('interest', 'NOUN'), ('rates', 'NOUN'), ('eventually', 'ADV'), ('will', 'VERB'), ('boost', 'VERB'), ('spending', 'NOUN'), ('on', 'ADP'), ('single-family', 'ADJ'), ('homes', 'NOUN'), (',', '.'), ('but', 'CONJ'), ('probably', 'ADV'), ('not', 'ADV'), ('until', 'ADP'), ('early', 'ADJ'), ('next', 'ADJ'), ('year', 'NOUN'), ('.', '.')], [('``', '.'), ('Now', 'ADV'), (',', '.'), (\"''\", '.'), ('says', 'VERB'), ('*T*-1', 'X'), ('Joseph', 'NOUN'), ('Napolitan', 'NOUN'), (',', '.'), ('a', 'DET'), ('pioneer', 'NOUN'), ('in', 'ADP'), ('political', 'ADJ'), ('television', 'NOUN'), (',', '.'), ('``', '.'), ('the', 'DET'), ('idea', 'NOUN'), ('is', 'VERB'), ('*', 'X'), ('to', 'PRT'), ('attack', 'VERB'), ('first', 'ADV'), (',', '.'), ('last', 'ADV'), ('and', 'CONJ'), ('always', 'ADV'), ('.', '.'), (\"''\", '.')]]\n"
     ]
    }
   ],
   "source": [
    "# as per the instructions, splitting the data into 95% train set and 5% test set\n",
    "random.seed(1234)\n",
    "train_set, test_set = train_test_split(nltk_data,test_size=0.05)\n",
    "\n",
    "print(len(train_set))\n",
    "print(len(test_set))\n",
    "print(train_set[:5])"
   ]
  },
  {
   "cell_type": "code",
   "execution_count": null,
   "metadata": {},
   "outputs": [],
   "source": []
  },
  {
   "cell_type": "markdown",
   "metadata": {},
   "source": [
    "### 2. Build the vanilla Viterbi based POS tagger"
   ]
  },
  {
   "cell_type": "code",
   "execution_count": 9,
   "metadata": {},
   "outputs": [],
   "source": [
    "# Getting list of tagged words\n",
    "train_tagged_words = [tup for sent in train_set for tup in sent]\n",
    "\n",
    "# number of tags\n",
    "T = set([pair[1] for pair in train_tagged_words])"
   ]
  },
  {
   "cell_type": "markdown",
   "metadata": {},
   "source": [
    "#### Emission probability"
   ]
  },
  {
   "cell_type": "code",
   "execution_count": 10,
   "metadata": {},
   "outputs": [],
   "source": [
    "# compute word given tag: Emission Probability\n",
    "\n",
    "def word_given_tag(word, tag, train_bag = train_tagged_words):\n",
    "    tag_list = [pair for pair in train_bag if pair[1].lower()==tag.lower()]\n",
    "    w_given_tag_list = [pair[0] for pair in tag_list if pair[0].lower()==word.lower()]\n",
    "    \n",
    "    return (len(w_given_tag_list), len(tag_list))"
   ]
  },
  {
   "cell_type": "markdown",
   "metadata": {},
   "source": [
    "#### Transition probability"
   ]
  },
  {
   "cell_type": "code",
   "execution_count": 11,
   "metadata": {},
   "outputs": [],
   "source": [
    "# compute tag given tag: tag2(t2) given tag1 (t1), i.e. Transition Probability\n",
    "\n",
    "def t2_given_t1(t2, t1, train_bag = train_tagged_words):\n",
    "    tags = [pair[1] for pair in train_bag]\n",
    "    count_t1 = len([t for t in tags if t==t1])\n",
    "    count_t2_t1 = 0\n",
    "    for index in range(len(tags)-1):\n",
    "        if tags[index]==t1 and tags[index+1] == t2:\n",
    "            count_t2_t1 += 1\n",
    "    return (count_t2_t1, count_t1)"
   ]
  },
  {
   "cell_type": "markdown",
   "metadata": {},
   "source": [
    "#### Viterbi Algorithm"
   ]
  },
  {
   "cell_type": "code",
   "execution_count": 12,
   "metadata": {},
   "outputs": [],
   "source": [
    "# creating t x t transition matrix of tags\n",
    "# each column is t2, each row is t1\n",
    "# thus M(i, j) represents P(tj given ti)\n",
    "\n",
    "tags_matrix = np.zeros((len(T), len(T)), dtype='float32')\n",
    "for i, t1 in enumerate(list(T)):\n",
    "    for j, t2 in enumerate(list(T)):\n",
    "        tags_matrix[i, j] = t2_given_t1(t2, t1)[0]/t2_given_t1(t2, t1)[1]"
   ]
  },
  {
   "cell_type": "code",
   "execution_count": 13,
   "metadata": {},
   "outputs": [],
   "source": [
    "# convert the matrix to a df for better readability\n",
    "tags_df = pd.DataFrame(tags_matrix, columns = list(T), index=list(T))"
   ]
  },
  {
   "cell_type": "code",
   "execution_count": 14,
   "metadata": {},
   "outputs": [],
   "source": [
    "# Viterbi Heuristic\n",
    "def Viterbi(words, train_bag = train_tagged_words):\n",
    "    state = []\n",
    "    \n",
    "    #extracting unique tags from the text\n",
    "    T = list(set([pair[1] for pair in train_bag]))\n",
    "    \n",
    "    #enumerate creates a tuple with key and the individual value passed in the enumerate function.\n",
    "    #in this case words. \n",
    "    \n",
    "    #E.g. l1 = [\"eat\",\"sleep\",\"repeat\"] \n",
    "    # print(l1) will result in (0, 'eat'), (1, 'sleep'), (2, 'repeat')\n",
    "    \n",
    "    for key, word in enumerate(words):\n",
    "        #initialise list of probability column for a given observation\n",
    "        p = [] \n",
    "        for tag in T:\n",
    "            if key == 0:\n",
    "                transition_p = tags_df.loc['.', tag]\n",
    "            else:\n",
    "                transition_p = tags_df.loc[state[-1], tag]\n",
    "                \n",
    "            # compute emission and state probabilities\n",
    "            emission_p = word_given_tag(words[key], tag)[0]/word_given_tag(words[key], tag)[1]\n",
    "            #######\n",
    "            #print(\"%s %s %s\" % (emission_p, word, tag))\n",
    "            #######\n",
    "            state_probability = emission_p * transition_p    \n",
    "            p.append(state_probability)\n",
    "            \n",
    "    # the loop executes for (words*tags) times. Therefore time is O(nt); where, n=words and t=tags.\n",
    "            \n",
    "        #print(p)\n",
    "        pmax = max(p)\n",
    "        ######\n",
    "        #print('pmax = %f, %s, %s' % (pmax, word, tag))\n",
    "        ######\n",
    "        \n",
    "        \n",
    "        # getting state for which probability is maximum\n",
    "        state_max = T[p.index(pmax)] \n",
    "        ######\n",
    "        #print('pmax = %f, %s, %s' % (pmax, word, state_max))\n",
    "        ######\n",
    "        \n",
    "        state.append(state_max)\n",
    "    return list(zip(words, state))"
   ]
  },
  {
   "cell_type": "code",
   "execution_count": 15,
   "metadata": {},
   "outputs": [],
   "source": [
    "# Viterbi Heuristic\n",
    "def Viterbi_updated(words, train_bag = train_tagged_words):\n",
    "    \n",
    "    #########################################################################\n",
    "    # Defining RegEx and Unigram tagger for tagging unknown words\n",
    "    \n",
    "    # specifying patterns for tagging as per the patterns found in the test sentences\n",
    "    # example from the NLTK book\n",
    "    patterns = [\n",
    "        (r'.*ing$', 'VERB'),                             # gerund\n",
    "        (r'.*ed$', 'VERB'),                              # past tense\n",
    "        (r'.*es$', 'VERB'),                              # 3rd singular present\n",
    "        (r'.*ould$', 'PRT'),                             # modals\n",
    "        (r'[A-Z]{1}([a-z]{1,})?([A-Z]{1,})?', 'NOUN'),   # words with capital letters\n",
    "        (r'.*\\'s$', 'NOUN'),                             # possessive nouns\n",
    "        (r'.*s$', 'NOUN'),                               # plural nouns\n",
    "        (r'([0-9])+(\\-|\\/)?([a-z]{2,3})?(\\-)?', 'NUM'),  # cardinal numbers and dates\n",
    "        (r'.*', 'NOUN')                                  # any word not found will be tagged as a noun\n",
    "    ]\n",
    "    \n",
    "    \n",
    "    \n",
    "    rule_based_tagger = nltk.RegexpTagger(patterns)\n",
    "    \n",
    "    # lexicon tagger is trained on the NLTK's Universal corpus.\n",
    "    # lexicon tagger, backed up by the rule-based tagger\n",
    "    lexicon_tagger = nltk.UnigramTagger(train_set, backoff=rule_based_tagger)\n",
    "    #########################################################################\n",
    "    \n",
    "    state = []\n",
    "    \n",
    "    #extracting unique tags from the text\n",
    "    T = list(set([pair[1] for pair in train_bag]))\n",
    "    \n",
    "    #enumerate creates a tuple with key and the individual value passed in the enumerate function.\n",
    "    #in this case words. \n",
    "    \n",
    "    #E.g. l1 = [\"eat\",\"sleep\",\"repeat\"] \n",
    "    # print(l1) will result in (0, 'eat'), (1, 'sleep'), (2, 'repeat')\n",
    "    \n",
    "    for key, word in enumerate(words):\n",
    "        #initialise list of probability column for a given observation\n",
    "        p = [] \n",
    "        for tag in T:\n",
    "            if key == 0:\n",
    "                transition_p = tags_df.loc['.', tag]\n",
    "            else:\n",
    "                transition_p = tags_df.loc[state[-1], tag]\n",
    "                \n",
    "            # compute emission and state probabilities\n",
    "            emission_p = word_given_tag(words[key], tag)[0]/word_given_tag(words[key], tag)[1]\n",
    "            #######\n",
    "            #print(\"%s %s %s\" % (emission_p, word, tag))\n",
    "            #######\n",
    "            state_probability = emission_p * transition_p    \n",
    "            p.append(state_probability)\n",
    "            \n",
    "    # the loop executes for (words*tags) times. Therefore time is O(nt); where, n=words and t=tags.\n",
    "            \n",
    "        #print(p)\n",
    "        pmax = max(p)\n",
    "        ######\n",
    "        #print('pmax = %f, %s, %s' % (pmax, word, tag))\n",
    "        ######\n",
    "        \n",
    "        if pmax == 0.0:\n",
    "            # if the emission probability of a word is 0 (meaning it's an unknown word) then use unigram tagger\n",
    "            state_max = (lexicon_tagger.tag([word])[0])[1]\n",
    "            \n",
    "        else:\n",
    "            # getting state for which probability is maximum\n",
    "            state_max = T[p.index(pmax)] \n",
    "\n",
    "        \n",
    "        state.append(state_max)\n",
    "    return list(zip(words, state))"
   ]
  },
  {
   "cell_type": "markdown",
   "metadata": {},
   "source": [
    "#### Evaluation on Test data set"
   ]
  },
  {
   "cell_type": "code",
   "execution_count": 16,
   "metadata": {},
   "outputs": [],
   "source": [
    "# creating a function to show list of words which were incorrectly tagged.\n",
    "\n",
    "def correction(output_of_viterbi_algo, testing_set):\n",
    "    return [\n",
    "                [\n",
    "                    j\n",
    "                ] \n",
    "\n",
    "                for i, j in enumerate(zip(output_of_viterbi_algo, testing_set))\n",
    "                    if j[0]!=j[1]\n",
    "            ]"
   ]
  },
  {
   "cell_type": "markdown",
   "metadata": {},
   "source": [
    "### 3. Solve the problem of unknown words"
   ]
  },
  {
   "cell_type": "markdown",
   "metadata": {},
   "source": [
    "#### 3.1 Analyzing how Viterbi Algoritm tags the new words"
   ]
  },
  {
   "cell_type": "markdown",
   "metadata": {},
   "source": [
    "Identifying patterns which may help in improving the problem of unknown words."
   ]
  },
  {
   "cell_type": "code",
   "execution_count": 18,
   "metadata": {
    "scrolled": true
   },
   "outputs": [
    {
     "name": "stdout",
     "output_type": "stream",
     "text": [
      "Vanilla Viterbi completed\n",
      "Updated Viterbi completed\n"
     ]
    }
   ],
   "source": [
    "# reading the Test_sentences.txt file and applying the viterbi algo, to see how the words are tagged.\n",
    "\n",
    "test_text = open('Test_sentences.txt', 'r')\n",
    "words = word_tokenize(test_text.read())\n",
    "viterbi_tagged_wrds = Viterbi(words)\n",
    "print('Vanilla Viterbi completed')\n",
    "\n",
    "#viterbi_tagged_wrds_upd = Viterbi_updated(words)\n",
    "print('Updated Viterbi completed')"
   ]
  },
  {
   "cell_type": "code",
   "execution_count": 20,
   "metadata": {},
   "outputs": [
    {
     "data": {
      "text/plain": [
       "[('Android', 'ADP'),\n",
       " ('is', 'VERB'),\n",
       " ('a', 'DET'),\n",
       " ('mobile', 'ADJ'),\n",
       " ('operating', 'NOUN'),\n",
       " ('system', 'NOUN'),\n",
       " ('developed', 'VERB'),\n",
       " ('by', 'ADP'),\n",
       " ('Google', 'ADP'),\n",
       " ('.', '.'),\n",
       " ('Android', 'ADP'),\n",
       " ('has', 'VERB'),\n",
       " ('been', 'VERB'),\n",
       " ('the', 'DET'),\n",
       " ('best-selling', 'ADJ'),\n",
       " ('OS', 'ADP'),\n",
       " ('worldwide', 'ADP'),\n",
       " ('on', 'ADP'),\n",
       " ('smartphones', 'ADP'),\n",
       " ('since', 'ADP'),\n",
       " ('2011', 'ADP'),\n",
       " ('and', 'CONJ'),\n",
       " ('on', 'ADP'),\n",
       " ('tablets', 'NOUN'),\n",
       " ('since', 'ADP'),\n",
       " ('2013', 'ADP'),\n",
       " ('.', '.'),\n",
       " ('Google', 'ADP'),\n",
       " ('and', 'CONJ'),\n",
       " ('Twitter', 'ADP'),\n",
       " ('made', 'VERB'),\n",
       " ('a', 'DET'),\n",
       " ('deal', 'NOUN'),\n",
       " ('in', 'ADP'),\n",
       " ('2015', 'ADP'),\n",
       " ('that', 'DET'),\n",
       " ('gave', 'VERB'),\n",
       " ('Google', 'ADP'),\n",
       " ('access', 'NOUN'),\n",
       " ('to', 'PRT'),\n",
       " ('Twitter', 'ADP'),\n",
       " (\"'s\", 'PRT'),\n",
       " ('firehose', 'ADP'),\n",
       " ('.', '.'),\n",
       " ('Twitter', 'ADP'),\n",
       " ('is', 'VERB'),\n",
       " ('an', 'DET'),\n",
       " ('online', 'ADP'),\n",
       " ('news', 'NOUN'),\n",
       " ('and', 'CONJ'),\n",
       " ('social', 'ADJ'),\n",
       " ('networking', 'NOUN'),\n",
       " ('service', 'NOUN'),\n",
       " ('on', 'ADP'),\n",
       " ('which', 'DET'),\n",
       " ('users', 'NOUN'),\n",
       " ('post', 'NOUN'),\n",
       " ('and', 'CONJ'),\n",
       " ('interact', 'ADP'),\n",
       " ('with', 'ADP'),\n",
       " ('messages', 'ADP'),\n",
       " ('known', 'ADJ'),\n",
       " ('as', 'ADP'),\n",
       " ('tweets', 'ADP'),\n",
       " ('.', '.'),\n",
       " ('Before', 'ADP'),\n",
       " ('entering', 'VERB'),\n",
       " ('politics', 'NOUN'),\n",
       " (',', '.'),\n",
       " ('Donald', 'NOUN'),\n",
       " ('Trump', 'NOUN'),\n",
       " ('was', 'VERB'),\n",
       " ('a', 'DET'),\n",
       " ('domineering', 'ADP'),\n",
       " ('businessman', 'NOUN'),\n",
       " ('and', 'CONJ'),\n",
       " ('a', 'DET'),\n",
       " ('television', 'NOUN'),\n",
       " ('personality', 'ADP'),\n",
       " ('.', '.'),\n",
       " ('The', 'DET'),\n",
       " ('2018', 'ADP'),\n",
       " ('FIFA', 'ADP'),\n",
       " ('World', 'NOUN'),\n",
       " ('Cup', 'ADP'),\n",
       " ('is', 'VERB'),\n",
       " ('the', 'DET'),\n",
       " ('21st', 'ADP'),\n",
       " ('FIFA', 'ADP'),\n",
       " ('World', 'NOUN'),\n",
       " ('Cup', 'ADP'),\n",
       " (',', '.'),\n",
       " ('an', 'DET'),\n",
       " ('international', 'NOUN'),\n",
       " ('football', 'NOUN'),\n",
       " ('tournament', 'ADP'),\n",
       " ('contested', 'ADP'),\n",
       " ('once', 'ADV'),\n",
       " ('every', 'DET'),\n",
       " ('four', 'NUM'),\n",
       " ('years', 'NOUN'),\n",
       " ('.', '.'),\n",
       " ('This', 'DET'),\n",
       " ('is', 'VERB'),\n",
       " ('the', 'DET'),\n",
       " ('first', 'ADJ'),\n",
       " ('World', 'NOUN'),\n",
       " ('Cup', 'ADP'),\n",
       " ('to', 'PRT'),\n",
       " ('be', 'VERB'),\n",
       " ('held', 'VERB'),\n",
       " ('in', 'ADP'),\n",
       " ('Eastern', 'NOUN'),\n",
       " ('Europe', 'NOUN'),\n",
       " ('and', 'CONJ'),\n",
       " ('the', 'DET'),\n",
       " ('11th', 'ADJ'),\n",
       " ('time', 'NOUN'),\n",
       " ('that', 'ADP'),\n",
       " ('it', 'PRON'),\n",
       " ('has', 'VERB'),\n",
       " ('been', 'VERB'),\n",
       " ('held', 'VERB'),\n",
       " ('in', 'ADP'),\n",
       " ('Europe', 'NOUN'),\n",
       " ('.', '.'),\n",
       " ('Show', 'NOUN'),\n",
       " ('me', 'PRON'),\n",
       " ('the', 'DET'),\n",
       " ('cheapest', 'ADJ'),\n",
       " ('round', 'NOUN'),\n",
       " ('trips', 'ADP'),\n",
       " ('from', 'ADP'),\n",
       " ('Dallas', 'NOUN'),\n",
       " ('to', 'PRT'),\n",
       " ('Atlanta', 'NOUN'),\n",
       " ('I', 'PRON'),\n",
       " ('would', 'VERB'),\n",
       " ('like', 'ADP'),\n",
       " ('to', 'PRT'),\n",
       " ('see', 'VERB'),\n",
       " ('flights', 'NOUN'),\n",
       " ('from', 'ADP'),\n",
       " ('Denver', 'NOUN'),\n",
       " ('to', 'PRT'),\n",
       " ('Philadelphia', 'NOUN'),\n",
       " ('.', '.'),\n",
       " ('Show', 'NOUN'),\n",
       " ('me', 'PRON'),\n",
       " ('the', 'DET'),\n",
       " ('price', 'NOUN'),\n",
       " ('of', 'ADP'),\n",
       " ('the', 'DET'),\n",
       " ('flights', 'NOUN'),\n",
       " ('leaving', 'VERB'),\n",
       " ('Atlanta', 'NOUN'),\n",
       " ('at', 'ADP'),\n",
       " ('about', 'ADP'),\n",
       " ('3', 'NUM'),\n",
       " ('in', 'ADP'),\n",
       " ('the', 'DET'),\n",
       " ('afternoon', 'NOUN'),\n",
       " ('and', 'CONJ'),\n",
       " ('arriving', 'ADP'),\n",
       " ('in', 'ADP'),\n",
       " ('San', 'NOUN'),\n",
       " ('Francisco', 'NOUN'),\n",
       " ('.', '.'),\n",
       " ('NASA', 'ADP'),\n",
       " ('invited', 'ADP'),\n",
       " ('social', 'ADJ'),\n",
       " ('media', 'NOUN'),\n",
       " ('users', 'NOUN'),\n",
       " ('to', 'PRT'),\n",
       " ('experience', 'NOUN'),\n",
       " ('the', 'DET'),\n",
       " ('launch', 'NOUN'),\n",
       " ('of', 'ADP'),\n",
       " ('ICESAT-2', 'ADP'),\n",
       " ('Satellite', 'ADP'),\n",
       " ('.', '.')]"
      ]
     },
     "execution_count": 20,
     "metadata": {},
     "output_type": "execute_result"
    }
   ],
   "source": [
    "viterbi_tagged_wrds"
   ]
  },
  {
   "cell_type": "markdown",
   "metadata": {},
   "source": [
    "Here we can see that words (nouns) like 'Android', 'Google', 'Twitter', 'FIFA' etc. are tagged as 'ADP - adpositions (prepositions and postpositions)', because they were not present in the earlier corpus."
   ]
  },
  {
   "cell_type": "markdown",
   "metadata": {},
   "source": [
    "### 4. Evaluating tagging accuracy"
   ]
  },
  {
   "cell_type": "markdown",
   "metadata": {},
   "source": [
    "#### Evaluating tagging accuracy on Viterbi algorithm (checking Universal's train data vs test data)"
   ]
  },
  {
   "cell_type": "code",
   "execution_count": 95,
   "metadata": {},
   "outputs": [],
   "source": [
    "# Running on entire test dataset would take more than 3-4hrs. \n",
    "# Let's test our Viterbi algorithm on a few sample sentences of test dataset\n",
    "\n",
    "random.seed(1234)\n",
    "\n",
    "# choose random 20 sents\n",
    "rndom = [random.randint(1,len(test_set)) for x in range(20)]\n",
    "\n",
    "# list of sents\n",
    "test_run = [test_set[i] for i in rndom]\n",
    "\n",
    "# list of tagged words\n",
    "test_run_base = [tup for sent in test_run for tup in sent]\n",
    "\n",
    "# list of untagged words\n",
    "test_tagged_words = [tup[0] for sent in test_run for tup in sent]"
   ]
  },
  {
   "cell_type": "code",
   "execution_count": 96,
   "metadata": {},
   "outputs": [],
   "source": [
    "# tagging the test sentences\n",
    "tagged_seq = Viterbi(test_tagged_words)"
   ]
  },
  {
   "cell_type": "code",
   "execution_count": 97,
   "metadata": {},
   "outputs": [
    {
     "name": "stdout",
     "output_type": "stream",
     "text": [
      "0.9272388059701493\n"
     ]
    }
   ],
   "source": [
    "# accuracy\n",
    "check = [i for i, j in zip(tagged_seq, test_run_base) if i == j]\n",
    "print(len(check)/len(tagged_seq))"
   ]
  },
  {
   "cell_type": "markdown",
   "metadata": {},
   "source": [
    "#### Evaluating tagging accuracy of Lexicon and Rule based taggers"
   ]
  },
  {
   "cell_type": "code",
   "execution_count": 98,
   "metadata": {},
   "outputs": [],
   "source": [
    "# Rule based tagger\n",
    "rule_based_tagger = nltk.RegexpTagger(patterns)\n",
    "\n",
    "# lexicon tagger is trained on the NLTK's Universal corpus.\n",
    "lexicon_tagger = nltk.UnigramTagger(train_set)"
   ]
  },
  {
   "cell_type": "code",
   "execution_count": 99,
   "metadata": {},
   "outputs": [
    {
     "data": {
      "text/plain": [
       "0.9055520102105935"
      ]
     },
     "execution_count": 99,
     "metadata": {},
     "output_type": "execute_result"
    }
   ],
   "source": [
    "lexicon_tagger.evaluate(test_set)"
   ]
  },
  {
   "cell_type": "code",
   "execution_count": 100,
   "metadata": {},
   "outputs": [
    {
     "data": {
      "text/plain": [
       "0.33843863007870667"
      ]
     },
     "execution_count": 100,
     "metadata": {},
     "output_type": "execute_result"
    }
   ],
   "source": [
    "rule_based_tagger.evaluate(test_set)"
   ]
  },
  {
   "cell_type": "markdown",
   "metadata": {},
   "source": [
    "### 5. List down cases which were incorrectly tagged by original POS tagger and got corrected by your modifications"
   ]
  },
  {
   "cell_type": "code",
   "execution_count": 32,
   "metadata": {},
   "outputs": [
    {
     "data": {
      "text/plain": [
       "[[(('Android', 'DET'), ('Android', 'NOUN'))],\n",
       " [(('Google', 'DET'), ('Google', 'NOUN'))],\n",
       " [(('Android', 'DET'), ('Android', 'NOUN'))],\n",
       " [(('OS', 'DET'), ('OS', 'NOUN'))],\n",
       " [(('worldwide', 'DET'), ('worldwide', 'NOUN'))],\n",
       " [(('smartphones', 'DET'), ('smartphones', 'VERB'))],\n",
       " [(('2011', 'DET'), ('2011', 'NUM'))],\n",
       " [(('2013', 'DET'), ('2013', 'NUM'))],\n",
       " [(('Google', 'DET'), ('Google', 'NOUN'))],\n",
       " [(('Twitter', 'DET'), ('Twitter', 'NOUN'))],\n",
       " [(('2015', 'DET'), ('2015', 'NUM'))],\n",
       " [(('Google', 'DET'), ('Google', 'NOUN'))],\n",
       " [(('Twitter', 'DET'), ('Twitter', 'NOUN'))],\n",
       " [((\"'s\", 'VERB'), (\"'s\", 'PRT'))],\n",
       " [(('firehose', 'DET'), ('firehose', 'NOUN'))],\n",
       " [(('Twitter', 'DET'), ('Twitter', 'NOUN'))],\n",
       " [(('online', 'DET'), ('online', 'NOUN'))],\n",
       " [(('networking', 'DET'), ('networking', 'VERB'))],\n",
       " [(('interact', 'DET'), ('interact', 'NOUN'))],\n",
       " [(('messages', 'DET'), ('messages', 'VERB'))],\n",
       " [(('known', 'ADJ'), ('known', 'VERB'))],\n",
       " [(('tweets', 'DET'), ('tweets', 'NOUN'))],\n",
       " [(('domineering', 'DET'), ('domineering', 'VERB'))],\n",
       " [(('personality', 'DET'), ('personality', 'NOUN'))],\n",
       " [(('2018', 'DET'), ('2018', 'NUM'))],\n",
       " [(('FIFA', 'DET'), ('FIFA', 'NOUN'))],\n",
       " [(('Cup', 'DET'), ('Cup', 'NOUN'))],\n",
       " [(('21st', 'DET'), ('21st', 'NUM'))],\n",
       " [(('FIFA', 'DET'), ('FIFA', 'NOUN'))],\n",
       " [(('Cup', 'DET'), ('Cup', 'NOUN'))],\n",
       " [(('tournament', 'DET'), ('tournament', 'NOUN'))],\n",
       " [(('contested', 'DET'), ('contested', 'VERB'))],\n",
       " [(('Cup', 'DET'), ('Cup', 'NOUN'))],\n",
       " [(('trips', 'DET'), ('trips', 'NOUN'))],\n",
       " [(('arriving', 'DET'), ('arriving', 'VERB'))],\n",
       " [(('NASA', 'DET'), ('NASA', 'NOUN'))],\n",
       " [(('invited', 'DET'), ('invited', 'VERB'))],\n",
       " [(('ICESAT-2', 'DET'), ('ICESAT-2', 'NOUN'))],\n",
       " [(('Satellite', 'DET'), ('Satellite', 'NOUN'))]]"
      ]
     },
     "execution_count": 32,
     "metadata": {},
     "output_type": "execute_result"
    }
   ],
   "source": [
    "correction(viterbi_tagged_wrds, viterbi_tagged_wrds_upd)"
   ]
  }
 ],
 "metadata": {
  "kernelspec": {
   "display_name": "Python 3",
   "language": "python",
   "name": "python3"
  },
  "language_info": {
   "codemirror_mode": {
    "name": "ipython",
    "version": 3
   },
   "file_extension": ".py",
   "mimetype": "text/x-python",
   "name": "python",
   "nbconvert_exporter": "python",
   "pygments_lexer": "ipython3",
   "version": "3.7.1"
  }
 },
 "nbformat": 4,
 "nbformat_minor": 2
}
