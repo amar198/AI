{
 "cells": [
  {
   "cell_type": "markdown",
   "metadata": {},
   "source": [
    "## POS tagging using modified Viterbi"
   ]
  },
  {
   "cell_type": "markdown",
   "metadata": {},
   "source": [
    "### 1. Data Preparation"
   ]
  },
  {
   "cell_type": "code",
   "execution_count": 1,
   "metadata": {},
   "outputs": [],
   "source": [
    "#Importing libraries\n",
    "import numpy as np\n",
    "import pandas as pd\n",
    "\n",
    "import nltk\n",
    "\n",
    "import random\n",
    "from sklearn.model_selection import train_test_split\n",
    "from nltk.tokenize import word_tokenize"
   ]
  },
  {
   "cell_type": "code",
   "execution_count": 2,
   "metadata": {},
   "outputs": [],
   "source": [
    "# reading the Treebank tagged sentences\n",
    "nltk_data = list(nltk.corpus.treebank.tagged_sents(tagset='universal'))"
   ]
  },
  {
   "cell_type": "markdown",
   "metadata": {},
   "source": [
    "#### Exploring corpus"
   ]
  },
  {
   "cell_type": "code",
   "execution_count": 3,
   "metadata": {
    "scrolled": true
   },
   "outputs": [
    {
     "data": {
      "text/plain": [
       "[[('Pierre', 'NOUN'),\n",
       "  ('Vinken', 'NOUN'),\n",
       "  (',', '.'),\n",
       "  ('61', 'NUM'),\n",
       "  ('years', 'NOUN'),\n",
       "  ('old', 'ADJ'),\n",
       "  (',', '.'),\n",
       "  ('will', 'VERB'),\n",
       "  ('join', 'VERB'),\n",
       "  ('the', 'DET'),\n",
       "  ('board', 'NOUN'),\n",
       "  ('as', 'ADP'),\n",
       "  ('a', 'DET'),\n",
       "  ('nonexecutive', 'ADJ'),\n",
       "  ('director', 'NOUN'),\n",
       "  ('Nov.', 'NOUN'),\n",
       "  ('29', 'NUM'),\n",
       "  ('.', '.')],\n",
       " [('Mr.', 'NOUN'),\n",
       "  ('Vinken', 'NOUN'),\n",
       "  ('is', 'VERB'),\n",
       "  ('chairman', 'NOUN'),\n",
       "  ('of', 'ADP'),\n",
       "  ('Elsevier', 'NOUN'),\n",
       "  ('N.V.', 'NOUN'),\n",
       "  (',', '.'),\n",
       "  ('the', 'DET'),\n",
       "  ('Dutch', 'NOUN'),\n",
       "  ('publishing', 'VERB'),\n",
       "  ('group', 'NOUN'),\n",
       "  ('.', '.')]]"
      ]
     },
     "execution_count": 3,
     "metadata": {},
     "output_type": "execute_result"
    }
   ],
   "source": [
    "# checking tagged sentences\n",
    "nltk_data[:2]"
   ]
  },
  {
   "cell_type": "code",
   "execution_count": 4,
   "metadata": {},
   "outputs": [
    {
     "name": "stdout",
     "output_type": "stream",
     "text": [
      "{'X', 'DET', 'PRT', 'CONJ', 'ADJ', 'ADP', 'NOUN', '.', 'VERB', 'ADV', 'NUM', 'PRON'}\n"
     ]
    }
   ],
   "source": [
    "# unique tags applied to the words in the corpus\n",
    "print(set([tpl[1] for pair in nltk_data for tpl in pair]))"
   ]
  },
  {
   "cell_type": "code",
   "execution_count": 5,
   "metadata": {},
   "outputs": [
    {
     "name": "stdout",
     "output_type": "stream",
     "text": [
      "10992\n"
     ]
    }
   ],
   "source": [
    "# checking unique words in the corpus, which does not have 'X', 'NUM', or '.' tags.\n",
    "\n",
    "print(len(set([tlp[0] for pair in nltk_data for tlp in pair \n",
    "                                                  if (tlp[1] != 'X' and tlp[1] != '.' and tlp[1] != 'NUM')\n",
    "              ]\n",
    "         )))"
   ]
  },
  {
   "cell_type": "code",
   "execution_count": 6,
   "metadata": {},
   "outputs": [
    {
     "name": "stdout",
     "output_type": "stream",
     "text": [
      "{'consensus', 'prescription', 'preferences', 'mannix', 'potential', 'calder', 'impediments', 'jaffray', 'changes', 'newsroom', 'bone', 'consideration', 'satisfaction', 'wives', 'romanee-conti', 'saudi', 'gallium', 'worksheets', 'raul', 'solutions', 'negotiations', 'claim', 'alternative', 'weatherly', 'cease-fire', 'toronto', 'dummies', 'broadcasting', 'sources', 'lynch', 'civil', 'buckle', 'commitments', 'amsterdam', 'democracy', 'leap', 'owners', 'broken', 'backseat', 'intensity', 'van', 'rope-sight', 'lot', 'plo', 'cost-sharing', 'clients', 'studies', 'guarantees', 'winter', 'sci', 'chrysler', 'executives', 'sable', 'entity', 'mifflin', 'platinum', 'salmore', 'sort', 'heights', 'italy', 'consolidated', 'traverse', 'boone', 'sum', 'openings', 'thunder', 'chemplus', 'bells', 'supercomputers', 'call', 'iowa', 'wilcox', 'truth', 'prefecture', 'analyst', 'expression', 'backe', 'eveready', 'tatsunori', 'run', 'earle', 'pence', 'tailors', 'vega', 'insurer', 'f.w.', 'reinvestment', 'conduit', 'bundles', 'brady', 'widow', 'calculations', 'column', 'offense', 'jeweler', 'releases', 'fear', 'sensitivity', 'flexibility', 'york-based', 'currently', 'child', 'specifics', 'dispute', 'kidney', 'friedrichs', 'triple-c', 'perritt', 'bentsen', 'swift', 'drew', 'i', 'distribution', 'center', 'lover', 'fernando', 'ginsberg', 'incentive-bonus', 'gov.', 'e.', 'judah', 'professional', 'pap', 'concerns', 'zayed', 'comtes', 'ky.', 'strategies', 'increases', 'vintage', 'scores', 'face', 'adam', 'contrast', 'default', 'navy', 'hurley', 'familiarization', 'positions', 'beneficiary', 'c.j.b.', 'souper', 'stockbroker', 'dislike', 'citation', 'suppression', 'viewership', 'howard', 'demise', 'wtvj', 'ntg', 'troubles', 'system', 'client', 'brent', 'styles', \"dunkin'\", 'bang', 'merchandising', 'launch', 'jeremy', 'public', 'den', 'chauffeur', 'fang', 'pyramids', 'british', 'entrepreneur', 'disadvantage', 'articles', 'disputes', 'donoghue', 'career', 'club', 'spillane', 'aide', 'highs', 'diethylstilbestrol', 'bloods', 'amendment', 'rate', 'parliament', 'g.m.b', 'desires', 'loops', 'returns', 'bowl', 'integra-a', 'defendant', 'vose', 'stuart', 'f.', 'dashes', 'burlap', 'phoenix', 'sumitomo', 'drobnick', 'point', 'airways', 'piracy', 'briefings', 'line', 'computing', 'variables', 'hope', 'dancing', 'rouge', 'crown', 'carillons', 'fixtures', 'pilots', 'practices', 'practical', 'policy', 'greenville', 'creditworthiness', 'auction', 'goodies', 'wfrr', 'hitter', 'divisions', 'altair', 'rule', 'al', 'laser', 'deposit', 'balls', 'wizards', 'file', 'ringers', 'goldman', 'middlesex', 'usia', 'lewis', 'advisory', 'ft', 'patch', 'attorneys', 'cheating', 'role', 'bowes', 'weapon', 'rope', 'speculators', 'viewers', 'charities', 'morrison', 'barclays', 'prosecutors', 'trojan', 'vinken', 'limited', 'undersecretary', 'freeport-mcmoran', 'emotions', 'body', 'chief', 'hammerschmidt', 'corruption', 'erasures', 'aircraft', 'christian', 'nebraska', 'inventor', 'mount', 'ends', 'funding', 'trip', 'campbell', 'shot', 'gorman', 'boesel', 'fair', 'stevenson', 'du', 'rankings', 'contradictions', 'signet', 'raleigh', 'booklets', 'millis', '1\\\\/10th', 'giant', 'decisions', 'boston', 'headquarters', 'passbook', 'pound', 'logic', 'double-c', 'crocidolite', 'takings', 'continental', 'wrongdoing', 'hayes', 'gelles', 'mining', 'steinberg', 'groups', 'towns', 'high', 'nicholas', 'copperweld', 'charles', 'daniel', 'voices', 'car-development', 'sponsor', 'ratners', 'ovation', 'traffic', 'nev.', 'product', 'vice', 'novell', 'keith', 'desire', 'profit-taking', 'vicars', 'aslacton', 'australia', 'sayers', 'a.', 'jacobs', 'traded', 'wrath', 'counterpart', 'webb', 'valley', 'pace', 'oshkosh', 'accord', 'droz', 'command', 'no-confidence', 'asset-valuation', 'faith', 'tow', 'moments', 'inouye', 'collateral', 'americans', 'fault', 'stock', 'entrance', 'urban', 'utilities', 'keidanren', 'stena', 'facts', 'duo', 'evensong', 'cases', 'tissues', 'flag', 'prototype', 'norwick', 'productivity', 'marbles', 'referral', 'proportion', 'interview', 'doctrine', 'waterloo', 'wood', 'something', 'trump', 'foreign', 'bombers', 'duke', 'ctbs', 'victims', 'reins', 'anybody', 'kits', 'fringe', 'remodeling', 'penalties', 'hong', 'techniques', 'centers', 'charge', 'ability', 'n.j', 's.p', 'six-packs', 'rulers', 'minn.', 'ounces', 'mignon', 'adult', 'link', 'feb.', 'expenses', 'bmp-1', 'stress', 'glass', 'meese', 'restaurants', 'chairman', 'composting', 'civilization', 'loser', 'milwaukee', 'neighborhoods', 'ghs', 'sol', 'obligations', 'piero', 'bottles', 'school', 'drums', 'bloc', 'allergan', 'erbamont', 'prize-fighter', 'property', 'reds', 'spreads', 'rothschild', 'landor', 'suisse', 'wu', 'avrett', 'accountability', 'moines', 'categories', 'venture', 'tests', 'hostage', 'sonnett', 'chamber', 'subsidiaries', 'peak', 'oxnard', 'dilemma', 'barbara', 'fujitsu', 'ceiling', 'recession', 'warrants', 'mother', 'life-style', 'goody', 'asbestos', 'tube', 'droughts', 'designations', 'stable', 'picture', 'fine', 'mininum-wage', 'palestine', 'oversight', 'customer', 'president', 'mattress', 'computers', 'crystals', 'swap', 'thrifts', 'marge', 'seoul', 'plastic', 'editor', 'note', 'intelligence', 'marder', 'format', 'fingers', 'semiconductor', 'architects', 'cedric', 'initiative', 'george', 'contributions', 'scientist', 'lotter', 'ordnance', 'printing-press', 'woodcliff', 'mail', 'monitor', 'affiliate', 'marketplace', 'economy', 'mesothelioma', 'tradition', 'summary', 'plate', 'salary', 'ventures', 'vermont', '%', 'yorker', 'bakery', 'agnew', 'driskill', 'table', 'news-american', 'winners', 'hermitage', 'dodger', 'transplants', 'newspaper-printing', 'town', 'advocates', 'dividends', 'worker', 'appropriators', 'multitude', 'mason', 'mccormick', 'scams', 'pickers', 'rates', 'checkbook', 'homosexual', 'biondi-santi', 'pierre', 'elsevier', 'backyard', 'offering', 'councils', 'putty', 'planters', 'jonas', 'saul', 'managements', 'hanover', 'reader', 'generations', 'plains', 'compilation', 'ackerman', 'criticism', 'likeness', 'baby', 'republicans', 'comeback', 'tokyu', 'strother', 'rebel', 'brown', 'thirtysomething', 'southeast', 'haden', 'cancellation', 'funds', 'hallwood', 'lure', 'capitol', 'aquino', 'palestinian', 'sprint', 'favor', 'bidding', 'mood', 'guide', 'framework', 'series', 'kuala', 'plenty', 'plight', 'murakami', 'nobel', 'sickness', 'cara', 'guilders', 'colorliner', 'staff-reduction', 'aba', 'zenith', 'date', 'london', 'd.c.', 'on', 'remainder', 'filing', 'novelist', 'tickets', 'privacy', 'sigler', 'ancestry', 'slack', 'referrals', 'relocate', 'merchant', 'dr.', 'bates', 'scandals', 'rent-a-car', 'landfills', 'cougar', 'declaration', 'land', 'hubbell', 'bureaucracy', 'programs', 'petition', 'tea', 'constitutional-law', 'elco', 'castle', 'crews', 'mode', 'sacramento', 'norwest', 'arighi', 'instance', 'tom', 'morrell', 'talk-show', 'susan', 'barge', 'pepperidge', 'revolt', 'unraveling', 'orville', 'brothers', 'lunch', 'mexico', 'breed', 'bias', 'communications', 'taccetta', 'ubs', 'years', 'someone', 'beer', 'cluff', 'magnets', 'character', 'proprietor', 'mead', 'mistake', 'rail', 'pocket', 'lefcourt', 'funny', 'kappa', 'nomination', 'stamford', 'hits', 'vans', 'flood', 'crises', 'equities', 'physicist', 'claire', 'royal', 'investment', \"o'connor\", 'blocks', 'heebie-jeebies', 'trans', 'envoy', 'wtd', 'bancorp', 'offenders', 'pressures', 'soldado', 'underwood', 'big', 'mcalpine', 'stations', 'presentation', 'knopf', 'hanifen', 'yen', 'kind', 'home', 'mistakes', 'barrel', 'modernization', 'page', 'gross', 'durable-goods', 'underwriters', 'doctor', 'composer', 'counts', 'jefferson', 'yeargin', 'chuck', 'life-insurance', 'wine-making', 'close', 'tunes', 'wakayama', 'delegates', 'vintages', 'headcount-control', 'sub-markets', 'rudolph', 'aspects', 'lotions', 'spielvogel', 'dec.', 'waivers', 'glaxo', 'investigations', 'projections', 'brands', 'felten', 'views', 'honor', 'proceedings', 'furukawa', 'clubs', 'carson', 'night', 'ratner', 'discrimination', 'innovation', 'garage', 'breakey', 'efficiencies', 'passenger', 'bureau', 'shop', 'viewpoint', 'managers', 'pretax', 'voting', 'siegal', 'garry', 'skinner', 'estates', 'communists', 'revenues', 'mather', 'bob', 'americana', 'slowdowns', 'firmness', 'recognition', 'establishment', 'vetoes', 'sensation', 'thomas', 'prerogative', 'andrew', 'cartons', 'fines', 'mill', 'townes', 'linden', 'belfry', 'shadows', 'wozniak', 'presidency', 'prepayment', 'resumption', 'democrat', 'subjects', 'incisions', 'ednie', 'institutions', 'cheerleading', 'advantage', 'benefit', 'editing', 'free-enterprise', 'nrdc', 'kirkpatrick', 'borrowings', 'passers-by', 'overruns', 'statement', 'portrayal', 'candela', 'inter-tel', 'bangkok', 'giuliani', 'mcgraw-hill', 'marks', 'foot', 'lawmakers', 'ambassador', 'punishment', 'aids', 'cereal', 'picket', 'layer', 'scypher', 'scholar', 'transition', 'dean', 'wine', 'interpublic', 'par', 'plainclothes', 'while', 'alliance', 'eric', 'wayland', 'korea', 'tokyo', 'thrift', 'utah', 'model', 'anthony', 'member', 'bench', 'cbs', 'combinations', 'environment', 'veselich', 'diseases', 'sidewalk', 'racket', 'fuentes', 'walls', 'hearing', 'opportunities', 'wednesday', 'places', 'vow', 'operating', 'compromise', 'waste', 'medical', 'fifth-grade', 'ec', 'receipts', 'museums', 'campaigns', 'houghton', 'index-arbitrage', 'penalty', 'kent', 'episodes', 'kids', 'nobody', 'staffs', 'labor-management', 'cloud', 'railcars', 'daniels', 'nekoosa', 'resignation', 'steelmakers', 'orders', 'pickups', 'negatives', 'votes', 'rampage', 'bennett', 'heritage', 'zaharah', 'municipalities', 'asian', 'citibank', 'maker', 'vos', 'thailand', 'screen', 'apple', 'midnight', 'maintenance', 'i.', 'homelessness', 'huppert', 'smith', 'industries', 'refuge', 'reporting', 'history', 'knight', 'pakistan', 'efforts', 'datapoint', 'honduras', 'row', 'change', 'voice', 'sogo-shosha', 'daughters', 'nationale', 'mercedes', 'andrea', 'rumor', 'appellate', 'kicker', 'security', 'butler', 'oak', 'itc', 'charts', 'insolvency', 'procedure', 'tache', 'concession', 'debts', 'csv', 'discontent', 'guber\\\\/peters', 'grange', 'cells', 'upjohn', 'data', 'stieglitz', 'stages', 'ceo', 'dugdale', 'darkhorse', 'one-fifth', 'philippine', 'combines', 'mine', 'trend', 'assurance', 'pinning', 'cardboard', 'superdot', 'geneva', 'pop', 'makers', 'people', 'subject', 'property\\\\/casualty', 'moons', 'miscarriages', 'belts', 'buy-outs', 'pricings', 'mega-stadium', 'the', 'manpower', 'chinchon', 'tiger', 'unemployment', 'peaks', 'westport', 'bush', 'palisades', 'documents', 'subscriptions', 'newsstands', 'taittinger', 'shell', 'neutrons', 'shelby', 'pressman', 'ambassadors', 'can', 'defects', 'none', 'dailies', 'r.i.', 'automation', 'insanity', 'boom', 'prison', 'cancer', 'financier', 'fellowship', 'iras', 'milne', 'dole', 'things', 'dealers', 'highway', 'alfred', 'committee', 'exchanges', 'answers', 'university', 'hiroshima', 'adviser', 'speed', 'northy', 'deck', 'hair', 'clarence', 'agency', 'congressmen', 'web', 'companion', 'isabelle', 'cerf', 'sheet', 'wallach', 'monetary', 'applications', 'boosts', 'clause', 'conversations', 'insistence', 'following', 'machinery', 'constituent', 'village', 'supplies', 'comfort', 'hay', 'samnick', 'answer', 'cycles', 'soybeans', 'davenport', 'combination', 'age', 'gerard', 'william', 'lilly', 'companies', 'hundreds', 'fact', 'lyrics', 'tiny', 'writers', 'current', 'course', 'us', 'liquidation', 'holding', 'central', 'nomura', 'processors', 'debacle', 'mortgage-backed', 'methods', 'ana', 'walbrecher', 'perspective', 'apples', 'structural', 'branches', 'tags', 'mike', 'texaco', 'earnings', 'leighton', 'reserve', 'dna', 'mainland', 'depression', 'small-company', 'dinosaurs', 'wilder', 'train', 'lights', 'chest', 'lorillard', 'blanchard', 'petrus', 'ltd', 'necks', 'graduates', 'settlements', 'goodman', 'nichol', 'rieslings', 'illuminating', 'import', 'baltimore', 'nomenklatura', 'equity', 'female', 'lehman', 'living', 'hayne', 'index-fund', 'crapshoot', 'tenure', 'oliver', 'unicorp', 'hour', 'front-seat', 'interactions', 'crackdown', 'experience', 'salinas', 'lead', 'neighbors', 'good-faith', 'unavailability', 'morgan', 'heiwado', 'riserva', 'threats', 'francisco', 'causes', 'half', 't-shirts', 'bonus', 'magnitude', 'motor', 'instances', 'standing', 'appeals', 'gardner', 'colo.', 'ties', 'marvin', 'philadelphia', 'city', 'usx', 'financial', 'contract', 'solution', 'generators', 'image', 'symphony', 'thai', 'hazards', 'net', 'stephen', 'symbol', 'classics', 'list', 'flap', 'aerojet', 'comments', 'banker', 'prospect', 'finding', 'warner', 'kuhns', 'coleco', 'enrollment', 'information', 'railcar', 'frequency', 'baldwin', 'situation', 'downtown', 'creature', 'institution', 'j.p.', 'dill', 'hawaii', 'backgrounds', 'carney', 'cosby', 'danforth', 'license', 'anyone', 'ft-se', 'bridges', 'texture', 'hugo', 'wash.', 'ins', 'blunt', 'porter', 'disclosure', 'mortgages', 'barfield', 'johnny', 'sternberg', 'restructuring', 'guinea', 'crib', 'order', 'spirits', 'blender', 'pricing', 'beth', 'oblivion', 'vitulli', 'pioneer', 'clerics', 'opinion', 'borders', 'month', 'merrick', 'rusty', 'vortex', 'genetics', 'manipulators', 'curriculum', 'orlando', 'desai', 'syndication', 'peace', 'nl', 'czechoslovakia', 'judicial', 'climate', 'garden-variety', 'undertone', 'total', 'hospitals', 'shareholder', 'recommendation', 'natural-gas', 'w.d.', 'riviera', 'superdome', 'certificate', 'at&t', 'courtroom', 'rita', 'chemicals', 'dow', 'sluggishness', 'widget', 'types', 'enterprise', 'difficulties', 'clothing', 'commercials', 'opportunity', 'intention', 'marketing-communications', 'write-off', 'position', 'feeding', 'machine', 'wholesale', 'prof', 'welfare', 'academics', 'crack', 'sympathy', 'class', 'clairton', 'saitama', 'stand', 'beall', 'valrico', 'mudslinging', 'show', 'bulk', 'stuff', 'instrument', 'jackson', 'sets', 'alysia', 'coxon', 'co.', 'friends', 'three-quarters', 'clues', 'peter', 'psychiatrist', 'population', 'ray', 'kangyo', 'baum', 'sponsors', 'c.', 'barometer', 'good', 'wealth', 'ownership', 'campaign', 'supply', 'choice', 'cost', 'poland', 'tramp', 'drivers', 'dogs', 'equitable', 'joanne', 'vacation', 'mines', 'bargains', 'coke', 'kansas', 'sheaf', 'b-1b', 'conduct', 'bowery', 'degrees', 'intoxication', 'campus', 'may', 'purchasers', 'taurus', 'marty', 'array', 'txo', 'figure', 'virginia', 'art', 'trotter', 'courts', 'ddb', 'seat', 'swings', 'allendale', 'filters', 'mary', 'inventory', 'means', 'mobster', 'reputation', 'mcfarlan', 'spoon', 'status', 'containers', 'export', 'churches', 'stakes', 'thugs', 'communist', 'operation', 'paul', 'diabetes', 'cult', 'pasadena', 'application', 'britta', 'union', 'timing', 'acres', 'phase-out', 'vargas', 'stocks', 'father-in-law', 'interest', 'baker', 'corkscrews', 'newcomer', 'option', 'wheat', 'tablets', 'sydney', 'riyadh', 'reality', 'sunlight', 'deadline', 'developments', 'benefits', 'osborn', 'markup', 'fetal-tissue', 'tidbits', 'burt', 'literature', 'jacob', 'complexes', 'guber', 'machines', 'auditors', 'barrels', 'saints', 'fraction', 'mazda', 'blackstone', 'pa.', 'figures', 'rozell', 'topix', 'indicators', 'sight', 'kinds', 'appetite', 'lambert', 'behalf', 'unknown', 'reach', 'derivatives', 'markets', 'bramalea', 'malaysia', 'dismissal', 'cray', 's.a', 'reuters', 'merchants', 'preface', 'ore.', 'rill', 'colorado', 'device', 'georgetown', 'deere', 'liquid', 'santa', 'a.d.', 'intel', 'wings', 'mae', 'polls', 'virgin', 'interest-rate', 'merger', 'scripps', 'markkaa', 'huntsville', 'limbo', 'executive', 'privilege', 'telephones', 'observers', 'mossman', 'beverly', 'sweater', 'cent', 'block', 'davis', 'attorney', 'builders', 'word', 'subskills', 'fulham', 'intent', 'collar', 'bolduc', 'estate', 'albany', 'jeffrey', 'mcmillin', 'lines', 'nissan', 'misdemeanor', 'lucille', 'speedway', 'monster', 'wickliffe', 'showings', 'meal', 'dolphin', 'bonds', 'myron', 'horsham', 'content', 'stark', 'east', 'champagnes', 'concept', 'walker', 'israel', 'tone', 'details', 'words', 'unpopularity', 'twin', 'touch', 'stewart', 'attempts', 'initiate', 'l.', 'giveaways', 'minute', 'labor', 'editorials', 'calculator', 'wife', 'council', 'event', 'flim-flammery', 'literacy', 'gartner', 'n.h.', 'kong', 'pretoria', 'skittishness', 'shoulder', 'new-car', 'pinocchio', 'ferc', 'appliances', 'plane', 'einhorn', 'evans', 'harrison', 'procurement', 'chiodo', 'phelan', 'greenwich', 'business', 'veteran', 'competitions', 'justices', 'segment', 'foundation', 'citizen', 'acetate', 'bronces', 'wilton', 'difference', 'dsm', 'cement', 'handful', 'cups', 'grader', 'measurement', 'silverman', 'mona', 'silicone', 'future', 'rider', 'difficulty', 'parent', 'credit', 'massacre', 'ancient', 'cooperation', 'l.a.', 'limits', 'products', 'pta', 'sweaters', 'coconut', 'substitute', 'electric-utility', 'husband', 'cellar', 'tons', 'watanabe', 'martin', 'northern', 'dollars', 'pie', 'alert', 'michaels', 'chatsworth', 'taiwan', 'telephone', 'task', 'pain', 'peoria', 'generation', 'danube', 'nancy', 'department', 'beauty', 'payouts', 'ballplayers', 'consultant', 'surge', 'publicity', 'blue', 'latour', 'evil', 'mousseline', 'dorrance', 'brakes', 'lifes', 'bellringers', 'noble', 'bridgestone\\\\/firestone', 'impetus', 'differences', 'pcs', 'fields', 'steelworkers', 'theory', 'principal', 'appreciation', 'talk', 'emphasis', 'rey', 'frank', 'sake', 'rapanelli', 'psychiatry', 'terrence', 'insurance-company', 'machinists', 'employers', 'weeklies', 'bowman', 'grower', 'administration', 'two-thirds', 'deregulation', 'poor', 'awareness', 'bin', 'barnett', 'stalemate', 'matthews', 'social-studies', 'pharaoh', 'predecessor', 'scherer', 'stockbrokers', 'spiro', 'rain', 'certin', 'banking', 'chase', 'forster', 'bricks', 'cotran', 'greer', 'preston', 'harcourt', 'millions', 'offensive', 'importer', 'ltv', 'tigers', 'macmillan', 'gasoline', 'memory', 'selling', 'la', 'expense', 'goblins', 'circuit-board', 'yquem', 'lsi', 'aptitude', 'owner', 'trademark', 'audiocassettes', 'co-developers', 'dorothy', 'music', 'heidelberg', 'headrests', 'brand', 'shift', 'multinationals', 'solaia', 'stock-price', 'russell', 'gunmen', 'barrett', 'm.', 'slowdown', 'scotland', 'don', 'foam', 'jersey', 'rivals', 'miklos', 'capability', 'compound', 'niches', 'congressman', 'passion', 'clothes', 'trains', 'oil', 'referendum', 'cultivation', 'rapists', 'germany', 'transplant', 'lab', 'sundays', 'coal', 'federation', 'roederer', 'rally', 'elliott', 'wholesaler', 'philosophy', 'storm', 'chain', 'nelson', 'crime', 'one-third', 'speculation', 'trudeau', 'rumors', 'hero', 'pan', 'sacks', 'jovanovich', 'rubicam', 'sense', 'collins', 'minivans', 'dollar', 'woman', 'fahrenheit', 'pamela', 'serial', 'genes', 'engineering', 'warren', 'jam', 'hudnut', 'equivalent', 'critics', 'warning', 'poison', 'profession', 'boogieman', 'cincinnati', 'harris', 'playwright', 'counterattack', 'nbi', 'cooper', 'vicissitudes', 'price', 'districts', 'wild', 'doak', 'jay', 'marriages', 'arbitragers', 'marie-louise', 'maughan', 'scholastic', 'television', 'promotion', 'chandler', 'rhythm', 'charm', 'nervousness', 'monday', 'eugene', 'landfill', 'lyle', 'filings', 'exporter', 'single-family', 'angola', 'effect', 'acid', 'polystyrene', 'financial-services', 'long', 'moleculon', 'billing', 'julia', 'style', 'couples', 'marc', 'nose', 'zone', 'cosmetic', 'hole', 'edition', 'value', 'dallas', 'pub', 'latter', 'hartford', 'liberals', 'progress', 'exercise', 'supporters', 'ensembles', 'injuries', 'laboratories', 'bargain', 'catch', 'discrepancies', 'r', 'acquisitions', 'best-seller', 'water', 'advertising', 'paycheck', 'nigel', 'felonies', 'minicrash', 'executive-office', 'brokers', 'syndrome', 'mont', 'pianist-comedian', 'stigma', 'kawasaki', 'assets', 'diaper', 'hutton', 'arguments', 'qualities', 'nature', 'calls', 'restaurant', 'chardonnay', 'taizo', 'nylev', 'ballpark', 'agreement', 'terms', 'syndicate', 'versions', 'gerhard', 'rep.', 'industrial', 'eyes', 'decision', 'specialist', 'grgich', 'dinner', 'compensation', 'champagne', 'play', 'harmony', 'hospital', 'profitability', 'appointment', 'meaning', 'breakers', 'diceon', 'houses', 'driver', 'sotheby', 'deterioration', 'sabhavasu', 'car', 'opus', 'chadha', 'salon', 'consequences', 'rest', 'hub', 'monticello', 'guerrilla', 'tad', 'rises', 'haul', 'antinori', 'lumpur', 'alcohol', 'peabody', 'gallon', 'declines', 'environmental', 'records', 'attention', 'newgate', 'antitrust', 'performers', 'points', 'jalaalwalikraam', 'protein', 'mrs', 'crystal', 'californian', 'controversy', 'grains', 'characteristics', 'firms', 'kidnapping', 'circumstances', 'keehn', 'summer', 'incomes', 'leon', 'wick', 'beirut', 'sloan', 'rights', 'tots', 'optical', 'dutch', 'understatement', 'lloyd', 'rival', 'sachs', 'collapse', 'providence', 'securities', 'library', 'perignon', 'statute', 'soviets', 'regulation', 'ranger', 'lama', 's.p.a.', 'artist', 'circle', 'facade', 'subcontractor', 'cross', 'angels', 'booklet', 'and', 'sulfur-dioxide', 'corrigan', 'fasteners', 'watson', 'cullowhee', 'recyclability', 'tire-kickers', 'criminal', 'partisans', 'demonstrators', 'mississippi', 'moslem', 'mercantile', 'report', 'hammond', 'rhetoric', 'letter', 'branch', 'keyboards', 'barbados', 'key', 'market-makers', 'blacks', 'abortionist', 'design', 'edwin', 'coniston', 'shows', 'meetings', 'viacom', 'shape', 'consumer', 'round', 'coors', 'hurricane', 'holders', 'verge', 'maze', 'lizhi', 'onslaught', 'benchmarks', 'imsai', 'ships', 'kondo', '1990s', 'struggle', 'glenham', 'telegraph', 'arbitrager', 'bon', 'knell', 'eakle', 'anything', 'grace', 'author', 'schedule', 'hackensack', 'court', 'housing', 'n.c', 'li', 'membership', 'penny', 'goldinger', 'tokio', 'torrington', 'moon', 'oy', 'values', 'intecknings', 'junk-bond', 'egypt', 'veraldi', 'mcdermott', 'minus', 'researcher', 'teikoku', 'hadson', 'gates-warren', 'greed', 'starts', 'brokerage', 'jim', 'holland', 'disputada', 'campeau', 'contribution', 'juggernaut', 'conditions', 'brunei', 'daily', 'results', 'memories', 'learning', 'crew', 'mayland', 'education', 'gregory', 'tuesday', 'sec', 'world-wide', 'harbinger', 'sept.', 'zurich', 'jockeys', 'ual', 'elite', 'chemical', 'focus', 'inland', 'denial', 'checking', 'bank', 'alcoholism', 'manila', 'salarymen', 'emissions', 'woolworth', 'hit', 'corners', 'mathematics', 'destinations', 'renee', 'bellwether', 'costs', 'attwood', 'astonishment', 'growers', 'lungs', 'legal', 'clark', 'version', 'u.s.s.r.', 'tree', 'carrier', 'agents', 'orange', 'downgrade', 'household', 'ingenuity', 'trading', 'borrowing', 'son', 'plunge', 'cattle', 'freeway', 'woodrow', 'visitors', 'justice', 'change-ringing', 'europe', 'jews', '8300s', 'tandy', 'danville', 'len', 'andersson', 'currencies', 'india', 'procedures', 'provisions', 'interleukin-3', 'rulings', 'disregard', 'officials', 'islands', 'authorities', 'laws', 'n.v.', 'christopher', 'boyfriends', 'ports', 'trinity', 'champions', 'montgomery', 're-election', 'u.s.a', 'morbidity', 'mothers', 'hours', 'question', 'sellers', 'edwards', 'rings', 'facility', 'medicine', 'ballantine\\\\/del', 'fuji', 'production', 'truth-in-lending', 'retirement', 'dolphins', 'america', 'proceeds', 'cake', 'meridian', 'moody', 'physics', 'crop', 'joseph', 'egnuss', 'paso', 'faculty', 'everybody', 'portfolios', 'prizes', 'coaching', 'lyn', 'stadium', 'foundations', 'hills', 'blow', 'hostess', 'toast', 'bulldozers', 'brooke', 'school-district', 'particulars', 'little', 'pictures', 'legislators', 'altar', 'gorbachev', 'modems', 'world', 'listing', 'structures', 'scammers', 'screenwriters', 'waters', 'prospects', 'comparison', 'chatter', 'capitalism', 'mercury', 'o.', 'hud', 'freshbake', 'stock-index', 'success', 'region', 'haut-brion', 'lord', 'marcus', 'lazzaroni', 'risk', 'africa', 'borrowers', 'borough', 'wa', 'olson', 'drop', 'toys', 'japanese', 'possibility', 'balance', 'shipyards', 'july', 'starters', 'revelations', 'refrigerator', 'reversal', 'efficiency', 'platforms', 'delays', 'amortization', 'common-law', 'sandinista', 'load', 'bulls', 'reductions', 'damage', 'railroad', 'russel', 'witnesses', 'depositary', '55-year-old', 'ethanol', 'baskets', 'liberal', 'meatpacking', 'lakes', 'morale', 'smoke', 'weekends', 'men', 'miti', 'human', 'graham', 'motive', 'ushers', 'ethics', 'strain', 'shares', 'wake', 'warming', 'floyd', 'debenture', 'margins', 'aloha', 'symmetry', 'generalizations', 'sports', 'grapes', 'pardus', 'planes', 'lady', 'handling', 'pa', 'times-stock', 'caters', 'understanding', 'hale', 'genel', 'sounds', 'slew', 'hearings', 'donor', 'fluctuations', 'mitchell', 'turn', 'notes', 'breakfast', 'cheetham', 'memo', 'n.y.', 'visa', 'dover', 'reupke', 'oct.', 'leader', 'incest', 'suit', 'spenders', 'downside', 'liberty', 'remorse', 'weil', 'hallett', 'cut', 'copies', 'karns', 'output', 'nickel', 'citadel', 'surprise', 'railing', 'bougainville', 'fight', 'place', 'passages', 'carballo', 'excellence', 'plaintiffs', 'sweatshirts', 'lancaster', 'amounts', 'guns', 'miss.', 'nutrition', 'reason', 'fraud', 'tallies', 'cos.', 'gary', 'national', 'station', 'tomorrow', 'worries', 'treasury', 'refusal', 'economic', 'centerbank', 'a-d', 'materials', 'red', 'gray', 'outrage', 'fischer', 'approval', 'yasuda', 'example', 'guest', 'session', 'jail', 'absurdity', 'stevens', 'intraday', 'cleveland', 'grain', 'stage', 'orchestra', 'metals', 'situations', 'discussions', 'offer', 'shrum', 'bottlenecks', 'semesters', 'reservoirs', 'pratt', 'abbot', 'anti-deficiency', 'dust-up', 'heating', 'boeing', 'ceos', 'dams', 'dana-farber', 'peals', 'division', 'roosevelt', 'shareholders', 'conn.', 'amount', 'irony', 'premium', 'cow', 'cars', 'works', 'escort', 'element', 'solicitor', 'cabbage', 'caldor', 'steve', 'side', 'compassion', 'percent', 'resort', 'n.y', 'shugart', 'landonne', 'herald-american', 'factory', 'chinese-american', 'candlestick', 'slippage', 'muscolina', 'illinois', 'ious', 'donaldson', 'simeon', 'corps', 'issuers', 'dolan', 'increase', 'level', 'location', 'flights', 'philip', 'sweepstakes', 'icahn', 'fairness', 'york', 'persons', 'imports', 'software', 'south', 'tete-a-tete', 'ministers', 'dumpster', 'effects', 'runkel', 'overproduction', 'specialists', 'illness', 'removal', 'counterweight', 'duckling', 'clinton', 'provision', 'boilers', 'organizations', 'stability', 'dunkin', 'lt.', 'taxpayers', 'sewing-machine', 'record-keeping', 'crystal-lattice', 'exemption', 'photography', 'allegations', 'graders', 'retailer', 'community', 'ala.', 'christie', 'hardware', 'leaders', 'prosecutor', 'nothing', 'associates', 'diagram', 'spouse', 'cause', 'uncertainty', 'boomers', 'va.', 'unit', 'coleman', 'disposal', 'earlham', 'gelatin', 'olympic', 'bmp', 'withdrawal', 'close-up', 'spitler', 'sixth', 'way', 'acts', 'power', 'inkling', 'shops', 'no.', 'family', 'retorts', 'precedent', 'deprivation', 'moratorium', 'cs', 'inquiry', 'defeat', 'patrick', 'integration', 'couple', 'mortgage', 'norwegian', 'help', 'indiana', 'disclosures', 'editors', 'chinese', 'school-board', 'cataract', 'arrival', 'lufkin', 'palace', 'manufacturer', 'anger', 'disagreement', 'virginians', 'lasalle', 'gaf', 'illegality', 'quant', 'leo', 'employees', 'felony', 'jonathan', 'marshall', 'hoopla', 'fighters', 'waif', 'hans', 'invention', 'minera', 'supercomputer', 'classes', 'sr.', 'ballroom', 'trouble', 'yields', 'rewards', 'hegemony', 'affair', 'connecticut', 'credibility', 'areas', 'ad', 'sentence', 'work', 'cat', 'profits', 'commission', 'backdrop', 'olsen', 'ire', 'caribbean', 'confidant', 'aim', 's.i.', 'raymond', 'cadmium', 'hustlers', 'liability', 'governor', 'mcguigan', 'drought', 'mcleod', 'start-up', 'equus', 'integra', 'reserves', 'dompierre', 'buy-back', 'salt', 'parishioners', 'witness', 'healing', 'helsinki', 'pennies', 'certificates', 'quotations', 'trees', 'substance', 'regulatory', 'drawing', 'democrats', 'tension', 'deviation', 'right', 'processing', 'suppliers', 'excesses', 'stock-market', 'professionals', 'servicing', 'aspersions', 'classroom', 'numeral', 'vehicle', 'lack', 'trucks', 'phillips', 'leadership', 'hopes', 'prosecution', 'reforms', 'prof.', 'buyers', 'cornerstones', 'batting', 'improvement', 'amr', 'fibers', 'columns', 'refunding', 'cabs', 'rubinfien', 'delaware', 'ga.', 'adrs', 'part', 'fremantle', 'personnel', 'languages', 'pitcher', 'glauber', 'scheme', 'shipping', 'pets', 'ensrud', 'day', 'eggers', 'wedtech', 'distributor', 'guards', 'new', 'introduction', 'macmillan\\\\/mcgraw-hill', 'relief', 'bund', 'chapter', 'trafficking', 'flow', 'plan', 'effort', 'placement', 'columbus', 'retin-a', 'oils', 'ag', 'underwoods', 'sale', 'deputy', 'ill', 'arms', 'thunderbird', 'brenda', 'resources', 'pretext', 'rankin', 'homework', 'seattle', 'whiting', 'noodles', 'retort', 'upham', 'spokeswoman', 'spiders', 'waertsilae', 'jenrette', 'instruction', 'language', 'lee', 'brownstein', 'vacations', 'nasd', 'tray', 'grants', 'abortion', 'dinkins', 'fashion', 'bordeaux', 'troop', 'estimation', 'giants', 'angeles', 'battery', 'article', 'abbey', 'hands', 'nbc', 'past', 'superintendent', 'interventions', 'savers\\\\/investors', 'old-house', 'dom', 'roll', 'retardation', 'defazio', 'bases', 'lottery', 'proposition', 'carnival', 'outsiders', 'judgments', 'media', 'accountant', 'amin', 'stoll', 'bottle', 'set', 'expectation', 'petersen', 'rust', 'cab', 'local', 'title', 'otero', 'carter', 'second', 'game', 'toledo', 'traditionalists', 'wis.', 'review', 'liabilities', 'motives', 'gillett', 'mirror', 'mistrials', 'nominees', 'halls', 'matter', 'households', 'dust', 'gift', 'subsidiary', 'berger', 'nagano', 'head', 'rick', 'involvement', 'real-estate', 'congregation', 'marketer', 'vote', 'harassment', 'u.k.', 'rey\\\\/fawcett', 'sector', 'drawbacks', 'technology', 'connections', 'laurels', 'paperback', 'lieberman', 'reference', 'krenz', 'manufacturing', 'markey', 'winner', 'addresses', 'la.', 'bradley', 'half-hour', 'replacement', 'influence', 'kendrick', 'reflection', 'rap', 'protocols', 'beverage', 'reaction', 'equal', 'indications', 'windfall', 'recommendations', 'programmer', 'camille', 'reames', 'payment', 'albert', 'actress', 'goodwill', 'contributors', 'clays', 'eurobonds', 'copyright', 'ariz.', 'guffey', 'editorial', 'billings', 'gambler', 'publishing', 'boca', 'leroy', 'front', 'tubes', 'mercer', 'engines', 'journals', 'subindustry', 'fracture', 'mainframe', 'process', 'transplantation', 'limited-partnership', 'drink', 'insight', 'murder', 'incentive', 'schroder', 'albuquerque', 'taxpayer', 'counterparts', 'braun', 'impatient', 'soho', 'senate', 'jury', 'century', 'ordeal', 'completion', 'wakui', 'tormentors', 'volatility', 'consumption', 'mcgovern', 'gm', 'nixon', 'sufficiency', 'attractions', 'commercial', 'federalist', 'shipyard', 'training', 'edelman', 'inverse', 'aftereffects', 'likelihood', 'specialty', 'competitor', 'mellon', 'three-sevenths', 'tooth', 'freshman', 'phacoflex', 'obsession', 'teacher', 'louisiana-pacific', 'host', 'hopkins', 'playgrounds', 'testing', 'suspensions', 'entrants', 'farren', 'beach', 'mulford', 'buy', 'yesterday', 'logo', 'dan', 'service', 'tutorials', 'amendments', 'judgment', 'quarter', 'foods', 'newsstand', 'troops', 'banks', 'ground', 'news', 'account', 'transamerica', 'operations', 'vichy', 'taste', 'miguel', 'share', 'hysteria', 'cargo', 'inside', 'madison', 'ywca', 'painting', 'outlook', 'links', 'sticker-shock', 'nickname', 'spending', 'advertisers', 'sphere', 'fortunes', 'worship', 'mid-october', 'cluster', 'filter', 'bugs', 'multiples', 'wong', 'satrum', 'brunt', 'reading', 'treble', 'february', 'streets', 'handelsbanken', 'inspection', 'games', 'lindner', 'elimination', 'civics', 'guild', 'ferdinand', 'books', 'clouding', 'mission', 'electronics', 'midvale', 'equivalents', 'theaters', 'force', 'helm', 'outcry', 'independence', 'society', 'schoolchildren', 'jolts', 'stream', 'jaguar', 'november', 'cleanliness', 'proponents', 'sanderoff', 'adults', 'test', 'papers', 'boutique', 'arafat', 'perceptions', 'state', 'agenda', 'fits', 'grandstander', 'church', 'waterworks', 'engineer', 'watchers', 'uptick', 'hitachi', 'audit', 'factories', 'somerset', 'repair', 'competitors', 'locations', 'titans', 'harold', 'wheeland', 'injury', 'glendale', 'overcrowding', 'soul', 'farmers', 'indexers', 'gop', 'greenmailer', 'harper', 'addiction', 'advances', 'appropriations', 'chaos', 'norfolk', 'spectrum', 'practitioners', 'debut', 'ratepayers', 'acid-rain', 'names', 'furillo', 'flows', 'merits', 'prints', 'mind', 'pitney', 'plea', 'tiphook', 'huxtable', 'advent', 'seminar', 'peng', 'development', 'internatonal', 'signore', 'subtraction', 'return', 'interference', 'sheffield', 'aisles', 'brat', 'regret', 'ii', 'b', 'netherlands', 'david', 'patricia', 'bomb', 'discounts', 'disappointment', 'senior', 'plantation', 'page-one', 'carbon', 'projects', 'mac', 'northampton', 'jennison', 'drug', 'investing', 'action', 'yielding', 'lobsenz', 'anglia', 'citicorp', 'tapes', 'cell', 'worsening', 'jamaica', 'odyssey', 'fret', 'paris', 'warranties', 'blood-cell', 'overseas', 'shapiro', 'cousins', 'essays', 'svenska', 'sir', 'lorain', 'path', 'innuendoes', 'wilbur', 'navigation', 'research', 'recorder', 'proponent', 'maryland', 'building-products', 'systems', 'formula', 'dale', 'scannell', 'vendors', 'malnutrition', 'syracuse', 'architect', 'nets', 'august', 'akerfeldt', 'e.w.', 'ian', 'massachusetts', 'regime', 'internal', 'des', 'mechanism', 'cancers', 'investors', 'capsules', 'claims', 'season', 'sierra', 'journalists', 'berman', 'flightiness', 'thousands', 'mania', 'objective', 'wells', 'kobe', 'proviso', 'megabytes', 'twist', 'duties', 'accordance', 'sky', 'speech', 'willingness', 'avenues', 'museum', 'ames', 'roger', 'persuasion', 'survivor', 'temptation', 'atsushi', 'purse', 'index', 'caution', 'diamond', 'bridgeville', 'surplus', 'zealand', 'prebon', 'md.', 'xerox', 'russo', 'images', 'betting', 'pension', 'pirates', 'mccabe', 'worms', 'door', 'chateau', 'maytag', 'therapy', 'movie', 'delivery', 'jurisdiction', 'ways', 'green', 'children', 'dam', 'langner', 'morita', 'war', 'readings', 'riese', 'warehouse', 'squad', 'moment', 'intelogic', 'co', 'merchandise', 'iota', 'lawyer', 'premier', 'guests', 'three', 'majority', 'atlanta', 'stockholm', 'linda', 'arbs', 'wright', 'rebound', 'fronts', 'scott', 'uncertainties', 'hungary', 'thing', 'purchase', 'savings', 'contrary', 'betrayer', 'bar', 'odds', 'austin', 'hasbrouk', 'acquisition', 'excess', 'riders', 'hymowitz', 'planting', 'camera', 'schweiz', 'assertion', 'restructure', 'centerpiece', 'cues', 'message', 'corestates', 'trap', 'teaching', 'bars', 'ricken', 'warrenton', 'notion', 'westborough', 'trailer', 'spite', 'soups', 'outlets', 'puccio', 'forest-product', 'airports', 'achievement-test', 'desktop', 'fragmentation', 'wellington', 'zinc', 'reruns', 'quota', 'investigation', 'advance', 'chabrol', 'sound', 'bronx', 'liquid-nitrogen', 'seniors', 'safety', 'cathryn', 'capacity', 'midwest', 'wolf', 'baseball', 'responsibilities', 'matthew', 'ravenswood', 'carl', 'platt', 'economist', 'yasser', 'infusion', 'protections', 'apparel', 't.', 'travel', 'pramual', 'reservations', 'curry', 'nail', 'gencorp', 'purchases', 'index-options', 'students', 'deryck', 'robert', 'telerate', 'motors', 'hypocrisy', 'mass', 'scandal', 'approach', 'lieutenant', 'bullets', 'n.v', 'shovels', 'phillip', 'jack', 'ones', 'ticket', 'rapport', 'midyear', 'anne', 'cities', 'davies', 'chong-sik', 'friend', 'spokewoman', 'residence', 'smaby', 'farm', 'press', 'chance', 'apartment', 'backlog', 'lens', 'vegas', 'balloon', 'nations', 'formation', 'strip', 'seconds', 'bunny', 'acquirers', 'mo', 'appropriation', 'ariail', 'margin', 'avon', 'peck', 'hoylake', 'dynamics', 'fatalities', 'contingent', 'pipe', 'bomber', 'shortage', 'cushion', 'sherwin', 'ranks', 'wound', 'st.', 'gaithersburg', 'automobile', 'barbaresco', 'arts', 'hammersmith', 'schmidt', 'signature', 'sasaki', 'congress', 'trigger', 'label', 'indexes', 'sandifer', 'loan', 'subskill', 'slope', 'trettien', 'spot', 'derek', 'ton', 'norman', 'ethel', 'hopwood', 'doerflinger', 'radio', 'inmates', 'colleges', 'band', 'premiums', 'attacks', 'prime', 'european', 'brace', 'capital-gains', 'working', 'accomplishments', 'deficiencies', 'younkers', 'rise', 'ibc', 'photograph', 'pool', 'shores', 'ban', 'respect', 'analysts', 'calif', 'dialogue', 'copper', 'crane', 'marietta', 'kane', 'days', 'komatsu', 'free', 'doors', 'transfers', 'miami', 'meeting', 'gringo', 'buy-out', 'film', 'irs', 'ctb', 'dairy', 'stories', 'vicar', 'photographs', 'institute', 'cannell', 'radioactivity', 'salty', 'adams', 'winiarski', 'yield', 'commodity', 'careers', 'sparkplugs', 'tens', 'members', 'functions', 'clearance', 'vehicles', 'diming', 'expansion', 'mich.', 'fabricator', 'craze', 'travelers', 'walkman', 'insurance', 'hearst', 'rebellion', 'dominance', 'examination', 'opening', 'bonnell', 'exclusion', 'piece', 'steven', 'spaces', 'herald', 'restraints', 'jr.', 'victor', 'tires', 'professor', 'basis', 'enthusiasm', 'industrials', 'ala', 'intermec', 'xiaoping', 'pins', 'sectors', 'lowe', 'kidnapper', 'las', 'refund', 'a', 'embassy', 'anti-programmers', 'disk', 'homeless', 'veto', 'committees', 'salomon', 'middle', 'stanford', 'fla.', 'carlton', 'army', 'tarwhine', 'belt', 'bit', 'powers', 'food-industry', 'reasons', 'requirements', 'reagan', 'percentage', 'era', 'sheep', 'inferences', 'assault', 'crook', 'rowe', 'portions', 'coast', 'najarian', 'video', 'gilts', 'malcolm', 'penchant', 'derchin', 'affiliates', 'orleans', 'pride', 'objectives', 'rico', 'butterfly', 'growths', 'dydee', 'nesconset', 'stanley', 'shangkun', 'michigan', 'statue', 'soup', 'spokesman', 'alstyne', 'hedging', 'control', 'glenn', 'ralston', 'negotiator', 'kingdom', 'neuberger', 'hollis', 'responsibility', 'globe', 'bitterness', 'kenneth', 'cards', 'nominee', 'singapore', 'dunn', 'menem', 'visit', 'bat', 'rebels', 'gmac', 'michael', 'weeks', 'stereo', 'ingredients', 'characters', 'disaffiliation', 'resentment', 'plus', 'hostility', 'base', 'obstacles', 'assumption', 'hook', 'forest-products', \"o'neill\", 'random', 'canepa', 'cask', 'legislature', 'improvements', 'briefs', 'powder', 'brunello', 'cable', 'firm', 'lezovich', 'incentives', 'periods', 'addition', 'coupon', 'yale', 'bushel', 'b.a.t', 'unico', 'contractor', 'topics', 'aktiebolaget', '1920s', 'silicon', 'trial', 'autumn', 'redevelopment', 'tenth', 'surpluses', 'decrease', 'requests', 'partner', 'use', 'petroleum', 'care', 'hudson', 'users', 'hormone', 'instruments', 'thrall', 'furor', 'founder', 'monopolies', 'impact', 'garret', 'tribune', 'moscow', 'problems', 'condition', 'cartilage', 'finland', 'utsumi', 'horoscopes', 'lawyers', 'asset', 'argentina', 'gangs', 'stoppage', 'commonwealth', 'belfries', 'danzig', 'loewi', 'arabian', 'murray', 'backer', 'features', 'journal', 'protest', 'forecasts', 'f-series', 'gayle', 'boys', 'signboards', 'elizabeth', 'write-downs', 'asians', 'friday', 'licenses', 'fleet', 'lane', 'lore', 'hampton', 'one-upsmanship', 'caveat', 'hampshire', 'god', 'spinoff', 'yamamoto', 'regulators', 'chrysotile', 'caretaker', 'berliner', 'authors', 'decades', 'successor', 'slate', 'acceptances', 'halts', 'private', 'average', 'exodus', 'trade', 'negus', 'paper', 'cheese', 'alleghany', 'parkinson', 'movement', 'participation', 'presence', 'hormats', 'container', 'neal', 'cambridge', 'mr.', 'crashes', 'protection', 'money-fund', 'microprocessors', 'brooklyn', 'wrists', 'wonder', 'first', 'package', 'presidents', 'lobbyists', 'napolitan', 'alumni', 'dissident', 'smelting', 'dick', 'last', 'heavy-truck', 'drain', 'warnings', 'metallgesellschaft', 'manchester', 'tool', 'kilobytes', 'miller', 'diplomacy', 'administrator', 's&l', 'stores', 'general', 'sherwood', 'auditor', 'demonstrations', 'businesses', 'nagymaros', 'honors', 'speculator', 'eye', 'auto', 'polyproplene', 'portion', 'bears', 'bell', 'n.m.', 'relation', 'elephant', 'midtown', 'entertainment', 'anderson', 'scenes', 'films', 'lafite-rothschild', 'variation', 'catch-22', 'boots', 'amphobiles', 'reduction', 'sterling', 'forms', 'investor-relations', 'bonuses', 'fed', 'weakening', 'citations', 'necessities', 'star', 'spilling', 'hot', 'employee', 'h.n.', 'significance', 'fountain', 'watch', 'accounts', 'man', 'estimates', 'behest', 'taxes', 'severance', 'protein-1', 'problem', 'off-track', 'a.c.', 'shipbuilding', 'track', 'launch-vehicle', 'hollingsworth', 'institutes', 'alternatives', 'lobbies', 'wilmington', 'markdown', 'textile', 'cru', 'marketing', 'frankfurt', 'karl', 'dot', 'imbalances', 'public-relations', 'designers', 'targets', 'herbert', 'rating', 'preparatives', 'sangyo', 'reform', 'liners', 'rev.', 'editions', 'roukema', 'size', 'forum', 'pipeline', 'ruling', 'toilet', 'reasoning', 'binders', 'environmentalists', 'store', 'decay', 'passage', 'censorship', 'black', 'smiles', 'gottlieb', 'activities', 'indianapolis', 'representatives', 'workbooks', 'ellis', 'peculiarities', 'homebrew', 'burden', 'conflicts', 'have', 'diloreto', 'terrine', 'park', 'leasing', 'chafic', 'buildings', 'leather', 'masters', 'domination', 'bond', 'producers', 'limitation', 'revenue', 'immense', 'alexander', 'greece', 'retaliation', 'j.', 'p.', 'regulations', 'recovery', 's&p', 'gambling', 'fan', 'vanderbilt', 'businessman', 'disposables', 'banquet', 'orrick', 'today', 'volunteer', 'ncr', 'southern', 'old', 'board', 'incident', 'express', 'book', 'playing', 'nippon', 'deficit', 'garanti', 'conversion', 'brussels', 'criteria', 'interbank', 'parking', 'tax', 'thread', 'father', 'document', 'authority', 'actor', 'thought', 'sun', 'consent', 'billions', 'strength', 'midland', 'ichiro', 'moneymakers', 'irving', 'minority', 'daiwa', 'sentiment', 'agriculture', 'parts', 'nasdaq', 'bout', 'conviction', 'faithful', 'everything', 'sauternes', 'merc', 'gifts', 'yoshihashi', 'amps', 'troubled', 'conn', 'freedoms', 'ward', 'surgery', 'mailing', 'beer-belly', 'actions', 'strings', 'osha', 'survival', 'window', 'creams', 'occupational', 'foldability', 'malizia', 'walt', 'philippines', 'reed', 'surgeon', 'marketers', 'taxation', 'bid', 'refunds', 'peddling', 'pulls', 'electorate', 'malta', 'realization', 'brain', 'request', 'goode', 'models', 'educators', 'judges', 'intervention', 'backlogs', 'guigal', 'contras', 'field', 'douglas', 'lap', 'ringing', 'bidders', 'appliance', 'economists', 'denver', 'rae', 'identities', 'primerica', 'german', 'fees', 'a.l.', 'sights', 'sell', 'culprit', 'socialism', 'circuit', 'males', 'mayor', 'modification', 'text', 'chicago', 'landis', 'gingl', 'atlantic', 'businessmen', 'emile', 'seller', 'terrace', 'refocusing', 'deal', 'measures', 'namibia', 'laura', 'brigham', 'cabernet', 'zuckerman', 'inception', 'ministry', 'muster', 'spring', 'standpoint', 'prayer', 'yang', 'groucho', 'buckhead', 'ill.', 'cup-tote', 'advanced', 'patient', 'rifles', 'phone', 'cutbacks', 'beneficiaries', 'wheels', 'maximum', 'angelo', 'chaplin', 'quality', 'cole', 'analysis', 'knife', 'burgundies', 'tag', 'holt', 'mariotta', 'claude', 'mid-1990s', 'agreed', 'pharmaceuticals', 'gerald', 'terrorists', 'tony', 'issues', 'joys', 'ann', 'trs-80', 'kit', 'exit', 'voa', 'plant', 'scotia', 'labouisse', 'light', 'networking', 'kean', 'powerhouse', 'inquiries', 'drops', 'underwriter', 'look', 'panama', 'designation', 'irvine', 'vision', 'educational', 'est', 'cruise', 'intrusions', 'in', 'stockpiles', 'pentagon', 'widgets', 'superconductor', 'houston', 'opinions', 'fulbright', 'consulting', 'confederation', 'marion', 'arbitrage', 'showing', 'auctions', 'governors', 'mehta', 'fast-food', 'term', 'trace', 'virtues', 'fortune', 'profit', 'smattering', 'mogavero', 'graduate', 'pattern', 'worth', 'job', 'sonny', 'ymca', 'sandberg', 'accidents', 'section', 'contacts', 'chassis', 'boost', 'ingersoll-rand', 'perfection', 'explosion', 'friction', 'h.', 'threat', 'ind.', 'irwin', 'pediatrician', 'joe', 'tobacco', 'lobbyist', 'marchese', 'international', 'antonio', 'larry', 'benchmark', 'angier', 'protesters', 'closing', 'operators', 'superiors', 'open', 'indictment', 'classmates', 'thieves', 'fred', 'surrender', 'lighthouse', 'beheading', 'discussion', 'assembly-line', 'lorenzo', 'cash', 'vansant', 'ball', 'richebourg', 'attendance', 'shivers', 'battles', 'waymar', 'backers', 'dawn', 'jeopardy', 'chivas', 'respondents', 'bribery', 'glitches', 'co-author', 'kurland', 'reports', 'opposition', 'financings', 'deposits', 'beijing', 'rogers', 'turnover', 'takeover', 'commodities', 'association', 'tire', 'toll', 'movements', 'setback', 'knapp', 'consomme', 'custom', 'angle', 'ford', 'person', 'youngsters', 'monchecourt', 'self-esteem', 'examinations', 'buffet', 'fee', 'direction', 'rms', 'robertson', 'darrell', 'disaster', 'campaigning', 'outlay', 'colony', 'missouri', 'ballot', 'summons', 'passenger-car', 'eurodollars', 'devices', 'downfall', 'possessions', 'gotta', 'director', 'airline', 'slab', 'search', 'polytechnic', 'tally', 'grandfather', 'replacement-car', 'rash', 'luce', 'f', 'screens', 'shelter', 'andy', 'post', 'air', 'crookery', 'leming', 'monopoly', 'prerogatives', 'fears', 'witches', 'heads', 'june', 'barth', 'generalized', 'stockholders', 'anticipation', 'lake', 'notice', 'tyre', 'brunswick', 'noriega', 'excision', 'backing', 'timex', 'skill', 'holdings', 'needham', 'fishman', 'reinstatement', 'fall', 'eaton', 'newspaper', 'indicator', 'alcoholics', 'raspberry', 'avenue', 'requirement', 'fidelity', 'griffin', 'kalamazoo', 'priority', 'chunks', 'expert', 'switzerland', 'storage', 'commerce', 'register', 'arm', 'briefing', 'kathryn', 'college', 'activity', 'fiber', 'somebody', 'beds', 'futures', 'quantities', 'purina', 'deluge', 'gordon', 'coche-dury', 'blessing', 'strait', 'leinonen', 'cotton', 'developer', 'blancs', 'edge', 'ounce', 'garrison', 'maturity', 'cracks', 'marrow', 'carla', 'holidays', 'junk', 'latin', 'sheets', 'hatch', 'metal', 'individuals', 'investor', 'word-processing', 'leeway', 'months', 'victim', 'spanish', 'fiscal', 'del', 'blank', 'abuse', 'disease', 'kelli', 'individual', 'schaefer', 'stern', 'grant', 'torrent', 'trader', 'directorship', 'savin', 'hahn', 'pittsburgh', 'sidelines', 'pack', 'prudential-bache', 'arrangement', 'material', 'biedermann', 'rolling', 'ilminster', 'wamre', 'common', 'graphics', 'team', 'comedies', 'rounds', 'grandsire', 'decliners', 'might', 'jenkins', 'low', 'petersburg', 'listeners', 'quarters', 'l.p.', 'arizona', 'lenders', 'novello', 'turf', 'friendship', 'schoolteacher', 'existence', 'nov.', 'initiatives', 'virtue', 'lonski', 'pickens', 'wires', 'campaigner', 'stones', 'ropes', 'kligman', 'china', 'kuvin', 'stairs', 'polluters', 'dunton', 'approaches', 'name', 'offerings', 'sub-segments', 'engineers', 'fargo', 'environments', 'scoring', 'disorders', 'bricklayers', 'shearson', 'movies', 'address', 'bass', 'inadequacy', 'rock', 'scrutiny', 'crowd', 'corton-charlemagne', 'lovett', 'b.', 'agreements', 'forecast', 'sunday', 'drives', 'core', 'conglomerate', 'slide', 'u.s.', 'exception', 'auspices', 'strindberg', 'put', 'sociology', 'risks', 'dakota', 'alan', 'rockefeller', 'minister', 'limit', 'utility', 'patent', 'worry', 'nation', 'sums', 'thanks', 'viewpoints', 'stone', 'basket', 'uses', 'sen.', 'transportation', 'cigarette', 'montedison', 'crunch', 'henderson', 'lender', 'guy', 'arrangements', 'feature', 'prater', 'collection', 'sauvignon', 'takuma', 'broadcasts', 'insurgents', 'bankruptcy', 'trading-company', 'vinyl', 'cheerleaders', 'chunk', 'maine', 'adjustments', 'warsaw', 'preference', 'pet', 'intertitles', 'sandoz', 'non-u.s.', 'indifference', 'france', 'nielsen', 'burgundy', 'honolulu', 'weather', 'los', 'turmoil', 'readership', 'yorkers', 'fuel', 'feelings', 'upscale', 'boosters', 'items', 'wall', 'mara', 'october', 'klein', 'response', 'trust', 'facilities', 'county', 'bag', 'organization', 'tour', 'aid', 'suitors', 'ps', 'inc', 'implication', 'lobster', 'kindness', 'holder', 'ronald', \"o'loughlin\", 'nameplate', 'superconductors', 'creator', 'puerto', 'queers', 'gain', 'route', 'hurdles', 'arabia', 'coffee', 'student', 'legend', 'food', 'n.', 'adjustment', 'c-90', 'tie-in', 'automobiles', 'stirlen', 'detective-story', 'rapprochement', 'passions', 'detail', 'posts', 'precious', 'acre', 'designer', 'nemeth', 'rim', 'hotel', 'psychology', 'buses', 'sections', 'royalty', 'scenario', 'heatherington', 'steelmaker', 'jerry', 'stronach', 'mitsubishi', 'chevrolet', 'solihull', 'emigres', 'mesnil', 'millionaires', 'self', 'municipality', 'player', 'schwab', 'champion', 'warrant', 'levels', 'directors', 'hummerstone', 'destination', 'ark', 'bids', 'partners', 'bidder', 'covers', 'koizumi', 'litany', 'chardonnays', 'louis', 'routine', 'breaker', 'manager', 'bridge', 'seahorse', 'events', 'narcotics', 'yamaichi', 'centimeter', 'act', 'washington', 'donald', 'sanford', 'jet', 'subcontractors', 'busloads', 'onus', 'novel', 'f.h.', 'gold', 'observations', 'perception', 'republican', 'vineyard', 'hamilton', 'whas', 'announcement', 'landrieu', 'guarantee', 'completeness', 'sex', 'queen', 'offender', 'reddington', 'dreyfus', 'weisfield', 'salvador', 'loans', 'succession', 'peal', 'nicole', 'tassinari', 'life', 'match', 'shortages', 'practice', 'ascendency', 'lentjes', 'dresser', 'accommodations', 'akio', 'nec', 'inventories', 'customers', 'numbers', 'election', 'williams', 'source', 'tows', 'wayne', 'shambles', 'bermuda', 'permission', 'itoh', 'accessories', 'equipment', 'babcock', 'housewife', 'francs', 'meinders', 'resistance', 'radio-station', 'additions', 'affairs', 'deeds', 'barriers', 'project', 'vagabond', 'therapies', 'nesb', 'longevity', 'occurrences', 'coordinator', 'disputado', 'chile', 'banque', 'trustco', 'licensing', 'brean', 'heart', 'acceleration', 'britain', 'behavior', 'railings', 'catholic', 'money', 'indication', 'arrows', 'del.', 'pollution', 'abortions', 'baton', 'groton', 'mo.', 'schlemmer', 'contel', 'pipes', 'netware', 'stars', 'cote', 'province', 'hammacher', 'labels', 'pounds', 'pills', 'markdowns', 'races', 'stadiums', 'turkey', 'ms.', 'wafers', 'balloting', 'slaying', 'crusade', 'assistant', 'reorganization', 'market', 'territory', 'shokubai', 'revival', 'allen', 'island', 'delmont', 'canada', 'spin-off', 'pencil', 'women', 'swing', 'cathedral', 'wish', 'microwave', 'stature', 'transaction', 'dolls', 'law', 'worthiness', 'bronze', 'kennedy', 'promise', 'alurralde', 'cosmopolitan', 'guerrillas', 'exposure', 'restriction', 'snow', 'semiconductors', 'dealings', 'm.d.', 'cray-3', 'ratings', 'w.r.', 'complex', 'employer', 'number', 'subscribers', 'loyalty', 'explorer', 'creditor', 'heavy', 'degree', 'u.s.a.', 'carnegie-mellon', 'restrictions', 'meals', 'reps', 'elders', 'publication', 'heirs', 'phi', 'visits', 'associate', 'separation', 'teams', 'freudtoy', 'voters', 'everyone', 'inflation', 'properties', 'camilli', 'dominion', 'pains', 'allies', 'cold', 'species', 'islamic', 'sugarman', 'heartland', 'pacific', 'tender', 'contests', 'white', 'giraud', 'social', 'senses', 'universities', 'participants', 'wafa', 'choosing', 'clock', 'exchange', 'ridgefield', 'milan', 'g', 'softening', 'manufacturers', 'lids', 'elevators', 'bellows', 'koito', 'francis', 'card-member', 'case', 'burnham', 'no-smoking', 'registration', 'supplier', 'perch', 'longtime', 'missiles', 'knowns', 'killings', 'sdi', 'calif.', 'c.d.s', 'persky', 'shuttle', 'chip', 'plot', 'cabinet', 'takeshi', 'water-authority', 'exports', 'identity-management', 'harm', 'upturn', 'doubt', 'biscuit', 'pennsylvania', 'jerritts', 'tours', 'micronite', 'police', 'item', 'reporter', 'dingell', 'curses', 'wadsworth', 'period', 'herrington', 'milk', 'harpo', 'death', 'temple', 'paramount', 'milestones', 'bushels', 'inc.', 'inheritor', 'taylor', 'minimum-wage', 'collections', 'support', 'patients', 'story', 'port', 'skin', 'legg', 'goods', 'switch', 'expenditures', 'settlement', 'disapproval', 'advantages', 'traficant', 'technologies', 'bernstein', 'elections', 'ambitions', 'correspondence', 'adolph', 'blindfold', 'ghkm', 'buick', 'donuts', 'sign', 'samuel', 'circuit-breaker', 'cigarettes', 'sullivan', 'jones', 'caller', 'overhead', 'kensington', 'landowners', 'humans', 'ruth', 'partnership', 'contracts', 'natural', 'harvard', 'inventiveness', 'litigation', 'factors', 'california', 'interpretation', 'ross', 'premises', 'scholars', 'minutes', 'prize', 'down', 'time', 'joni', 'messrs.', 'traitor', 'bodner', 'reuter', 'others', 'street', 'dodge', 'catch-up', 'elmhurst', 'emergencies', 'delwin', 'esso', 'motion', 'notch', 'ramirez', 'holiday', 'accountants', 'poore', 'diversification', 'nikkei', 'ortega', 'carolina', 'midwesco', 'lawsuit', 'trockenbeerenauslesen', 'kentucky', 'velcro', 'prices', 'talks', 'pont', 'end', 'portfolio', 'kerensky', 'rear-seat', 'publisher', 'platitudes', 'candidates', 'credentials', 'springfield', 'renovation', 'push', 'mrs.', 'secret', 'romance', 'kearny', 'vindication', 'breakdown', 'valuation', 'speeches', 'duluth', 'rbc', 'aspect', 'weight', 'mutual-fund', 'c-130', 'rentals', 'katzenstein', 'fund', 'wilfred', 'johns', 'purposes', 'melamed', 'toy', 'rape', 'stearn', 'basin', 'lifting', 'wpp', 'connection', 'exxon', 'killeen', 'hotels', 'nofzinger', 'ramparts', 'crum', 'panel', 'firings', 'passport', 'company', 'iran-contra', 'salaries', 'springs', 'fantasy', 'projector', 'smokers', 'networks', 'derel', 'marine', 'exporters', 'english', 'johnson', 'ailes', 'schools', 'examples', 'operator', 'sell-off', 'credit-rating', 'celebrity', 'phobias', 'squeeze', 'bill', 'wines', 'debate', 'packages', 'kalipharma', 'pulp', 'principals', 'plc', 'northeast', 'program-trading', 'river', 'biscayne', 'rigors', 'electricity', 'suspension', 'baim', 'cocoa', 'georgia-pacific', 'capital', 'n.c.', 'jan.', 'clive', 'sheepskin', 'ideas', 'arthur', 'assembly', 'oklahoma', 'johnson-era', 'range', 'debt', 'dai-ichi', 'lebanon', 'revolution', 'concentration', 'twin-jet', 'beatles', 'bethlehem', 'theme', 'merit', 'parents', 'year', 'players', 'k.', 'disarray', 'survey', 'battle', 'mortimer', 'rancor', 'health', 'slides', 'insiders', 'disruption', 'kindergarten', 'allocation', 'drinks', 'piscataway', 'harry', 'slowing', 'modifications', 'master', 'd.', 'march', 'back', 'science', 'interrogation', 'ed', 'wave', 'exploration', 'designated', 'miles', 'variety', 'conferees', 'cellars', 'third-quarter', 'swaps', 'autos', 'matches', 'outside', 'football', 'pay', 'year-end', 'victory', 'furniture', 'magleby', 'btr', 'slogan', 'impression', 'seymour', 'attitude', 'outlays', 'checks', 'slump', 'corp.', 'plaza', 'alvin', 'technique', 'responses', 'contractors', 'race', 'matters', 'house', 'fires', 'all', 'rockford', 'candidate', 'whip', 'root', 'prisoners', 'atmosphere', 'j.l.', 'strike', 'haven', \"creator's\", 'separately', 'sandra', 'foster', 'richmond', 'nelms', 'tulane', 'federal', 'rotie', 'westminster', 'stake', 'barges', 'georgia', 'borge', 'nightmare', 'hart-scott-rodino', 'house-senate', 'male', 'debentures', 'pasta', 'martyr', 'printers', 'michio', 'fate', 'mikhail', 'fabian', 'escrow', 'mahoney', 'audience', 'zicklin', 'si', 'hazell', 'frenzy', 'seed', 'brazil', 'commitment', 'paribas', 'inns', 'steps', 'top', 'texan', 'peters', 'errors', 'repayment', 'glory', 'jumps', 'relevance', 'mcdonald', 'gyrations', 'one', 'lives', 'shuxian', 'propaganda', 'april', 'sweden', 'hoffman', 'fights', 'islamabad', 'jr', 'step', 'electric', 'nuys', 'exhibition', 'advertisements', 'policies', 'blood', 'correll', 'freud', 'clerks', 'prestige', 'renewal', 'subcommittee', 'referenda', 'cloth', 'shudders', 'spaghetti', 'seats', 'bendectin', 'compromises', 'maclellan', 'patents', 'tuscany', 'bailey', 'peninsula', 'squier', 'ringer', 'two-sevenths', 'sweat', 'chairs', 'mutual', 'dissemination', 'accident', 'garbage', 'otc', 'spirit', 'acceptance', 'pistols', 'defense', 'stephens', 'marie', 'opponents', 'deposits-a', 'cadet', 'consumers', 'bankers', 'refinery', 'payoff', 'interests', 'norwalk', 'industry', 'goverment', 'sino-u.s.', 'shelf', 'eastern', 'reliance', 'microphone', 'scale', 'schemes', 'corazon', 'neanderthals', 'workforce', 'deals', 'workers', 'country', 'examiner', 'girl', 'soldiers', 'chilver', 'stag', 'gamut', 'steel', 'count', 'purchasing', 'road', 'ads', 'reformers', 'james', 'assistance', 'genie', 'pillow', 'hostile', 'empire', 'collecting', 'exits', 'code', 'depository', 'lookee-loos', 'assertions', 'north', 'remarks', 'piper', 'credits', 'pill', 'budget', 'bradford', 'birmingham', 'roofs', 'feniger', 'hhs', 'ohio', 'domaine', 'deborah', 'counter', 'brownell', 'randolph', 'fit', 'dividend', 'magicians', 'fax', 'charter', 'mcfall', 'asher', 'ankle', 'san', 'construction', 'program', 'sales', 'view', 'mechanisms', 'ranieri', 'bew', 'advice', 'combo', 'pages', 'chapman', 'finance', 'chefs', 'freedom', 'december', 'aides', 'marathon', 'australian', 'fbi', 'logjam', 'pepperdine', 'doctors', 'collector', 'jacksonville', 'copycats', 'trays', 'sigmund', 'release', 'microcomputers', 'rockwell', 'measure', 'proposal', 'boy', 'dominus', 'employment', 'jugglers', 'sanctions', 'shirts', 'occidental', 'laurence', 'warehouses', 'beginning', 'loews', 'tip', 'extent', 'error', 'payrolls', 'pockets', 'bills', 'doctorate', 'overcapacity', 'administrations', 'finmeccanica', 'corp', 'mayer', 'allied', 'gates', 'consequence', 'osaka', 'pate', 'stalls', 'times', 'newhouse', 'pall', 'type', 'gunship', 'shipboard', 'photos', 'creek', 'pretty', 'aftermath', 'violence', 'ogilvy', 'joint', 'nih', 'classifications', 'dd', 'haruki', 'dallara', 'workplace', 'performance', 'composite', 'thumbs', 'box', 'headline', 'judiciary', 'lurie', 'purpose', 'crisis', 'hill', 'milestone', 'w.', 'receivers', 'mergers', 'bretz', 'official', 'foreigners', 'rhone', 'skokie', 'mexican', 'staff', 'breeden', 'attack', 'united', 'moore', 'signs', 'principle', 'closeness', 'graphs', 'liberation', 'detroit', 'tort', 'mark', 'cycle', 'sketch', 'corporate', 'nederlanden', 'raise', 'hiroshi', 'bolivia', 'officer', 'huber', 'west', 'color', 'hutchinson', 'buck', 'estimate', 'spain', 'prostitute', 'information-services', 'solicitation', 'trades', 'kidder', 'colonsville', 'maxwell', 'elisabeth', 'rocket', 'cane', 'youths', 'reporters', 'occupant', 'rosenblum', 'roadblock', 'intrusion', 'rice', 'arlington', 'framers', 'sharedata', 'airplane', 'questions', 'geography', 'moves', '500-stock', 'bottom', 'joel', 'resolution', 'signal', 'hammerton', 'r.d.', 'pact', 'gulf', 'wisdom', 'cartoonist', 'skirmishes', 'income', 'restructurings', 'ginnie', 'supreme', 'sea', 'whelen', 'poverty', 'space', 'needs', 'fulton', 'w.n.', 'folks', 'nestor', 'lobo', 'ibm', 'simmons', 'bumkins', 'unitholders', 'wilson', 'austria', 'fans', 'government', 'muramatsu', 'clemens', 'girlfriend', 'gains', 'sutcliffe', 'dismay', 'brian', 'constitution', 'stephanie', 'disasters', 'execution', 'joy', 'decade', 'demand', 'countries', 'roof', 'louisiana', 'knowledge', 'cutrer', 'asbestosis', 'extension', 'el', 'patterns', 'scoop', 'flux', 'deaths', 'traders', 'interviews', 'relations', 'painewebber', 'synergistics', 'asada', 'phrase', 'recess', 'dahl', 'findings', 'cdc', 'videocassette', 'decorator', 'pennview', 'usa', 'providers', 'ballots', 'writing', 'ferro', 'young', 'tactics', 'writer', 'plants', 'buyer', 'beers', 'habit', 'centennial', 'minnesota', 'western', 'plans', 'applicability', 'fe', 'enforcement', 'weakness', 'blue-chips', 'franc', 'neoprene', 'billionaire', 'cia', 'week', 'chips', 'quantity', 'pathlogy', 'shipments', 'pieces', 'co-chairman', 'theodore', 'samples', 'pools', 'haney', 'payments', 'overtime', 'coca-cola', 'installment', 'bearing', 'motor-home', 'mix', 'schoolboys', 'roland', 'arraignments', 'producer', 'vacancies', 'standards', 'minneapolis', 'skepticism', 'commissions', 'freddie', 'courter', 'dozen', 'prejudice', 'mass.', 'walkout', 'huntington', 'lauderhill', 'macheski', 'gaja', 'clouds', 'folio', 'talcott', 'contra', 'will', 'subscriber', 'neil', 'achievement', 'municipal', 'american', 'try', 'attempt', 'offers', 'scripts', 'boulder', 'driscoll', 'judie', 'escape', 'intermediate', 'discount', 'need', 'trials', 'computer', 'cabernets', 'acquirer', 'carbide', 'discretion', 'counseling', 'maturities', 'departures', 'univest', 'letters', 'agencies', 'marubeni', 'politicians', 'parlors', 'beige', 'evaluation', 'circulation', 'wage', 'gas', 'inches', 'suffering', 'college-bowl', 'pty.', 'symptoms', 'currency', 'families', 'vacancy', 'texts', 'context', 'brooks', 'volume', 'comment', 'midwestern', 'tenn.', 'louisville', 'party', \"d'amico\", 'raton', 'replies', 'germans', 'strategy', 'curse', 'takashima', 'filling', 'compliance', 'pit', 'florio', 'tissue', 'guard', 'homes', 'blackjack', 'dozens', 'violation', 'great', 'afternoon', 'posters', 'regions', 'telephone-information', 'z.', 'landing', 'ritual', 'carlos', 'september', 'mitsui', 'nationwide', 'shepperd', 'jimmy', 'elisa', 'manhattan', 'courage', 'issuer', 'mickey', 'weddings', 'fairlawn', 'communication', 'proteins', 'phipps', 'subminimum', 'confines', 'libor', 'integrity', 'stirrings', 'taipei', 'barron', 'observance', 'fourth-quarter', 'sebastian', 'cuvees', 'frances', 'leases', 'stance', 'sauce', 'fueling', 'leash', 'birds', 'high-technology', 'target', 'cue', 'eagleton', 'services', 'portugal', 'ultimatum', 'wellcome', 'skills', 'professors', 'sorts', 'berlin', 'arsenide', 'goal', 'drexel', 'subscription', 'cataracts', 'experts', 'n.j.', 'bags', 'standard', 'downturn', 'hara', 'drugs', 'productions', 'church-goers', 'longwood', 'john', 'enright', 'crash', 'truck', 'sulaiman', 'broker', 'japan', 'creativity', 'warehousing', 'ac-130u', 'protests', 'implementation', 'group', 'betterment', 'pep', 'nissho-iwai', 'complaints', 'wohlstetter', 'record', 'losses', 'violations', 'stork', 'appointments', 'offices', 'grade', 'concern', 'researchers', 'dormitory', 'christmas', 'evolution', 'showa', 'hawke', 'newsweek', 'harvest', 'surrey', 'duty', 'anxieties', 'defendants', 'pamplin', 'execs', 'leningrad', 'seagate', 'deng', 'bombs', 'neighborhood', 'coverage', 'bribe', 'dell', 'crane-safety', 'sugar', 'citizens', 'suspects', 'liquidity', 'publications', 'length', 'g.', 'ketchum', 'halt', 'respite', 'studio', 'manfred', 'olympia', 'raising', 'callers', 'idea', 'start', 'rout', 'earthquake', 'rollover', 'iii', 'fanfare', 'valhi', 'buildup', 'inner-city', 'judith', 'failure', 'fundamentalists', 'temperature', 'creditors', 'burdens', 'constraints', 'eeoc', 'princeton', 'vaccines', 'jihad', 'walters', 'enzor', 'politics', 'leigh', 'secretary', 'participant', 'units', 'dakotas', 'result', 'spiegel', 'michelin', 'sat', 'bhutto', 'mario', 'shaw', 'score', 'texas', 'diplomats', 'kaminski', 'displays', 'columbia', 'controls', 'penetration', 'metropolitan', 'gillespie', 'convention', 'statistics', 'lurgi', 'pattenden', 'lung', 'swearingen', 'charlie', 'economies', 'coliseum', 'gut', \"o'brien\", 'discos', 'biaggi', 'study', 'hubbard', 'sigh', 'spread', 'silver', 'clara', 'magazines', 'livestock', 'thursday', 'hint', 'promotions', 'lawless', 'braidwood', 'constitutional', 'minimum', 'low-altitude', 'powwow', 'dobson', 'veal', 'lesions', 'signals', 'strains', 'depressions', 'chronicle', 'siti', 'corridors', 'departments', 'henry', 'teddy', 'e.c.', 'buying', 'express-buick', 'floors', 'importance', 'sewer', 'behemoth', 'magazine', 'delay', 'creation', 'makato', 'deadwood', 'p.m.', 'sites', 'byron', 'are', 'similarity', 'tariff', 'factor', 'hobbyists', 'r.p.', 'lawsuits', 'alzheimer', 'ltd.', 'watches', 'microprocessor', 'move', 'implications', 'cds', 'feet', 'grand', 'argument', 'retailers', 'baking', 'florida', 'damages', 'officers', 'conference', 'floor', 'fire', 'equal-opportunity', 'kodansha', 'negotiators', 'pc', 'parties', 'cuts', 'complaint', 'fluctuation', 'trends', 'faulding', 'parishes', 'saturday', 'stands', 'lipsticks', 'processes', 'indonesia', 'robbie', 'panic', 'kathleen', 'sidak', 'retail', 'obligation', 'secilia', 'clippings', 'manner', 'ship', 'england', 'merrill', 'co-owner', 'tv', 'papua-new', 'unions', 'parallels', 'proposals', 'r.', 'binge', 'pauline', 'mindy', 'management', 'youth', 'rabia', 'arnold', 'rubber', 'asia', 'carriers', 'bust', 'evening', 'evidence', 'pressure', 'woodward', 'retailing', 'compositions', 'office', 'captive', 'craftsmen', 'rexinger', 'dexterity', 'energy', 'acne', 'corporations', 'napa', 'barney', 'basham', 's.', 'redemption', 'access', 'publishers', 'bickering', 'richard', 'receipt', 'planner', 'states', 'telecommunications', 'premiere', 'packaging', 'fuels', 'investments', 'planners', 'loss', 'treatment', 'growth', 'nilson', 'imhoff', 'corporation', 'palmer', 'cents', 'failures', 'berson', 'nyse', 'seafood', 'necklace', 'bunches', 'fledgling', 'bell-ringer', 'marina', 'spence', 'appeal', 'potables', 'administrators', 'sticker', 'octogenarians', 'ftc', 'barrier', 'triton', 'prevalance', 'decline', 'baris', 'copyrights', 'segments', 'jobs', 'edison', 'duchossois', 'emergency', 'klauser', 'fracturing', 'district', 'edward', 'tools', 'exposures', 'mcauley', 'waiver', 'truce', 'solidarity', 'cristal', 'bromwich', 'smoking', 'turnaround', 'pharaohs', 'denominator', 'ncnb', 'indexing', 'african', 'farms', 'exhaust', 'goldsmith', 'scowcroft', 'dessert', 'inefficiencies', 'reluctance', 'valuations', 'downgrading', 'challenge', 'preparation', 'watchdogs', 'sleep', 'optimism', 'category', 'confidence', 'rendering', 'autions', 'livelihood', 'kingsbridge', 'miners', 'crops', 'economics', 'representative', 'sides', 'charlotte', 'mehrens', 'beta', 'wertheim', 'aerospace', 'lion', 'fannie', 'shame', 'wages', 'cleanup', 'cap', 'concessions', 'announcer', 'demands', 'computer-services', 'bull', 'form', 'issue', 'deane', 'tribe', 'tower', 'ready', 'legislation', 'financing', 'iran\\\\/contra', 'architecture', 'luck', 'jon', 'simon', 'corn', 'print', 'tourism', 'apology', 'rules', 'dances', 'frederick', 'competition', 'oilman', 'major', 'cigna', 'charges', 'airlines', 'supermarket', 'assaults', 'luxury', 'area', 'morning', 'forces', 'scientists', 'medallions', 'options', 'boorse', 'circulations', 'morass', 'chalk', 'relationship', 'purepac', 'memphis', 'colleagues', 'sony', 'transactions', 'consultants', 'lesson', 'newspapers', 'macmillan\\\\/mcgraw', 'purhasing', 'x', 'quotas', 'marchand', 'judge', 'aurora', 'anku', 'jitters', 'polyester', 'card', 'structure', 'bread', 'building', 'bedding', 'casino', 'blanc', 'different', 'fancy', 'anti-abortionists', 'superpremiums', 'mutchin', '1980s', 'hoosier', 'aug.', 'teachers', 'macdonald', 'barnum', 'expectations', 'twindam', 'divergence', 'lieu', 'regal', 'ganes', 'comprehensive', 'fixes', 'sell-offs', 'departure', 'guys', 'commodore', 'january', 'programming', 'fairless', 'doonesbury', 'dennis', 'devon', 'hand', 'insider', 'magna', 'soviet', 'pat', 'network'}\n"
     ]
    }
   ],
   "source": [
    "# checking the text for which 'NOUN' tag is used\n",
    "\n",
    "print(set(\n",
    "    [tpl[0].lower() for pair in nltk_data for tpl in pair \n",
    "                                        if tpl[1] == 'NOUN']\n",
    "         ))"
   ]
  },
  {
   "cell_type": "code",
   "execution_count": 7,
   "metadata": {
    "scrolled": true
   },
   "outputs": [
    {
     "name": "stdout",
     "output_type": "stream",
     "text": [
      "{'*t*-44', '*-128', '*-1', '*t*-3', '*-36', '*t*-5', '*t*-46', '*ich*-4', '*t*-33', '*t*-229', '*t*-242', '*-97', '*-130', '*-11', '*-27', '*t*-244', '*-104', '*-3', '3', '*t*-164', '0', '*-84', '*t*-103', '*t*-28', '*t*-75', '*-137', '*t*-238', '*t*-54', '*t*-22', '*t*-13', '*t*-183', '*t*-121', '*t*-148', '*t*-68', '*-69', '*t*-111', '*t*-60', '*t*-40', '*t*-106', '*t*-139', '*t*-14', '*rnr*-4', '*-16', '*t*-15', '*-64', '*t*-253', '*t*-18', '*t*-32', '*t*-207', '*t*-115', '*t*-88', '5', '*-23', '*t*-102', '*t*-128', '*t*-38', '*-38', '*t*-156', '*-100', 'besuboru', '*t*-45', '*t*-126', '*t*-227', '*t*-119', '*-138', 'oh', '*-99', '*t*-6', '*t*-120', '*t*-221', '*t*-118', '*t*-151', '*-87', '*-115', '*t*-143', '*t*-138', '*t*-73', '*-53', '*t*-153', '*ppa*-1', '*t*-245', '*-54', 'no', '*-24', '*t*-224', 'etc.', '*-93', '*-111', '*-5', '*t*-55', '*t*-234', '*t*-114', '*t*-137', '*t*-37', '*t*-21', '*t*-97', '*t*-210', '*t*-214', '*t*-20', '*-78', '*-76', '*t*-61', '*t*-67', '*-12', '*t*-87', '*not*', '*t*-158', '*-4', '*t*-66', '*-90', '*-19', '*t*-178', '*-133', '*t*-27', '*-72', '*-134', '*rnr*-1', '*t*-96', '*ich*-3', '*t*-84', '*t*-26', '*-8', '*-151', '*t*-127', '*-102', '*t*-166', '*t*-163', '*-82', '*-94', '*t*-70', '*-135', '*t*-80', '*t*-53', '*ich*-2', '*-129', '*t*-95', '2', '*t*-17', '*', '*-161', '*-110', '*-22', '*-10', '*-86', '*-70', '*t*-122', '*t*-125', '*t*-131', '*t*-212', '*-50', '*t*-179', '*-149', '*t*-197', '*-147', '*-2', '*-20', '*t*-174', '*t*-7', '*-98', '*t*-255', '*t*-77', '*-43', '*-132', '*t*-94', '*-121', '*t*-211', '*-124', '*t*-185', '*-63', '*-150', '*t*-52', '*u*', '*-29', '*t*-98', '*-55', '*-25', '*t*-47', '*-74', '*t*-199', '*-18', '*t*-23', '*-67', '*-131', '*t*-123', '*t*-165', '*t*-140', '*t*-251', '*-142', '*-89', '*t*-25', '*-62', '*t*-147', '*t*-172', '*t*-150', '*t*-231', '*t*-258', '*-35', '*t*-208', '*-105', '*-77', '*-96', '*t*-86', '*t*-247', '*t*-188', '*t*-168', '*t*-104', '*t*-175', '*t*-215', '*t*-4', '*t*-191', '*ich*-1', '*t*-129', '*t*-144', '*t*-62', '*-109', '*-152', '*-144', '*t*-82', '*-13', '*t*-222', '*-57', '*t*-206', '*t*-117', '*-68', '*t*-91', '*-17', '*exp*-2', '*t*-56', '*t*-155', '*t*-160', '*t*-92', '*-114', '*t*-146', '*t*-180', '*t*-240', '*t*-83', '*-61', '*t*-203', '*-41', '*t*-152', '*-103', '*-112', '*t*-219', '*t*-198', '*-83', '*t*-223', '*t*-184', '*-47', '*-158', '*rnr*-2', '*t*-69', '*t*-8', '*t*-132', '*t*-42', '*t*-254', '*t*-230', '*t*-109', '&', '*t*-9', '*exp*-1', '*t*-141', '*t*-252', '*t*-85', '*t*-171', '*t*-30', '*-140', '*-40', '*t*-101', '*t*-35', '*-75', '*-107', '*t*-135', '*t*-201', '*-14', '*t*-217', '*-157', '*t*-246', '*t*-235', '*t*-89', '*t*-59', '*t*-249', '*t*-241', '*-31', '*t*-72', '*-45', '*t*-58', '*-85', '*t*-200', '*-95', '*-139', '*t*-220', '*t*-190', '*-146', '*t*-116', '*t*-81', '*-153', '*t*-204', '*-28', '*t*-2', '*t*-100', 'de', '*t*-205', '*-21', '*-73', '*t*-24', '*-120', '*-118', '*-101', '*t*-194', '*t*-57', '*-7', '*t*-181', '*t*-186', '*t*-189', '*t*-16', '*-15', '*-156', '1', '*-39', '*-88', '*t*-10', '*ppa*-3', '*t*-196', '*t*-11', '*t*-187', '*t*-202', '*t*-74', '*-127', '*-123', '*t*-107', '*t*-256', '*-79', '*t*-124', '*t*-226', '*t*-41', '*t*-250', '*t*-216', '*t*-48', '*t*-90', '*t*-142', '*-37', '*-106', '*t*-161', '4', '*t*-154', '*-71', '*-122', '*-48', '*-164', '*-44', '*-160', '*-126', '*-34', '*-52', '*t*-248', '*t*-145', '*t*-233', '*-108', '*t*-50', '*-66', '*t*-195', '*-60', '*t*-225', '*t*-228', '*-166', '*t*-130', '*t*-136', '*t*-108', '*-155', '*t*-78', 'ok', '*t*-29', '*t*-193', 'perestroika', '*-136', '*-165', '*-46', '*t*-1', '*t*-12', '*-159', '*t*-34', '*t*-36', '*t*-105', '*-59', '*t*-159', '*t*-79', '*t*-110', '*-49', '*t*-243', '*-26', '*-9', '*t*-257', '*-116', '*t*-167', '*-141', '*t*-31', '*t*-39', '*t*-162', '*t*-65', '*t*-93', '*t*-236', '*ppa*-2', '*t*-213', '*t*-177', '*-92', '*-145', '*t*-259', 'b', '*t*-239', '*-30', '*t*-71', '*t*-192', '*-56', '*t*-112', '*t*-64', '*t*-237', '*t*-76', '*-117', '*t*-169', '*t*-133', '*t*-49', '*t*-51', '*-91', '*t*-63', '*-113', '*-58', '*exp*-3', '*t*-176', 'a', '*t*-232', '*-42', '*t*-113', '*-125', '*-51', '*t*-173', '*t*-182', '*-154', '*-163', '*-32', '*t*-149', '*-80', '*-162', '*t*-170', '*t*-157', '*-81', '*-6', '*t*-260', '*t*-218', '*t*-43', '*t*-99', '*?*', '*t*-19', '*-119', '*-33', '*t*-134'}\n"
     ]
    }
   ],
   "source": [
    "# checking the text for which 'X' tag is used\n",
    "\n",
    "print(set(\n",
    "    [tpl[0].lower() for pair in nltk_data for tpl in pair \n",
    "                                        if tpl[1] == 'X']\n",
    "         ))\n",
    "\n",
    "# as per the documentation 'X' tag is used for foreign words.\n",
    "# https://www.nltk.org/_modules/nltk/tag/mapping.html"
   ]
  },
  {
   "cell_type": "markdown",
   "metadata": {},
   "source": [
    "#### Splitting the data into train and test sets"
   ]
  },
  {
   "cell_type": "code",
   "execution_count": 8,
   "metadata": {
    "scrolled": false
   },
   "outputs": [
    {
     "name": "stdout",
     "output_type": "stream",
     "text": [
      "3718\n",
      "196\n",
      "[[('I', 'PRON'), ('would', 'VERB'), ('predict', 'VERB'), ('that', 'ADP'), ('within', 'ADP'), ('a', 'DET'), ('short', 'ADJ'), ('time', 'NOUN'), ('most', 'ADJ'), ('of', 'ADP'), ('them', 'PRON'), ('would', 'VERB'), ('find', 'VERB'), ('Thunderbird', 'NOUN'), ('a', 'DET'), ('satisfactory', 'ADJ'), ('substitute', 'NOUN'), ('for', 'ADP'), ('Chivas', 'NOUN'), ('Regal', 'NOUN'), ('and', 'CONJ'), ('that', 'ADP'), ('their', 'PRON'), ('``', '.'), ('normal', 'ADJ'), (\"''\", '.'), ('phobias', 'NOUN'), (',', '.'), ('anxieties', 'NOUN'), (',', '.'), ('depressions', 'NOUN'), ('and', 'CONJ'), ('substance', 'NOUN'), ('abuse', 'NOUN'), ('would', 'VERB'), ('increase', 'VERB'), ('dramatically', 'ADV'), ('.', '.')], [('Newsweek', 'NOUN'), ('said', 'VERB'), ('0', 'X'), ('it', 'PRON'), ('will', 'VERB'), ('introduce', 'VERB'), ('the', 'DET'), ('Circulation', 'NOUN'), ('Credit', 'NOUN'), ('Plan', 'NOUN'), (',', '.'), ('which', 'DET'), ('*T*-1', 'X'), ('awards', 'VERB'), ('space', 'NOUN'), ('credits', 'NOUN'), ('*ICH*-2', 'X'), ('to', 'PRT'), ('advertisers', 'NOUN'), ('on', 'ADP'), ('``', '.'), ('renewal', 'NOUN'), ('advertising', 'NOUN'), ('.', '.'), (\"''\", '.')], [('The', 'DET'), ('acquisition', 'NOUN'), ('of', 'ADP'), ('87-store', 'ADJ'), ('Weisfield', 'NOUN'), (\"'s\", 'PRT'), ('raises', 'VERB'), ('Ratners', 'NOUN'), (\"'s\", 'PRT'), ('U.S.', 'NOUN'), ('presence', 'NOUN'), ('to', 'PRT'), ('450', 'NUM'), ('stores', 'NOUN'), ('.', '.')], [('SEC', 'NOUN'), ('Chairman', 'NOUN'), ('Richard', 'NOUN'), ('Breeden', 'NOUN'), ('has', 'VERB'), ('said', 'VERB'), ('0', 'X'), ('he', 'PRON'), ('would', 'VERB'), ('be', 'VERB'), ('willing', 'ADJ'), ('*-1', 'X'), ('to', 'PRT'), ('consider', 'VERB'), ('circuit', 'NOUN'), ('breakers', 'NOUN'), ('that', 'DET'), ('*T*-215', 'X'), ('have', 'VERB'), ('preset', 'ADJ'), ('trigger', 'NOUN'), ('points', 'NOUN'), (',', '.'), ('but', 'CONJ'), ('he', 'PRON'), ('does', 'VERB'), (\"n't\", 'ADV'), ('want', 'VERB'), ('discretionary', 'ADJ'), ('power', 'NOUN'), ('*', 'X'), ('to', 'PRT'), ('stop', 'VERB'), ('programs', 'NOUN'), ('.', '.')], [('Without', 'ADP'), ('the', 'DET'), ('Cray-3', 'NOUN'), ('research', 'NOUN'), ('and', 'CONJ'), ('development', 'NOUN'), ('expenses', 'NOUN'), (',', '.'), ('the', 'DET'), ('company', 'NOUN'), ('would', 'VERB'), ('have', 'VERB'), ('been', 'VERB'), ('able', 'ADJ'), ('*-2', 'X'), ('to', 'PRT'), ('report', 'VERB'), ('a', 'DET'), ('profit', 'NOUN'), ('of', 'ADP'), ('$', '.'), ('19.3', 'NUM'), ('million', 'NUM'), ('*U*', 'X'), ('*ICH*-3', 'X'), ('for', 'ADP'), ('the', 'DET'), ('first', 'ADJ'), ('half', 'DET'), ('of', 'ADP'), ('1989', 'NUM'), ('rather', 'ADV'), ('than', 'ADP'), ('the', 'DET'), ('$', '.'), ('5.9', 'NUM'), ('million', 'NUM'), ('*U*', 'X'), ('0', 'X'), ('it', 'PRON'), ('posted', 'VERB'), ('*T*-1', 'X'), ('.', '.')]]\n"
     ]
    }
   ],
   "source": [
    "# as per the instructions, splitting the data into 95% train set and 5% test set\n",
    "random.seed(1234)\n",
    "train_set, test_set = train_test_split(nltk_data,test_size=0.05)\n",
    "\n",
    "print(len(train_set))\n",
    "print(len(test_set))\n",
    "print(train_set[:5])"
   ]
  },
  {
   "cell_type": "code",
   "execution_count": null,
   "metadata": {},
   "outputs": [],
   "source": []
  },
  {
   "cell_type": "markdown",
   "metadata": {},
   "source": [
    "### 2. Build the vanilla Viterbi based POS tagger"
   ]
  },
  {
   "cell_type": "code",
   "execution_count": 9,
   "metadata": {},
   "outputs": [],
   "source": [
    "# Getting list of tagged words\n",
    "train_tagged_words = [tup for sent in train_set for tup in sent]\n",
    "\n",
    "# number of tags\n",
    "T = set([pair[1] for pair in train_tagged_words])"
   ]
  },
  {
   "cell_type": "markdown",
   "metadata": {},
   "source": [
    "#### Emission probability"
   ]
  },
  {
   "cell_type": "code",
   "execution_count": 10,
   "metadata": {},
   "outputs": [],
   "source": [
    "# compute word given tag: Emission Probability\n",
    "\n",
    "def word_given_tag(word, tag, train_bag = train_tagged_words):\n",
    "    tag_list = [pair for pair in train_bag if pair[1].lower()==tag.lower()]\n",
    "    w_given_tag_list = [pair[0] for pair in tag_list if pair[0].lower()==word.lower()]\n",
    "    \n",
    "    return (len(w_given_tag_list), len(tag_list))"
   ]
  },
  {
   "cell_type": "markdown",
   "metadata": {},
   "source": [
    "#### Transition probability"
   ]
  },
  {
   "cell_type": "code",
   "execution_count": 11,
   "metadata": {},
   "outputs": [],
   "source": [
    "# compute tag given tag: tag2(t2) given tag1 (t1), i.e. Transition Probability\n",
    "\n",
    "def t2_given_t1(t2, t1, train_bag = train_tagged_words):\n",
    "    tags = [pair[1] for pair in train_bag]\n",
    "    count_t1 = len([t for t in tags if t==t1])\n",
    "    count_t2_t1 = 0\n",
    "    for index in range(len(tags)-1):\n",
    "        if tags[index]==t1 and tags[index+1] == t2:\n",
    "            count_t2_t1 += 1\n",
    "    return (count_t2_t1, count_t1)"
   ]
  },
  {
   "cell_type": "markdown",
   "metadata": {},
   "source": [
    "#### Viterbi Algorithm"
   ]
  },
  {
   "cell_type": "code",
   "execution_count": 12,
   "metadata": {},
   "outputs": [],
   "source": [
    "# creating t x t transition matrix of tags\n",
    "# each column is t2, each row is t1\n",
    "# thus M(i, j) represents P(tj given ti)\n",
    "\n",
    "tags_matrix = np.zeros((len(T), len(T)), dtype='float32')\n",
    "for i, t1 in enumerate(list(T)):\n",
    "    for j, t2 in enumerate(list(T)):\n",
    "        tags_matrix[i, j] = t2_given_t1(t2, t1)[0]/t2_given_t1(t2, t1)[1]"
   ]
  },
  {
   "cell_type": "code",
   "execution_count": 13,
   "metadata": {},
   "outputs": [],
   "source": [
    "# convert the matrix to a df for better readability\n",
    "tags_df = pd.DataFrame(tags_matrix, columns = list(T), index=list(T))"
   ]
  },
  {
   "cell_type": "code",
   "execution_count": 14,
   "metadata": {},
   "outputs": [],
   "source": [
    "# Viterbi Heuristic\n",
    "def Viterbi(words, train_bag = train_tagged_words):\n",
    "    state = []\n",
    "    \n",
    "    #extracting unique tags from the text\n",
    "    T = list(set([pair[1] for pair in train_bag]))\n",
    "    \n",
    "    #enumerate creates a tuple with key and the individual value passed in the enumerate function.\n",
    "    #in this case words. \n",
    "    \n",
    "    #E.g. l1 = [\"eat\",\"sleep\",\"repeat\"] \n",
    "    # print(l1) will result in (0, 'eat'), (1, 'sleep'), (2, 'repeat')\n",
    "    \n",
    "    for key, word in enumerate(words):\n",
    "        #initialise list of probability column for a given observation\n",
    "        p = [] \n",
    "        for tag in T:\n",
    "            if key == 0:\n",
    "                transition_p = tags_df.loc['.', tag]\n",
    "            else:\n",
    "                transition_p = tags_df.loc[state[-1], tag]\n",
    "                \n",
    "            # compute emission and state probabilities\n",
    "            emission_p = word_given_tag(words[key], tag)[0]/word_given_tag(words[key], tag)[1]\n",
    "            #######\n",
    "            #print(\"%s %s %s\" % (emission_p, word, tag))\n",
    "            #######\n",
    "            state_probability = emission_p * transition_p    \n",
    "            p.append(state_probability)\n",
    "            \n",
    "    # the loop executes for (words*tags) times. Therefore time is O(nt); where, n=words and t=tags.\n",
    "            \n",
    "        #print(p)\n",
    "        pmax = max(p)\n",
    "        ######\n",
    "        #print('pmax = %f, %s, %s' % (pmax, word, tag))\n",
    "        ######\n",
    "        \n",
    "        \n",
    "        # getting state for which probability is maximum\n",
    "        state_max = T[p.index(pmax)] \n",
    "        ######\n",
    "        #print('pmax = %f, %s, %s' % (pmax, word, state_max))\n",
    "        ######\n",
    "        \n",
    "        state.append(state_max)\n",
    "    return list(zip(words, state))"
   ]
  },
  {
   "cell_type": "markdown",
   "metadata": {},
   "source": [
    "#### Evaluation on Test data set"
   ]
  },
  {
   "cell_type": "code",
   "execution_count": 15,
   "metadata": {},
   "outputs": [],
   "source": [
    "# creating a function to show list of words which were incorrectly tagged.\n",
    "\n",
    "def correction(output_of_viterbi_algo, testing_set):\n",
    "    return [\n",
    "                [\n",
    "                    j\n",
    "                ] \n",
    "\n",
    "                for i, j in enumerate(zip(output_of_viterbi_algo, testing_set))\n",
    "                    if j[0]!=j[1]\n",
    "            ]"
   ]
  },
  {
   "cell_type": "markdown",
   "metadata": {},
   "source": [
    "### 3. Solve the problem of unknown words"
   ]
  },
  {
   "cell_type": "markdown",
   "metadata": {},
   "source": [
    "#### 3.1 Analyzing how Viterbi Algoritm tags the new words"
   ]
  },
  {
   "cell_type": "markdown",
   "metadata": {},
   "source": [
    "Identifying patterns which may help in improving the problem of unknown words."
   ]
  },
  {
   "cell_type": "code",
   "execution_count": 16,
   "metadata": {
    "scrolled": true
   },
   "outputs": [],
   "source": [
    "# reading the Test_sentences.txt file and applying the viterbi algo, to see how the words are tagged.\n",
    "\n",
    "test_text = open('Test_sentences.txt', 'r')\n",
    "words = word_tokenize(test_text.read())\n",
    "viterbi_tagged_wrds = Viterbi(words)"
   ]
  },
  {
   "cell_type": "markdown",
   "metadata": {},
   "source": [
    "Here we can see that words (nouns) like 'Android', 'Google', 'Twitter', 'FIFA' etc. are tagged as 'ADP - adpositions (prepositions and postpositions)', because they were not present in the earlier corpus."
   ]
  },
  {
   "cell_type": "code",
   "execution_count": 17,
   "metadata": {},
   "outputs": [
    {
     "name": "stdout",
     "output_type": "stream",
     "text": [
      "{('since', 'ADP'), ('about', 'ADP'), ('Before', 'ADP'), ('on', 'ADP'), ('at', 'ADP'), ('like', 'ADP'), ('with', 'ADP'), ('in', 'ADP'), ('of', 'ADP'), ('by', 'ADP'), ('as', 'ADP'), ('that', 'ADP'), ('from', 'ADP')}\n"
     ]
    }
   ],
   "source": [
    "# checking unique words in the corpus, which are marked as 'ADP'. Most of the nouns are wrongly marked as ADP\n",
    "\n",
    "print(\n",
    "    set(\n",
    "        [tlp for tlp in viterbi_tagged_wrds if tlp[1] == 'ADP']\n",
    "    )\n",
    ")"
   ]
  },
  {
   "cell_type": "markdown",
   "metadata": {},
   "source": [
    "From above we can see that the numbers and nouns are not tagged properly. They are by default tagged as 'ADP' because these words were not present in the universal corpus. Hence will create below patterns which tags the number, nouns properly.\n",
    "\n",
    "<u>Analysis of tagging with Vanilla Viterbi algorithm</u>\n",
    "1. Proper nouns like 'Android', 'Google', 'Twitter', 'FIFA' etc. start with a capital letter.\n",
    "2. Plural nouns like 'tweets', 'trips', 'messages' etc which ends with an 's' are also in correctly marked as ADP"
   ]
  },
  {
   "cell_type": "markdown",
   "metadata": {},
   "source": [
    "#### 3.2 Lexicon (Unigram) Tagger"
   ]
  },
  {
   "cell_type": "code",
   "execution_count": 18,
   "metadata": {},
   "outputs": [],
   "source": [
    "lexicon_tagger = nltk.UnigramTagger(train_set)\n",
    "wrds_only_lex_tagger = lexicon_tagger.tag(words)"
   ]
  },
  {
   "cell_type": "markdown",
   "metadata": {},
   "source": [
    "<u>Analysis of tagging with UnigramTagger algorithm</u>\n",
    "1. Since this tagger is trained with NLTK's Universal corpus, it is not able to tag new words like 'Android', 'Google', 'Twitter', 'domineering' etc.\n",
    "2. Words like 'networking' are correctly tagged as Noun, where as other verbs like 'entering', 'leaving' are tagged correctly.\n",
    "\n",
    "<u>Conclusion</u>\n",
    "There are many new words in the Test_sentences.txt files which UnigramTagger is not able to identify. Hence we should use a secondary Rule based tagger for such words."
   ]
  },
  {
   "cell_type": "markdown",
   "metadata": {},
   "source": [
    "#### 3.3 Rule-Based (Regular Expression) Tagger"
   ]
  },
  {
   "cell_type": "code",
   "execution_count": 19,
   "metadata": {},
   "outputs": [],
   "source": [
    "# specifying patterns for tagging as per the patterns found in the test sentences\n",
    "# example from the NLTK book\n",
    "patterns = [\n",
    "    (r'.*ing$', 'VERB'),                             # gerund\n",
    "    (r'.*ed$', 'VERB'),                              # past tense\n",
    "    (r'.*es$', 'VERB'),                              # 3rd singular present\n",
    "    (r'.*ould$', 'PRT'),                             # modals\n",
    "    (r'[A-Z]{1}([a-z]{1,})?([A-Z]{1,})?', 'NOUN'),   # words with capital letters\n",
    "    (r'.*\\'s$', 'NOUN'),                             # possessive nouns\n",
    "    (r'.*s$', 'NOUN'),                               # plural nouns\n",
    "    (r'([0-9])+(\\-|\\/)?([a-z]{2,3})?(\\-)?', 'NUM'),  # cardinal numbers and dates\n",
    "    (r'.*', 'NOUN')                                  # any word not found will be tagged as a noun\n",
    "]"
   ]
  },
  {
   "cell_type": "code",
   "execution_count": 20,
   "metadata": {},
   "outputs": [],
   "source": [
    "# Rule based tagger\n",
    "rule_based_tagger = nltk.RegexpTagger(patterns)\n",
    "wrds_rule_tagger = rule_based_tagger.tag(words)"
   ]
  },
  {
   "cell_type": "markdown",
   "metadata": {},
   "source": [
    "<u>Analysis of tagging with Rule Based Tagger</u>\n",
    "1. Since the we have specified the final rule as a Noun, all the words that RegEx is not able to parse are tagged as 'NOUN'.\n",
    "2. Words like 'networking' which are ending with 'ing' are tagged as Verb, where as it is a Noun.\n",
    "\n",
    "<u>Conclusion</u>\n",
    "Since the Rule Based (RegEx based) Tagger is not efficiently tagging the POS, we'll need another Tagger and we should use the RegEx tagger as a secondary tagger. "
   ]
  },
  {
   "cell_type": "markdown",
   "metadata": {},
   "source": [
    "#### 3.4 Combined Taggers"
   ]
  },
  {
   "cell_type": "code",
   "execution_count": 21,
   "metadata": {},
   "outputs": [],
   "source": [
    "# initializing the variables again to avoid any confusion.\n",
    "\n",
    "# rule based tagger\n",
    "rule_based_tagger = nltk.RegexpTagger(patterns)\n",
    "\n",
    "# lexicon tagger, backed up by the rule-based tagger\n",
    "# lexicon tagger is trained on the NLTK's Universal corpus.\n",
    "\n",
    "lexicon_tagger = nltk.UnigramTagger(train_set, backoff=rule_based_tagger)\n",
    "\n",
    "wrds_comb_tagger = lexicon_tagger.tag(words)"
   ]
  },
  {
   "cell_type": "markdown",
   "metadata": {},
   "source": [
    "### 4. Evaluating tagging accuracy"
   ]
  },
  {
   "cell_type": "markdown",
   "metadata": {},
   "source": [
    "#### Evaluating tagging accuracy on Viterbi algorithm (checking Universal's train data vs test data)"
   ]
  },
  {
   "cell_type": "code",
   "execution_count": 22,
   "metadata": {},
   "outputs": [],
   "source": [
    "# Running on entire test dataset would take more than 3-4hrs. \n",
    "# Let's test our Viterbi algorithm on a few sample sentences of test dataset\n",
    "\n",
    "random.seed(1234)\n",
    "\n",
    "# choose random 20 sents\n",
    "rndom = [random.randint(1,len(test_set)) for x in range(20)]\n",
    "\n",
    "# list of sents\n",
    "test_run = [test_set[i] for i in rndom]\n",
    "\n",
    "# list of tagged words\n",
    "test_run_base = [tup for sent in test_run for tup in sent]\n",
    "\n",
    "# list of untagged words\n",
    "test_tagged_words = [tup[0] for sent in test_run for tup in sent]"
   ]
  },
  {
   "cell_type": "code",
   "execution_count": 23,
   "metadata": {},
   "outputs": [],
   "source": [
    "# tagging the test sentences\n",
    "tagged_seq = Viterbi(test_tagged_words)"
   ]
  },
  {
   "cell_type": "code",
   "execution_count": 24,
   "metadata": {},
   "outputs": [
    {
     "name": "stdout",
     "output_type": "stream",
     "text": [
      "0.9024390243902439\n"
     ]
    }
   ],
   "source": [
    "# accuracy\n",
    "check = [i for i, j in zip(tagged_seq, test_run_base) if i == j]\n",
    "print(len(check)/len(tagged_seq))"
   ]
  },
  {
   "cell_type": "markdown",
   "metadata": {},
   "source": [
    "#### Evaluating tagging accuracy of Lexicon and Rule based taggers"
   ]
  },
  {
   "cell_type": "code",
   "execution_count": 25,
   "metadata": {},
   "outputs": [
    {
     "data": {
      "text/plain": [
       "0.9494811043665558"
      ]
     },
     "execution_count": 25,
     "metadata": {},
     "output_type": "execute_result"
    }
   ],
   "source": [
    "lexicon_tagger.evaluate(test_set)"
   ]
  },
  {
   "cell_type": "code",
   "execution_count": 26,
   "metadata": {},
   "outputs": [
    {
     "data": {
      "text/plain": [
       "0.3436459761112199"
      ]
     },
     "execution_count": 26,
     "metadata": {},
     "output_type": "execute_result"
    }
   ],
   "source": [
    "rule_based_tagger.evaluate(test_set)"
   ]
  },
  {
   "cell_type": "markdown",
   "metadata": {},
   "source": [
    "### 5. List down cases which were incorrectly tagged by original POS tagger and got corrected by your modifications"
   ]
  },
  {
   "cell_type": "code",
   "execution_count": 27,
   "metadata": {},
   "outputs": [
    {
     "data": {
      "text/plain": [
       "[[(('Android', 'X'), ('Android', 'NOUN'))],\n",
       " [(('Google', 'X'), ('Google', 'NOUN'))],\n",
       " [(('Android', 'X'), ('Android', 'NOUN'))],\n",
       " [(('OS', 'X'), ('OS', 'NOUN'))],\n",
       " [(('worldwide', 'X'), ('worldwide', 'NOUN'))],\n",
       " [(('smartphones', 'X'), ('smartphones', 'VERB'))],\n",
       " [(('2011', 'X'), ('2011', 'NUM'))],\n",
       " [(('2013', 'X'), ('2013', 'NUM'))],\n",
       " [(('Google', 'X'), ('Google', 'NOUN'))],\n",
       " [(('Twitter', 'X'), ('Twitter', 'NOUN'))],\n",
       " [(('2015', 'X'), ('2015', 'NUM'))],\n",
       " [(('Google', 'X'), ('Google', 'NOUN'))],\n",
       " [(('Twitter', 'X'), ('Twitter', 'NOUN'))],\n",
       " [(('firehose', 'X'), ('firehose', 'NOUN'))],\n",
       " [(('Twitter', 'X'), ('Twitter', 'NOUN'))],\n",
       " [(('online', 'X'), ('online', 'NOUN'))],\n",
       " [(('interact', 'X'), ('interact', 'NOUN'))],\n",
       " [(('messages', 'X'), ('messages', 'VERB'))],\n",
       " [(('tweets', 'X'), ('tweets', 'NOUN'))],\n",
       " [(('domineering', 'X'), ('domineering', 'VERB'))],\n",
       " [(('personality', 'X'), ('personality', 'NOUN'))],\n",
       " [(('2018', 'X'), ('2018', 'NUM'))],\n",
       " [(('FIFA', 'X'), ('FIFA', 'NOUN'))],\n",
       " [(('Cup', 'X'), ('Cup', 'NOUN'))],\n",
       " [(('21st', 'X'), ('21st', 'NUM'))],\n",
       " [(('FIFA', 'X'), ('FIFA', 'NOUN'))],\n",
       " [(('Cup', 'X'), ('Cup', 'NOUN'))],\n",
       " [(('international', 'NOUN'), ('international', 'ADJ'))],\n",
       " [(('tournament', 'X'), ('tournament', 'NOUN'))],\n",
       " [(('contested', 'X'), ('contested', 'VERB'))],\n",
       " [(('Cup', 'X'), ('Cup', 'NOUN'))],\n",
       " [(('trips', 'X'), ('trips', 'NOUN'))],\n",
       " [(('arriving', 'X'), ('arriving', 'VERB'))],\n",
       " [(('NASA', 'X'), ('NASA', 'NOUN'))],\n",
       " [(('invited', 'X'), ('invited', 'VERB'))],\n",
       " [(('ICESAT-2', 'X'), ('ICESAT-2', 'NOUN'))],\n",
       " [(('Satellite', 'X'), ('Satellite', 'NOUN'))]]"
      ]
     },
     "execution_count": 27,
     "metadata": {},
     "output_type": "execute_result"
    }
   ],
   "source": [
    "correction(viterbi_tagged_wrds, wrds_comb_tagger)"
   ]
  }
 ],
 "metadata": {
  "kernelspec": {
   "display_name": "Python 3",
   "language": "python",
   "name": "python3"
  },
  "language_info": {
   "codemirror_mode": {
    "name": "ipython",
    "version": 3
   },
   "file_extension": ".py",
   "mimetype": "text/x-python",
   "name": "python",
   "nbconvert_exporter": "python",
   "pygments_lexer": "ipython3",
   "version": "3.7.1"
  }
 },
 "nbformat": 4,
 "nbformat_minor": 2
}
