{
 "cells": [
  {
   "cell_type": "code",
   "execution_count": null,
   "metadata": {},
   "outputs": [],
   "source": [
    "plt.figure(figsize=(20, 12))\n",
    "plt.subplot(331)\n",
    "sns.boxplot(x = 'fuelsystem', y = 'price', data = carprices_df)\n",
    "plt.subplot(332)\n",
    "sns.boxplot(x = 'fueltype', y = 'price', data = carprices_df)\n",
    "plt.subplot(333)\n",
    "sns.boxplot(x = 'aspiration', y = 'price', data = carprices_df)\n",
    "plt.subplot(334)\n",
    "sns.boxplot(x = 'doornumber', y = 'price', data = carprices_df)\n",
    "plt.subplot(335)\n",
    "sns.boxplot(x = 'carbody', y = 'price', data = carprices_df)\n",
    "plt.subplot(336)\n",
    "sns.boxplot(x = 'drivewheel', y = 'price', data = carprices_df)\n",
    "plt.subplot(337)\n",
    "sns.boxplot(x = 'enginelocation', y = 'price', data = carprices_df)\n",
    "plt.subplot(338)\n",
    "sns.boxplot(x = 'enginetype', y = 'price', data = carprices_df)\n",
    "plt.subplot(339)\n",
    "sns.boxplot(x = 'cylindernumber', y = 'price', data = carprices_df)\n",
    "plt.show()"
   ]
  },
  {
   "cell_type": "code",
   "execution_count": 1,
   "metadata": {},
   "outputs": [
    {
     "ename": "NameError",
     "evalue": "name 'plt' is not defined",
     "output_type": "error",
     "traceback": [
      "\u001b[1;31m---------------------------------------------------------------------------\u001b[0m",
      "\u001b[1;31mNameError\u001b[0m                                 Traceback (most recent call last)",
      "\u001b[1;32m<ipython-input-1-604f66a6351c>\u001b[0m in \u001b[0;36m<module>\u001b[1;34m()\u001b[0m\n\u001b[0;32m      1\u001b[0m \u001b[1;31m#col_list = ['fuelsystem', 'fueltype', 'aspiration', 'doornumber', 'carbody', 'drivewheel', 'enginelocation', 'enginetype', 'cylindernumber']\u001b[0m\u001b[1;33m\u001b[0m\u001b[1;33m\u001b[0m\u001b[0m\n\u001b[0;32m      2\u001b[0m \u001b[1;33m\u001b[0m\u001b[0m\n\u001b[1;32m----> 3\u001b[1;33m \u001b[0mplt\u001b[0m\u001b[1;33m.\u001b[0m\u001b[0mfigure\u001b[0m\u001b[1;33m(\u001b[0m\u001b[0mfigsize\u001b[0m\u001b[1;33m=\u001b[0m\u001b[1;33m(\u001b[0m\u001b[1;36m20\u001b[0m\u001b[1;33m,\u001b[0m \u001b[1;36m12\u001b[0m\u001b[1;33m)\u001b[0m\u001b[1;33m)\u001b[0m\u001b[1;33m\u001b[0m\u001b[0m\n\u001b[0m\u001b[0;32m      4\u001b[0m \u001b[1;33m\u001b[0m\u001b[0m\n\u001b[0;32m      5\u001b[0m \u001b[0mplt\u001b[0m\u001b[1;33m.\u001b[0m\u001b[0msubplot\u001b[0m\u001b[1;33m(\u001b[0m\u001b[1;36m331\u001b[0m\u001b[1;33m)\u001b[0m\u001b[1;33m\u001b[0m\u001b[0m\n",
      "\u001b[1;31mNameError\u001b[0m: name 'plt' is not defined"
     ]
    }
   ],
   "source": [
    "#col_list = ['fuelsystem', 'fueltype', 'aspiration', 'doornumber', 'carbody', 'drivewheel', 'enginelocation', 'enginetype', 'cylindernumber']\n",
    "\n",
    "plt.figure(figsize=(20, 12))\n",
    "\n",
    "plt.subplot(331)\n",
    "df = carprices_df['fuelsystem'].value_counts()\n",
    "sns.barplot(df.index, df.values)\n",
    "\n",
    "plt.subplot(332)\n",
    "df = carprices_df['fueltype'].value_counts()\n",
    "sns.barplot(df.index, df.values)\n",
    "\n",
    "plt.subplot(333)\n",
    "df = carprices_df['aspiration'].value_counts()\n",
    "sns.barplot(df.index, df.values)\n",
    "\n",
    "plt.subplot(334)\n",
    "df = carprices_df['doornumber'].value_counts()\n",
    "sns.barplot(df.index, df.values)\n",
    "\n",
    "plt.subplot(335)\n",
    "df = carprices_df['carbody'].value_counts()\n",
    "sns.barplot(df.index, df.values)\n",
    "\n",
    "plt.subplot(336)\n",
    "df = carprices_df['drivewheel'].value_counts()\n",
    "sns.barplot(df.index, df.values)\n",
    "\n",
    "plt.subplot(337)\n",
    "df = carprices_df['enginelocation'].value_counts()\n",
    "sns.barplot(df.index, df.values)\n",
    "\n",
    "plt.subplot(338)\n",
    "df = carprices_df['enginetype'].value_counts()\n",
    "sns.barplot(df.index, df.values)\n",
    "\n",
    "plt.subplot(339)\n",
    "df = carprices_df['cylindernumber'].value_counts()\n",
    "sns.barplot(df.index, df.values)\n",
    "\n",
    "plt.show()"
   ]
  },
  {
   "cell_type": "code",
   "execution_count": null,
   "metadata": {},
   "outputs": [],
   "source": [
    "plt.figure(figsize=(20, 12))\n",
    "plt.subplot(111)\n",
    "sns.boxplot(x = 'drivewheel', y = 'price', hue = 'enginelocation', data = carprices_df)\n",
    "plt.show()"
   ]
  },
  {
   "cell_type": "code",
   "execution_count": null,
   "metadata": {},
   "outputs": [],
   "source": [
    "plt.figure(figsize=(20, 12))\n",
    "plt.subplot(111)\n",
    "sns.boxplot(x = 'carbody', y = 'price', hue = 'enginelocation', data = carprices_df)\n",
    "plt.show()"
   ]
  },
  {
   "cell_type": "markdown",
   "metadata": {},
   "source": [
    "<font color=\"red\">To check the **price sensitivity assumption**, I'm going to place the Box Plots (which shows the high, low, and median price) along with a Bar plot, which shows the number of cars that fall in that category.\n",
    "\n",
    "Through this we'll come to know whether Americans are going to for a low priced feature or a high priced feature </font>"
   ]
  },
  {
   "cell_type": "code",
   "execution_count": null,
   "metadata": {},
   "outputs": [],
   "source": []
  },
  {
   "cell_type": "code",
   "execution_count": null,
   "metadata": {},
   "outputs": [],
   "source": []
  },
  {
   "cell_type": "code",
   "execution_count": null,
   "metadata": {},
   "outputs": [],
   "source": []
  },
  {
   "cell_type": "code",
   "execution_count": null,
   "metadata": {},
   "outputs": [],
   "source": []
  }
 ],
 "metadata": {
  "kernelspec": {
   "display_name": "Python 3",
   "language": "python",
   "name": "python3"
  },
  "language_info": {
   "codemirror_mode": {
    "name": "ipython",
    "version": 3
   },
   "file_extension": ".py",
   "mimetype": "text/x-python",
   "name": "python",
   "nbconvert_exporter": "python",
   "pygments_lexer": "ipython3",
   "version": "3.7.0"
  }
 },
 "nbformat": 4,
 "nbformat_minor": 2
}
