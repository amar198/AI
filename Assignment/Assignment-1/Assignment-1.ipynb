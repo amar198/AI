{
 "cells": [
  {
   "cell_type": "markdown",
   "metadata": {},
   "source": [
    "# 1. Importing Data from the CSV files"
   ]
  },
  {
   "cell_type": "markdown",
   "metadata": {},
   "source": [
    "#### Description of the parameters used in read_csv command\n",
    "1. encoding = 'ansi'     *<font color=blue>//since the companies, and rounds2 data contains some special characters, 'ansi' encoding type is used to read them properly.</font>*\n",
    "2. sep = '\\t'     *<font color=blue>//While importing Companies data an error is thrown stating that more than 1 field was found. Hence need to explicitly using the sep='\\t' parameter so that compiler uses it as a separator.</font>*"
   ]
  },
  {
   "cell_type": "code",
   "execution_count": 7,
   "metadata": {},
   "outputs": [],
   "source": [
    "import numpy as np\n",
    "import modin.pandas as pd"
   ]
  },
  {
   "cell_type": "code",
   "execution_count": 8,
   "metadata": {},
   "outputs": [
    {
     "name": "stderr",
     "output_type": "stream",
     "text": [
      "2019-05-10 10:10:40,466\tERROR worker.py:1672 -- Traceback (most recent call last):\n",
      "  File \"/anaconda3/lib/python3.7/site-packages/ray/worker.py\", line 867, in _process_task\n",
      "    function_name, args)\n",
      "  File \"/anaconda3/lib/python3.7/site-packages/ray/worker.py\", line 778, in _get_arguments_for_execution\n",
      "    argument = self.get_object([arg])[0]\n",
      "  File \"/anaconda3/lib/python3.7/site-packages/ray/worker.py\", line 508, in get_object\n",
      "    final_results = self.retrieve_and_deserialize(plain_object_ids, 0)\n",
      "  File \"/anaconda3/lib/python3.7/site-packages/ray/worker.py\", line 402, in retrieve_and_deserialize\n",
      "    self.task_driver_id)\n",
      "  File \"/anaconda3/lib/python3.7/site-packages/ray/worker.py\", line 238, in get_serialization_context\n",
      "    _initialize_serialization(driver_id)\n",
      "  File \"/anaconda3/lib/python3.7/site-packages/ray/worker.py\", line 1148, in _initialize_serialization\n",
      "    serialization_context = pyarrow.default_serialization_context()\n",
      "  File \"/anaconda3/lib/python3.7/site-packages/ray/pyarrow_files/pyarrow/serialization.py\", line 326, in default_serialization_context\n",
      "    register_default_serialization_handlers(context)\n",
      "  File \"/anaconda3/lib/python3.7/site-packages/ray/pyarrow_files/pyarrow/serialization.py\", line 321, in register_default_serialization_handlers\n",
      "    _register_custom_pandas_handlers(serialization_context)\n",
      "  File \"/anaconda3/lib/python3.7/site-packages/ray/pyarrow_files/pyarrow/serialization.py\", line 129, in _register_custom_pandas_handlers\n",
      "    import pandas as pd\n",
      "  File \"/anaconda3/lib/python3.7/site-packages/pandas/__init__.py\", line 23, in <module>\n",
      "    from pandas.compat.numpy import *\n",
      "  File \"/anaconda3/lib/python3.7/site-packages/pandas/compat/__init__.py\", line 446, in <module>\n",
      "    import typing\n",
      "  File \"/anaconda3/lib/python3.7/site-packages/typing.py\", line 1356, in <module>\n",
      "    class Callable(extra=collections_abc.Callable, metaclass=CallableMeta):\n",
      "  File \"/anaconda3/lib/python3.7/site-packages/typing.py\", line 1004, in __new__\n",
      "    self._abc_registry = extra._abc_registry\n",
      "AttributeError: type object 'Callable' has no attribute '_abc_registry'\n",
      "\n",
      "During handling of the above exception, another exception occurred:\n",
      "\n",
      "Traceback (most recent call last):\n",
      "  File \"/anaconda3/lib/python3.7/site-packages/ray/workers/default_worker.py\", line 98, in <module>\n",
      "    ray.worker.global_worker.main_loop()\n",
      "  File \"/anaconda3/lib/python3.7/site-packages/ray/worker.py\", line 1039, in main_loop\n",
      "    self._wait_for_and_process_task(task)\n",
      "  File \"/anaconda3/lib/python3.7/site-packages/ray/worker.py\", line 990, in _wait_for_and_process_task\n",
      "    self._process_task(task, execution_info)\n",
      "  File \"/anaconda3/lib/python3.7/site-packages/ray/worker.py\", line 871, in _process_task\n",
      "    ray.utils.format_error_message(traceback.format_exc()))\n",
      "  File \"/anaconda3/lib/python3.7/site-packages/ray/worker.py\", line 922, in _handle_process_task_failure\n",
      "    self._store_outputs_in_object_store(return_object_ids, failure_objects)\n",
      "  File \"/anaconda3/lib/python3.7/site-packages/ray/worker.py\", line 820, in _store_outputs_in_object_store\n",
      "    self.put_object(object_ids[i], outputs[i])\n",
      "  File \"/anaconda3/lib/python3.7/site-packages/ray/worker.py\", line 375, in put_object\n",
      "    self.store_and_register(object_id, value)\n",
      "  File \"/anaconda3/lib/python3.7/site-packages/ray/worker.py\", line 309, in store_and_register\n",
      "    self.task_driver_id))\n",
      "  File \"/anaconda3/lib/python3.7/site-packages/ray/worker.py\", line 238, in get_serialization_context\n",
      "    _initialize_serialization(driver_id)\n",
      "  File \"/anaconda3/lib/python3.7/site-packages/ray/worker.py\", line 1148, in _initialize_serialization\n",
      "    serialization_context = pyarrow.default_serialization_context()\n",
      "  File \"/anaconda3/lib/python3.7/site-packages/ray/pyarrow_files/pyarrow/serialization.py\", line 326, in default_serialization_context\n",
      "    register_default_serialization_handlers(context)\n",
      "  File \"/anaconda3/lib/python3.7/site-packages/ray/pyarrow_files/pyarrow/serialization.py\", line 321, in register_default_serialization_handlers\n",
      "    _register_custom_pandas_handlers(serialization_context)\n",
      "  File \"/anaconda3/lib/python3.7/site-packages/ray/pyarrow_files/pyarrow/serialization.py\", line 129, in _register_custom_pandas_handlers\n",
      "    import pandas as pd\n",
      "  File \"/anaconda3/lib/python3.7/site-packages/pandas/__init__.py\", line 23, in <module>\n",
      "    from pandas.compat.numpy import *\n",
      "  File \"/anaconda3/lib/python3.7/site-packages/pandas/compat/__init__.py\", line 446, in <module>\n",
      "    import typing\n",
      "  File \"/anaconda3/lib/python3.7/site-packages/typing.py\", line 1356, in <module>\n",
      "    class Callable(extra=collections_abc.Callable, metaclass=CallableMeta):\n",
      "  File \"/anaconda3/lib/python3.7/site-packages/typing.py\", line 1004, in __new__\n",
      "    self._abc_registry = extra._abc_registry\n",
      "AttributeError: type object 'Callable' has no attribute '_abc_registry'\n",
      "\n",
      "  This error is unexpected and should not have happened. Somehow a worker\n",
      "  crashed in an unanticipated way causing the main_loop to throw an exception,\n",
      "  which is being caught in \"python/ray/workers/default_worker.py\".\n",
      "  \n",
      "2019-05-10 10:10:40,476\tERROR worker.py:1672 -- Traceback (most recent call last):\n",
      "  File \"/anaconda3/lib/python3.7/site-packages/ray/worker.py\", line 867, in _process_task\n",
      "    function_name, args)\n",
      "  File \"/anaconda3/lib/python3.7/site-packages/ray/worker.py\", line 778, in _get_arguments_for_execution\n",
      "    argument = self.get_object([arg])[0]\n",
      "  File \"/anaconda3/lib/python3.7/site-packages/ray/worker.py\", line 508, in get_object\n",
      "    final_results = self.retrieve_and_deserialize(plain_object_ids, 0)\n",
      "  File \"/anaconda3/lib/python3.7/site-packages/ray/worker.py\", line 402, in retrieve_and_deserialize\n",
      "    self.task_driver_id)\n",
      "  File \"/anaconda3/lib/python3.7/site-packages/ray/worker.py\", line 238, in get_serialization_context\n",
      "    _initialize_serialization(driver_id)\n",
      "  File \"/anaconda3/lib/python3.7/site-packages/ray/worker.py\", line 1148, in _initialize_serialization\n",
      "    serialization_context = pyarrow.default_serialization_context()\n",
      "  File \"/anaconda3/lib/python3.7/site-packages/ray/pyarrow_files/pyarrow/serialization.py\", line 326, in default_serialization_context\n",
      "    register_default_serialization_handlers(context)\n",
      "  File \"/anaconda3/lib/python3.7/site-packages/ray/pyarrow_files/pyarrow/serialization.py\", line 321, in register_default_serialization_handlers\n",
      "    _register_custom_pandas_handlers(serialization_context)\n",
      "  File \"/anaconda3/lib/python3.7/site-packages/ray/pyarrow_files/pyarrow/serialization.py\", line 129, in _register_custom_pandas_handlers\n",
      "    import pandas as pd\n",
      "  File \"/anaconda3/lib/python3.7/site-packages/pandas/__init__.py\", line 23, in <module>\n",
      "    from pandas.compat.numpy import *\n",
      "  File \"/anaconda3/lib/python3.7/site-packages/pandas/compat/__init__.py\", line 446, in <module>\n",
      "    import typing\n",
      "  File \"/anaconda3/lib/python3.7/site-packages/typing.py\", line 1356, in <module>\n",
      "    class Callable(extra=collections_abc.Callable, metaclass=CallableMeta):\n",
      "  File \"/anaconda3/lib/python3.7/site-packages/typing.py\", line 1004, in __new__\n",
      "    self._abc_registry = extra._abc_registry\n",
      "AttributeError: type object 'Callable' has no attribute '_abc_registry'\n",
      "\n",
      "During handling of the above exception, another exception occurred:\n",
      "\n",
      "Traceback (most recent call last):\n",
      "  File \"/anaconda3/lib/python3.7/site-packages/ray/workers/default_worker.py\", line 98, in <module>\n",
      "    ray.worker.global_worker.main_loop()\n",
      "  File \"/anaconda3/lib/python3.7/site-packages/ray/worker.py\", line 1039, in main_loop\n",
      "    self._wait_for_and_process_task(task)\n",
      "  File \"/anaconda3/lib/python3.7/site-packages/ray/worker.py\", line 990, in _wait_for_and_process_task\n",
      "    self._process_task(task, execution_info)\n",
      "  File \"/anaconda3/lib/python3.7/site-packages/ray/worker.py\", line 871, in _process_task\n",
      "    ray.utils.format_error_message(traceback.format_exc()))\n",
      "  File \"/anaconda3/lib/python3.7/site-packages/ray/worker.py\", line 922, in _handle_process_task_failure\n",
      "    self._store_outputs_in_object_store(return_object_ids, failure_objects)\n",
      "  File \"/anaconda3/lib/python3.7/site-packages/ray/worker.py\", line 820, in _store_outputs_in_object_store\n",
      "    self.put_object(object_ids[i], outputs[i])\n",
      "  File \"/anaconda3/lib/python3.7/site-packages/ray/worker.py\", line 375, in put_object\n",
      "    self.store_and_register(object_id, value)\n",
      "  File \"/anaconda3/lib/python3.7/site-packages/ray/worker.py\", line 309, in store_and_register\n",
      "    self.task_driver_id))\n",
      "  File \"/anaconda3/lib/python3.7/site-packages/ray/worker.py\", line 238, in get_serialization_context\n",
      "    _initialize_serialization(driver_id)\n",
      "  File \"/anaconda3/lib/python3.7/site-packages/ray/worker.py\", line 1148, in _initialize_serialization\n",
      "    serialization_context = pyarrow.default_serialization_context()\n",
      "  File \"/anaconda3/lib/python3.7/site-packages/ray/pyarrow_files/pyarrow/serialization.py\", line 326, in default_serialization_context\n",
      "    register_default_serialization_handlers(context)\n",
      "  File \"/anaconda3/lib/python3.7/site-packages/ray/pyarrow_files/pyarrow/serialization.py\", line 321, in register_default_serialization_handlers\n",
      "    _register_custom_pandas_handlers(serialization_context)\n",
      "  File \"/anaconda3/lib/python3.7/site-packages/ray/pyarrow_files/pyarrow/serialization.py\", line 129, in _register_custom_pandas_handlers\n",
      "    import pandas as pd\n",
      "  File \"/anaconda3/lib/python3.7/site-packages/pandas/__init__.py\", line 23, in <module>\n",
      "    from pandas.compat.numpy import *\n",
      "  File \"/anaconda3/lib/python3.7/site-packages/pandas/compat/__init__.py\", line 446, in <module>\n",
      "    import typing\n",
      "  File \"/anaconda3/lib/python3.7/site-packages/typing.py\", line 1356, in <module>\n",
      "    class Callable(extra=collections_abc.Callable, metaclass=CallableMeta):\n",
      "  File \"/anaconda3/lib/python3.7/site-packages/typing.py\", line 1004, in __new__\n",
      "    self._abc_registry = extra._abc_registry\n",
      "AttributeError: type object 'Callable' has no attribute '_abc_registry'\n",
      "\n",
      "  This error is unexpected and should not have happened. Somehow a worker\n",
      "  crashed in an unanticipated way causing the main_loop to throw an exception,\n",
      "  which is being caught in \"python/ray/workers/default_worker.py\".\n",
      "  \n"
     ]
    },
    {
     "name": "stderr",
     "output_type": "stream",
     "text": [
      "2019-05-10 10:10:40,481\tERROR worker.py:1672 -- Traceback (most recent call last):\n",
      "  File \"/anaconda3/lib/python3.7/site-packages/ray/worker.py\", line 867, in _process_task\n",
      "    function_name, args)\n",
      "  File \"/anaconda3/lib/python3.7/site-packages/ray/worker.py\", line 778, in _get_arguments_for_execution\n",
      "    argument = self.get_object([arg])[0]\n",
      "  File \"/anaconda3/lib/python3.7/site-packages/ray/worker.py\", line 508, in get_object\n",
      "    final_results = self.retrieve_and_deserialize(plain_object_ids, 0)\n",
      "  File \"/anaconda3/lib/python3.7/site-packages/ray/worker.py\", line 402, in retrieve_and_deserialize\n",
      "    self.task_driver_id)\n",
      "  File \"/anaconda3/lib/python3.7/site-packages/ray/worker.py\", line 238, in get_serialization_context\n",
      "    _initialize_serialization(driver_id)\n",
      "  File \"/anaconda3/lib/python3.7/site-packages/ray/worker.py\", line 1148, in _initialize_serialization\n",
      "    serialization_context = pyarrow.default_serialization_context()\n",
      "  File \"/anaconda3/lib/python3.7/site-packages/ray/pyarrow_files/pyarrow/serialization.py\", line 326, in default_serialization_context\n",
      "    register_default_serialization_handlers(context)\n",
      "  File \"/anaconda3/lib/python3.7/site-packages/ray/pyarrow_files/pyarrow/serialization.py\", line 321, in register_default_serialization_handlers\n",
      "    _register_custom_pandas_handlers(serialization_context)\n",
      "  File \"/anaconda3/lib/python3.7/site-packages/ray/pyarrow_files/pyarrow/serialization.py\", line 129, in _register_custom_pandas_handlers\n",
      "    import pandas as pd\n",
      "  File \"/anaconda3/lib/python3.7/site-packages/pandas/__init__.py\", line 23, in <module>\n",
      "    from pandas.compat.numpy import *\n",
      "  File \"/anaconda3/lib/python3.7/site-packages/pandas/compat/__init__.py\", line 446, in <module>\n",
      "    import typing\n",
      "  File \"/anaconda3/lib/python3.7/site-packages/typing.py\", line 1356, in <module>\n",
      "    class Callable(extra=collections_abc.Callable, metaclass=CallableMeta):\n",
      "  File \"/anaconda3/lib/python3.7/site-packages/typing.py\", line 1004, in __new__\n",
      "    self._abc_registry = extra._abc_registry\n",
      "AttributeError: type object 'Callable' has no attribute '_abc_registry'\n",
      "\n",
      "During handling of the above exception, another exception occurred:\n",
      "\n",
      "Traceback (most recent call last):\n",
      "  File \"/anaconda3/lib/python3.7/site-packages/ray/workers/default_worker.py\", line 98, in <module>\n",
      "    ray.worker.global_worker.main_loop()\n",
      "  File \"/anaconda3/lib/python3.7/site-packages/ray/worker.py\", line 1039, in main_loop\n",
      "    self._wait_for_and_process_task(task)\n",
      "  File \"/anaconda3/lib/python3.7/site-packages/ray/worker.py\", line 990, in _wait_for_and_process_task\n",
      "    self._process_task(task, execution_info)\n",
      "  File \"/anaconda3/lib/python3.7/site-packages/ray/worker.py\", line 871, in _process_task\n",
      "    ray.utils.format_error_message(traceback.format_exc()))\n",
      "  File \"/anaconda3/lib/python3.7/site-packages/ray/worker.py\", line 922, in _handle_process_task_failure\n",
      "    self._store_outputs_in_object_store(return_object_ids, failure_objects)\n",
      "  File \"/anaconda3/lib/python3.7/site-packages/ray/worker.py\", line 820, in _store_outputs_in_object_store\n",
      "    self.put_object(object_ids[i], outputs[i])\n",
      "  File \"/anaconda3/lib/python3.7/site-packages/ray/worker.py\", line 375, in put_object\n",
      "    self.store_and_register(object_id, value)\n",
      "  File \"/anaconda3/lib/python3.7/site-packages/ray/worker.py\", line 309, in store_and_register\n",
      "    self.task_driver_id))\n",
      "  File \"/anaconda3/lib/python3.7/site-packages/ray/worker.py\", line 238, in get_serialization_context\n",
      "    _initialize_serialization(driver_id)\n",
      "  File \"/anaconda3/lib/python3.7/site-packages/ray/worker.py\", line 1148, in _initialize_serialization\n",
      "    serialization_context = pyarrow.default_serialization_context()\n",
      "  File \"/anaconda3/lib/python3.7/site-packages/ray/pyarrow_files/pyarrow/serialization.py\", line 326, in default_serialization_context\n",
      "    register_default_serialization_handlers(context)\n",
      "  File \"/anaconda3/lib/python3.7/site-packages/ray/pyarrow_files/pyarrow/serialization.py\", line 321, in register_default_serialization_handlers\n",
      "    _register_custom_pandas_handlers(serialization_context)\n",
      "  File \"/anaconda3/lib/python3.7/site-packages/ray/pyarrow_files/pyarrow/serialization.py\", line 129, in _register_custom_pandas_handlers\n",
      "    import pandas as pd\n",
      "  File \"/anaconda3/lib/python3.7/site-packages/pandas/__init__.py\", line 23, in <module>\n",
      "    from pandas.compat.numpy import *\n",
      "  File \"/anaconda3/lib/python3.7/site-packages/pandas/compat/__init__.py\", line 446, in <module>\n",
      "    import typing\n",
      "  File \"/anaconda3/lib/python3.7/site-packages/typing.py\", line 1356, in <module>\n",
      "    class Callable(extra=collections_abc.Callable, metaclass=CallableMeta):\n",
      "  File \"/anaconda3/lib/python3.7/site-packages/typing.py\", line 1004, in __new__\n",
      "    self._abc_registry = extra._abc_registry\n",
      "AttributeError: type object 'Callable' has no attribute '_abc_registry'\n",
      "\n",
      "  This error is unexpected and should not have happened. Somehow a worker\n",
      "  crashed in an unanticipated way causing the main_loop to throw an exception,\n",
      "  which is being caught in \"python/ray/workers/default_worker.py\".\n",
      "  \n",
      "2019-05-10 10:10:40,490\tERROR worker.py:1672 -- Traceback (most recent call last):\n",
      "  File \"/anaconda3/lib/python3.7/site-packages/ray/worker.py\", line 867, in _process_task\n",
      "    function_name, args)\n",
      "  File \"/anaconda3/lib/python3.7/site-packages/ray/worker.py\", line 778, in _get_arguments_for_execution\n",
      "    argument = self.get_object([arg])[0]\n",
      "  File \"/anaconda3/lib/python3.7/site-packages/ray/worker.py\", line 508, in get_object\n",
      "    final_results = self.retrieve_and_deserialize(plain_object_ids, 0)\n",
      "  File \"/anaconda3/lib/python3.7/site-packages/ray/worker.py\", line 402, in retrieve_and_deserialize\n",
      "    self.task_driver_id)\n",
      "  File \"/anaconda3/lib/python3.7/site-packages/ray/worker.py\", line 238, in get_serialization_context\n",
      "    _initialize_serialization(driver_id)\n",
      "  File \"/anaconda3/lib/python3.7/site-packages/ray/worker.py\", line 1148, in _initialize_serialization\n",
      "    serialization_context = pyarrow.default_serialization_context()\n",
      "  File \"/anaconda3/lib/python3.7/site-packages/ray/pyarrow_files/pyarrow/serialization.py\", line 326, in default_serialization_context\n",
      "    register_default_serialization_handlers(context)\n",
      "  File \"/anaconda3/lib/python3.7/site-packages/ray/pyarrow_files/pyarrow/serialization.py\", line 321, in register_default_serialization_handlers\n",
      "    _register_custom_pandas_handlers(serialization_context)\n",
      "  File \"/anaconda3/lib/python3.7/site-packages/ray/pyarrow_files/pyarrow/serialization.py\", line 129, in _register_custom_pandas_handlers\n",
      "    import pandas as pd\n",
      "  File \"/anaconda3/lib/python3.7/site-packages/pandas/__init__.py\", line 23, in <module>\n",
      "    from pandas.compat.numpy import *\n",
      "  File \"/anaconda3/lib/python3.7/site-packages/pandas/compat/__init__.py\", line 446, in <module>\n",
      "    import typing\n",
      "  File \"/anaconda3/lib/python3.7/site-packages/typing.py\", line 1356, in <module>\n",
      "    class Callable(extra=collections_abc.Callable, metaclass=CallableMeta):\n",
      "  File \"/anaconda3/lib/python3.7/site-packages/typing.py\", line 1004, in __new__\n",
      "    self._abc_registry = extra._abc_registry\n",
      "AttributeError: type object 'Callable' has no attribute '_abc_registry'\n",
      "\n",
      "During handling of the above exception, another exception occurred:\n",
      "\n",
      "Traceback (most recent call last):\n",
      "  File \"/anaconda3/lib/python3.7/site-packages/ray/workers/default_worker.py\", line 98, in <module>\n",
      "    ray.worker.global_worker.main_loop()\n",
      "  File \"/anaconda3/lib/python3.7/site-packages/ray/worker.py\", line 1039, in main_loop\n",
      "    self._wait_for_and_process_task(task)\n",
      "  File \"/anaconda3/lib/python3.7/site-packages/ray/worker.py\", line 990, in _wait_for_and_process_task\n",
      "    self._process_task(task, execution_info)\n",
      "  File \"/anaconda3/lib/python3.7/site-packages/ray/worker.py\", line 871, in _process_task\n",
      "    ray.utils.format_error_message(traceback.format_exc()))\n",
      "  File \"/anaconda3/lib/python3.7/site-packages/ray/worker.py\", line 922, in _handle_process_task_failure\n",
      "    self._store_outputs_in_object_store(return_object_ids, failure_objects)\n",
      "  File \"/anaconda3/lib/python3.7/site-packages/ray/worker.py\", line 820, in _store_outputs_in_object_store\n",
      "    self.put_object(object_ids[i], outputs[i])\n",
      "  File \"/anaconda3/lib/python3.7/site-packages/ray/worker.py\", line 375, in put_object\n",
      "    self.store_and_register(object_id, value)\n",
      "  File \"/anaconda3/lib/python3.7/site-packages/ray/worker.py\", line 309, in store_and_register\n",
      "    self.task_driver_id))\n",
      "  File \"/anaconda3/lib/python3.7/site-packages/ray/worker.py\", line 238, in get_serialization_context\n",
      "    _initialize_serialization(driver_id)\n",
      "  File \"/anaconda3/lib/python3.7/site-packages/ray/worker.py\", line 1148, in _initialize_serialization\n",
      "    serialization_context = pyarrow.default_serialization_context()\n",
      "  File \"/anaconda3/lib/python3.7/site-packages/ray/pyarrow_files/pyarrow/serialization.py\", line 326, in default_serialization_context\n",
      "    register_default_serialization_handlers(context)\n",
      "  File \"/anaconda3/lib/python3.7/site-packages/ray/pyarrow_files/pyarrow/serialization.py\", line 321, in register_default_serialization_handlers\n",
      "    _register_custom_pandas_handlers(serialization_context)\n",
      "  File \"/anaconda3/lib/python3.7/site-packages/ray/pyarrow_files/pyarrow/serialization.py\", line 129, in _register_custom_pandas_handlers\n",
      "    import pandas as pd\n",
      "  File \"/anaconda3/lib/python3.7/site-packages/pandas/__init__.py\", line 23, in <module>\n",
      "    from pandas.compat.numpy import *\n",
      "  File \"/anaconda3/lib/python3.7/site-packages/pandas/compat/__init__.py\", line 446, in <module>\n",
      "    import typing\n",
      "  File \"/anaconda3/lib/python3.7/site-packages/typing.py\", line 1356, in <module>\n",
      "    class Callable(extra=collections_abc.Callable, metaclass=CallableMeta):\n",
      "  File \"/anaconda3/lib/python3.7/site-packages/typing.py\", line 1004, in __new__\n",
      "    self._abc_registry = extra._abc_registry\n",
      "AttributeError: type object 'Callable' has no attribute '_abc_registry'\n",
      "\n",
      "  This error is unexpected and should not have happened. Somehow a worker\n",
      "  crashed in an unanticipated way causing the main_loop to throw an exception,\n",
      "  which is being caught in \"python/ray/workers/default_worker.py\".\n",
      "  \n"
     ]
    },
    {
     "name": "stderr",
     "output_type": "stream",
     "text": [
      "2019-05-10 10:10:40,498\tERROR worker.py:1672 -- Traceback (most recent call last):\n",
      "  File \"/anaconda3/lib/python3.7/site-packages/ray/worker.py\", line 867, in _process_task\n",
      "    function_name, args)\n",
      "  File \"/anaconda3/lib/python3.7/site-packages/ray/worker.py\", line 778, in _get_arguments_for_execution\n",
      "    argument = self.get_object([arg])[0]\n",
      "  File \"/anaconda3/lib/python3.7/site-packages/ray/worker.py\", line 508, in get_object\n",
      "    final_results = self.retrieve_and_deserialize(plain_object_ids, 0)\n",
      "  File \"/anaconda3/lib/python3.7/site-packages/ray/worker.py\", line 402, in retrieve_and_deserialize\n",
      "    self.task_driver_id)\n",
      "  File \"/anaconda3/lib/python3.7/site-packages/ray/worker.py\", line 238, in get_serialization_context\n",
      "    _initialize_serialization(driver_id)\n",
      "  File \"/anaconda3/lib/python3.7/site-packages/ray/worker.py\", line 1148, in _initialize_serialization\n",
      "    serialization_context = pyarrow.default_serialization_context()\n",
      "  File \"/anaconda3/lib/python3.7/site-packages/ray/pyarrow_files/pyarrow/serialization.py\", line 326, in default_serialization_context\n",
      "    register_default_serialization_handlers(context)\n",
      "  File \"/anaconda3/lib/python3.7/site-packages/ray/pyarrow_files/pyarrow/serialization.py\", line 321, in register_default_serialization_handlers\n",
      "    _register_custom_pandas_handlers(serialization_context)\n",
      "  File \"/anaconda3/lib/python3.7/site-packages/ray/pyarrow_files/pyarrow/serialization.py\", line 129, in _register_custom_pandas_handlers\n",
      "    import pandas as pd\n",
      "  File \"/anaconda3/lib/python3.7/site-packages/pandas/__init__.py\", line 23, in <module>\n",
      "    from pandas.compat.numpy import *\n",
      "  File \"/anaconda3/lib/python3.7/site-packages/pandas/compat/__init__.py\", line 446, in <module>\n",
      "    import typing\n",
      "  File \"/anaconda3/lib/python3.7/site-packages/typing.py\", line 1356, in <module>\n",
      "    class Callable(extra=collections_abc.Callable, metaclass=CallableMeta):\n",
      "  File \"/anaconda3/lib/python3.7/site-packages/typing.py\", line 1004, in __new__\n",
      "    self._abc_registry = extra._abc_registry\n",
      "AttributeError: type object 'Callable' has no attribute '_abc_registry'\n",
      "\n",
      "During handling of the above exception, another exception occurred:\n",
      "\n",
      "Traceback (most recent call last):\n",
      "  File \"/anaconda3/lib/python3.7/site-packages/ray/workers/default_worker.py\", line 98, in <module>\n",
      "    ray.worker.global_worker.main_loop()\n",
      "  File \"/anaconda3/lib/python3.7/site-packages/ray/worker.py\", line 1039, in main_loop\n",
      "    self._wait_for_and_process_task(task)\n",
      "  File \"/anaconda3/lib/python3.7/site-packages/ray/worker.py\", line 990, in _wait_for_and_process_task\n",
      "    self._process_task(task, execution_info)\n",
      "  File \"/anaconda3/lib/python3.7/site-packages/ray/worker.py\", line 871, in _process_task\n",
      "    ray.utils.format_error_message(traceback.format_exc()))\n",
      "  File \"/anaconda3/lib/python3.7/site-packages/ray/worker.py\", line 922, in _handle_process_task_failure\n",
      "    self._store_outputs_in_object_store(return_object_ids, failure_objects)\n",
      "  File \"/anaconda3/lib/python3.7/site-packages/ray/worker.py\", line 820, in _store_outputs_in_object_store\n",
      "    self.put_object(object_ids[i], outputs[i])\n",
      "  File \"/anaconda3/lib/python3.7/site-packages/ray/worker.py\", line 375, in put_object\n",
      "    self.store_and_register(object_id, value)\n",
      "  File \"/anaconda3/lib/python3.7/site-packages/ray/worker.py\", line 309, in store_and_register\n",
      "    self.task_driver_id))\n",
      "  File \"/anaconda3/lib/python3.7/site-packages/ray/worker.py\", line 238, in get_serialization_context\n",
      "    _initialize_serialization(driver_id)\n",
      "  File \"/anaconda3/lib/python3.7/site-packages/ray/worker.py\", line 1148, in _initialize_serialization\n",
      "    serialization_context = pyarrow.default_serialization_context()\n",
      "  File \"/anaconda3/lib/python3.7/site-packages/ray/pyarrow_files/pyarrow/serialization.py\", line 326, in default_serialization_context\n",
      "    register_default_serialization_handlers(context)\n",
      "  File \"/anaconda3/lib/python3.7/site-packages/ray/pyarrow_files/pyarrow/serialization.py\", line 321, in register_default_serialization_handlers\n",
      "    _register_custom_pandas_handlers(serialization_context)\n",
      "  File \"/anaconda3/lib/python3.7/site-packages/ray/pyarrow_files/pyarrow/serialization.py\", line 129, in _register_custom_pandas_handlers\n",
      "    import pandas as pd\n",
      "  File \"/anaconda3/lib/python3.7/site-packages/pandas/__init__.py\", line 23, in <module>\n",
      "    from pandas.compat.numpy import *\n",
      "  File \"/anaconda3/lib/python3.7/site-packages/pandas/compat/__init__.py\", line 446, in <module>\n",
      "    import typing\n",
      "  File \"/anaconda3/lib/python3.7/site-packages/typing.py\", line 1356, in <module>\n",
      "    class Callable(extra=collections_abc.Callable, metaclass=CallableMeta):\n",
      "  File \"/anaconda3/lib/python3.7/site-packages/typing.py\", line 1004, in __new__\n",
      "    self._abc_registry = extra._abc_registry\n",
      "AttributeError: type object 'Callable' has no attribute '_abc_registry'\n",
      "\n",
      "  This error is unexpected and should not have happened. Somehow a worker\n",
      "  crashed in an unanticipated way causing the main_loop to throw an exception,\n",
      "  which is being caught in \"python/ray/workers/default_worker.py\".\n",
      "  \n",
      "2019-05-10 10:10:40,505\tERROR worker.py:1672 -- Traceback (most recent call last):\n",
      "  File \"/anaconda3/lib/python3.7/site-packages/ray/worker.py\", line 867, in _process_task\n",
      "    function_name, args)\n",
      "  File \"/anaconda3/lib/python3.7/site-packages/ray/worker.py\", line 778, in _get_arguments_for_execution\n",
      "    argument = self.get_object([arg])[0]\n",
      "  File \"/anaconda3/lib/python3.7/site-packages/ray/worker.py\", line 508, in get_object\n",
      "    final_results = self.retrieve_and_deserialize(plain_object_ids, 0)\n",
      "  File \"/anaconda3/lib/python3.7/site-packages/ray/worker.py\", line 402, in retrieve_and_deserialize\n",
      "    self.task_driver_id)\n",
      "  File \"/anaconda3/lib/python3.7/site-packages/ray/worker.py\", line 238, in get_serialization_context\n",
      "    _initialize_serialization(driver_id)\n",
      "  File \"/anaconda3/lib/python3.7/site-packages/ray/worker.py\", line 1148, in _initialize_serialization\n",
      "    serialization_context = pyarrow.default_serialization_context()\n",
      "  File \"/anaconda3/lib/python3.7/site-packages/ray/pyarrow_files/pyarrow/serialization.py\", line 326, in default_serialization_context\n",
      "    register_default_serialization_handlers(context)\n",
      "  File \"/anaconda3/lib/python3.7/site-packages/ray/pyarrow_files/pyarrow/serialization.py\", line 321, in register_default_serialization_handlers\n",
      "    _register_custom_pandas_handlers(serialization_context)\n",
      "  File \"/anaconda3/lib/python3.7/site-packages/ray/pyarrow_files/pyarrow/serialization.py\", line 129, in _register_custom_pandas_handlers\n",
      "    import pandas as pd\n",
      "  File \"/anaconda3/lib/python3.7/site-packages/pandas/__init__.py\", line 23, in <module>\n",
      "    from pandas.compat.numpy import *\n",
      "  File \"/anaconda3/lib/python3.7/site-packages/pandas/compat/__init__.py\", line 446, in <module>\n",
      "    import typing\n",
      "  File \"/anaconda3/lib/python3.7/site-packages/typing.py\", line 1356, in <module>\n",
      "    class Callable(extra=collections_abc.Callable, metaclass=CallableMeta):\n",
      "  File \"/anaconda3/lib/python3.7/site-packages/typing.py\", line 1004, in __new__\n",
      "    self._abc_registry = extra._abc_registry\n",
      "AttributeError: type object 'Callable' has no attribute '_abc_registry'\n",
      "\n",
      "During handling of the above exception, another exception occurred:\n",
      "\n",
      "Traceback (most recent call last):\n",
      "  File \"/anaconda3/lib/python3.7/site-packages/ray/workers/default_worker.py\", line 98, in <module>\n",
      "    ray.worker.global_worker.main_loop()\n",
      "  File \"/anaconda3/lib/python3.7/site-packages/ray/worker.py\", line 1039, in main_loop\n",
      "    self._wait_for_and_process_task(task)\n",
      "  File \"/anaconda3/lib/python3.7/site-packages/ray/worker.py\", line 990, in _wait_for_and_process_task\n",
      "    self._process_task(task, execution_info)\n",
      "  File \"/anaconda3/lib/python3.7/site-packages/ray/worker.py\", line 871, in _process_task\n",
      "    ray.utils.format_error_message(traceback.format_exc()))\n",
      "  File \"/anaconda3/lib/python3.7/site-packages/ray/worker.py\", line 922, in _handle_process_task_failure\n",
      "    self._store_outputs_in_object_store(return_object_ids, failure_objects)\n",
      "  File \"/anaconda3/lib/python3.7/site-packages/ray/worker.py\", line 820, in _store_outputs_in_object_store\n",
      "    self.put_object(object_ids[i], outputs[i])\n",
      "  File \"/anaconda3/lib/python3.7/site-packages/ray/worker.py\", line 375, in put_object\n",
      "    self.store_and_register(object_id, value)\n",
      "  File \"/anaconda3/lib/python3.7/site-packages/ray/worker.py\", line 309, in store_and_register\n",
      "    self.task_driver_id))\n",
      "  File \"/anaconda3/lib/python3.7/site-packages/ray/worker.py\", line 238, in get_serialization_context\n",
      "    _initialize_serialization(driver_id)\n",
      "  File \"/anaconda3/lib/python3.7/site-packages/ray/worker.py\", line 1148, in _initialize_serialization\n",
      "    serialization_context = pyarrow.default_serialization_context()\n",
      "  File \"/anaconda3/lib/python3.7/site-packages/ray/pyarrow_files/pyarrow/serialization.py\", line 326, in default_serialization_context\n",
      "    register_default_serialization_handlers(context)\n",
      "  File \"/anaconda3/lib/python3.7/site-packages/ray/pyarrow_files/pyarrow/serialization.py\", line 321, in register_default_serialization_handlers\n",
      "    _register_custom_pandas_handlers(serialization_context)\n",
      "  File \"/anaconda3/lib/python3.7/site-packages/ray/pyarrow_files/pyarrow/serialization.py\", line 129, in _register_custom_pandas_handlers\n",
      "    import pandas as pd\n",
      "  File \"/anaconda3/lib/python3.7/site-packages/pandas/__init__.py\", line 23, in <module>\n",
      "    from pandas.compat.numpy import *\n",
      "  File \"/anaconda3/lib/python3.7/site-packages/pandas/compat/__init__.py\", line 446, in <module>\n",
      "    import typing\n",
      "  File \"/anaconda3/lib/python3.7/site-packages/typing.py\", line 1356, in <module>\n",
      "    class Callable(extra=collections_abc.Callable, metaclass=CallableMeta):\n",
      "  File \"/anaconda3/lib/python3.7/site-packages/typing.py\", line 1004, in __new__\n",
      "    self._abc_registry = extra._abc_registry\n",
      "AttributeError: type object 'Callable' has no attribute '_abc_registry'\n",
      "\n",
      "  This error is unexpected and should not have happened. Somehow a worker\n",
      "  crashed in an unanticipated way causing the main_loop to throw an exception,\n",
      "  which is being caught in \"python/ray/workers/default_worker.py\".\n",
      "  \n"
     ]
    },
    {
     "name": "stderr",
     "output_type": "stream",
     "text": [
      "2019-05-10 10:10:40,512\tERROR worker.py:1672 -- Traceback (most recent call last):\n",
      "  File \"/anaconda3/lib/python3.7/site-packages/ray/worker.py\", line 867, in _process_task\n",
      "    function_name, args)\n",
      "  File \"/anaconda3/lib/python3.7/site-packages/ray/worker.py\", line 778, in _get_arguments_for_execution\n",
      "    argument = self.get_object([arg])[0]\n",
      "  File \"/anaconda3/lib/python3.7/site-packages/ray/worker.py\", line 508, in get_object\n",
      "    final_results = self.retrieve_and_deserialize(plain_object_ids, 0)\n",
      "  File \"/anaconda3/lib/python3.7/site-packages/ray/worker.py\", line 402, in retrieve_and_deserialize\n",
      "    self.task_driver_id)\n",
      "  File \"/anaconda3/lib/python3.7/site-packages/ray/worker.py\", line 238, in get_serialization_context\n",
      "    _initialize_serialization(driver_id)\n",
      "  File \"/anaconda3/lib/python3.7/site-packages/ray/worker.py\", line 1148, in _initialize_serialization\n",
      "    serialization_context = pyarrow.default_serialization_context()\n",
      "  File \"/anaconda3/lib/python3.7/site-packages/ray/pyarrow_files/pyarrow/serialization.py\", line 326, in default_serialization_context\n",
      "    register_default_serialization_handlers(context)\n",
      "  File \"/anaconda3/lib/python3.7/site-packages/ray/pyarrow_files/pyarrow/serialization.py\", line 321, in register_default_serialization_handlers\n",
      "    _register_custom_pandas_handlers(serialization_context)\n",
      "  File \"/anaconda3/lib/python3.7/site-packages/ray/pyarrow_files/pyarrow/serialization.py\", line 129, in _register_custom_pandas_handlers\n",
      "    import pandas as pd\n",
      "  File \"/anaconda3/lib/python3.7/site-packages/pandas/__init__.py\", line 23, in <module>\n",
      "    from pandas.compat.numpy import *\n",
      "  File \"/anaconda3/lib/python3.7/site-packages/pandas/compat/__init__.py\", line 446, in <module>\n",
      "    import typing\n",
      "  File \"/anaconda3/lib/python3.7/site-packages/typing.py\", line 1356, in <module>\n",
      "    class Callable(extra=collections_abc.Callable, metaclass=CallableMeta):\n",
      "  File \"/anaconda3/lib/python3.7/site-packages/typing.py\", line 1004, in __new__\n",
      "    self._abc_registry = extra._abc_registry\n",
      "AttributeError: type object 'Callable' has no attribute '_abc_registry'\n",
      "\n",
      "During handling of the above exception, another exception occurred:\n",
      "\n",
      "Traceback (most recent call last):\n",
      "  File \"/anaconda3/lib/python3.7/site-packages/ray/workers/default_worker.py\", line 98, in <module>\n",
      "    ray.worker.global_worker.main_loop()\n",
      "  File \"/anaconda3/lib/python3.7/site-packages/ray/worker.py\", line 1039, in main_loop\n",
      "    self._wait_for_and_process_task(task)\n",
      "  File \"/anaconda3/lib/python3.7/site-packages/ray/worker.py\", line 990, in _wait_for_and_process_task\n",
      "    self._process_task(task, execution_info)\n",
      "  File \"/anaconda3/lib/python3.7/site-packages/ray/worker.py\", line 871, in _process_task\n",
      "    ray.utils.format_error_message(traceback.format_exc()))\n",
      "  File \"/anaconda3/lib/python3.7/site-packages/ray/worker.py\", line 922, in _handle_process_task_failure\n",
      "    self._store_outputs_in_object_store(return_object_ids, failure_objects)\n",
      "  File \"/anaconda3/lib/python3.7/site-packages/ray/worker.py\", line 820, in _store_outputs_in_object_store\n",
      "    self.put_object(object_ids[i], outputs[i])\n",
      "  File \"/anaconda3/lib/python3.7/site-packages/ray/worker.py\", line 375, in put_object\n",
      "    self.store_and_register(object_id, value)\n",
      "  File \"/anaconda3/lib/python3.7/site-packages/ray/worker.py\", line 309, in store_and_register\n",
      "    self.task_driver_id))\n",
      "  File \"/anaconda3/lib/python3.7/site-packages/ray/worker.py\", line 238, in get_serialization_context\n",
      "    _initialize_serialization(driver_id)\n",
      "  File \"/anaconda3/lib/python3.7/site-packages/ray/worker.py\", line 1148, in _initialize_serialization\n",
      "    serialization_context = pyarrow.default_serialization_context()\n",
      "  File \"/anaconda3/lib/python3.7/site-packages/ray/pyarrow_files/pyarrow/serialization.py\", line 326, in default_serialization_context\n",
      "    register_default_serialization_handlers(context)\n",
      "  File \"/anaconda3/lib/python3.7/site-packages/ray/pyarrow_files/pyarrow/serialization.py\", line 321, in register_default_serialization_handlers\n",
      "    _register_custom_pandas_handlers(serialization_context)\n",
      "  File \"/anaconda3/lib/python3.7/site-packages/ray/pyarrow_files/pyarrow/serialization.py\", line 129, in _register_custom_pandas_handlers\n",
      "    import pandas as pd\n",
      "  File \"/anaconda3/lib/python3.7/site-packages/pandas/__init__.py\", line 23, in <module>\n",
      "    from pandas.compat.numpy import *\n",
      "  File \"/anaconda3/lib/python3.7/site-packages/pandas/compat/__init__.py\", line 446, in <module>\n",
      "    import typing\n",
      "  File \"/anaconda3/lib/python3.7/site-packages/typing.py\", line 1356, in <module>\n",
      "    class Callable(extra=collections_abc.Callable, metaclass=CallableMeta):\n",
      "  File \"/anaconda3/lib/python3.7/site-packages/typing.py\", line 1004, in __new__\n",
      "    self._abc_registry = extra._abc_registry\n",
      "AttributeError: type object 'Callable' has no attribute '_abc_registry'\n",
      "\n",
      "  This error is unexpected and should not have happened. Somehow a worker\n",
      "  crashed in an unanticipated way causing the main_loop to throw an exception,\n",
      "  which is being caught in \"python/ray/workers/default_worker.py\".\n",
      "  \n",
      "2019-05-10 10:10:40,520\tERROR worker.py:1672 -- Traceback (most recent call last):\n",
      "  File \"/anaconda3/lib/python3.7/site-packages/ray/worker.py\", line 867, in _process_task\n",
      "    function_name, args)\n",
      "  File \"/anaconda3/lib/python3.7/site-packages/ray/worker.py\", line 778, in _get_arguments_for_execution\n",
      "    argument = self.get_object([arg])[0]\n",
      "  File \"/anaconda3/lib/python3.7/site-packages/ray/worker.py\", line 508, in get_object\n",
      "    final_results = self.retrieve_and_deserialize(plain_object_ids, 0)\n",
      "  File \"/anaconda3/lib/python3.7/site-packages/ray/worker.py\", line 402, in retrieve_and_deserialize\n",
      "    self.task_driver_id)\n",
      "  File \"/anaconda3/lib/python3.7/site-packages/ray/worker.py\", line 238, in get_serialization_context\n",
      "    _initialize_serialization(driver_id)\n",
      "  File \"/anaconda3/lib/python3.7/site-packages/ray/worker.py\", line 1148, in _initialize_serialization\n",
      "    serialization_context = pyarrow.default_serialization_context()\n",
      "  File \"/anaconda3/lib/python3.7/site-packages/ray/pyarrow_files/pyarrow/serialization.py\", line 326, in default_serialization_context\n",
      "    register_default_serialization_handlers(context)\n",
      "  File \"/anaconda3/lib/python3.7/site-packages/ray/pyarrow_files/pyarrow/serialization.py\", line 321, in register_default_serialization_handlers\n",
      "    _register_custom_pandas_handlers(serialization_context)\n",
      "  File \"/anaconda3/lib/python3.7/site-packages/ray/pyarrow_files/pyarrow/serialization.py\", line 129, in _register_custom_pandas_handlers\n",
      "    import pandas as pd\n",
      "  File \"/anaconda3/lib/python3.7/site-packages/pandas/__init__.py\", line 23, in <module>\n",
      "    from pandas.compat.numpy import *\n",
      "  File \"/anaconda3/lib/python3.7/site-packages/pandas/compat/__init__.py\", line 446, in <module>\n",
      "    import typing\n",
      "  File \"/anaconda3/lib/python3.7/site-packages/typing.py\", line 1356, in <module>\n",
      "    class Callable(extra=collections_abc.Callable, metaclass=CallableMeta):\n",
      "  File \"/anaconda3/lib/python3.7/site-packages/typing.py\", line 1004, in __new__\n",
      "    self._abc_registry = extra._abc_registry\n",
      "AttributeError: type object 'Callable' has no attribute '_abc_registry'\n",
      "\n",
      "During handling of the above exception, another exception occurred:\n",
      "\n",
      "Traceback (most recent call last):\n",
      "  File \"/anaconda3/lib/python3.7/site-packages/ray/workers/default_worker.py\", line 98, in <module>\n",
      "    ray.worker.global_worker.main_loop()\n",
      "  File \"/anaconda3/lib/python3.7/site-packages/ray/worker.py\", line 1039, in main_loop\n",
      "    self._wait_for_and_process_task(task)\n",
      "  File \"/anaconda3/lib/python3.7/site-packages/ray/worker.py\", line 990, in _wait_for_and_process_task\n",
      "    self._process_task(task, execution_info)\n",
      "  File \"/anaconda3/lib/python3.7/site-packages/ray/worker.py\", line 871, in _process_task\n",
      "    ray.utils.format_error_message(traceback.format_exc()))\n",
      "  File \"/anaconda3/lib/python3.7/site-packages/ray/worker.py\", line 922, in _handle_process_task_failure\n",
      "    self._store_outputs_in_object_store(return_object_ids, failure_objects)\n",
      "  File \"/anaconda3/lib/python3.7/site-packages/ray/worker.py\", line 820, in _store_outputs_in_object_store\n",
      "    self.put_object(object_ids[i], outputs[i])\n",
      "  File \"/anaconda3/lib/python3.7/site-packages/ray/worker.py\", line 375, in put_object\n",
      "    self.store_and_register(object_id, value)\n",
      "  File \"/anaconda3/lib/python3.7/site-packages/ray/worker.py\", line 309, in store_and_register\n",
      "    self.task_driver_id))\n",
      "  File \"/anaconda3/lib/python3.7/site-packages/ray/worker.py\", line 238, in get_serialization_context\n",
      "    _initialize_serialization(driver_id)\n",
      "  File \"/anaconda3/lib/python3.7/site-packages/ray/worker.py\", line 1148, in _initialize_serialization\n",
      "    serialization_context = pyarrow.default_serialization_context()\n",
      "  File \"/anaconda3/lib/python3.7/site-packages/ray/pyarrow_files/pyarrow/serialization.py\", line 326, in default_serialization_context\n",
      "    register_default_serialization_handlers(context)\n",
      "  File \"/anaconda3/lib/python3.7/site-packages/ray/pyarrow_files/pyarrow/serialization.py\", line 321, in register_default_serialization_handlers\n",
      "    _register_custom_pandas_handlers(serialization_context)\n",
      "  File \"/anaconda3/lib/python3.7/site-packages/ray/pyarrow_files/pyarrow/serialization.py\", line 129, in _register_custom_pandas_handlers\n",
      "    import pandas as pd\n",
      "  File \"/anaconda3/lib/python3.7/site-packages/pandas/__init__.py\", line 23, in <module>\n",
      "    from pandas.compat.numpy import *\n",
      "  File \"/anaconda3/lib/python3.7/site-packages/pandas/compat/__init__.py\", line 446, in <module>\n",
      "    import typing\n",
      "  File \"/anaconda3/lib/python3.7/site-packages/typing.py\", line 1356, in <module>\n",
      "    class Callable(extra=collections_abc.Callable, metaclass=CallableMeta):\n",
      "  File \"/anaconda3/lib/python3.7/site-packages/typing.py\", line 1004, in __new__\n",
      "    self._abc_registry = extra._abc_registry\n",
      "AttributeError: type object 'Callable' has no attribute '_abc_registry'\n",
      "\n",
      "  This error is unexpected and should not have happened. Somehow a worker\n",
      "  crashed in an unanticipated way causing the main_loop to throw an exception,\n",
      "  which is being caught in \"python/ray/workers/default_worker.py\".\n",
      "  \n"
     ]
    },
    {
     "name": "stderr",
     "output_type": "stream",
     "text": [
      "2019-05-10 10:10:40,593\tERROR worker.py:1672 -- A worker died or was killed while executing task 00000000ea7ce2a237f9a49a793cf019ba69a1c1.\n",
      "2019-05-10 10:10:40,595\tERROR worker.py:1672 -- A worker died or was killed while executing task 000000009b33b83c2af2bf547113e700db5c73bd.\n",
      "2019-05-10 10:10:40,597\tERROR worker.py:1672 -- A worker died or was killed while executing task 0000000030e2f409cd201db4e8dca5ca374f4b97.\n",
      "2019-05-10 10:10:40,600\tERROR worker.py:1672 -- A worker died or was killed while executing task 000000004a57ff31934badb359ccee41ce1a0899.\n",
      "2019-05-10 10:10:40,601\tERROR worker.py:1672 -- A worker died or was killed while executing task 000000005503d945a6e2ae2568e58d749771f553.\n",
      "2019-05-10 10:10:40,603\tERROR worker.py:1672 -- A worker died or was killed while executing task 000000009dd9f83c6a994a13d72af92ca79918a9.\n",
      "2019-05-10 10:10:40,612\tERROR worker.py:1672 -- A worker died or was killed while executing task 000000005fc9917acef57d31b7c4a9fb16dfb49a.\n",
      "2019-05-10 10:10:40,613\tERROR worker.py:1672 -- A worker died or was killed while executing task 0000000040157b4998538c42926bb00a6a72ae71.\n",
      "2019-05-10 10:10:40,615\tERROR worker.py:1672 -- Traceback (most recent call last):\n",
      "  File \"/anaconda3/lib/python3.7/site-packages/ray/worker.py\", line 867, in _process_task\n",
      "    function_name, args)\n",
      "  File \"/anaconda3/lib/python3.7/site-packages/ray/worker.py\", line 778, in _get_arguments_for_execution\n",
      "    argument = self.get_object([arg])[0]\n",
      "  File \"/anaconda3/lib/python3.7/site-packages/ray/worker.py\", line 508, in get_object\n",
      "    final_results = self.retrieve_and_deserialize(plain_object_ids, 0)\n",
      "  File \"/anaconda3/lib/python3.7/site-packages/ray/worker.py\", line 402, in retrieve_and_deserialize\n",
      "    self.task_driver_id)\n",
      "  File \"/anaconda3/lib/python3.7/site-packages/ray/worker.py\", line 238, in get_serialization_context\n",
      "    _initialize_serialization(driver_id)\n",
      "  File \"/anaconda3/lib/python3.7/site-packages/ray/worker.py\", line 1148, in _initialize_serialization\n",
      "    serialization_context = pyarrow.default_serialization_context()\n",
      "  File \"/anaconda3/lib/python3.7/site-packages/ray/pyarrow_files/pyarrow/serialization.py\", line 326, in default_serialization_context\n",
      "    register_default_serialization_handlers(context)\n",
      "  File \"/anaconda3/lib/python3.7/site-packages/ray/pyarrow_files/pyarrow/serialization.py\", line 321, in register_default_serialization_handlers\n",
      "    _register_custom_pandas_handlers(serialization_context)\n",
      "  File \"/anaconda3/lib/python3.7/site-packages/ray/pyarrow_files/pyarrow/serialization.py\", line 129, in _register_custom_pandas_handlers\n",
      "    import pandas as pd\n",
      "  File \"/anaconda3/lib/python3.7/site-packages/pandas/__init__.py\", line 23, in <module>\n",
      "    from pandas.compat.numpy import *\n",
      "  File \"/anaconda3/lib/python3.7/site-packages/pandas/compat/__init__.py\", line 446, in <module>\n",
      "    import typing\n",
      "  File \"/anaconda3/lib/python3.7/site-packages/typing.py\", line 1356, in <module>\n",
      "    class Callable(extra=collections_abc.Callable, metaclass=CallableMeta):\n",
      "  File \"/anaconda3/lib/python3.7/site-packages/typing.py\", line 1004, in __new__\n",
      "    self._abc_registry = extra._abc_registry\n",
      "AttributeError: type object 'Callable' has no attribute '_abc_registry'\n",
      "\n",
      "During handling of the above exception, another exception occurred:\n",
      "\n",
      "Traceback (most recent call last):\n",
      "  File \"/anaconda3/lib/python3.7/site-packages/ray/workers/default_worker.py\", line 98, in <module>\n",
      "    ray.worker.global_worker.main_loop()\n",
      "  File \"/anaconda3/lib/python3.7/site-packages/ray/worker.py\", line 1039, in main_loop\n",
      "    self._wait_for_and_process_task(task)\n",
      "  File \"/anaconda3/lib/python3.7/site-packages/ray/worker.py\", line 990, in _wait_for_and_process_task\n",
      "    self._process_task(task, execution_info)\n",
      "  File \"/anaconda3/lib/python3.7/site-packages/ray/worker.py\", line 871, in _process_task\n",
      "    ray.utils.format_error_message(traceback.format_exc()))\n",
      "  File \"/anaconda3/lib/python3.7/site-packages/ray/worker.py\", line 922, in _handle_process_task_failure\n",
      "    self._store_outputs_in_object_store(return_object_ids, failure_objects)\n",
      "  File \"/anaconda3/lib/python3.7/site-packages/ray/worker.py\", line 820, in _store_outputs_in_object_store\n",
      "    self.put_object(object_ids[i], outputs[i])\n",
      "  File \"/anaconda3/lib/python3.7/site-packages/ray/worker.py\", line 375, in put_object\n",
      "    self.store_and_register(object_id, value)\n",
      "  File \"/anaconda3/lib/python3.7/site-packages/ray/worker.py\", line 309, in store_and_register\n",
      "    self.task_driver_id))\n",
      "  File \"/anaconda3/lib/python3.7/site-packages/ray/worker.py\", line 238, in get_serialization_context\n",
      "    _initialize_serialization(driver_id)\n",
      "  File \"/anaconda3/lib/python3.7/site-packages/ray/worker.py\", line 1148, in _initialize_serialization\n",
      "    serialization_context = pyarrow.default_serialization_context()\n",
      "  File \"/anaconda3/lib/python3.7/site-packages/ray/pyarrow_files/pyarrow/serialization.py\", line 326, in default_serialization_context\n",
      "    register_default_serialization_handlers(context)\n",
      "  File \"/anaconda3/lib/python3.7/site-packages/ray/pyarrow_files/pyarrow/serialization.py\", line 321, in register_default_serialization_handlers\n",
      "    _register_custom_pandas_handlers(serialization_context)\n",
      "  File \"/anaconda3/lib/python3.7/site-packages/ray/pyarrow_files/pyarrow/serialization.py\", line 129, in _register_custom_pandas_handlers\n",
      "    import pandas as pd\n",
      "  File \"/anaconda3/lib/python3.7/site-packages/pandas/__init__.py\", line 23, in <module>\n",
      "    from pandas.compat.numpy import *\n",
      "  File \"/anaconda3/lib/python3.7/site-packages/pandas/compat/__init__.py\", line 446, in <module>\n",
      "    import typing\n",
      "  File \"/anaconda3/lib/python3.7/site-packages/typing.py\", line 1356, in <module>\n",
      "    class Callable(extra=collections_abc.Callable, metaclass=CallableMeta):\n",
      "  File \"/anaconda3/lib/python3.7/site-packages/typing.py\", line 1004, in __new__\n",
      "    self._abc_registry = extra._abc_registry\n",
      "AttributeError: type object 'Callable' has no attribute '_abc_registry'\n",
      "\n",
      "  This error is unexpected and should not have happened. Somehow a worker\n",
      "  crashed in an unanticipated way causing the main_loop to throw an exception,\n",
      "  which is being caught in \"python/ray/workers/default_worker.py\".\n",
      "  \n",
      "2019-05-10 10:10:40,617\tERROR worker.py:1672 -- Traceback (most recent call last):\n",
      "  File \"/anaconda3/lib/python3.7/site-packages/ray/worker.py\", line 867, in _process_task\n",
      "    function_name, args)\n",
      "  File \"/anaconda3/lib/python3.7/site-packages/ray/worker.py\", line 778, in _get_arguments_for_execution\n",
      "    argument = self.get_object([arg])[0]\n",
      "  File \"/anaconda3/lib/python3.7/site-packages/ray/worker.py\", line 508, in get_object\n",
      "    final_results = self.retrieve_and_deserialize(plain_object_ids, 0)\n",
      "  File \"/anaconda3/lib/python3.7/site-packages/ray/worker.py\", line 402, in retrieve_and_deserialize\n",
      "    self.task_driver_id)\n",
      "  File \"/anaconda3/lib/python3.7/site-packages/ray/worker.py\", line 238, in get_serialization_context\n",
      "    _initialize_serialization(driver_id)\n",
      "  File \"/anaconda3/lib/python3.7/site-packages/ray/worker.py\", line 1148, in _initialize_serialization\n",
      "    serialization_context = pyarrow.default_serialization_context()\n",
      "  File \"/anaconda3/lib/python3.7/site-packages/ray/pyarrow_files/pyarrow/serialization.py\", line 326, in default_serialization_context\n",
      "    register_default_serialization_handlers(context)\n",
      "  File \"/anaconda3/lib/python3.7/site-packages/ray/pyarrow_files/pyarrow/serialization.py\", line 321, in register_default_serialization_handlers\n",
      "    _register_custom_pandas_handlers(serialization_context)\n",
      "  File \"/anaconda3/lib/python3.7/site-packages/ray/pyarrow_files/pyarrow/serialization.py\", line 129, in _register_custom_pandas_handlers\n",
      "    import pandas as pd\n",
      "  File \"/anaconda3/lib/python3.7/site-packages/pandas/__init__.py\", line 23, in <module>\n",
      "    from pandas.compat.numpy import *\n",
      "  File \"/anaconda3/lib/python3.7/site-packages/pandas/compat/__init__.py\", line 446, in <module>\n",
      "    import typing\n",
      "  File \"/anaconda3/lib/python3.7/site-packages/typing.py\", line 1356, in <module>\n",
      "    class Callable(extra=collections_abc.Callable, metaclass=CallableMeta):\n",
      "  File \"/anaconda3/lib/python3.7/site-packages/typing.py\", line 1004, in __new__\n",
      "    self._abc_registry = extra._abc_registry\n",
      "AttributeError: type object 'Callable' has no attribute '_abc_registry'\n",
      "\n",
      "During handling of the above exception, another exception occurred:\n",
      "\n",
      "Traceback (most recent call last):\n",
      "  File \"/anaconda3/lib/python3.7/site-packages/ray/workers/default_worker.py\", line 98, in <module>\n",
      "    ray.worker.global_worker.main_loop()\n",
      "  File \"/anaconda3/lib/python3.7/site-packages/ray/worker.py\", line 1039, in main_loop\n",
      "    self._wait_for_and_process_task(task)\n",
      "  File \"/anaconda3/lib/python3.7/site-packages/ray/worker.py\", line 990, in _wait_for_and_process_task\n",
      "    self._process_task(task, execution_info)\n",
      "  File \"/anaconda3/lib/python3.7/site-packages/ray/worker.py\", line 871, in _process_task\n",
      "    ray.utils.format_error_message(traceback.format_exc()))\n",
      "  File \"/anaconda3/lib/python3.7/site-packages/ray/worker.py\", line 922, in _handle_process_task_failure\n",
      "    self._store_outputs_in_object_store(return_object_ids, failure_objects)\n",
      "  File \"/anaconda3/lib/python3.7/site-packages/ray/worker.py\", line 820, in _store_outputs_in_object_store\n",
      "    self.put_object(object_ids[i], outputs[i])\n",
      "  File \"/anaconda3/lib/python3.7/site-packages/ray/worker.py\", line 375, in put_object\n",
      "    self.store_and_register(object_id, value)\n",
      "  File \"/anaconda3/lib/python3.7/site-packages/ray/worker.py\", line 309, in store_and_register\n",
      "    self.task_driver_id))\n",
      "  File \"/anaconda3/lib/python3.7/site-packages/ray/worker.py\", line 238, in get_serialization_context\n",
      "    _initialize_serialization(driver_id)\n",
      "  File \"/anaconda3/lib/python3.7/site-packages/ray/worker.py\", line 1148, in _initialize_serialization\n",
      "    serialization_context = pyarrow.default_serialization_context()\n",
      "  File \"/anaconda3/lib/python3.7/site-packages/ray/pyarrow_files/pyarrow/serialization.py\", line 326, in default_serialization_context\n",
      "    register_default_serialization_handlers(context)\n",
      "  File \"/anaconda3/lib/python3.7/site-packages/ray/pyarrow_files/pyarrow/serialization.py\", line 321, in register_default_serialization_handlers\n",
      "    _register_custom_pandas_handlers(serialization_context)\n",
      "  File \"/anaconda3/lib/python3.7/site-packages/ray/pyarrow_files/pyarrow/serialization.py\", line 129, in _register_custom_pandas_handlers\n",
      "    import pandas as pd\n",
      "  File \"/anaconda3/lib/python3.7/site-packages/pandas/__init__.py\", line 23, in <module>\n",
      "    from pandas.compat.numpy import *\n",
      "  File \"/anaconda3/lib/python3.7/site-packages/pandas/compat/__init__.py\", line 446, in <module>\n",
      "    import typing\n",
      "  File \"/anaconda3/lib/python3.7/site-packages/typing.py\", line 1356, in <module>\n",
      "    class Callable(extra=collections_abc.Callable, metaclass=CallableMeta):\n",
      "  File \"/anaconda3/lib/python3.7/site-packages/typing.py\", line 1004, in __new__\n",
      "    self._abc_registry = extra._abc_registry\n",
      "AttributeError: type object 'Callable' has no attribute '_abc_registry'\n",
      "\n",
      "  This error is unexpected and should not have happened. Somehow a worker\n",
      "  crashed in an unanticipated way causing the main_loop to throw an exception,\n",
      "  which is being caught in \"python/ray/workers/default_worker.py\".\n",
      "  \n"
     ]
    },
    {
     "name": "stderr",
     "output_type": "stream",
     "text": [
      "2019-05-10 10:10:40,628\tERROR worker.py:1672 -- Traceback (most recent call last):\n",
      "  File \"/anaconda3/lib/python3.7/site-packages/ray/worker.py\", line 867, in _process_task\n",
      "    function_name, args)\n",
      "  File \"/anaconda3/lib/python3.7/site-packages/ray/worker.py\", line 778, in _get_arguments_for_execution\n",
      "    argument = self.get_object([arg])[0]\n",
      "  File \"/anaconda3/lib/python3.7/site-packages/ray/worker.py\", line 508, in get_object\n",
      "    final_results = self.retrieve_and_deserialize(plain_object_ids, 0)\n",
      "  File \"/anaconda3/lib/python3.7/site-packages/ray/worker.py\", line 402, in retrieve_and_deserialize\n",
      "    self.task_driver_id)\n",
      "  File \"/anaconda3/lib/python3.7/site-packages/ray/worker.py\", line 238, in get_serialization_context\n",
      "    _initialize_serialization(driver_id)\n",
      "  File \"/anaconda3/lib/python3.7/site-packages/ray/worker.py\", line 1148, in _initialize_serialization\n",
      "    serialization_context = pyarrow.default_serialization_context()\n",
      "  File \"/anaconda3/lib/python3.7/site-packages/ray/pyarrow_files/pyarrow/serialization.py\", line 326, in default_serialization_context\n",
      "    register_default_serialization_handlers(context)\n",
      "  File \"/anaconda3/lib/python3.7/site-packages/ray/pyarrow_files/pyarrow/serialization.py\", line 321, in register_default_serialization_handlers\n",
      "    _register_custom_pandas_handlers(serialization_context)\n",
      "  File \"/anaconda3/lib/python3.7/site-packages/ray/pyarrow_files/pyarrow/serialization.py\", line 129, in _register_custom_pandas_handlers\n",
      "    import pandas as pd\n",
      "  File \"/anaconda3/lib/python3.7/site-packages/pandas/__init__.py\", line 23, in <module>\n",
      "    from pandas.compat.numpy import *\n",
      "  File \"/anaconda3/lib/python3.7/site-packages/pandas/compat/__init__.py\", line 446, in <module>\n",
      "    import typing\n",
      "  File \"/anaconda3/lib/python3.7/site-packages/typing.py\", line 1356, in <module>\n",
      "    class Callable(extra=collections_abc.Callable, metaclass=CallableMeta):\n",
      "  File \"/anaconda3/lib/python3.7/site-packages/typing.py\", line 1004, in __new__\n",
      "    self._abc_registry = extra._abc_registry\n",
      "AttributeError: type object 'Callable' has no attribute '_abc_registry'\n",
      "\n",
      "During handling of the above exception, another exception occurred:\n",
      "\n",
      "Traceback (most recent call last):\n",
      "  File \"/anaconda3/lib/python3.7/site-packages/ray/workers/default_worker.py\", line 98, in <module>\n",
      "    ray.worker.global_worker.main_loop()\n",
      "  File \"/anaconda3/lib/python3.7/site-packages/ray/worker.py\", line 1039, in main_loop\n",
      "    self._wait_for_and_process_task(task)\n",
      "  File \"/anaconda3/lib/python3.7/site-packages/ray/worker.py\", line 990, in _wait_for_and_process_task\n",
      "    self._process_task(task, execution_info)\n",
      "  File \"/anaconda3/lib/python3.7/site-packages/ray/worker.py\", line 871, in _process_task\n",
      "    ray.utils.format_error_message(traceback.format_exc()))\n",
      "  File \"/anaconda3/lib/python3.7/site-packages/ray/worker.py\", line 922, in _handle_process_task_failure\n",
      "    self._store_outputs_in_object_store(return_object_ids, failure_objects)\n",
      "  File \"/anaconda3/lib/python3.7/site-packages/ray/worker.py\", line 820, in _store_outputs_in_object_store\n",
      "    self.put_object(object_ids[i], outputs[i])\n",
      "  File \"/anaconda3/lib/python3.7/site-packages/ray/worker.py\", line 375, in put_object\n",
      "    self.store_and_register(object_id, value)\n",
      "  File \"/anaconda3/lib/python3.7/site-packages/ray/worker.py\", line 309, in store_and_register\n",
      "    self.task_driver_id))\n",
      "  File \"/anaconda3/lib/python3.7/site-packages/ray/worker.py\", line 238, in get_serialization_context\n",
      "    _initialize_serialization(driver_id)\n",
      "  File \"/anaconda3/lib/python3.7/site-packages/ray/worker.py\", line 1148, in _initialize_serialization\n",
      "    serialization_context = pyarrow.default_serialization_context()\n",
      "  File \"/anaconda3/lib/python3.7/site-packages/ray/pyarrow_files/pyarrow/serialization.py\", line 326, in default_serialization_context\n",
      "    register_default_serialization_handlers(context)\n",
      "  File \"/anaconda3/lib/python3.7/site-packages/ray/pyarrow_files/pyarrow/serialization.py\", line 321, in register_default_serialization_handlers\n",
      "    _register_custom_pandas_handlers(serialization_context)\n",
      "  File \"/anaconda3/lib/python3.7/site-packages/ray/pyarrow_files/pyarrow/serialization.py\", line 129, in _register_custom_pandas_handlers\n",
      "    import pandas as pd\n",
      "  File \"/anaconda3/lib/python3.7/site-packages/pandas/__init__.py\", line 23, in <module>\n",
      "    from pandas.compat.numpy import *\n",
      "  File \"/anaconda3/lib/python3.7/site-packages/pandas/compat/__init__.py\", line 446, in <module>\n",
      "    import typing\n",
      "  File \"/anaconda3/lib/python3.7/site-packages/typing.py\", line 1356, in <module>\n",
      "    class Callable(extra=collections_abc.Callable, metaclass=CallableMeta):\n",
      "  File \"/anaconda3/lib/python3.7/site-packages/typing.py\", line 1004, in __new__\n",
      "    self._abc_registry = extra._abc_registry\n",
      "AttributeError: type object 'Callable' has no attribute '_abc_registry'\n",
      "\n",
      "  This error is unexpected and should not have happened. Somehow a worker\n",
      "  crashed in an unanticipated way causing the main_loop to throw an exception,\n",
      "  which is being caught in \"python/ray/workers/default_worker.py\".\n",
      "  \n",
      "2019-05-10 10:10:40,629\tERROR worker.py:1672 -- Traceback (most recent call last):\n",
      "  File \"/anaconda3/lib/python3.7/site-packages/ray/worker.py\", line 867, in _process_task\n",
      "    function_name, args)\n",
      "  File \"/anaconda3/lib/python3.7/site-packages/ray/worker.py\", line 778, in _get_arguments_for_execution\n",
      "    argument = self.get_object([arg])[0]\n",
      "  File \"/anaconda3/lib/python3.7/site-packages/ray/worker.py\", line 508, in get_object\n",
      "    final_results = self.retrieve_and_deserialize(plain_object_ids, 0)\n",
      "  File \"/anaconda3/lib/python3.7/site-packages/ray/worker.py\", line 402, in retrieve_and_deserialize\n",
      "    self.task_driver_id)\n",
      "  File \"/anaconda3/lib/python3.7/site-packages/ray/worker.py\", line 238, in get_serialization_context\n",
      "    _initialize_serialization(driver_id)\n",
      "  File \"/anaconda3/lib/python3.7/site-packages/ray/worker.py\", line 1148, in _initialize_serialization\n",
      "    serialization_context = pyarrow.default_serialization_context()\n",
      "  File \"/anaconda3/lib/python3.7/site-packages/ray/pyarrow_files/pyarrow/serialization.py\", line 326, in default_serialization_context\n",
      "    register_default_serialization_handlers(context)\n",
      "  File \"/anaconda3/lib/python3.7/site-packages/ray/pyarrow_files/pyarrow/serialization.py\", line 321, in register_default_serialization_handlers\n",
      "    _register_custom_pandas_handlers(serialization_context)\n",
      "  File \"/anaconda3/lib/python3.7/site-packages/ray/pyarrow_files/pyarrow/serialization.py\", line 129, in _register_custom_pandas_handlers\n",
      "    import pandas as pd\n",
      "  File \"/anaconda3/lib/python3.7/site-packages/pandas/__init__.py\", line 23, in <module>\n",
      "    from pandas.compat.numpy import *\n",
      "  File \"/anaconda3/lib/python3.7/site-packages/pandas/compat/__init__.py\", line 446, in <module>\n",
      "    import typing\n",
      "  File \"/anaconda3/lib/python3.7/site-packages/typing.py\", line 1356, in <module>\n",
      "    class Callable(extra=collections_abc.Callable, metaclass=CallableMeta):\n",
      "  File \"/anaconda3/lib/python3.7/site-packages/typing.py\", line 1004, in __new__\n",
      "    self._abc_registry = extra._abc_registry\n",
      "AttributeError: type object 'Callable' has no attribute '_abc_registry'\n",
      "\n",
      "During handling of the above exception, another exception occurred:\n",
      "\n",
      "Traceback (most recent call last):\n",
      "  File \"/anaconda3/lib/python3.7/site-packages/ray/workers/default_worker.py\", line 98, in <module>\n",
      "    ray.worker.global_worker.main_loop()\n",
      "  File \"/anaconda3/lib/python3.7/site-packages/ray/worker.py\", line 1039, in main_loop\n",
      "    self._wait_for_and_process_task(task)\n",
      "  File \"/anaconda3/lib/python3.7/site-packages/ray/worker.py\", line 990, in _wait_for_and_process_task\n",
      "    self._process_task(task, execution_info)\n",
      "  File \"/anaconda3/lib/python3.7/site-packages/ray/worker.py\", line 871, in _process_task\n",
      "    ray.utils.format_error_message(traceback.format_exc()))\n",
      "  File \"/anaconda3/lib/python3.7/site-packages/ray/worker.py\", line 922, in _handle_process_task_failure\n",
      "    self._store_outputs_in_object_store(return_object_ids, failure_objects)\n",
      "  File \"/anaconda3/lib/python3.7/site-packages/ray/worker.py\", line 820, in _store_outputs_in_object_store\n",
      "    self.put_object(object_ids[i], outputs[i])\n",
      "  File \"/anaconda3/lib/python3.7/site-packages/ray/worker.py\", line 375, in put_object\n",
      "    self.store_and_register(object_id, value)\n",
      "  File \"/anaconda3/lib/python3.7/site-packages/ray/worker.py\", line 309, in store_and_register\n",
      "    self.task_driver_id))\n",
      "  File \"/anaconda3/lib/python3.7/site-packages/ray/worker.py\", line 238, in get_serialization_context\n",
      "    _initialize_serialization(driver_id)\n",
      "  File \"/anaconda3/lib/python3.7/site-packages/ray/worker.py\", line 1148, in _initialize_serialization\n",
      "    serialization_context = pyarrow.default_serialization_context()\n",
      "  File \"/anaconda3/lib/python3.7/site-packages/ray/pyarrow_files/pyarrow/serialization.py\", line 326, in default_serialization_context\n",
      "    register_default_serialization_handlers(context)\n",
      "  File \"/anaconda3/lib/python3.7/site-packages/ray/pyarrow_files/pyarrow/serialization.py\", line 321, in register_default_serialization_handlers\n",
      "    _register_custom_pandas_handlers(serialization_context)\n",
      "  File \"/anaconda3/lib/python3.7/site-packages/ray/pyarrow_files/pyarrow/serialization.py\", line 129, in _register_custom_pandas_handlers\n",
      "    import pandas as pd\n",
      "  File \"/anaconda3/lib/python3.7/site-packages/pandas/__init__.py\", line 23, in <module>\n",
      "    from pandas.compat.numpy import *\n",
      "  File \"/anaconda3/lib/python3.7/site-packages/pandas/compat/__init__.py\", line 446, in <module>\n",
      "    import typing\n",
      "  File \"/anaconda3/lib/python3.7/site-packages/typing.py\", line 1356, in <module>\n",
      "    class Callable(extra=collections_abc.Callable, metaclass=CallableMeta):\n",
      "  File \"/anaconda3/lib/python3.7/site-packages/typing.py\", line 1004, in __new__\n",
      "    self._abc_registry = extra._abc_registry\n",
      "AttributeError: type object 'Callable' has no attribute '_abc_registry'\n",
      "\n",
      "  This error is unexpected and should not have happened. Somehow a worker\n",
      "  crashed in an unanticipated way causing the main_loop to throw an exception,\n",
      "  which is being caught in \"python/ray/workers/default_worker.py\".\n",
      "  \n"
     ]
    },
    {
     "ename": "RayWorkerError",
     "evalue": "The worker died unexpectedly while executing this task.",
     "output_type": "error",
     "traceback": [
      "\u001b[0;31m---------------------------------------------------------------------------\u001b[0m",
      "\u001b[0;31mRayWorkerError\u001b[0m                            Traceback (most recent call last)",
      "\u001b[0;32m<ipython-input-8-048c52d48cbb>\u001b[0m in \u001b[0;36m<module>\u001b[0;34m\u001b[0m\n\u001b[0;32m----> 1\u001b[0;31m \u001b[0mcompanies_df\u001b[0m \u001b[0;34m=\u001b[0m \u001b[0mpd\u001b[0m\u001b[0;34m.\u001b[0m\u001b[0mread_csv\u001b[0m\u001b[0;34m(\u001b[0m\u001b[0;34m\"companies.txt\"\u001b[0m\u001b[0;34m,\u001b[0m \u001b[0mencoding\u001b[0m\u001b[0;34m=\u001b[0m\u001b[0;34m'unicode_escape'\u001b[0m\u001b[0;34m,\u001b[0m \u001b[0msep\u001b[0m\u001b[0;34m=\u001b[0m\u001b[0;34m'\\t'\u001b[0m\u001b[0;34m)\u001b[0m\u001b[0;34m\u001b[0m\u001b[0;34m\u001b[0m\u001b[0m\n\u001b[0m\u001b[1;32m      2\u001b[0m \u001b[0mrounds2_df\u001b[0m \u001b[0;34m=\u001b[0m \u001b[0mpd\u001b[0m\u001b[0;34m.\u001b[0m\u001b[0mread_csv\u001b[0m\u001b[0;34m(\u001b[0m\u001b[0;34m\"rounds2.csv\"\u001b[0m\u001b[0;34m,\u001b[0m \u001b[0mencoding\u001b[0m\u001b[0;34m=\u001b[0m\u001b[0;34m'unicode_escape'\u001b[0m\u001b[0;34m)\u001b[0m\u001b[0;34m\u001b[0m\u001b[0;34m\u001b[0m\u001b[0m\n\u001b[1;32m      3\u001b[0m \u001b[0mmapping_df\u001b[0m \u001b[0;34m=\u001b[0m \u001b[0mpd\u001b[0m\u001b[0;34m.\u001b[0m\u001b[0mread_csv\u001b[0m\u001b[0;34m(\u001b[0m\u001b[0;34m\"mapping.csv\"\u001b[0m\u001b[0;34m,\u001b[0m \u001b[0mencoding\u001b[0m\u001b[0;34m=\u001b[0m\u001b[0;34m'unicode_escape'\u001b[0m\u001b[0;34m)\u001b[0m\u001b[0;34m\u001b[0m\u001b[0;34m\u001b[0m\u001b[0m\n\u001b[1;32m      4\u001b[0m \u001b[0;34m\u001b[0m\u001b[0m\n\u001b[1;32m      5\u001b[0m \u001b[0mcompanies_df\u001b[0m\u001b[0;34m.\u001b[0m\u001b[0mhead\u001b[0m\u001b[0;34m(\u001b[0m\u001b[0;34m)\u001b[0m\u001b[0;34m\u001b[0m\u001b[0;34m\u001b[0m\u001b[0m\n",
      "\u001b[0;32m/anaconda3/lib/python3.7/site-packages/modin/pandas/io.py\u001b[0m in \u001b[0;36mparser_func\u001b[0;34m(filepath_or_buffer, sep, delimiter, header, names, index_col, usecols, squeeze, prefix, mangle_dupe_cols, dtype, engine, converters, true_values, false_values, skipinitialspace, skiprows, nrows, na_values, keep_default_na, na_filter, verbose, skip_blank_lines, parse_dates, infer_datetime_format, keep_date_col, date_parser, dayfirst, iterator, chunksize, compression, thousands, decimal, lineterminator, quotechar, quoting, escapechar, comment, encoding, dialect, tupleize_cols, error_bad_lines, warn_bad_lines, skipfooter, doublequote, delim_whitespace, low_memory, memory_map, float_precision)\u001b[0m\n\u001b[1;32m     97\u001b[0m         \u001b[0;32mif\u001b[0m \u001b[0;32mnot\u001b[0m \u001b[0mkwargs\u001b[0m\u001b[0;34m.\u001b[0m\u001b[0mget\u001b[0m\u001b[0;34m(\u001b[0m\u001b[0;34m\"sep\"\u001b[0m\u001b[0;34m,\u001b[0m \u001b[0msep\u001b[0m\u001b[0;34m)\u001b[0m\u001b[0;34m:\u001b[0m\u001b[0;34m\u001b[0m\u001b[0;34m\u001b[0m\u001b[0m\n\u001b[1;32m     98\u001b[0m             \u001b[0mkwargs\u001b[0m\u001b[0;34m[\u001b[0m\u001b[0;34m\"sep\"\u001b[0m\u001b[0;34m]\u001b[0m \u001b[0;34m=\u001b[0m \u001b[0;34m\"\\t\"\u001b[0m\u001b[0;34m\u001b[0m\u001b[0;34m\u001b[0m\u001b[0m\n\u001b[0;32m---> 99\u001b[0;31m         \u001b[0;32mreturn\u001b[0m \u001b[0m_read\u001b[0m\u001b[0;34m(\u001b[0m\u001b[0;34m**\u001b[0m\u001b[0mkwargs\u001b[0m\u001b[0;34m)\u001b[0m\u001b[0;34m\u001b[0m\u001b[0;34m\u001b[0m\u001b[0m\n\u001b[0m\u001b[1;32m    100\u001b[0m \u001b[0;34m\u001b[0m\u001b[0m\n\u001b[1;32m    101\u001b[0m     \u001b[0;32mreturn\u001b[0m \u001b[0mparser_func\u001b[0m\u001b[0;34m\u001b[0m\u001b[0;34m\u001b[0m\u001b[0m\n",
      "\u001b[0;32m/anaconda3/lib/python3.7/site-packages/modin/pandas/io.py\u001b[0m in \u001b[0;36m_read\u001b[0;34m(**kwargs)\u001b[0m\n\u001b[1;32m    110\u001b[0m         \u001b[0mkwargs\u001b[0m\u001b[0;34m:\u001b[0m \u001b[0mKeyword\u001b[0m \u001b[0marguments\u001b[0m \u001b[0;32min\u001b[0m \u001b[0mpandas\u001b[0m\u001b[0;34m.\u001b[0m\u001b[0mread_csv\u001b[0m\u001b[0;34m\u001b[0m\u001b[0;34m\u001b[0m\u001b[0m\n\u001b[1;32m    111\u001b[0m     \"\"\"\n\u001b[0;32m--> 112\u001b[0;31m     \u001b[0mpd_obj\u001b[0m \u001b[0;34m=\u001b[0m \u001b[0mBaseFactory\u001b[0m\u001b[0;34m.\u001b[0m\u001b[0mread_csv\u001b[0m\u001b[0;34m(\u001b[0m\u001b[0;34m**\u001b[0m\u001b[0mkwargs\u001b[0m\u001b[0;34m)\u001b[0m\u001b[0;34m\u001b[0m\u001b[0;34m\u001b[0m\u001b[0m\n\u001b[0m\u001b[1;32m    113\u001b[0m     \u001b[0;31m# This happens when `read_csv` returns a TextFileReader object for iterating through\u001b[0m\u001b[0;34m\u001b[0m\u001b[0;34m\u001b[0m\u001b[0;34m\u001b[0m\u001b[0m\n\u001b[1;32m    114\u001b[0m     \u001b[0;32mif\u001b[0m \u001b[0misinstance\u001b[0m\u001b[0;34m(\u001b[0m\u001b[0mpd_obj\u001b[0m\u001b[0;34m,\u001b[0m \u001b[0mpandas\u001b[0m\u001b[0;34m.\u001b[0m\u001b[0mio\u001b[0m\u001b[0;34m.\u001b[0m\u001b[0mparsers\u001b[0m\u001b[0;34m.\u001b[0m\u001b[0mTextFileReader\u001b[0m\u001b[0;34m)\u001b[0m\u001b[0;34m:\u001b[0m\u001b[0;34m\u001b[0m\u001b[0;34m\u001b[0m\u001b[0m\n",
      "\u001b[0;32m/anaconda3/lib/python3.7/site-packages/modin/data_management/factories.py\u001b[0m in \u001b[0;36mread_csv\u001b[0;34m(cls, **kwargs)\u001b[0m\n\u001b[1;32m     57\u001b[0m     \u001b[0;34m@\u001b[0m\u001b[0mclassmethod\u001b[0m\u001b[0;34m\u001b[0m\u001b[0;34m\u001b[0m\u001b[0m\n\u001b[1;32m     58\u001b[0m     \u001b[0;32mdef\u001b[0m \u001b[0mread_csv\u001b[0m\u001b[0;34m(\u001b[0m\u001b[0mcls\u001b[0m\u001b[0;34m,\u001b[0m \u001b[0;34m**\u001b[0m\u001b[0mkwargs\u001b[0m\u001b[0;34m)\u001b[0m\u001b[0;34m:\u001b[0m\u001b[0;34m\u001b[0m\u001b[0;34m\u001b[0m\u001b[0m\n\u001b[0;32m---> 59\u001b[0;31m         \u001b[0;32mreturn\u001b[0m \u001b[0mcls\u001b[0m\u001b[0;34m.\u001b[0m\u001b[0m_determine_engine\u001b[0m\u001b[0;34m(\u001b[0m\u001b[0;34m)\u001b[0m\u001b[0;34m.\u001b[0m\u001b[0m_read_csv\u001b[0m\u001b[0;34m(\u001b[0m\u001b[0;34m**\u001b[0m\u001b[0mkwargs\u001b[0m\u001b[0;34m)\u001b[0m\u001b[0;34m\u001b[0m\u001b[0;34m\u001b[0m\u001b[0m\n\u001b[0m\u001b[1;32m     60\u001b[0m \u001b[0;34m\u001b[0m\u001b[0m\n\u001b[1;32m     61\u001b[0m     \u001b[0;34m@\u001b[0m\u001b[0mclassmethod\u001b[0m\u001b[0;34m\u001b[0m\u001b[0;34m\u001b[0m\u001b[0m\n",
      "\u001b[0;32m/anaconda3/lib/python3.7/site-packages/modin/data_management/factories.py\u001b[0m in \u001b[0;36m_read_csv\u001b[0;34m(cls, **kwargs)\u001b[0m\n\u001b[1;32m     61\u001b[0m     \u001b[0;34m@\u001b[0m\u001b[0mclassmethod\u001b[0m\u001b[0;34m\u001b[0m\u001b[0;34m\u001b[0m\u001b[0m\n\u001b[1;32m     62\u001b[0m     \u001b[0;32mdef\u001b[0m \u001b[0m_read_csv\u001b[0m\u001b[0;34m(\u001b[0m\u001b[0mcls\u001b[0m\u001b[0;34m,\u001b[0m \u001b[0;34m**\u001b[0m\u001b[0mkwargs\u001b[0m\u001b[0;34m)\u001b[0m\u001b[0;34m:\u001b[0m\u001b[0;34m\u001b[0m\u001b[0;34m\u001b[0m\u001b[0m\n\u001b[0;32m---> 63\u001b[0;31m         \u001b[0;32mreturn\u001b[0m \u001b[0mcls\u001b[0m\u001b[0;34m.\u001b[0m\u001b[0mio_cls\u001b[0m\u001b[0;34m.\u001b[0m\u001b[0mread_csv\u001b[0m\u001b[0;34m(\u001b[0m\u001b[0;34m**\u001b[0m\u001b[0mkwargs\u001b[0m\u001b[0;34m)\u001b[0m\u001b[0;34m\u001b[0m\u001b[0;34m\u001b[0m\u001b[0m\n\u001b[0m\u001b[1;32m     64\u001b[0m \u001b[0;34m\u001b[0m\u001b[0m\n\u001b[1;32m     65\u001b[0m     \u001b[0;34m@\u001b[0m\u001b[0mclassmethod\u001b[0m\u001b[0;34m\u001b[0m\u001b[0;34m\u001b[0m\u001b[0m\n",
      "\u001b[0;32m/anaconda3/lib/python3.7/site-packages/modin/engines/ray/generic/io.py\u001b[0m in \u001b[0;36mread_csv\u001b[0;34m(cls, filepath_or_buffer, sep, delimiter, header, names, index_col, usecols, squeeze, prefix, mangle_dupe_cols, dtype, engine, converters, true_values, false_values, skipinitialspace, skiprows, nrows, na_values, keep_default_na, na_filter, verbose, skip_blank_lines, parse_dates, infer_datetime_format, keep_date_col, date_parser, dayfirst, iterator, chunksize, compression, thousands, decimal, lineterminator, quotechar, quoting, escapechar, comment, encoding, dialect, tupleize_cols, error_bad_lines, warn_bad_lines, skipfooter, doublequote, delim_whitespace, low_memory, memory_map, float_precision)\u001b[0m\n\u001b[1;32m    478\u001b[0m         \u001b[0;32mif\u001b[0m \u001b[0mcls\u001b[0m\u001b[0;34m.\u001b[0m\u001b[0mread_csv_remote_task\u001b[0m \u001b[0;32mis\u001b[0m \u001b[0;32mNone\u001b[0m\u001b[0;34m:\u001b[0m\u001b[0;34m\u001b[0m\u001b[0;34m\u001b[0m\u001b[0m\n\u001b[1;32m    479\u001b[0m             \u001b[0;32mreturn\u001b[0m \u001b[0msuper\u001b[0m\u001b[0;34m(\u001b[0m\u001b[0mRayIO\u001b[0m\u001b[0;34m,\u001b[0m \u001b[0mcls\u001b[0m\u001b[0;34m)\u001b[0m\u001b[0;34m.\u001b[0m\u001b[0mread_csv\u001b[0m\u001b[0;34m(\u001b[0m\u001b[0;34m**\u001b[0m\u001b[0mkwargs\u001b[0m\u001b[0;34m)\u001b[0m\u001b[0;34m\u001b[0m\u001b[0;34m\u001b[0m\u001b[0m\n\u001b[0;32m--> 480\u001b[0;31m         \u001b[0;32mreturn\u001b[0m \u001b[0mcls\u001b[0m\u001b[0;34m.\u001b[0m\u001b[0m_read\u001b[0m\u001b[0;34m(\u001b[0m\u001b[0;34m**\u001b[0m\u001b[0mkwargs\u001b[0m\u001b[0;34m)\u001b[0m\u001b[0;34m\u001b[0m\u001b[0;34m\u001b[0m\u001b[0m\n\u001b[0m\u001b[1;32m    481\u001b[0m \u001b[0;34m\u001b[0m\u001b[0m\n\u001b[1;32m    482\u001b[0m     \u001b[0;34m@\u001b[0m\u001b[0mclassmethod\u001b[0m\u001b[0;34m\u001b[0m\u001b[0;34m\u001b[0m\u001b[0m\n",
      "\u001b[0;32m/anaconda3/lib/python3.7/site-packages/modin/engines/ray/generic/io.py\u001b[0m in \u001b[0;36m_read\u001b[0;34m(cls, filepath_or_buffer, **kwargs)\u001b[0m\n\u001b[1;32m    548\u001b[0m         \u001b[0;32melse\u001b[0m\u001b[0;34m:\u001b[0m\u001b[0;34m\u001b[0m\u001b[0;34m\u001b[0m\u001b[0m\n\u001b[1;32m    549\u001b[0m             return cls._read_csv_from_file_pandas_on_ray(\n\u001b[0;32m--> 550\u001b[0;31m                 \u001b[0mfilepath_or_buffer\u001b[0m\u001b[0;34m,\u001b[0m \u001b[0mfiltered_kwargs\u001b[0m\u001b[0;34m\u001b[0m\u001b[0;34m\u001b[0m\u001b[0m\n\u001b[0m\u001b[1;32m    551\u001b[0m             )\n\u001b[1;32m    552\u001b[0m \u001b[0;34m\u001b[0m\u001b[0m\n",
      "\u001b[0;32m/anaconda3/lib/python3.7/site-packages/modin/engines/ray/generic/io.py\u001b[0m in \u001b[0;36m_read_csv_from_file_pandas_on_ray\u001b[0;34m(cls, filepath, kwargs)\u001b[0m\n\u001b[1;32m    325\u001b[0m \u001b[0;34m\u001b[0m\u001b[0m\n\u001b[1;32m    326\u001b[0m         \u001b[0;32mif\u001b[0m \u001b[0mindex_col\u001b[0m \u001b[0;32mis\u001b[0m \u001b[0;32mNone\u001b[0m\u001b[0;34m:\u001b[0m\u001b[0;34m\u001b[0m\u001b[0;34m\u001b[0m\u001b[0m\n\u001b[0;32m--> 327\u001b[0;31m             \u001b[0mnew_index\u001b[0m \u001b[0;34m=\u001b[0m \u001b[0mpandas\u001b[0m\u001b[0;34m.\u001b[0m\u001b[0mRangeIndex\u001b[0m\u001b[0;34m(\u001b[0m\u001b[0msum\u001b[0m\u001b[0;34m(\u001b[0m\u001b[0mray\u001b[0m\u001b[0;34m.\u001b[0m\u001b[0mget\u001b[0m\u001b[0;34m(\u001b[0m\u001b[0mindex_ids\u001b[0m\u001b[0;34m)\u001b[0m\u001b[0;34m)\u001b[0m\u001b[0;34m)\u001b[0m\u001b[0;34m\u001b[0m\u001b[0;34m\u001b[0m\u001b[0m\n\u001b[0m\u001b[1;32m    328\u001b[0m         \u001b[0;32melse\u001b[0m\u001b[0;34m:\u001b[0m\u001b[0;34m\u001b[0m\u001b[0;34m\u001b[0m\u001b[0m\n\u001b[1;32m    329\u001b[0m             \u001b[0mnew_index_ids\u001b[0m \u001b[0;34m=\u001b[0m \u001b[0mget_index\u001b[0m\u001b[0;34m.\u001b[0m\u001b[0mremote\u001b[0m\u001b[0;34m(\u001b[0m\u001b[0;34m[\u001b[0m\u001b[0mempty_pd_df\u001b[0m\u001b[0;34m.\u001b[0m\u001b[0mindex\u001b[0m\u001b[0;34m.\u001b[0m\u001b[0mname\u001b[0m\u001b[0;34m]\u001b[0m\u001b[0;34m,\u001b[0m \u001b[0;34m*\u001b[0m\u001b[0mindex_ids\u001b[0m\u001b[0;34m)\u001b[0m\u001b[0;34m\u001b[0m\u001b[0;34m\u001b[0m\u001b[0m\n",
      "\u001b[0;32m/anaconda3/lib/python3.7/site-packages/ray/worker.py\u001b[0m in \u001b[0;36mget\u001b[0;34m(object_ids)\u001b[0m\n\u001b[1;32m   2182\u001b[0m                 \u001b[0;32mif\u001b[0m \u001b[0misinstance\u001b[0m\u001b[0;34m(\u001b[0m\u001b[0mvalue\u001b[0m\u001b[0;34m,\u001b[0m \u001b[0mRayError\u001b[0m\u001b[0;34m)\u001b[0m\u001b[0;34m:\u001b[0m\u001b[0;34m\u001b[0m\u001b[0;34m\u001b[0m\u001b[0m\n\u001b[1;32m   2183\u001b[0m                     \u001b[0mlast_task_error_raise_time\u001b[0m \u001b[0;34m=\u001b[0m \u001b[0mtime\u001b[0m\u001b[0;34m.\u001b[0m\u001b[0mtime\u001b[0m\u001b[0;34m(\u001b[0m\u001b[0;34m)\u001b[0m\u001b[0;34m\u001b[0m\u001b[0;34m\u001b[0m\u001b[0m\n\u001b[0;32m-> 2184\u001b[0;31m                     \u001b[0;32mraise\u001b[0m \u001b[0mvalue\u001b[0m\u001b[0;34m\u001b[0m\u001b[0;34m\u001b[0m\u001b[0m\n\u001b[0m\u001b[1;32m   2185\u001b[0m             \u001b[0;32mreturn\u001b[0m \u001b[0mvalues\u001b[0m\u001b[0;34m\u001b[0m\u001b[0;34m\u001b[0m\u001b[0m\n\u001b[1;32m   2186\u001b[0m         \u001b[0;32melse\u001b[0m\u001b[0;34m:\u001b[0m\u001b[0;34m\u001b[0m\u001b[0;34m\u001b[0m\u001b[0m\n",
      "\u001b[0;31mRayWorkerError\u001b[0m: The worker died unexpectedly while executing this task."
     ]
    },
    {
     "name": "stderr",
     "output_type": "stream",
     "text": [
      "2019-05-10 10:10:40,630\tERROR worker.py:1672 -- A worker died or was killed while executing task 00000000ea481dd58f9dba5336192e8a47250f0e.\n",
      "2019-05-10 10:10:40,631\tERROR worker.py:1672 -- A worker died or was killed while executing task 000000007dae37e25bc8e9ee163da08cc2cff571.\n",
      "2019-05-10 10:10:40,634\tERROR worker.py:1672 -- A worker died or was killed while executing task 000000009ebc2fb73b58846d1fe956de218e0c13.\n",
      "2019-05-10 10:10:40,635\tERROR worker.py:1672 -- A worker died or was killed while executing task 0000000014821da31a929144f3de504306037bf0.\n"
     ]
    }
   ],
   "source": [
    "companies_df = pd.read_csv(\"companies.txt\", encoding='unicode_escape', sep='\\t')\n",
    "rounds2_df = pd.read_csv(\"rounds2.csv\", encoding='unicode_escape')\n",
    "mapping_df = pd.read_csv(\"mapping.csv\", encoding='unicode_escape')\n",
    "\n",
    "companies_df.head()"
   ]
  },
  {
   "cell_type": "code",
   "execution_count": null,
   "metadata": {},
   "outputs": [],
   "source": [
    "rounds2_df.head()"
   ]
  },
  {
   "cell_type": "code",
   "execution_count": null,
   "metadata": {},
   "outputs": [],
   "source": [
    "mapping_df.head()"
   ]
  },
  {
   "cell_type": "markdown",
   "metadata": {},
   "source": [
    "# -----------------------------------------------------------------------------------------------------------\n",
    "# 2. Finding answers to the questions given in the Excel sheet\n",
    "# -----------------------------------------------------------------------------------------------------------"
   ]
  },
  {
   "cell_type": "markdown",
   "metadata": {},
   "source": [
    "## Table - 1.1\n",
    "# -----------------------------------------------------------------------------------------------------------"
   ]
  },
  {
   "cell_type": "markdown",
   "metadata": {},
   "source": [
    "### Question 1 and 2"
   ]
  },
  {
   "cell_type": "markdown",
   "metadata": {},
   "source": [
    "<font color=\"red\">**Assumption:**</font>\n",
    "I am assuming that we don't need to clean the data for this question based on below understanding.\n",
    "- If we remove the records for blank **country_code** from companies_df dataframe, then we may left with records of those companies in the rounds2_df dataframe.\n",
    "\n",
    "***Therefore as per my understanding we should merge both the dataframes first and then clean-up the data.***"
   ]
  },
  {
   "cell_type": "code",
   "execution_count": null,
   "metadata": {
    "scrolled": true
   },
   "outputs": [],
   "source": [
    "#list of unique companies in round2 and companies file\n",
    "print(\"list of unique companies in round2: \")\n",
    "print(len(rounds2_df['company_permalink'].unique().tolist()))\n",
    "\n",
    "\n",
    "print(\"\\nlist of unique companies: \")\n",
    "print(len(companies_df['permalink'].unique().tolist()))"
   ]
  },
  {
   "cell_type": "markdown",
   "metadata": {},
   "source": [
    "### Question 3\n",
    "\n",
    "Since **permalink** field containts unique values and can also uniquely identify each record, it can used as the **unique key for each company**."
   ]
  },
  {
   "cell_type": "markdown",
   "metadata": {},
   "source": [
    "### Question 4"
   ]
  },
  {
   "cell_type": "markdown",
   "metadata": {},
   "source": [
    "<Font color=\"blue\" size=\"2\">To answer question 4 we'll have to merge the companies_df and rounds2_df dataframes. Merging will be done on **companies_df.permalink** and **rounds2_df.company_permalink** columns.</font>\n",
    "\n",
    "<Font color=\"red\" size=\"2\">Since the values in **companies_df.permalink** and **rounds2_company_permalink** columns are in different case (i.e. uppercase and lowercase), it does not merge properly. To avoid this I am lowering the case of all the values in **companies_df.permalink** and **rounds2_df.company_permalink** columns.</font>"
   ]
  },
  {
   "cell_type": "code",
   "execution_count": null,
   "metadata": {},
   "outputs": [],
   "source": [
    "companies_df['permalink'] = companies_df['permalink'].str.lower()\n",
    "rounds2_df['company_permalink'] = rounds2_df['company_permalink'].str.lower()\n",
    "\n",
    "#Adding additional keys to find records that do not match in each dataframe\n",
    "rounds2_df['key1'] = 1\n",
    "companies_df['key2'] = 1\n",
    "\n",
    "# merging the dataframes\n",
    "master_frame = rounds2_df.merge(companies_df, how='outer', left_on='company_permalink', right_on='permalink')"
   ]
  },
  {
   "cell_type": "code",
   "execution_count": null,
   "metadata": {},
   "outputs": [],
   "source": [
    "#Checking if there are records in rounds2 dataframe which are not present in companies dataframe.\n",
    "master_frame[~(master_frame.key2 == master_frame.key1)]"
   ]
  },
  {
   "cell_type": "markdown",
   "metadata": {},
   "source": [
    "Since no records are present, the answer is **No**."
   ]
  },
  {
   "cell_type": "code",
   "execution_count": null,
   "metadata": {},
   "outputs": [],
   "source": [
    "# dropping the additional columns, added to find the records that do not match in each dataframe.\n",
    "master_frame = master_frame.drop(['key1', 'key2'], axis=1)"
   ]
  },
  {
   "cell_type": "markdown",
   "metadata": {},
   "source": [
    "### Question 5"
   ]
  },
  {
   "cell_type": "markdown",
   "metadata": {},
   "source": [
    "<font color=\"red\">**Assumption:**</font> Since the data is merged, I feel we should clean-up the data before answering this question. "
   ]
  },
  {
   "cell_type": "markdown",
   "metadata": {},
   "source": [
    "#### 5.1 Identifying the percentage of values that are blank in each column."
   ]
  },
  {
   "cell_type": "code",
   "execution_count": null,
   "metadata": {
    "scrolled": false
   },
   "outputs": [],
   "source": [
    "round(100*(master_frame.isnull().sum()/len(master_frame.index)), 2)"
   ]
  },
  {
   "cell_type": "markdown",
   "metadata": {},
   "source": [
    "Am going to remove the below mentioned **columns** (marked in <font color=\"red\">**red**</font>) from master_frame. Below is the snap-shot of master_frame before data clean-up showing the percentage of records that are blank. <br>\n",
    "<table border=\"1\" align=\"left\">\n",
    "    <tr>\n",
    "        <td>company_permalink</td>\n",
    "        <td>0.00</td>\n",
    "        <td></td>\n",
    "    </tr>\n",
    "    <tr>\n",
    "        <td>funding_round_permalink</td>\n",
    "        <td>0.00</td>\n",
    "        <td></td>\n",
    "    </tr>\n",
    "    <tr>\n",
    "        <td>funding_round_type</td>\n",
    "        <td>0.00</td>\n",
    "        <td></td>\n",
    "    </tr>\n",
    "    <tr>\n",
    "        <td><font color=\"red\">funding_round_code</font></td>\n",
    "        <td><font color=\"red\">72.91</font></td>\n",
    "        <td>too many rows are blank and<br> it is not used in any analysis.</td>\n",
    "    </tr>\n",
    "    <tr>\n",
    "        <td><font color=\"red\">funded_at</font></td>\n",
    "        <td><font color=\"red\">0.00</font></td>\n",
    "        <td>not used for any analysis.</td>\n",
    "    </tr>\n",
    "    <tr>\n",
    "        <td>raised_amount_usd</td>\n",
    "        <td>17.39</td>\n",
    "        <td></td>\n",
    "    </tr>\n",
    "    <tr>\n",
    "        <td>permalink</td>\n",
    "        <td>0.00</td>\n",
    "        <td></td>\n",
    "    </tr>\n",
    "    <tr>\n",
    "        <td>name</td>\n",
    "        <td>0.00</td>\n",
    "        <td></td>\n",
    "    </tr>\n",
    "    <tr>\n",
    "        <td><font color=\"red\">homepage_url</font></font></td>\n",
    "        <td><font color=\"red\">5.34</font></td>\n",
    "        <td>not used for any analysis.</td>\n",
    "    </tr>\n",
    "    <tr>\n",
    "        <td>category_list</td>\n",
    "        <td>2.97</td>\n",
    "        <td></td>\n",
    "    </tr>\n",
    "    <tr>\n",
    "        <td><font color=\"red\">status</font></td>\n",
    "        <td><font color=\"red\">0.00</font></td>\n",
    "        <td>not used for any analysis.</td>\n",
    "    </tr>\n",
    "    <tr>\n",
    "        <td>country_code</td>\n",
    "        <td>7.55</td>\n",
    "        <td></td>\n",
    "    </tr>\n",
    "    <tr>\n",
    "        <td><font color=\"red\">state_code</font></td>\n",
    "        <td><font color=\"red\">9.52</font></td>\n",
    "        <td>not used for any analysis.</td>\n",
    "    </tr>\n",
    "    <tr>\n",
    "        <td><font color=\"red\">region</font></td>\n",
    "        <td><font color=\"red\">8.84</font></td>\n",
    "        <td>not used for any analysis.</td>\n",
    "    </tr>\n",
    "    <tr>\n",
    "        <td><font color=\"red\">city</font></td>\n",
    "        <td><font color=\"red\">8.84</font></td>\n",
    "        <td>not used for any analysis.</td>\n",
    "    </tr>\n",
    "    <tr>\n",
    "        <td><font color=\"red\">founded_at</font></td>\n",
    "        <td><font color=\"red\">17.85</font></td>\n",
    "        <td>not used for any analysis.</td>\n",
    "    </tr>\n",
    "</table>"
   ]
  },
  {
   "cell_type": "markdown",
   "metadata": {},
   "source": [
    "#### 5.2 Dropping unused columns from the master_frame dataframe"
   ]
  },
  {
   "cell_type": "code",
   "execution_count": null,
   "metadata": {},
   "outputs": [],
   "source": [
    "# removing above mentioned columns\n",
    "master_frame = master_frame.drop('funding_round_code', axis=1)\n",
    "master_frame = master_frame.drop('funded_at', axis=1)\n",
    "master_frame = master_frame.drop('homepage_url', axis=1)\n",
    "master_frame = master_frame.drop('status', axis=1)\n",
    "master_frame = master_frame.drop('state_code', axis=1)\n",
    "master_frame = master_frame.drop('region', axis=1)\n",
    "master_frame = master_frame.drop('city', axis=1)\n",
    "master_frame = master_frame.drop('founded_at', axis=1)"
   ]
  },
  {
   "cell_type": "markdown",
   "metadata": {},
   "source": [
    "And the below mentioned **rows**.\n",
    "\n",
    "1. records were <font color=\"magenta\">country_code = blank</font>. ***Because such records will impact the values of average investment done in various funding types (e.g. venture, seed etc.)***\n",
    "2. records were <font color=\"magenta\">funding_amount_usd = blank</font>. ***Because such records will impact the values of count of investment done in different sectors (e.g. Manufacturing, Health etc.)***\n",
    "\n",
    "<font color=\"red\">**Please note:**</font> *Am not removing the blank records for category list, because the mappings data have a record to map blank category_list.*"
   ]
  },
  {
   "cell_type": "markdown",
   "metadata": {},
   "source": [
    "#### 5.3 Dropping records where country_code, and raised_amount_usd are null in the master_frame dataframe"
   ]
  },
  {
   "cell_type": "code",
   "execution_count": null,
   "metadata": {},
   "outputs": [],
   "source": [
    "# removing blank country_code rows\n",
    "master_frame = master_frame.dropna(subset=['country_code', 'raised_amount_usd'])"
   ]
  },
  {
   "cell_type": "code",
   "execution_count": null,
   "metadata": {},
   "outputs": [],
   "source": [
    "round(100*(master_frame.isnull().sum()/len(master_frame.index)), 2)"
   ]
  },
  {
   "cell_type": "markdown",
   "metadata": {},
   "source": [
    "snap-shot of master_frame after data clean-up showing the percentage of records that are blank. <br>\n",
    "<table border=\"1\" align=\"left\">\n",
    "    <tr>\n",
    "        <td>company_permalink</td>\n",
    "        <td>0.00</td>\n",
    "        <td></td>\n",
    "    </tr>\n",
    "    <tr>\n",
    "        <td>funding_round_permalink</td>\n",
    "        <td>0.00</td>\n",
    "        <td></td>\n",
    "    </tr>\n",
    "    <tr>\n",
    "        <td>funding_round_type</td>\n",
    "        <td>0.00</td>\n",
    "        <td></td>\n",
    "    </tr>\n",
    "    <tr>\n",
    "        <td>raised_amount_usd</td>\n",
    "        <td>0.00</td>\n",
    "        <td></td>\n",
    "    </tr>\n",
    "    <tr>\n",
    "        <td>permalink</td>\n",
    "        <td>0.00</td>\n",
    "        <td></td>\n",
    "    </tr>\n",
    "    <tr>\n",
    "        <td>name</td>\n",
    "        <td>0.00</td>\n",
    "        <td></td>\n",
    "    </tr>\n",
    "    <tr>\n",
    "        <td>category_list</td>\n",
    "        <td>0.65</td>\n",
    "        <td></td>\n",
    "    </tr>\n",
    "    <tr>\n",
    "        <td>country_code</td>\n",
    "        <td>0.00</td>\n",
    "        <td></td>\n",
    "    </tr>\n",
    "</table>"
   ]
  },
  {
   "cell_type": "markdown",
   "metadata": {},
   "source": [
    "#### 5.4 Finding the answer"
   ]
  },
  {
   "cell_type": "code",
   "execution_count": null,
   "metadata": {},
   "outputs": [],
   "source": [
    "# checking the number of records after data clean-up\n",
    "master_frame.info()"
   ]
  },
  {
   "cell_type": "markdown",
   "metadata": {},
   "source": [
    "Answer is the total number of entries found (**i.e. 89108**) in master_frame dataframe."
   ]
  },
  {
   "cell_type": "markdown",
   "metadata": {},
   "source": [
    "# -----------------------------------------------------------------------------------------------------------"
   ]
  },
  {
   "cell_type": "markdown",
   "metadata": {},
   "source": [
    "## Table 2.1\n",
    "# -----------------------------------------------------------------------------------------------------------\n"
   ]
  },
  {
   "cell_type": "markdown",
   "metadata": {},
   "source": [
    "### Question 1 to 4"
   ]
  },
  {
   "cell_type": "code",
   "execution_count": null,
   "metadata": {},
   "outputs": [],
   "source": [
    "# to find the value of various funding types, applying group by to the 'funding_round_type' field.\n",
    "\n",
    "funding_type_df = master_frame.groupby('funding_round_type')\n",
    "\n",
    "#----------------------------------------------------------------------------------------------------------------------\n",
    "\n",
    "# getting the mean value for different types of funding. The apply() function is for showing the values in float format\n",
    "# because the default view is in exponential format and hence unreadable.\n",
    "\n",
    "funding_type_df['raised_amount_usd'].mean().apply(lambda x: format(x, 'f'))"
   ]
  },
  {
   "cell_type": "markdown",
   "metadata": {},
   "source": [
    "From the results above, the value of required funding types are taken as mentioned below;\n",
    "-  venture         : 11735779.935192\n",
    "-  angel           : 968559.909645\n",
    "-  seed            : 748104.498187\n",
    "-  private_equity  : 73618563.617439"
   ]
  },
  {
   "cell_type": "markdown",
   "metadata": {},
   "source": [
    "### Question 5"
   ]
  },
  {
   "cell_type": "markdown",
   "metadata": {},
   "source": [
    "To understand which funding type Spark should invest in. We need to check the total amount invested in each Funding Type and the total number of companies that have invested in each Funding Type."
   ]
  },
  {
   "cell_type": "code",
   "execution_count": null,
   "metadata": {},
   "outputs": [],
   "source": [
    "# getting the total of raised amount in different funding types\n",
    "funding_type_df['raised_amount_usd'].sum().apply(lambda x: format(x, 'f'))"
   ]
  },
  {
   "cell_type": "code",
   "execution_count": null,
   "metadata": {},
   "outputs": [],
   "source": [
    "# getting the count of companies that have invested in different types of funding.\n",
    "funding_type_df['raised_amount_usd'].count()"
   ]
  },
  {
   "cell_type": "markdown",
   "metadata": {},
   "source": [
    "#### <font color=\"blue\">Analysis</font>\n",
    "Since the most number of companies (i.e. 48,111) have invested more than $564 billion in Venture funding type, and also since it is the company's strategy to invest where others are investing, implying that such funding type is the best. \n",
    "\n",
    "It is recommended that Spark Funds invest in **Venture** funding type."
   ]
  },
  {
   "cell_type": "markdown",
   "metadata": {},
   "source": [
    "# ------------------------------------------------------------------------------------------"
   ]
  },
  {
   "cell_type": "markdown",
   "metadata": {},
   "source": [
    "## Table 3.1\n",
    "# ------------------------------------------------------------------------------------------"
   ]
  },
  {
   "cell_type": "markdown",
   "metadata": {},
   "source": [
    "### Question 1 to 3"
   ]
  },
  {
   "cell_type": "code",
   "execution_count": null,
   "metadata": {},
   "outputs": [],
   "source": [
    "# finding the total amount invested in Venture type funding for each country.\n",
    "venture_type_df = master_frame.loc[master_frame['funding_round_type'].isin(['venture'])]\n",
    "\n",
    "# grouping the data by country_code (i.e. country wise)\n",
    "venture_type_df = venture_type_df.groupby(['country_code'])\n",
    "\n",
    "# As asked fetching the top 9 countries and storing it in a dataframe\n",
    "top9 = pd.DataFrame(venture_type_df['raised_amount_usd'].sum().sort_values(ascending=False).apply(lambda x: format(x, 'f'))).head(n=9)\n",
    "\n",
    "top9"
   ]
  },
  {
   "cell_type": "markdown",
   "metadata": {},
   "source": [
    "#### <font color=\"blue\">Analysis</font>\n",
    "The top 3 english speaking countries for Venture type funding are USA, United Kingdom, and India (1st, 3rd and 4th in the list).\n",
    "\n",
    "**Please note:** *China is not considered cause english is not one of their official language.*"
   ]
  },
  {
   "cell_type": "markdown",
   "metadata": {},
   "source": [
    "# -----------------------------------------------------------------------------------------------------------"
   ]
  },
  {
   "cell_type": "markdown",
   "metadata": {},
   "source": [
    "## Table 5.1\n",
    "# -----------------------------------------------------------------------------------------------------------"
   ]
  },
  {
   "cell_type": "markdown",
   "metadata": {},
   "source": [
    "<a id=\"data_cleaning_table_5_1\"></a>\n",
    "## 5.1.1 Data cleaning for Table 5.1"
   ]
  },
  {
   "cell_type": "markdown",
   "metadata": {},
   "source": [
    "### 5.1.1.1\n",
    "\n",
    "In the mapping_df data there are values in **category_list** column where the text **na** is replaced by **0**.\n",
    "\n",
    "Replacing the **0 with na again** for a proper merge with **primary_sector** column"
   ]
  },
  {
   "cell_type": "code",
   "execution_count": null,
   "metadata": {},
   "outputs": [],
   "source": [
    "mapping_df['category_list'] = mapping_df['category_list'].str.replace('0', 'na')\n"
   ]
  },
  {
   "cell_type": "markdown",
   "metadata": {},
   "source": [
    "### 5.1.1.2\n",
    "\n",
    "Due to above step, the value of **enterprise 2.0** gets converted to **enterprise 2.na**.\n",
    "\n",
    "Therefore correcting the value back to **enterprise 2.0**."
   ]
  },
  {
   "cell_type": "code",
   "execution_count": null,
   "metadata": {},
   "outputs": [],
   "source": [
    "mapping_df['category_list'] = mapping_df['category_list'].str.replace('enterprise 2.na', 'enterprise 2.0')"
   ]
  },
  {
   "cell_type": "markdown",
   "metadata": {},
   "source": [
    "### 5.1.1.3\n",
    "\n",
    "Extracting the primary sector from the category_list column.\n",
    "\n",
    "**[0]** towards the end of the command extracts the 1st value that is split from the category_list.\n",
    "\n",
    "**str.lower()** at the end convertes the string in lower case. This is required for proper merging with **mapping_df** dataframe"
   ]
  },
  {
   "cell_type": "code",
   "execution_count": null,
   "metadata": {},
   "outputs": [],
   "source": [
    "master_frame['primary_sector'] = (master_frame['category_list'].str.split(\"|\", n=1, expand=True)[0]).str.lower()"
   ]
  },
  {
   "cell_type": "markdown",
   "metadata": {},
   "source": [
    "### 5.1.1.4\n",
    "\n",
    "Converting the **category_list** of mapping_df to lower case for proper merging with master_frame dataframe."
   ]
  },
  {
   "cell_type": "code",
   "execution_count": null,
   "metadata": {},
   "outputs": [],
   "source": [
    "mapping_df['category_list'] = mapping_df['category_list'].str.lower()"
   ]
  },
  {
   "cell_type": "markdown",
   "metadata": {},
   "source": [
    "### 5.1.1.5\n",
    "\n",
    "#### Merging master_frame and mapping_df dataframes for sector analysis."
   ]
  },
  {
   "cell_type": "code",
   "execution_count": null,
   "metadata": {},
   "outputs": [],
   "source": [
    "# merging master_frame and mappings_df dataframes.\n",
    "\n",
    "main_sector = master_frame.merge(mapping_df, left_on='primary_sector', right_on='category_list', how='outer')\n",
    "main_sector.info()"
   ]
  },
  {
   "cell_type": "markdown",
   "metadata": {},
   "source": [
    "#### Creating the dataframes for USA, UK, and India (D1, D2, and D3)"
   ]
  },
  {
   "cell_type": "code",
   "execution_count": null,
   "metadata": {},
   "outputs": [],
   "source": [
    "# creating data frame for USA (D1)\n",
    "\n",
    "# Step 1\n",
    "# creating a dataframe where we filter the records for funding_type = \"venture\", and country_code = \"USA\" and \n",
    "# raised_amount_usd between $50,00,000.00 and $150,00,000.00\n",
    "venture_type_usa_df = main_sector.loc[(main_sector['funding_round_type'].isin(['venture']) & main_sector['country_code'].isin(['USA']) & ((main_sector['raised_amount_usd'] >= 5000000.00) & (main_sector['raised_amount_usd'] <= 15000000.00)))]\n",
    "\n",
    "# Step 2\n",
    "# Creating a dataframe (temporary), where we take the total number of companies which have invested in different sectors. \n",
    "# Using the data from step 1.\n",
    "temp_count_sector_wise_df = pd.DataFrame(venture_type_usa_df.loc[:,'Automotive & Sports':'Social, Finance, Analytics, Advertising'].sum()).T\n",
    "\n",
    "# Step 3\n",
    "# In this step I'm renaiming the column names, and appending the text \"_count\" against all the column names of the sectors, \n",
    "# so that they remain different from the total investment in the sector column name.\n",
    "temp_count_sector_wise_df.rename(columns=lambda x: x+'_count', inplace=True)\n",
    "\n",
    "# Step 4\n",
    "# to calculate the total amount raised, I'm multiplying the sector columns (i.e. 'Automotive & Sports', 'Blanks' \n",
    "# and the other 7) with the 'raised_amount_usd' column. Since the sector columns have 0 or 1, we'll get the value of \n",
    "# 'raised_amount_usd' field in the sector column and can easily get a sum of it.\n",
    "df = venture_type_usa_df[['Automotive & Sports', 'Blanks', 'Cleantech / Semiconductors', 'Entertainment', 'Health', 'Manufacturing', 'News, Search and Messaging', 'Others', 'Social, Finance, Analytics, Advertising']].multiply(venture_type_usa_df['raised_amount_usd'], axis='index')\n",
    "temp_total_investment_sector_wise_df = pd.DataFrame(df.loc[:,'Automotive & Sports':'Social, Finance, Analytics, Advertising'].sum()).T\n",
    "\n",
    "# Step 5\n",
    "# Same as step 3, except that I'm appending the column name with \"_Total_Investment\".\n",
    "temp_total_investment_sector_wise_df.rename(columns=lambda x: x+'_Total_Investment', inplace=True)\n",
    "\n",
    "# Step 6\n",
    "# Finally concatenating all the 3 dataframes (mentioned below) and creating a new dataframe with the name D1\n",
    "# 1. venture_type_usa_df = created in Step 1\n",
    "# 2. temp_count_sector_wise_df = created in step 2 and 3\n",
    "# 3. temp_total_investment_sector_wise_df = created in step 4 and 5\n",
    "D1 = pd.concat([venture_type_usa_df, temp_count_sector_wise_df, temp_total_investment_sector_wise_df], axis=1)\n",
    "D1.info()"
   ]
  },
  {
   "cell_type": "code",
   "execution_count": null,
   "metadata": {},
   "outputs": [],
   "source": [
    "# creating data frame for GBR (United Kingdom) (D2)\n",
    "# All the steps are similar to the once created for D1. Therefore I'm skipping the same comments here.\n",
    "\n",
    "# Step 1\n",
    "venture_type_gbr_df = main_sector.loc[(main_sector['funding_round_type'].isin(['venture']) & main_sector['country_code'].isin(['GBR']) & ((main_sector['raised_amount_usd'] >= 5000000.00) & (main_sector['raised_amount_usd'] <= 15000000.00)))]\n",
    "\n",
    "# Step 2\n",
    "temp_count_sector_wise_df = pd.DataFrame(venture_type_gbr_df.loc[:,'Automotive & Sports':'Social, Finance, Analytics, Advertising'].sum()).T\n",
    "\n",
    "# Step 3\n",
    "temp_count_sector_wise_df.rename(columns=lambda x: x+'_count', inplace=True)\n",
    "\n",
    "# Step 4\n",
    "df = venture_type_gbr_df[['Automotive & Sports', 'Blanks', 'Cleantech / Semiconductors', 'Entertainment', 'Health', 'Manufacturing', 'News, Search and Messaging', 'Others', 'Social, Finance, Analytics, Advertising']].multiply(venture_type_gbr_df['raised_amount_usd'], axis='index')\n",
    "temp_total_investment_sector_wise_df = pd.DataFrame(df.loc[:,'Automotive & Sports':'Social, Finance, Analytics, Advertising'].sum()).T\n",
    "\n",
    "# Step 5\n",
    "temp_total_investment_sector_wise_df.rename(columns=lambda x: x+'_Total_Investment', inplace=True)\n",
    "\n",
    "# Step 6\n",
    "D2 = pd.concat([venture_type_gbr_df, temp_count_sector_wise_df, temp_total_investment_sector_wise_df], axis=1)\n",
    "D2.head()"
   ]
  },
  {
   "cell_type": "code",
   "execution_count": null,
   "metadata": {},
   "outputs": [],
   "source": [
    "# creating data frame for IND (India) (D3)\n",
    "# All the steps are similar to the once created for D1. Therefore I'm skipping the same comments here.\n",
    "\n",
    "# Step 1\n",
    "venture_type_ind_df = main_sector.loc[(main_sector['funding_round_type'].isin(['venture']) & main_sector['country_code'].isin(['IND']) & ((main_sector['raised_amount_usd'] >= 5000000.00) & (main_sector['raised_amount_usd'] <= 15000000.00)))]\n",
    "\n",
    "# Step 2\n",
    "temp_count_sector_wise_df = pd.DataFrame(venture_type_ind_df.loc[:,'Automotive & Sports':'Social, Finance, Analytics, Advertising'].sum()).T\n",
    "\n",
    "# Step 3\n",
    "temp_count_sector_wise_df.rename(columns=lambda x: x+'_count', inplace=True)\n",
    "\n",
    "# Step 4\n",
    "df = venture_type_ind_df[['Automotive & Sports', 'Blanks', 'Cleantech / Semiconductors', 'Entertainment', 'Health', 'Manufacturing', 'News, Search and Messaging', 'Others', 'Social, Finance, Analytics, Advertising']].multiply(venture_type_ind_df['raised_amount_usd'], axis='index')\n",
    "temp_total_investment_sector_wise_df = pd.DataFrame(df.loc[:,'Automotive & Sports':'Social, Finance, Analytics, Advertising'].sum()).T\n",
    "\n",
    "# Step 5\n",
    "temp_total_investment_sector_wise_df.rename(columns=lambda x: x+'_Total_Investment', inplace=True)\n",
    "\n",
    "# Step 6\n",
    "D3 = pd.concat([venture_type_ind_df, temp_count_sector_wise_df, temp_total_investment_sector_wise_df], axis=1)\n",
    "D3.head()"
   ]
  },
  {
   "cell_type": "markdown",
   "metadata": {},
   "source": [
    "### Question 1"
   ]
  },
  {
   "cell_type": "code",
   "execution_count": null,
   "metadata": {},
   "outputs": [],
   "source": [
    "# Calculating total number of investments (count) country wise\n",
    "\n",
    "#D1 - USA\n",
    "print(\"USA: \")\n",
    "print((pd.DataFrame(D1.loc[:,'Automotive & Sports_count':'Social, Finance, Analytics, Advertising_count'].sum())).sum())\n",
    "\n",
    "#D2 - GBR\n",
    "print(\"GBR: \")\n",
    "print((pd.DataFrame(D2.loc[:,'Automotive & Sports_count':'Social, Finance, Analytics, Advertising_count'].sum())).sum())\n",
    "\n",
    "#D2 - IND\n",
    "print(\"IND: \")\n",
    "print((pd.DataFrame(D3.loc[:,'Automotive & Sports_count':'Social, Finance, Analytics, Advertising_count'].sum())).sum())"
   ]
  },
  {
   "cell_type": "markdown",
   "metadata": {},
   "source": [
    "### Question 2"
   ]
  },
  {
   "cell_type": "code",
   "execution_count": null,
   "metadata": {},
   "outputs": [],
   "source": [
    "# Calculating total amount of investments (USD) country wise\n",
    "\n",
    "#D1 - USA\n",
    "print(\"USA: \")\n",
    "print((pd.DataFrame(D1.loc[:,'Automotive & Sports_Total_Investment':'Social, Finance, Analytics, Advertising_Total_Investment'].sum())).sum().apply(lambda x: format(x, 'f')))\n",
    "\n",
    "#D2 - GBR\n",
    "print(\"GBR: \")\n",
    "print((pd.DataFrame(D2.loc[:,'Automotive & Sports_Total_Investment':'Social, Finance, Analytics, Advertising_Total_Investment'].sum())).sum().apply(lambda x: format(x, 'f')))\n",
    "\n",
    "#D2 - IND\n",
    "print(\"IND: \")\n",
    "print((pd.DataFrame(D3.loc[:,'Automotive & Sports_Total_Investment':'Social, Finance, Analytics, Advertising_Total_Investment'].sum())).sum().apply(lambda x: format(x, 'f')))"
   ]
  },
  {
   "cell_type": "markdown",
   "metadata": {},
   "source": [
    "### Question 3 to 8"
   ]
  },
  {
   "cell_type": "code",
   "execution_count": null,
   "metadata": {},
   "outputs": [],
   "source": [
    "# Finding top 3 sectors numer of investment wise and their number of investments\n",
    "\n",
    "#D1 - USA\n",
    "print(\"USA: \")\n",
    "print((pd.DataFrame(D1.loc[:,'Automotive & Sports_count':'Social, Finance, Analytics, Advertising_count'].sum().sort_values(ascending=False))).head(n=3))\n",
    "\n",
    "#D2 - GBR\n",
    "print(\"GBR: \")\n",
    "print((pd.DataFrame(D2.loc[:,'Automotive & Sports_count':'Social, Finance, Analytics, Advertising_count'].sum().sort_values(ascending=False))).head(n=3))\n",
    "\n",
    "#D2 - IND\n",
    "print(\"IND: \")\n",
    "print((pd.DataFrame(D3.loc[:,'Automotive & Sports_count':'Social, Finance, Analytics, Advertising_count'].sum().sort_values(ascending=False))).head(n=3))"
   ]
  },
  {
   "cell_type": "markdown",
   "metadata": {},
   "source": [
    "### Question 9 - C1"
   ]
  },
  {
   "cell_type": "code",
   "execution_count": null,
   "metadata": {},
   "outputs": [],
   "source": [
    "# Company that received the highest investment in Others sector - D1 - USA\n",
    "top_company_usa_others_df = venture_type_usa_df.loc[((venture_type_usa_df['Others']==1) & (venture_type_usa_df['raised_amount_usd'] == venture_type_usa_df['raised_amount_usd'].max())),['name', 'country_code', 'raised_amount_usd', 'Others']]\n",
    "top_company_usa_others_df = pd.DataFrame(top_company_usa_others_df.groupby('name').raised_amount_usd.sum().sort_values(ascending=False))\n",
    "top_company_usa_others_df.head()"
   ]
  },
  {
   "cell_type": "markdown",
   "metadata": {},
   "source": [
    "### Question 9 - C2"
   ]
  },
  {
   "cell_type": "code",
   "execution_count": null,
   "metadata": {},
   "outputs": [],
   "source": [
    "# Company that received the highest investment in Others sector - GBR - United Kingdom\n",
    "\n",
    "top_company_gbr_others_df = venture_type_gbr_df.loc[((venture_type_gbr_df['Others']==1) & (venture_type_gbr_df['raised_amount_usd'] == venture_type_gbr_df['raised_amount_usd'].max())),['name', 'country_code', 'raised_amount_usd', 'Others']]\n",
    "top_company_gbr_others_df = pd.DataFrame(top_company_gbr_others_df.groupby('name').raised_amount_usd.sum().sort_values(ascending=False))\n",
    "top_company_gbr_others_df.head()"
   ]
  },
  {
   "cell_type": "markdown",
   "metadata": {},
   "source": [
    "### Question 9 - C3"
   ]
  },
  {
   "cell_type": "code",
   "execution_count": null,
   "metadata": {},
   "outputs": [],
   "source": [
    "# Company that received the highest investment in Others sector - D3 - IND - India\n",
    "\n",
    "top_company_ind_others_df = venture_type_ind_df.loc[((venture_type_ind_df['Others']==1) & (venture_type_ind_df['raised_amount_usd'] == venture_type_ind_df['raised_amount_usd'].max())),['name', 'country_code', 'raised_amount_usd', 'Others']]\n",
    "top_company_ind_others_df = pd.DataFrame(top_company_ind_others_df.groupby('name').raised_amount_usd.sum().sort_values(ascending=False))\n",
    "top_company_ind_others_df.head()"
   ]
  },
  {
   "cell_type": "markdown",
   "metadata": {},
   "source": [
    "### Question 10 - C1"
   ]
  },
  {
   "cell_type": "code",
   "execution_count": null,
   "metadata": {},
   "outputs": [],
   "source": [
    "# Company that received the highest investment in Social, Finance, Analytics, Advertising sector - USA\n",
    "\n",
    "top_company_usa_social_df = venture_type_usa_df.loc[((venture_type_usa_df['Social, Finance, Analytics, Advertising']==1) & (venture_type_usa_df['raised_amount_usd'] == venture_type_usa_df['raised_amount_usd'].max())),['name', 'country_code', 'raised_amount_usd', 'Social, Finance, Analytics, Advertising']]\n",
    "top_company_usa_social_df = pd.DataFrame(top_company_usa_social_df.groupby('name').raised_amount_usd.sum().sort_values(ascending=False))\n",
    "top_company_usa_social_df.head()"
   ]
  },
  {
   "cell_type": "markdown",
   "metadata": {},
   "source": [
    "### Question 10 - C2"
   ]
  },
  {
   "cell_type": "code",
   "execution_count": null,
   "metadata": {},
   "outputs": [],
   "source": [
    "# Company that received the highest investment in Social, Finance, Analytics, Advertising sector - GBR - United Kingdom\n",
    "\n",
    "top_company_gbr_others_df = venture_type_gbr_df.loc[((venture_type_gbr_df['Social, Finance, Analytics, Advertising']==1) & (venture_type_gbr_df['raised_amount_usd'] == venture_type_gbr_df['raised_amount_usd'].max())),['name', 'country_code', 'raised_amount_usd', 'Social, Finance, Analytics, Advertising']]\n",
    "top_company_gbr_others_df = pd.DataFrame(top_company_gbr_others_df.groupby('name').raised_amount_usd.sum().sort_values(ascending=False))\n",
    "top_company_gbr_others_df.head()"
   ]
  },
  {
   "cell_type": "markdown",
   "metadata": {},
   "source": [
    "### Question 10 - C3"
   ]
  },
  {
   "cell_type": "code",
   "execution_count": null,
   "metadata": {},
   "outputs": [],
   "source": [
    "# Company that received the highest investment in Social, Finance, Analytics, Advertising sector - D3 - IND - India\n",
    "\n",
    "top_company_ind_others_df = venture_type_ind_df.loc[((venture_type_ind_df['Social, Finance, Analytics, Advertising']==1) & (venture_type_ind_df['raised_amount_usd'] == venture_type_ind_df['raised_amount_usd'].max())),['name', 'country_code', 'raised_amount_usd', 'Social, Finance, Analytics, Advertising']]\n",
    "top_company_ind_others_df = pd.DataFrame(top_company_ind_others_df.groupby('name').raised_amount_usd.sum().sort_values(ascending=False))\n",
    "top_company_ind_others_df.head()"
   ]
  },
  {
   "cell_type": "markdown",
   "metadata": {},
   "source": [
    "# -----------------------------------------------------------------------------------------------------------"
   ]
  },
  {
   "cell_type": "markdown",
   "metadata": {},
   "source": [
    "# 3. Checkpoint 6: Plots"
   ]
  },
  {
   "cell_type": "code",
   "execution_count": null,
   "metadata": {},
   "outputs": [],
   "source": [
    "# importing the libraries required for creating plots\n",
    "\n",
    "import matplotlib.pyplot as plt\n",
    "import seaborn as sns"
   ]
  },
  {
   "cell_type": "markdown",
   "metadata": {},
   "source": [
    "### Plot 1 : total investments (globally) in venture, seed, and private equity, and the average amount of investment in each funding type"
   ]
  },
  {
   "cell_type": "code",
   "execution_count": null,
   "metadata": {},
   "outputs": [],
   "source": [
    "box_plot_df = main_sector.loc[(main_sector['funding_round_type']\n",
    "                               .isin(['venture', 'seed', 'private_equity'])),['funding_round_type','raised_amount_usd']]"
   ]
  },
  {
   "cell_type": "code",
   "execution_count": null,
   "metadata": {},
   "outputs": [],
   "source": [
    "fig = plt.figure(figsize=(30,15))\n",
    "plt.subplot(111)\n",
    "plt.title('Investment in different funding types')\n",
    "sns.boxplot(x=\"funding_round_type\", y=\"raised_amount_usd\", data=box_plot_df)\n",
    "plt.yscale('log')\n",
    "plt.rcParams.update({'font.size': 25})\n",
    "plt.show()"
   ]
  },
  {
   "cell_type": "markdown",
   "metadata": {},
   "source": [
    "### Plot 2 : top 9 countries against the total amount of investments in venture funding type"
   ]
  },
  {
   "cell_type": "code",
   "execution_count": null,
   "metadata": {},
   "outputs": [],
   "source": [
    "bar_plot_type_df = master_frame.loc[((master_frame['funding_round_type'].isin(['venture'])) & (master_frame['country_code'].isin(['USA', 'CHN', 'GBR', 'IND', 'CAN', 'FRA', 'ISR', 'DEU', 'JPN']))),['country_code','raised_amount_usd']]\n",
    "bar_plot_type_df.head()"
   ]
  },
  {
   "cell_type": "code",
   "execution_count": null,
   "metadata": {},
   "outputs": [],
   "source": [
    "fig = plt.figure(figsize=(25, 13))\n",
    "plt.subplot(111)\n",
    "plt.title('Investment in Top 9 countries')\n",
    "sns.barplot(x='country_code', y='raised_amount_usd', data=bar_plot_type_df, estimator=sum).set(xlabel=\"Countries\", ylabel=\"Investment Amount\")\n",
    "plt.yscale('log')\n",
    "plt.rcParams.update({'font.size': 25})\n",
    "plt.show()\n",
    "fig.savefig(\"investment-in-top-9-countries.png\")"
   ]
  },
  {
   "cell_type": "markdown",
   "metadata": {},
   "source": [
    "### Plot 3 : number of investments in the top 3 sectors of the top 3 countries"
   ]
  },
  {
   "cell_type": "code",
   "execution_count": null,
   "metadata": {},
   "outputs": [],
   "source": [
    "top_3_sector_usa_plot = D1.loc[0:0,['Others_count', 'Social, Finance, Analytics, Advertising_count', 'Cleantech / Semiconductors_count']]\n",
    "top_3_sector_gbr_plot = D2.loc[0:0,['Others_count', 'Social, Finance, Analytics, Advertising_count', 'Cleantech / Semiconductors_count']]\n",
    "top_3_sector_ind_plot = D3.loc[0:0,['Others_count', 'Social, Finance, Analytics, Advertising_count', 'News, Search and Messaging_count']]\n",
    "\n",
    "top_3_sector_usa_plot.rename(columns=lambda x: x[0:x.find('_')], inplace=True)\n",
    "top_3_sector_gbr_plot.rename(columns=lambda x: x[0:x.find('_')], inplace=True)\n",
    "top_3_sector_ind_plot.rename(columns=lambda x: x[0:x.find('_')], inplace=True)"
   ]
  },
  {
   "cell_type": "code",
   "execution_count": null,
   "metadata": {},
   "outputs": [],
   "source": [
    "fig = plt.figure(figsize=(45,35))\n",
    "\n",
    "plt.subplot(221)\n",
    "plt.title('Investment in Top 3 sectors of USA')\n",
    "sns.barplot(data=top_3_sector_usa_plot).set(xlabel=\"Sectors\", ylabel=\"No. Of Investment\")\n",
    "\n",
    "plt.subplot(222)\n",
    "plt.title('Investment in Top 3 sectors of United Kingdom')\n",
    "sns.barplot(data=top_3_sector_gbr_plot).set(xlabel=\"Sectors\", ylabel=\"No. Of Investment\")\n",
    "\n",
    "plt.subplot(223)\n",
    "plt.title('Investment in Top 3 sectors of India')\n",
    "sns.barplot(data=top_3_sector_ind_plot).set(xlabel=\"Sectors\", ylabel=\"No. Of Investment\")\n",
    "\n",
    "plt.rcParams.update({'font.size': 22})\n",
    "plt.show()\n",
    "\n",
    "fig.savefig(\"investment-in-top-3-sectors.png\")"
   ]
  }
 ],
 "metadata": {
  "kernelspec": {
   "display_name": "Python 3",
   "language": "python",
   "name": "python3"
  },
  "language_info": {
   "codemirror_mode": {
    "name": "ipython",
    "version": 3
   },
   "file_extension": ".py",
   "mimetype": "text/x-python",
   "name": "python",
   "nbconvert_exporter": "python",
   "pygments_lexer": "ipython3",
   "version": "3.7.1"
  }
 },
 "nbformat": 4,
 "nbformat_minor": 2
}
